{
 "cells": [
  {
   "cell_type": "markdown",
   "id": "ef7e7fbc",
   "metadata": {
    "id": "d_DKvNpcIeVu",
    "papermill": {
     "duration": 0.009682,
     "end_time": "2024-05-21T09:49:09.708855",
     "exception": false,
     "start_time": "2024-05-21T09:49:09.699173",
     "status": "completed"
    },
    "tags": []
   },
   "source": [
    "# 1. Conditional Variational Autoencoder\n",
    "A Conditional Variational Autoencoder (CVAE) is an extension of the Variational Autoencoder (VAE) that incorporates conditional information into the model. This additional information allows the CVAE to generate data conditioned on some input variables, enabling more control over the data generation process. \n",
    "\n",
    "## 1.1. Variational Autoencoder (VAE) Recap\n",
    "A VAE is a generative model that learns to encode data into a latent space and then decode this latent representation back into the original data space. It consists of two main components:\n",
    "- **Encoder**: Maps input data to a latent space, producing parameters for a probability distribution (typically mean and variance of a Gaussian).\n",
    "- **Decoder**: Generates data from samples drawn from the latent space.\n",
    "\n",
    "The VAE optimizes a loss function that includes:\n",
    "1. **Reconstruction Loss**: Measures how well the decoded data matches the original input.\n",
    "2. **KL Divergence**: Ensures the latent space distribution approximates a prior distribution (usually a standard normal distribution).\n",
    "\n",
    "## 1.2. Conditional VAE (CVAE)\n",
    "The CVAE extends the VAE by incorporating additional conditional information $ y $ (e.g., class labels, attributes) into both the encoder and decoder. This conditioning allows the model to generate data that is not only realistic but also adheres to specific conditions.\n",
    "\n",
    "### 1.2.1. Architecture\n",
    "- **Encoder**: Takes both the input data $ x $ and the conditional information $ y $ to produce the latent variables.\n",
    "- **Decoder**: Receives the latent variables and the conditional information $ y $ to generate the output data.\n",
    "\n",
    "### 1.2.2. Objective Function\n",
    "The CVAE optimizes a similar loss function as the VAE, with the addition of conditioning:\n",
    "1. **Conditional Reconstruction Loss**: Ensures the decoder reconstructs the input data $ x $ conditioned on $ y $.\n",
    "2. **Conditional KL Divergence**: Ensures the latent space distribution conditioned on $ y $ approximates the prior distribution.\n",
    "\n",
    "### 1.2.3. Formulation\n",
    "Given input $ x $ and conditional information $ y $, the loss function for a CVAE is:\n",
    "$$ \\mathcal{L}(\\theta, \\phi; x, y) = \\mathbb{E}_{q_\\phi(z|x, y)} [\\log p_\\theta(x|z, y)] - D_{KL}(q_\\phi(z|x, y) || p(z|y)) $$\n",
    "\n",
    "- $ q_\\phi(z|x, y) $: Encoder's approximate posterior distribution of latent variables.\n",
    "- $ p_\\theta(x|z, y) $: Decoder's likelihood of reconstructing $ x $ from $ z $ and $ y $.\n",
    "- $ p(z|y) $: Prior distribution of the latent variables conditioned on $ y $.\n",
    "\n",
    "### 1.2.4. Applications\n",
    "CVAE has various applications, including:\n",
    "- **Conditional Image Generation**: Generating images based on specific attributes or class labels (e.g., generating faces with specific features).\n",
    "- **Data Imputation**: Filling in missing data points conditioned on observed values.\n",
    "- **Sequence-to-Sequence Models**: In natural language processing, generating text conditioned on certain prompts or contexts.\n",
    "\n",
    "### 1.2.5. Advantages\n",
    "- **Controlled Generation**: Ability to generate data that satisfies specific conditions.\n",
    "- **Enhanced Flexibility**: More versatile compared to standard VAEs due to the incorporation of additional information.\n",
    "\n",
    "The Conditional Variational Autoencoder is a powerful generative model that leverages conditional information to enhance control and specificity in data generation tasks, making it a valuable tool in various machine learning and artificial intelligence applications. In this notebook we shall present a simple conditional VAE, trained on MNIST. "
   ]
  },
  {
   "cell_type": "code",
   "execution_count": 1,
   "id": "b0a7d225",
   "metadata": {
    "execution": {
     "iopub.execute_input": "2024-05-21T09:49:09.728579Z",
     "iopub.status.busy": "2024-05-21T09:49:09.727837Z",
     "iopub.status.idle": "2024-05-21T09:49:22.720151Z",
     "shell.execute_reply": "2024-05-21T09:49:22.719114Z"
    },
    "id": "V8_HUth4IW1g",
    "papermill": {
     "duration": 13.004665,
     "end_time": "2024-05-21T09:49:22.722486",
     "exception": false,
     "start_time": "2024-05-21T09:49:09.717821",
     "status": "completed"
    },
    "tags": []
   },
   "outputs": [
    {
     "name": "stderr",
     "output_type": "stream",
     "text": [
      "2024-05-21 09:49:11.570850: E external/local_xla/xla/stream_executor/cuda/cuda_dnn.cc:9261] Unable to register cuDNN factory: Attempting to register factory for plugin cuDNN when one has already been registered\n",
      "2024-05-21 09:49:11.570944: E external/local_xla/xla/stream_executor/cuda/cuda_fft.cc:607] Unable to register cuFFT factory: Attempting to register factory for plugin cuFFT when one has already been registered\n",
      "2024-05-21 09:49:11.721635: E external/local_xla/xla/stream_executor/cuda/cuda_blas.cc:1515] Unable to register cuBLAS factory: Attempting to register factory for plugin cuBLAS when one has already been registered\n"
     ]
    }
   ],
   "source": [
    "import tensorflow as tf\n",
    "from tensorflow.keras import layers\n",
    "from tensorflow.keras import Model\n",
    "from tensorflow.keras import backend as K\n",
    "from tensorflow.keras import metrics\n",
    "from tensorflow.keras import optimizers\n",
    "from tensorflow.keras import utils\n",
    "from keras.datasets import mnist\n",
    "from tensorflow.keras import losses\n",
    "import numpy as np\n",
    "import matplotlib.pyplot as plt"
   ]
  },
  {
   "cell_type": "markdown",
   "id": "5bfaa92b",
   "metadata": {
    "id": "bKj7GMTI7eK2",
    "papermill": {
     "duration": 0.008863,
     "end_time": "2024-05-21T09:49:22.740750",
     "exception": false,
     "start_time": "2024-05-21T09:49:22.731887",
     "status": "completed"
    },
    "tags": []
   },
   "source": [
    "The conditional autoencoder will allow to generate specific digits in the MNIST range 0-9. The condition is passed as input to encoder and decoder in categorical format."
   ]
  },
  {
   "cell_type": "code",
   "execution_count": 2,
   "id": "3f5c9eea",
   "metadata": {
    "execution": {
     "iopub.execute_input": "2024-05-21T09:49:22.760763Z",
     "iopub.status.busy": "2024-05-21T09:49:22.759756Z",
     "iopub.status.idle": "2024-05-21T09:49:23.271925Z",
     "shell.execute_reply": "2024-05-21T09:49:23.271060Z"
    },
    "id": "_WG8B8RJlAaW",
    "papermill": {
     "duration": 0.524726,
     "end_time": "2024-05-21T09:49:23.274486",
     "exception": false,
     "start_time": "2024-05-21T09:49:22.749760",
     "status": "completed"
    },
    "tags": []
   },
   "outputs": [
    {
     "name": "stdout",
     "output_type": "stream",
     "text": [
      "Downloading data from https://storage.googleapis.com/tensorflow/tf-keras-datasets/mnist.npz\n",
      "\u001b[1m11490434/11490434\u001b[0m \u001b[32m━━━━━━━━━━━━━━━━━━━━\u001b[0m\u001b[37m\u001b[0m \u001b[1m0s\u001b[0m 0us/step\n"
     ]
    }
   ],
   "source": [
    "# train the VAE on MNIST digits\n",
    "(x_train, y_train), (x_test, y_test) = mnist.load_data()\n",
    "\n",
    "x_train = x_train.astype('float32') / 255.\n",
    "x_test = x_test.astype('float32') / 255.\n",
    "x_train = x_train.reshape((len(x_train),28,28,1))\n",
    "x_test = x_test.reshape((len(x_test),28,28,1))\n",
    "y_train = utils.to_categorical(y_train)\n",
    "y_test = utils.to_categorical(y_test)"
   ]
  },
  {
   "cell_type": "markdown",
   "id": "19a7d83d",
   "metadata": {
    "id": "OxLa37ZnKIUV",
    "papermill": {
     "duration": 0.009376,
     "end_time": "2024-05-21T09:49:23.294026",
     "exception": false,
     "start_time": "2024-05-21T09:49:23.284650",
     "status": "completed"
    },
    "tags": []
   },
   "source": [
    "# 2. Model"
   ]
  },
  {
   "cell_type": "markdown",
   "id": "2e3de897",
   "metadata": {
    "id": "TPu8FwnGJ5Pl",
    "papermill": {
     "duration": 0.009332,
     "end_time": "2024-05-21T09:49:23.312813",
     "exception": false,
     "start_time": "2024-05-21T09:49:23.303481",
     "status": "completed"
    },
    "tags": []
   },
   "source": [
    "Implementing `Sampling` function as its usage disscussed in [previous project](https://www.kaggle.com/code/alishohadaee/dl-variational-autoencoder)."
   ]
  },
  {
   "cell_type": "code",
   "execution_count": 3,
   "id": "bf94395a",
   "metadata": {
    "execution": {
     "iopub.execute_input": "2024-05-21T09:49:23.334431Z",
     "iopub.status.busy": "2024-05-21T09:49:23.333681Z",
     "iopub.status.idle": "2024-05-21T09:49:23.339295Z",
     "shell.execute_reply": "2024-05-21T09:49:23.338470Z"
    },
    "id": "t1hiFRyHJbKf",
    "papermill": {
     "duration": 0.017705,
     "end_time": "2024-05-21T09:49:23.341168",
     "exception": false,
     "start_time": "2024-05-21T09:49:23.323463",
     "status": "completed"
    },
    "tags": []
   },
   "outputs": [],
   "source": [
    "def sampling(args):\n",
    "    \"\"\"Reparameterization trick by sampling from an isotropic unit Gaussian.\"\"\"\n",
    "    z_mean, z_log_var = args\n",
    "    batch = K.shape(z_mean)[0]\n",
    "    dim = K.int_shape(z_mean)[1]\n",
    "    epsilon = K.random_normal(shape=(batch, dim))\n",
    "    return z_mean + K.exp(0.5 * z_log_var) * epsilon"
   ]
  },
  {
   "cell_type": "markdown",
   "id": "354a83e5",
   "metadata": {
    "id": "cwm4jR5E8in4",
    "papermill": {
     "duration": 0.009639,
     "end_time": "2024-05-21T09:49:23.360305",
     "exception": false,
     "start_time": "2024-05-21T09:49:23.350666",
     "status": "completed"
    },
    "tags": []
   },
   "source": [
    "Main dimensions for the model (a simple stack of dense layers)."
   ]
  },
  {
   "cell_type": "code",
   "execution_count": 4,
   "id": "11b31a33",
   "metadata": {
    "execution": {
     "iopub.execute_input": "2024-05-21T09:49:23.380044Z",
     "iopub.status.busy": "2024-05-21T09:49:23.379774Z",
     "iopub.status.idle": "2024-05-21T09:49:23.383611Z",
     "shell.execute_reply": "2024-05-21T09:49:23.382784Z"
    },
    "id": "VT9baosbKW8M",
    "papermill": {
     "duration": 0.015869,
     "end_time": "2024-05-21T09:49:23.385453",
     "exception": false,
     "start_time": "2024-05-21T09:49:23.369584",
     "status": "completed"
    },
    "tags": []
   },
   "outputs": [],
   "source": [
    "input_dim = (28, 28, 1)\n",
    "latent_dim = 16"
   ]
  },
  {
   "cell_type": "markdown",
   "id": "ea310798",
   "metadata": {
    "id": "533QeAx09JGh",
    "papermill": {
     "duration": 0.009353,
     "end_time": "2024-05-21T09:49:23.404132",
     "exception": false,
     "start_time": "2024-05-21T09:49:23.394779",
     "status": "completed"
    },
    "tags": []
   },
   "source": [
    "## 2.1. Encoder\n",
    "First we define Encoder model of Conditional VAE. \n",
    "\n",
    "#### Code Explanation \n",
    "- The Following code defines an encoder model for a Conditional Variational Autoencoder (CVAE) using TensorFlow and Keras. The model takes two inputs: the input data $ x $ and the conditional information $ c $. \n",
    "\n",
    "##### Input Layers\n",
    "- `x`: The primary input to the model, with a shape specified by `input_dim`.\n",
    "- `c`: The conditional input with a fixed shape of 10.\n",
    "\n",
    "\n",
    "##### Conditioning Input\n",
    "- `cv`: The conditional input is reshaped by adding two dimensions, making it compatible with the spatial dimensions of the input image.\n",
    "- `layers.UpSampling2D((28, 28), interpolation='nearest')`: Upsamples `c` to match the spatial dimensions of the input image (`28x28`), replicating the conditional information across the entire image.\n",
    "\n",
    "\n",
    "##### Concatenation\n",
    "- Concatenates the upsampled conditional information with the primary input data along the channel axis.\n",
    "\n",
    "\n",
    "##### Convolutional Layers\n",
    "- Series of convolutional layers interleaved with batch normalization and activation functions.\n",
    "- `Conv2D`: Convolutional layers with varying filters (16, 32, 64), kernel sizes (3x3), strides, and activations (`swish`).\n",
    "- `BatchNormalization`: Normalizes the activations of the previous layer at each batch, improving training stability and speed.\n",
    "- `Activation('swish')`: Applies the Swish activation function.\n",
    "\n",
    "\n",
    "##### Flatten and Dense Layers\n",
    "- `Flatten()`: Flattens the multi-dimensional output from the convolutional layers into a single vector.\n",
    "- `Dense(64, activation='swish')`: Fully connected layer with 64 units and Swish activation.\n",
    "\n",
    "\n",
    "##### Latent Space\n",
    "- `z_mean`: Dense layer representing the mean of the latent variable distribution.\n",
    "- `z_log_var`: Dense layer representing the logarithm of the variance of the latent variable distribution.\n",
    "\n",
    "\n",
    "##### Encoder Model\n",
    "- Defines the encoder model with inputs `[x, c]` and outputs `[z_mean, z_log_var]`.\n",
    "\n",
    "\n",
    "This encoder architecture is designed to map the input data $ x $ and the conditional information $ c $ to a latent space characterized by the mean (`z_mean`) and logarithm of the variance (`z_log_var`). The conditional information is incorporated into the model early in the architecture by concatenating it with the primary input after upsampling to match the input dimensions. This setup allows the decoder to generate outputs conditioned on specific attributes or labels provided by $ c $."
   ]
  },
  {
   "cell_type": "code",
   "execution_count": 5,
   "id": "f0e35ba7",
   "metadata": {
    "execution": {
     "iopub.execute_input": "2024-05-21T09:49:23.424534Z",
     "iopub.status.busy": "2024-05-21T09:49:23.424049Z",
     "iopub.status.idle": "2024-05-21T09:49:24.349314Z",
     "shell.execute_reply": "2024-05-21T09:49:24.348367Z"
    },
    "id": "9atMqlZUJ_dD",
    "papermill": {
     "duration": 0.938054,
     "end_time": "2024-05-21T09:49:24.351721",
     "exception": false,
     "start_time": "2024-05-21T09:49:23.413667",
     "status": "completed"
    },
    "tags": []
   },
   "outputs": [],
   "source": [
    "# Input Layers\n",
    "x = layers.Input(shape=input_dim)\n",
    "c = layers.Input(shape=(10,))\n",
    "\n",
    "# Conditioning Input\n",
    "cv = layers.Lambda(lambda c: tf.expand_dims(c, axis=1))(c)\n",
    "cv = layers.Lambda(lambda c: tf.expand_dims(c, axis=1))(cv)\n",
    "cv = layers.UpSampling2D((28, 28), interpolation='nearest')(cv)\n",
    "\n",
    "# Concatenate and Convolutional Layer \n",
    "y = layers.concatenate([x, cv])\n",
    "y = layers.Conv2D(16, (3, 3), strides=(2, 2), padding='same')(y)\n",
    "y = layers.BatchNormalization()(y)\n",
    "y = layers.Activation('swish')(y)\n",
    "y = layers.Conv2D(16, (3, 3), activation='swish', padding='same')(y)\n",
    "y = layers.Conv2D(32, (3, 3), strides=(2, 2), activation='swish', padding='same')(y)\n",
    "y = layers.Conv2D(32, (3, 3), activation='swish', padding='same')(y)\n",
    "y = layers.Conv2D(64, (3, 3), strides=(2, 2), activation='swish', padding='same')(y)\n",
    "y = layers.Conv2D(64, (3, 3), activation='swish', padding='same')(y)\n",
    "y = layers.Flatten()(y)\n",
    "y = layers.Dense(64, activation='swish')(y)\n",
    "\n",
    "# Latent space\n",
    "z_mean = layers.Dense(latent_dim)(y)\n",
    "z_log_var = layers.Dense(latent_dim)(y)\n",
    "\n",
    "# Encoder model\n",
    "encoder = Model([x, c], [z_mean, z_log_var])"
   ]
  },
  {
   "cell_type": "code",
   "execution_count": 6,
   "id": "8f5c26c4",
   "metadata": {
    "execution": {
     "iopub.execute_input": "2024-05-21T09:49:24.372099Z",
     "iopub.status.busy": "2024-05-21T09:49:24.371823Z",
     "iopub.status.idle": "2024-05-21T09:49:24.409080Z",
     "shell.execute_reply": "2024-05-21T09:49:24.408224Z"
    },
    "id": "VLwi8KfAm0Ae",
    "outputId": "74248931-3f30-4761-a443-1bae95f49b44",
    "papermill": {
     "duration": 0.049615,
     "end_time": "2024-05-21T09:49:24.411010",
     "exception": false,
     "start_time": "2024-05-21T09:49:24.361395",
     "status": "completed"
    },
    "tags": []
   },
   "outputs": [
    {
     "data": {
      "text/html": [
       "<pre style=\"white-space:pre;overflow-x:auto;line-height:normal;font-family:Menlo,'DejaVu Sans Mono',consolas,'Courier New',monospace\"><span style=\"font-weight: bold\">Model: \"functional_1\"</span>\n",
       "</pre>\n"
      ],
      "text/plain": [
       "\u001b[1mModel: \"functional_1\"\u001b[0m\n"
      ]
     },
     "metadata": {},
     "output_type": "display_data"
    },
    {
     "data": {
      "text/html": [
       "<pre style=\"white-space:pre;overflow-x:auto;line-height:normal;font-family:Menlo,'DejaVu Sans Mono',consolas,'Courier New',monospace\">┏━━━━━━━━━━━━━━━━━━━━━┳━━━━━━━━━━━━━━━━━━━┳━━━━━━━━━━━━┳━━━━━━━━━━━━━━━━━━━┓\n",
       "┃<span style=\"font-weight: bold\"> Layer (type)        </span>┃<span style=\"font-weight: bold\"> Output Shape      </span>┃<span style=\"font-weight: bold\">    Param # </span>┃<span style=\"font-weight: bold\"> Connected to      </span>┃\n",
       "┡━━━━━━━━━━━━━━━━━━━━━╇━━━━━━━━━━━━━━━━━━━╇━━━━━━━━━━━━╇━━━━━━━━━━━━━━━━━━━┩\n",
       "│ input_layer_1       │ (<span style=\"color: #00d7ff; text-decoration-color: #00d7ff\">None</span>, <span style=\"color: #00af00; text-decoration-color: #00af00\">10</span>)        │          <span style=\"color: #00af00; text-decoration-color: #00af00\">0</span> │ -                 │\n",
       "│ (<span style=\"color: #0087ff; text-decoration-color: #0087ff\">InputLayer</span>)        │                   │            │                   │\n",
       "├─────────────────────┼───────────────────┼────────────┼───────────────────┤\n",
       "│ lambda (<span style=\"color: #0087ff; text-decoration-color: #0087ff\">Lambda</span>)     │ (<span style=\"color: #00d7ff; text-decoration-color: #00d7ff\">None</span>, <span style=\"color: #00af00; text-decoration-color: #00af00\">1</span>, <span style=\"color: #00af00; text-decoration-color: #00af00\">10</span>)     │          <span style=\"color: #00af00; text-decoration-color: #00af00\">0</span> │ input_layer_1[<span style=\"color: #00af00; text-decoration-color: #00af00\">0</span>]… │\n",
       "├─────────────────────┼───────────────────┼────────────┼───────────────────┤\n",
       "│ lambda_1 (<span style=\"color: #0087ff; text-decoration-color: #0087ff\">Lambda</span>)   │ (<span style=\"color: #00d7ff; text-decoration-color: #00d7ff\">None</span>, <span style=\"color: #00af00; text-decoration-color: #00af00\">1</span>, <span style=\"color: #00af00; text-decoration-color: #00af00\">1</span>, <span style=\"color: #00af00; text-decoration-color: #00af00\">10</span>)  │          <span style=\"color: #00af00; text-decoration-color: #00af00\">0</span> │ lambda[<span style=\"color: #00af00; text-decoration-color: #00af00\">0</span>][<span style=\"color: #00af00; text-decoration-color: #00af00\">0</span>]      │\n",
       "├─────────────────────┼───────────────────┼────────────┼───────────────────┤\n",
       "│ input_layer         │ (<span style=\"color: #00d7ff; text-decoration-color: #00d7ff\">None</span>, <span style=\"color: #00af00; text-decoration-color: #00af00\">28</span>, <span style=\"color: #00af00; text-decoration-color: #00af00\">28</span>, <span style=\"color: #00af00; text-decoration-color: #00af00\">1</span>) │          <span style=\"color: #00af00; text-decoration-color: #00af00\">0</span> │ -                 │\n",
       "│ (<span style=\"color: #0087ff; text-decoration-color: #0087ff\">InputLayer</span>)        │                   │            │                   │\n",
       "├─────────────────────┼───────────────────┼────────────┼───────────────────┤\n",
       "│ up_sampling2d       │ (<span style=\"color: #00d7ff; text-decoration-color: #00d7ff\">None</span>, <span style=\"color: #00af00; text-decoration-color: #00af00\">28</span>, <span style=\"color: #00af00; text-decoration-color: #00af00\">28</span>,    │          <span style=\"color: #00af00; text-decoration-color: #00af00\">0</span> │ lambda_1[<span style=\"color: #00af00; text-decoration-color: #00af00\">0</span>][<span style=\"color: #00af00; text-decoration-color: #00af00\">0</span>]    │\n",
       "│ (<span style=\"color: #0087ff; text-decoration-color: #0087ff\">UpSampling2D</span>)      │ <span style=\"color: #00af00; text-decoration-color: #00af00\">10</span>)               │            │                   │\n",
       "├─────────────────────┼───────────────────┼────────────┼───────────────────┤\n",
       "│ concatenate         │ (<span style=\"color: #00d7ff; text-decoration-color: #00d7ff\">None</span>, <span style=\"color: #00af00; text-decoration-color: #00af00\">28</span>, <span style=\"color: #00af00; text-decoration-color: #00af00\">28</span>,    │          <span style=\"color: #00af00; text-decoration-color: #00af00\">0</span> │ input_layer[<span style=\"color: #00af00; text-decoration-color: #00af00\">0</span>][<span style=\"color: #00af00; text-decoration-color: #00af00\">0</span>… │\n",
       "│ (<span style=\"color: #0087ff; text-decoration-color: #0087ff\">Concatenate</span>)       │ <span style=\"color: #00af00; text-decoration-color: #00af00\">11</span>)               │            │ up_sampling2d[<span style=\"color: #00af00; text-decoration-color: #00af00\">0</span>]… │\n",
       "├─────────────────────┼───────────────────┼────────────┼───────────────────┤\n",
       "│ conv2d (<span style=\"color: #0087ff; text-decoration-color: #0087ff\">Conv2D</span>)     │ (<span style=\"color: #00d7ff; text-decoration-color: #00d7ff\">None</span>, <span style=\"color: #00af00; text-decoration-color: #00af00\">14</span>, <span style=\"color: #00af00; text-decoration-color: #00af00\">14</span>,    │      <span style=\"color: #00af00; text-decoration-color: #00af00\">1,600</span> │ concatenate[<span style=\"color: #00af00; text-decoration-color: #00af00\">0</span>][<span style=\"color: #00af00; text-decoration-color: #00af00\">0</span>] │\n",
       "│                     │ <span style=\"color: #00af00; text-decoration-color: #00af00\">16</span>)               │            │                   │\n",
       "├─────────────────────┼───────────────────┼────────────┼───────────────────┤\n",
       "│ batch_normalization │ (<span style=\"color: #00d7ff; text-decoration-color: #00d7ff\">None</span>, <span style=\"color: #00af00; text-decoration-color: #00af00\">14</span>, <span style=\"color: #00af00; text-decoration-color: #00af00\">14</span>,    │         <span style=\"color: #00af00; text-decoration-color: #00af00\">64</span> │ conv2d[<span style=\"color: #00af00; text-decoration-color: #00af00\">0</span>][<span style=\"color: #00af00; text-decoration-color: #00af00\">0</span>]      │\n",
       "│ (<span style=\"color: #0087ff; text-decoration-color: #0087ff\">BatchNormalizatio…</span> │ <span style=\"color: #00af00; text-decoration-color: #00af00\">16</span>)               │            │                   │\n",
       "├─────────────────────┼───────────────────┼────────────┼───────────────────┤\n",
       "│ activation          │ (<span style=\"color: #00d7ff; text-decoration-color: #00d7ff\">None</span>, <span style=\"color: #00af00; text-decoration-color: #00af00\">14</span>, <span style=\"color: #00af00; text-decoration-color: #00af00\">14</span>,    │          <span style=\"color: #00af00; text-decoration-color: #00af00\">0</span> │ batch_normalizat… │\n",
       "│ (<span style=\"color: #0087ff; text-decoration-color: #0087ff\">Activation</span>)        │ <span style=\"color: #00af00; text-decoration-color: #00af00\">16</span>)               │            │                   │\n",
       "├─────────────────────┼───────────────────┼────────────┼───────────────────┤\n",
       "│ conv2d_1 (<span style=\"color: #0087ff; text-decoration-color: #0087ff\">Conv2D</span>)   │ (<span style=\"color: #00d7ff; text-decoration-color: #00d7ff\">None</span>, <span style=\"color: #00af00; text-decoration-color: #00af00\">14</span>, <span style=\"color: #00af00; text-decoration-color: #00af00\">14</span>,    │      <span style=\"color: #00af00; text-decoration-color: #00af00\">2,320</span> │ activation[<span style=\"color: #00af00; text-decoration-color: #00af00\">0</span>][<span style=\"color: #00af00; text-decoration-color: #00af00\">0</span>]  │\n",
       "│                     │ <span style=\"color: #00af00; text-decoration-color: #00af00\">16</span>)               │            │                   │\n",
       "├─────────────────────┼───────────────────┼────────────┼───────────────────┤\n",
       "│ conv2d_2 (<span style=\"color: #0087ff; text-decoration-color: #0087ff\">Conv2D</span>)   │ (<span style=\"color: #00d7ff; text-decoration-color: #00d7ff\">None</span>, <span style=\"color: #00af00; text-decoration-color: #00af00\">7</span>, <span style=\"color: #00af00; text-decoration-color: #00af00\">7</span>, <span style=\"color: #00af00; text-decoration-color: #00af00\">32</span>)  │      <span style=\"color: #00af00; text-decoration-color: #00af00\">4,640</span> │ conv2d_1[<span style=\"color: #00af00; text-decoration-color: #00af00\">0</span>][<span style=\"color: #00af00; text-decoration-color: #00af00\">0</span>]    │\n",
       "├─────────────────────┼───────────────────┼────────────┼───────────────────┤\n",
       "│ conv2d_3 (<span style=\"color: #0087ff; text-decoration-color: #0087ff\">Conv2D</span>)   │ (<span style=\"color: #00d7ff; text-decoration-color: #00d7ff\">None</span>, <span style=\"color: #00af00; text-decoration-color: #00af00\">7</span>, <span style=\"color: #00af00; text-decoration-color: #00af00\">7</span>, <span style=\"color: #00af00; text-decoration-color: #00af00\">32</span>)  │      <span style=\"color: #00af00; text-decoration-color: #00af00\">9,248</span> │ conv2d_2[<span style=\"color: #00af00; text-decoration-color: #00af00\">0</span>][<span style=\"color: #00af00; text-decoration-color: #00af00\">0</span>]    │\n",
       "├─────────────────────┼───────────────────┼────────────┼───────────────────┤\n",
       "│ conv2d_4 (<span style=\"color: #0087ff; text-decoration-color: #0087ff\">Conv2D</span>)   │ (<span style=\"color: #00d7ff; text-decoration-color: #00d7ff\">None</span>, <span style=\"color: #00af00; text-decoration-color: #00af00\">4</span>, <span style=\"color: #00af00; text-decoration-color: #00af00\">4</span>, <span style=\"color: #00af00; text-decoration-color: #00af00\">64</span>)  │     <span style=\"color: #00af00; text-decoration-color: #00af00\">18,496</span> │ conv2d_3[<span style=\"color: #00af00; text-decoration-color: #00af00\">0</span>][<span style=\"color: #00af00; text-decoration-color: #00af00\">0</span>]    │\n",
       "├─────────────────────┼───────────────────┼────────────┼───────────────────┤\n",
       "│ conv2d_5 (<span style=\"color: #0087ff; text-decoration-color: #0087ff\">Conv2D</span>)   │ (<span style=\"color: #00d7ff; text-decoration-color: #00d7ff\">None</span>, <span style=\"color: #00af00; text-decoration-color: #00af00\">4</span>, <span style=\"color: #00af00; text-decoration-color: #00af00\">4</span>, <span style=\"color: #00af00; text-decoration-color: #00af00\">64</span>)  │     <span style=\"color: #00af00; text-decoration-color: #00af00\">36,928</span> │ conv2d_4[<span style=\"color: #00af00; text-decoration-color: #00af00\">0</span>][<span style=\"color: #00af00; text-decoration-color: #00af00\">0</span>]    │\n",
       "├─────────────────────┼───────────────────┼────────────┼───────────────────┤\n",
       "│ flatten (<span style=\"color: #0087ff; text-decoration-color: #0087ff\">Flatten</span>)   │ (<span style=\"color: #00d7ff; text-decoration-color: #00d7ff\">None</span>, <span style=\"color: #00af00; text-decoration-color: #00af00\">1024</span>)      │          <span style=\"color: #00af00; text-decoration-color: #00af00\">0</span> │ conv2d_5[<span style=\"color: #00af00; text-decoration-color: #00af00\">0</span>][<span style=\"color: #00af00; text-decoration-color: #00af00\">0</span>]    │\n",
       "├─────────────────────┼───────────────────┼────────────┼───────────────────┤\n",
       "│ dense (<span style=\"color: #0087ff; text-decoration-color: #0087ff\">Dense</span>)       │ (<span style=\"color: #00d7ff; text-decoration-color: #00d7ff\">None</span>, <span style=\"color: #00af00; text-decoration-color: #00af00\">64</span>)        │     <span style=\"color: #00af00; text-decoration-color: #00af00\">65,600</span> │ flatten[<span style=\"color: #00af00; text-decoration-color: #00af00\">0</span>][<span style=\"color: #00af00; text-decoration-color: #00af00\">0</span>]     │\n",
       "├─────────────────────┼───────────────────┼────────────┼───────────────────┤\n",
       "│ dense_1 (<span style=\"color: #0087ff; text-decoration-color: #0087ff\">Dense</span>)     │ (<span style=\"color: #00d7ff; text-decoration-color: #00d7ff\">None</span>, <span style=\"color: #00af00; text-decoration-color: #00af00\">16</span>)        │      <span style=\"color: #00af00; text-decoration-color: #00af00\">1,040</span> │ dense[<span style=\"color: #00af00; text-decoration-color: #00af00\">0</span>][<span style=\"color: #00af00; text-decoration-color: #00af00\">0</span>]       │\n",
       "├─────────────────────┼───────────────────┼────────────┼───────────────────┤\n",
       "│ dense_2 (<span style=\"color: #0087ff; text-decoration-color: #0087ff\">Dense</span>)     │ (<span style=\"color: #00d7ff; text-decoration-color: #00d7ff\">None</span>, <span style=\"color: #00af00; text-decoration-color: #00af00\">16</span>)        │      <span style=\"color: #00af00; text-decoration-color: #00af00\">1,040</span> │ dense[<span style=\"color: #00af00; text-decoration-color: #00af00\">0</span>][<span style=\"color: #00af00; text-decoration-color: #00af00\">0</span>]       │\n",
       "└─────────────────────┴───────────────────┴────────────┴───────────────────┘\n",
       "</pre>\n"
      ],
      "text/plain": [
       "┏━━━━━━━━━━━━━━━━━━━━━┳━━━━━━━━━━━━━━━━━━━┳━━━━━━━━━━━━┳━━━━━━━━━━━━━━━━━━━┓\n",
       "┃\u001b[1m \u001b[0m\u001b[1mLayer (type)       \u001b[0m\u001b[1m \u001b[0m┃\u001b[1m \u001b[0m\u001b[1mOutput Shape     \u001b[0m\u001b[1m \u001b[0m┃\u001b[1m \u001b[0m\u001b[1m   Param #\u001b[0m\u001b[1m \u001b[0m┃\u001b[1m \u001b[0m\u001b[1mConnected to     \u001b[0m\u001b[1m \u001b[0m┃\n",
       "┡━━━━━━━━━━━━━━━━━━━━━╇━━━━━━━━━━━━━━━━━━━╇━━━━━━━━━━━━╇━━━━━━━━━━━━━━━━━━━┩\n",
       "│ input_layer_1       │ (\u001b[38;5;45mNone\u001b[0m, \u001b[38;5;34m10\u001b[0m)        │          \u001b[38;5;34m0\u001b[0m │ -                 │\n",
       "│ (\u001b[38;5;33mInputLayer\u001b[0m)        │                   │            │                   │\n",
       "├─────────────────────┼───────────────────┼────────────┼───────────────────┤\n",
       "│ lambda (\u001b[38;5;33mLambda\u001b[0m)     │ (\u001b[38;5;45mNone\u001b[0m, \u001b[38;5;34m1\u001b[0m, \u001b[38;5;34m10\u001b[0m)     │          \u001b[38;5;34m0\u001b[0m │ input_layer_1[\u001b[38;5;34m0\u001b[0m]… │\n",
       "├─────────────────────┼───────────────────┼────────────┼───────────────────┤\n",
       "│ lambda_1 (\u001b[38;5;33mLambda\u001b[0m)   │ (\u001b[38;5;45mNone\u001b[0m, \u001b[38;5;34m1\u001b[0m, \u001b[38;5;34m1\u001b[0m, \u001b[38;5;34m10\u001b[0m)  │          \u001b[38;5;34m0\u001b[0m │ lambda[\u001b[38;5;34m0\u001b[0m][\u001b[38;5;34m0\u001b[0m]      │\n",
       "├─────────────────────┼───────────────────┼────────────┼───────────────────┤\n",
       "│ input_layer         │ (\u001b[38;5;45mNone\u001b[0m, \u001b[38;5;34m28\u001b[0m, \u001b[38;5;34m28\u001b[0m, \u001b[38;5;34m1\u001b[0m) │          \u001b[38;5;34m0\u001b[0m │ -                 │\n",
       "│ (\u001b[38;5;33mInputLayer\u001b[0m)        │                   │            │                   │\n",
       "├─────────────────────┼───────────────────┼────────────┼───────────────────┤\n",
       "│ up_sampling2d       │ (\u001b[38;5;45mNone\u001b[0m, \u001b[38;5;34m28\u001b[0m, \u001b[38;5;34m28\u001b[0m,    │          \u001b[38;5;34m0\u001b[0m │ lambda_1[\u001b[38;5;34m0\u001b[0m][\u001b[38;5;34m0\u001b[0m]    │\n",
       "│ (\u001b[38;5;33mUpSampling2D\u001b[0m)      │ \u001b[38;5;34m10\u001b[0m)               │            │                   │\n",
       "├─────────────────────┼───────────────────┼────────────┼───────────────────┤\n",
       "│ concatenate         │ (\u001b[38;5;45mNone\u001b[0m, \u001b[38;5;34m28\u001b[0m, \u001b[38;5;34m28\u001b[0m,    │          \u001b[38;5;34m0\u001b[0m │ input_layer[\u001b[38;5;34m0\u001b[0m][\u001b[38;5;34m0\u001b[0m… │\n",
       "│ (\u001b[38;5;33mConcatenate\u001b[0m)       │ \u001b[38;5;34m11\u001b[0m)               │            │ up_sampling2d[\u001b[38;5;34m0\u001b[0m]… │\n",
       "├─────────────────────┼───────────────────┼────────────┼───────────────────┤\n",
       "│ conv2d (\u001b[38;5;33mConv2D\u001b[0m)     │ (\u001b[38;5;45mNone\u001b[0m, \u001b[38;5;34m14\u001b[0m, \u001b[38;5;34m14\u001b[0m,    │      \u001b[38;5;34m1,600\u001b[0m │ concatenate[\u001b[38;5;34m0\u001b[0m][\u001b[38;5;34m0\u001b[0m] │\n",
       "│                     │ \u001b[38;5;34m16\u001b[0m)               │            │                   │\n",
       "├─────────────────────┼───────────────────┼────────────┼───────────────────┤\n",
       "│ batch_normalization │ (\u001b[38;5;45mNone\u001b[0m, \u001b[38;5;34m14\u001b[0m, \u001b[38;5;34m14\u001b[0m,    │         \u001b[38;5;34m64\u001b[0m │ conv2d[\u001b[38;5;34m0\u001b[0m][\u001b[38;5;34m0\u001b[0m]      │\n",
       "│ (\u001b[38;5;33mBatchNormalizatio…\u001b[0m │ \u001b[38;5;34m16\u001b[0m)               │            │                   │\n",
       "├─────────────────────┼───────────────────┼────────────┼───────────────────┤\n",
       "│ activation          │ (\u001b[38;5;45mNone\u001b[0m, \u001b[38;5;34m14\u001b[0m, \u001b[38;5;34m14\u001b[0m,    │          \u001b[38;5;34m0\u001b[0m │ batch_normalizat… │\n",
       "│ (\u001b[38;5;33mActivation\u001b[0m)        │ \u001b[38;5;34m16\u001b[0m)               │            │                   │\n",
       "├─────────────────────┼───────────────────┼────────────┼───────────────────┤\n",
       "│ conv2d_1 (\u001b[38;5;33mConv2D\u001b[0m)   │ (\u001b[38;5;45mNone\u001b[0m, \u001b[38;5;34m14\u001b[0m, \u001b[38;5;34m14\u001b[0m,    │      \u001b[38;5;34m2,320\u001b[0m │ activation[\u001b[38;5;34m0\u001b[0m][\u001b[38;5;34m0\u001b[0m]  │\n",
       "│                     │ \u001b[38;5;34m16\u001b[0m)               │            │                   │\n",
       "├─────────────────────┼───────────────────┼────────────┼───────────────────┤\n",
       "│ conv2d_2 (\u001b[38;5;33mConv2D\u001b[0m)   │ (\u001b[38;5;45mNone\u001b[0m, \u001b[38;5;34m7\u001b[0m, \u001b[38;5;34m7\u001b[0m, \u001b[38;5;34m32\u001b[0m)  │      \u001b[38;5;34m4,640\u001b[0m │ conv2d_1[\u001b[38;5;34m0\u001b[0m][\u001b[38;5;34m0\u001b[0m]    │\n",
       "├─────────────────────┼───────────────────┼────────────┼───────────────────┤\n",
       "│ conv2d_3 (\u001b[38;5;33mConv2D\u001b[0m)   │ (\u001b[38;5;45mNone\u001b[0m, \u001b[38;5;34m7\u001b[0m, \u001b[38;5;34m7\u001b[0m, \u001b[38;5;34m32\u001b[0m)  │      \u001b[38;5;34m9,248\u001b[0m │ conv2d_2[\u001b[38;5;34m0\u001b[0m][\u001b[38;5;34m0\u001b[0m]    │\n",
       "├─────────────────────┼───────────────────┼────────────┼───────────────────┤\n",
       "│ conv2d_4 (\u001b[38;5;33mConv2D\u001b[0m)   │ (\u001b[38;5;45mNone\u001b[0m, \u001b[38;5;34m4\u001b[0m, \u001b[38;5;34m4\u001b[0m, \u001b[38;5;34m64\u001b[0m)  │     \u001b[38;5;34m18,496\u001b[0m │ conv2d_3[\u001b[38;5;34m0\u001b[0m][\u001b[38;5;34m0\u001b[0m]    │\n",
       "├─────────────────────┼───────────────────┼────────────┼───────────────────┤\n",
       "│ conv2d_5 (\u001b[38;5;33mConv2D\u001b[0m)   │ (\u001b[38;5;45mNone\u001b[0m, \u001b[38;5;34m4\u001b[0m, \u001b[38;5;34m4\u001b[0m, \u001b[38;5;34m64\u001b[0m)  │     \u001b[38;5;34m36,928\u001b[0m │ conv2d_4[\u001b[38;5;34m0\u001b[0m][\u001b[38;5;34m0\u001b[0m]    │\n",
       "├─────────────────────┼───────────────────┼────────────┼───────────────────┤\n",
       "│ flatten (\u001b[38;5;33mFlatten\u001b[0m)   │ (\u001b[38;5;45mNone\u001b[0m, \u001b[38;5;34m1024\u001b[0m)      │          \u001b[38;5;34m0\u001b[0m │ conv2d_5[\u001b[38;5;34m0\u001b[0m][\u001b[38;5;34m0\u001b[0m]    │\n",
       "├─────────────────────┼───────────────────┼────────────┼───────────────────┤\n",
       "│ dense (\u001b[38;5;33mDense\u001b[0m)       │ (\u001b[38;5;45mNone\u001b[0m, \u001b[38;5;34m64\u001b[0m)        │     \u001b[38;5;34m65,600\u001b[0m │ flatten[\u001b[38;5;34m0\u001b[0m][\u001b[38;5;34m0\u001b[0m]     │\n",
       "├─────────────────────┼───────────────────┼────────────┼───────────────────┤\n",
       "│ dense_1 (\u001b[38;5;33mDense\u001b[0m)     │ (\u001b[38;5;45mNone\u001b[0m, \u001b[38;5;34m16\u001b[0m)        │      \u001b[38;5;34m1,040\u001b[0m │ dense[\u001b[38;5;34m0\u001b[0m][\u001b[38;5;34m0\u001b[0m]       │\n",
       "├─────────────────────┼───────────────────┼────────────┼───────────────────┤\n",
       "│ dense_2 (\u001b[38;5;33mDense\u001b[0m)     │ (\u001b[38;5;45mNone\u001b[0m, \u001b[38;5;34m16\u001b[0m)        │      \u001b[38;5;34m1,040\u001b[0m │ dense[\u001b[38;5;34m0\u001b[0m][\u001b[38;5;34m0\u001b[0m]       │\n",
       "└─────────────────────┴───────────────────┴────────────┴───────────────────┘\n"
      ]
     },
     "metadata": {},
     "output_type": "display_data"
    },
    {
     "data": {
      "text/html": [
       "<pre style=\"white-space:pre;overflow-x:auto;line-height:normal;font-family:Menlo,'DejaVu Sans Mono',consolas,'Courier New',monospace\"><span style=\"font-weight: bold\"> Total params: </span><span style=\"color: #00af00; text-decoration-color: #00af00\">140,976</span> (550.69 KB)\n",
       "</pre>\n"
      ],
      "text/plain": [
       "\u001b[1m Total params: \u001b[0m\u001b[38;5;34m140,976\u001b[0m (550.69 KB)\n"
      ]
     },
     "metadata": {},
     "output_type": "display_data"
    },
    {
     "data": {
      "text/html": [
       "<pre style=\"white-space:pre;overflow-x:auto;line-height:normal;font-family:Menlo,'DejaVu Sans Mono',consolas,'Courier New',monospace\"><span style=\"font-weight: bold\"> Trainable params: </span><span style=\"color: #00af00; text-decoration-color: #00af00\">140,944</span> (550.56 KB)\n",
       "</pre>\n"
      ],
      "text/plain": [
       "\u001b[1m Trainable params: \u001b[0m\u001b[38;5;34m140,944\u001b[0m (550.56 KB)\n"
      ]
     },
     "metadata": {},
     "output_type": "display_data"
    },
    {
     "data": {
      "text/html": [
       "<pre style=\"white-space:pre;overflow-x:auto;line-height:normal;font-family:Menlo,'DejaVu Sans Mono',consolas,'Courier New',monospace\"><span style=\"font-weight: bold\"> Non-trainable params: </span><span style=\"color: #00af00; text-decoration-color: #00af00\">32</span> (128.00 B)\n",
       "</pre>\n"
      ],
      "text/plain": [
       "\u001b[1m Non-trainable params: \u001b[0m\u001b[38;5;34m32\u001b[0m (128.00 B)\n"
      ]
     },
     "metadata": {},
     "output_type": "display_data"
    }
   ],
   "source": [
    "encoder.summary()"
   ]
  },
  {
   "cell_type": "markdown",
   "id": "e87e888c",
   "metadata": {
    "id": "CL94ost69tn_",
    "papermill": {
     "duration": 0.010583,
     "end_time": "2024-05-21T09:49:24.431831",
     "exception": false,
     "start_time": "2024-05-21T09:49:24.421248",
     "status": "completed"
    },
    "tags": []
   },
   "source": [
    "## 2.2. Decoder\n",
    "Let's define the decoder model for the Conditional VAE. \n",
    "\n",
    "#### Code Explanation\n",
    "- Following code takes two inputs: the latent representation $ x $ and the conditional information $ c $. \n",
    "\n",
    "\n",
    "##### Input Layers\n",
    "- `x`: The latent representation input to the decoder, with a shape specified by `latent_dim`.\n",
    "- `c`: The conditional input with a fixed shape of 10.\n",
    "\n",
    "\n",
    "##### Concatenation and Dense Layers\n",
    "- `layers.concatenate([x, c])`: Concatenates the latent representation and the conditional information.\n",
    "- `layers.Dense(128, activation='swish')(y)`: Fully connected layer with 128 units and Swish activation. This helps in processing the concatenated input and learning a better representation.\n",
    "- The second `layers.concatenate([x, c])` seems redundant here. If this is intentional, it would imply concatenating the original inputs again, but typically, it should follow further processing if needed.\n",
    "\n",
    "\n",
    "##### Fully Connected and Reshape Layers\n",
    "- `layers.Dense(1024, activation='swish')(y)`: Another fully connected layer with 1024 units and Swish activation, further processing the combined latent and conditional information.\n",
    "- `layers.Reshape((4, 4, 64))(y)`: Reshapes the output into a 4x4x64 tensor, preparing it for the convolutional layers that follow.\n",
    "\n",
    "\n",
    "##### Convolutional and Transpose Convolutional Layers\n",
    "- Series of `Conv2D` and `Conv2DTranspose` layers interleaved to perform convolutional operations and upsampling.\n",
    "  - `Conv2D`: Standard convolutional layers with Swish activation.\n",
    "  - `Conv2DTranspose`: Transpose convolutional layers (also known as deconvolutional layers) to upsample the feature maps.\n",
    "  - `BatchNormalization`: Normalizes the activations to stabilize and speed up training.\n",
    "  - `Activation('swish')`: Applies the Swish activation function.\n",
    "\n",
    "\n",
    "##### Output Layer\n",
    "- `layers.Conv2D(1, (3, 3), activation='sigmoid', padding='same')(y)`: Final convolutional layer with a single filter, using a sigmoid activation function to generate the output image. The sigmoid activation ensures that the output values are between 0 and 1, which is typical for image data.\n",
    "\n",
    "\n",
    "##### Decoder Model\n",
    "- Defines the decoder model with inputs `[x, c]` and output `y`.\n",
    "\n",
    "\n",
    "This decoder architecture is designed to take a latent representation and conditional information as inputs and generate an output image that adheres to the specified conditions. The process involves:\n",
    "- Concatenating the latent and conditional inputs.\n",
    "- Passing through dense layers to process the concatenated input.\n",
    "- Reshaping the processed output to prepare for convolutional layers.\n",
    "- Using a series of convolutional and transpose convolutional layers to upsample and generate the final image.\n",
    "- Applying batch normalization and activation functions to improve training stability and performance.\n",
    "- Producing the final image with a single channel and pixel values in the range [0, 1] using the sigmoid activation function.\n",
    "\n",
    "This decoder, when paired with the corresponding encoder, forms a Conditional Variational Autoencoder capable of generating images conditioned on specific attributes or labels provided in the conditional input."
   ]
  },
  {
   "cell_type": "code",
   "execution_count": 7,
   "id": "313edd96",
   "metadata": {
    "execution": {
     "iopub.execute_input": "2024-05-21T09:49:24.456220Z",
     "iopub.status.busy": "2024-05-21T09:49:24.455853Z",
     "iopub.status.idle": "2024-05-21T09:49:24.585862Z",
     "shell.execute_reply": "2024-05-21T09:49:24.585101Z"
    },
    "id": "NlyP964wrCFr",
    "papermill": {
     "duration": 0.145222,
     "end_time": "2024-05-21T09:49:24.588111",
     "exception": false,
     "start_time": "2024-05-21T09:49:24.442889",
     "status": "completed"
    },
    "tags": []
   },
   "outputs": [],
   "source": [
    "# Input layers \n",
    "x_d = layers.Input(shape=(latent_dim,))\n",
    "c_d = layers.Input(shape=(10, ))\n",
    "\n",
    "# Concatenation and Dense Layer\n",
    "y = layers.concatenate([x_d, c_d])\n",
    "y = layers.Dense(128, activation='swish')(y)\n",
    "y = layers.concatenate([x_d, c_d])\n",
    "\n",
    "# Reshaping\n",
    "y = layers.Dense(1024, activation='swish')(y)\n",
    "y = layers.Reshape((4, 4, 64))(y)\n",
    "\n",
    "# Convolutional Layer\n",
    "y = layers.Conv2D(64, (3, 3), activation='swish', padding='same')(y)\n",
    "y = layers.Conv2DTranspose(32, (3, 3),strides=(2, 2), activation='swish', padding='same')(y)\n",
    "y = layers.Conv2D(32, (3, 3),activation='swish', padding='same')(y)\n",
    "y = layers.Conv2DTranspose(16, (3, 3),strides=(2, 2), activation='swish', padding='same')(y)\n",
    "y = layers.Conv2D(16, (3, 3),activation='swish', padding='valid')(y)\n",
    "y = layers.Conv2DTranspose(16, (3, 3),strides=(2, 2), activation='swish', padding='same')(y)\n",
    "y = layers.Conv2D(16, (3, 3), padding='same')(y)\n",
    "y = layers.BatchNormalization()(y)\n",
    "y = layers.Activation('swish')(y)\n",
    "\n",
    "# Output Layer\n",
    "output = layers.Conv2D(1, (3, 3), activation='sigmoid', padding='same')(y)\n",
    "\n",
    "# Decoder Model\n",
    "decoder = Model([x_d, c_d], output)"
   ]
  },
  {
   "cell_type": "code",
   "execution_count": 8,
   "id": "7f8656e9",
   "metadata": {
    "execution": {
     "iopub.execute_input": "2024-05-21T09:49:24.610330Z",
     "iopub.status.busy": "2024-05-21T09:49:24.610045Z",
     "iopub.status.idle": "2024-05-21T09:49:24.642470Z",
     "shell.execute_reply": "2024-05-21T09:49:24.641626Z"
    },
    "id": "QNHwwTu_tcLR",
    "outputId": "29b02afb-550f-4052-d748-33a493587602",
    "papermill": {
     "duration": 0.045668,
     "end_time": "2024-05-21T09:49:24.644410",
     "exception": false,
     "start_time": "2024-05-21T09:49:24.598742",
     "status": "completed"
    },
    "tags": []
   },
   "outputs": [
    {
     "data": {
      "text/html": [
       "<pre style=\"white-space:pre;overflow-x:auto;line-height:normal;font-family:Menlo,'DejaVu Sans Mono',consolas,'Courier New',monospace\"><span style=\"font-weight: bold\">Model: \"functional_3\"</span>\n",
       "</pre>\n"
      ],
      "text/plain": [
       "\u001b[1mModel: \"functional_3\"\u001b[0m\n"
      ]
     },
     "metadata": {},
     "output_type": "display_data"
    },
    {
     "data": {
      "text/html": [
       "<pre style=\"white-space:pre;overflow-x:auto;line-height:normal;font-family:Menlo,'DejaVu Sans Mono',consolas,'Courier New',monospace\">┏━━━━━━━━━━━━━━━━━━━━━┳━━━━━━━━━━━━━━━━━━━┳━━━━━━━━━━━━┳━━━━━━━━━━━━━━━━━━━┓\n",
       "┃<span style=\"font-weight: bold\"> Layer (type)        </span>┃<span style=\"font-weight: bold\"> Output Shape      </span>┃<span style=\"font-weight: bold\">    Param # </span>┃<span style=\"font-weight: bold\"> Connected to      </span>┃\n",
       "┡━━━━━━━━━━━━━━━━━━━━━╇━━━━━━━━━━━━━━━━━━━╇━━━━━━━━━━━━╇━━━━━━━━━━━━━━━━━━━┩\n",
       "│ input_layer_2       │ (<span style=\"color: #00d7ff; text-decoration-color: #00d7ff\">None</span>, <span style=\"color: #00af00; text-decoration-color: #00af00\">16</span>)        │          <span style=\"color: #00af00; text-decoration-color: #00af00\">0</span> │ -                 │\n",
       "│ (<span style=\"color: #0087ff; text-decoration-color: #0087ff\">InputLayer</span>)        │                   │            │                   │\n",
       "├─────────────────────┼───────────────────┼────────────┼───────────────────┤\n",
       "│ input_layer_3       │ (<span style=\"color: #00d7ff; text-decoration-color: #00d7ff\">None</span>, <span style=\"color: #00af00; text-decoration-color: #00af00\">10</span>)        │          <span style=\"color: #00af00; text-decoration-color: #00af00\">0</span> │ -                 │\n",
       "│ (<span style=\"color: #0087ff; text-decoration-color: #0087ff\">InputLayer</span>)        │                   │            │                   │\n",
       "├─────────────────────┼───────────────────┼────────────┼───────────────────┤\n",
       "│ concatenate_2       │ (<span style=\"color: #00d7ff; text-decoration-color: #00d7ff\">None</span>, <span style=\"color: #00af00; text-decoration-color: #00af00\">26</span>)        │          <span style=\"color: #00af00; text-decoration-color: #00af00\">0</span> │ input_layer_2[<span style=\"color: #00af00; text-decoration-color: #00af00\">0</span>]… │\n",
       "│ (<span style=\"color: #0087ff; text-decoration-color: #0087ff\">Concatenate</span>)       │                   │            │ input_layer_3[<span style=\"color: #00af00; text-decoration-color: #00af00\">0</span>]… │\n",
       "├─────────────────────┼───────────────────┼────────────┼───────────────────┤\n",
       "│ dense_4 (<span style=\"color: #0087ff; text-decoration-color: #0087ff\">Dense</span>)     │ (<span style=\"color: #00d7ff; text-decoration-color: #00d7ff\">None</span>, <span style=\"color: #00af00; text-decoration-color: #00af00\">1024</span>)      │     <span style=\"color: #00af00; text-decoration-color: #00af00\">27,648</span> │ concatenate_2[<span style=\"color: #00af00; text-decoration-color: #00af00\">0</span>]… │\n",
       "├─────────────────────┼───────────────────┼────────────┼───────────────────┤\n",
       "│ reshape (<span style=\"color: #0087ff; text-decoration-color: #0087ff\">Reshape</span>)   │ (<span style=\"color: #00d7ff; text-decoration-color: #00d7ff\">None</span>, <span style=\"color: #00af00; text-decoration-color: #00af00\">4</span>, <span style=\"color: #00af00; text-decoration-color: #00af00\">4</span>, <span style=\"color: #00af00; text-decoration-color: #00af00\">64</span>)  │          <span style=\"color: #00af00; text-decoration-color: #00af00\">0</span> │ dense_4[<span style=\"color: #00af00; text-decoration-color: #00af00\">0</span>][<span style=\"color: #00af00; text-decoration-color: #00af00\">0</span>]     │\n",
       "├─────────────────────┼───────────────────┼────────────┼───────────────────┤\n",
       "│ conv2d_6 (<span style=\"color: #0087ff; text-decoration-color: #0087ff\">Conv2D</span>)   │ (<span style=\"color: #00d7ff; text-decoration-color: #00d7ff\">None</span>, <span style=\"color: #00af00; text-decoration-color: #00af00\">4</span>, <span style=\"color: #00af00; text-decoration-color: #00af00\">4</span>, <span style=\"color: #00af00; text-decoration-color: #00af00\">64</span>)  │     <span style=\"color: #00af00; text-decoration-color: #00af00\">36,928</span> │ reshape[<span style=\"color: #00af00; text-decoration-color: #00af00\">0</span>][<span style=\"color: #00af00; text-decoration-color: #00af00\">0</span>]     │\n",
       "├─────────────────────┼───────────────────┼────────────┼───────────────────┤\n",
       "│ conv2d_transpose    │ (<span style=\"color: #00d7ff; text-decoration-color: #00d7ff\">None</span>, <span style=\"color: #00af00; text-decoration-color: #00af00\">8</span>, <span style=\"color: #00af00; text-decoration-color: #00af00\">8</span>, <span style=\"color: #00af00; text-decoration-color: #00af00\">32</span>)  │     <span style=\"color: #00af00; text-decoration-color: #00af00\">18,464</span> │ conv2d_6[<span style=\"color: #00af00; text-decoration-color: #00af00\">0</span>][<span style=\"color: #00af00; text-decoration-color: #00af00\">0</span>]    │\n",
       "│ (<span style=\"color: #0087ff; text-decoration-color: #0087ff\">Conv2DTranspose</span>)   │                   │            │                   │\n",
       "├─────────────────────┼───────────────────┼────────────┼───────────────────┤\n",
       "│ conv2d_7 (<span style=\"color: #0087ff; text-decoration-color: #0087ff\">Conv2D</span>)   │ (<span style=\"color: #00d7ff; text-decoration-color: #00d7ff\">None</span>, <span style=\"color: #00af00; text-decoration-color: #00af00\">8</span>, <span style=\"color: #00af00; text-decoration-color: #00af00\">8</span>, <span style=\"color: #00af00; text-decoration-color: #00af00\">32</span>)  │      <span style=\"color: #00af00; text-decoration-color: #00af00\">9,248</span> │ conv2d_transpose… │\n",
       "├─────────────────────┼───────────────────┼────────────┼───────────────────┤\n",
       "│ conv2d_transpose_1  │ (<span style=\"color: #00d7ff; text-decoration-color: #00d7ff\">None</span>, <span style=\"color: #00af00; text-decoration-color: #00af00\">16</span>, <span style=\"color: #00af00; text-decoration-color: #00af00\">16</span>,    │      <span style=\"color: #00af00; text-decoration-color: #00af00\">4,624</span> │ conv2d_7[<span style=\"color: #00af00; text-decoration-color: #00af00\">0</span>][<span style=\"color: #00af00; text-decoration-color: #00af00\">0</span>]    │\n",
       "│ (<span style=\"color: #0087ff; text-decoration-color: #0087ff\">Conv2DTranspose</span>)   │ <span style=\"color: #00af00; text-decoration-color: #00af00\">16</span>)               │            │                   │\n",
       "├─────────────────────┼───────────────────┼────────────┼───────────────────┤\n",
       "│ conv2d_8 (<span style=\"color: #0087ff; text-decoration-color: #0087ff\">Conv2D</span>)   │ (<span style=\"color: #00d7ff; text-decoration-color: #00d7ff\">None</span>, <span style=\"color: #00af00; text-decoration-color: #00af00\">14</span>, <span style=\"color: #00af00; text-decoration-color: #00af00\">14</span>,    │      <span style=\"color: #00af00; text-decoration-color: #00af00\">2,320</span> │ conv2d_transpose… │\n",
       "│                     │ <span style=\"color: #00af00; text-decoration-color: #00af00\">16</span>)               │            │                   │\n",
       "├─────────────────────┼───────────────────┼────────────┼───────────────────┤\n",
       "│ conv2d_transpose_2  │ (<span style=\"color: #00d7ff; text-decoration-color: #00d7ff\">None</span>, <span style=\"color: #00af00; text-decoration-color: #00af00\">28</span>, <span style=\"color: #00af00; text-decoration-color: #00af00\">28</span>,    │      <span style=\"color: #00af00; text-decoration-color: #00af00\">2,320</span> │ conv2d_8[<span style=\"color: #00af00; text-decoration-color: #00af00\">0</span>][<span style=\"color: #00af00; text-decoration-color: #00af00\">0</span>]    │\n",
       "│ (<span style=\"color: #0087ff; text-decoration-color: #0087ff\">Conv2DTranspose</span>)   │ <span style=\"color: #00af00; text-decoration-color: #00af00\">16</span>)               │            │                   │\n",
       "├─────────────────────┼───────────────────┼────────────┼───────────────────┤\n",
       "│ conv2d_9 (<span style=\"color: #0087ff; text-decoration-color: #0087ff\">Conv2D</span>)   │ (<span style=\"color: #00d7ff; text-decoration-color: #00d7ff\">None</span>, <span style=\"color: #00af00; text-decoration-color: #00af00\">28</span>, <span style=\"color: #00af00; text-decoration-color: #00af00\">28</span>,    │      <span style=\"color: #00af00; text-decoration-color: #00af00\">2,320</span> │ conv2d_transpose… │\n",
       "│                     │ <span style=\"color: #00af00; text-decoration-color: #00af00\">16</span>)               │            │                   │\n",
       "├─────────────────────┼───────────────────┼────────────┼───────────────────┤\n",
       "│ batch_normalizatio… │ (<span style=\"color: #00d7ff; text-decoration-color: #00d7ff\">None</span>, <span style=\"color: #00af00; text-decoration-color: #00af00\">28</span>, <span style=\"color: #00af00; text-decoration-color: #00af00\">28</span>,    │         <span style=\"color: #00af00; text-decoration-color: #00af00\">64</span> │ conv2d_9[<span style=\"color: #00af00; text-decoration-color: #00af00\">0</span>][<span style=\"color: #00af00; text-decoration-color: #00af00\">0</span>]    │\n",
       "│ (<span style=\"color: #0087ff; text-decoration-color: #0087ff\">BatchNormalizatio…</span> │ <span style=\"color: #00af00; text-decoration-color: #00af00\">16</span>)               │            │                   │\n",
       "├─────────────────────┼───────────────────┼────────────┼───────────────────┤\n",
       "│ activation_1        │ (<span style=\"color: #00d7ff; text-decoration-color: #00d7ff\">None</span>, <span style=\"color: #00af00; text-decoration-color: #00af00\">28</span>, <span style=\"color: #00af00; text-decoration-color: #00af00\">28</span>,    │          <span style=\"color: #00af00; text-decoration-color: #00af00\">0</span> │ batch_normalizat… │\n",
       "│ (<span style=\"color: #0087ff; text-decoration-color: #0087ff\">Activation</span>)        │ <span style=\"color: #00af00; text-decoration-color: #00af00\">16</span>)               │            │                   │\n",
       "├─────────────────────┼───────────────────┼────────────┼───────────────────┤\n",
       "│ conv2d_10 (<span style=\"color: #0087ff; text-decoration-color: #0087ff\">Conv2D</span>)  │ (<span style=\"color: #00d7ff; text-decoration-color: #00d7ff\">None</span>, <span style=\"color: #00af00; text-decoration-color: #00af00\">28</span>, <span style=\"color: #00af00; text-decoration-color: #00af00\">28</span>, <span style=\"color: #00af00; text-decoration-color: #00af00\">1</span>) │        <span style=\"color: #00af00; text-decoration-color: #00af00\">145</span> │ activation_1[<span style=\"color: #00af00; text-decoration-color: #00af00\">0</span>][<span style=\"color: #00af00; text-decoration-color: #00af00\">…</span> │\n",
       "└─────────────────────┴───────────────────┴────────────┴───────────────────┘\n",
       "</pre>\n"
      ],
      "text/plain": [
       "┏━━━━━━━━━━━━━━━━━━━━━┳━━━━━━━━━━━━━━━━━━━┳━━━━━━━━━━━━┳━━━━━━━━━━━━━━━━━━━┓\n",
       "┃\u001b[1m \u001b[0m\u001b[1mLayer (type)       \u001b[0m\u001b[1m \u001b[0m┃\u001b[1m \u001b[0m\u001b[1mOutput Shape     \u001b[0m\u001b[1m \u001b[0m┃\u001b[1m \u001b[0m\u001b[1m   Param #\u001b[0m\u001b[1m \u001b[0m┃\u001b[1m \u001b[0m\u001b[1mConnected to     \u001b[0m\u001b[1m \u001b[0m┃\n",
       "┡━━━━━━━━━━━━━━━━━━━━━╇━━━━━━━━━━━━━━━━━━━╇━━━━━━━━━━━━╇━━━━━━━━━━━━━━━━━━━┩\n",
       "│ input_layer_2       │ (\u001b[38;5;45mNone\u001b[0m, \u001b[38;5;34m16\u001b[0m)        │          \u001b[38;5;34m0\u001b[0m │ -                 │\n",
       "│ (\u001b[38;5;33mInputLayer\u001b[0m)        │                   │            │                   │\n",
       "├─────────────────────┼───────────────────┼────────────┼───────────────────┤\n",
       "│ input_layer_3       │ (\u001b[38;5;45mNone\u001b[0m, \u001b[38;5;34m10\u001b[0m)        │          \u001b[38;5;34m0\u001b[0m │ -                 │\n",
       "│ (\u001b[38;5;33mInputLayer\u001b[0m)        │                   │            │                   │\n",
       "├─────────────────────┼───────────────────┼────────────┼───────────────────┤\n",
       "│ concatenate_2       │ (\u001b[38;5;45mNone\u001b[0m, \u001b[38;5;34m26\u001b[0m)        │          \u001b[38;5;34m0\u001b[0m │ input_layer_2[\u001b[38;5;34m0\u001b[0m]… │\n",
       "│ (\u001b[38;5;33mConcatenate\u001b[0m)       │                   │            │ input_layer_3[\u001b[38;5;34m0\u001b[0m]… │\n",
       "├─────────────────────┼───────────────────┼────────────┼───────────────────┤\n",
       "│ dense_4 (\u001b[38;5;33mDense\u001b[0m)     │ (\u001b[38;5;45mNone\u001b[0m, \u001b[38;5;34m1024\u001b[0m)      │     \u001b[38;5;34m27,648\u001b[0m │ concatenate_2[\u001b[38;5;34m0\u001b[0m]… │\n",
       "├─────────────────────┼───────────────────┼────────────┼───────────────────┤\n",
       "│ reshape (\u001b[38;5;33mReshape\u001b[0m)   │ (\u001b[38;5;45mNone\u001b[0m, \u001b[38;5;34m4\u001b[0m, \u001b[38;5;34m4\u001b[0m, \u001b[38;5;34m64\u001b[0m)  │          \u001b[38;5;34m0\u001b[0m │ dense_4[\u001b[38;5;34m0\u001b[0m][\u001b[38;5;34m0\u001b[0m]     │\n",
       "├─────────────────────┼───────────────────┼────────────┼───────────────────┤\n",
       "│ conv2d_6 (\u001b[38;5;33mConv2D\u001b[0m)   │ (\u001b[38;5;45mNone\u001b[0m, \u001b[38;5;34m4\u001b[0m, \u001b[38;5;34m4\u001b[0m, \u001b[38;5;34m64\u001b[0m)  │     \u001b[38;5;34m36,928\u001b[0m │ reshape[\u001b[38;5;34m0\u001b[0m][\u001b[38;5;34m0\u001b[0m]     │\n",
       "├─────────────────────┼───────────────────┼────────────┼───────────────────┤\n",
       "│ conv2d_transpose    │ (\u001b[38;5;45mNone\u001b[0m, \u001b[38;5;34m8\u001b[0m, \u001b[38;5;34m8\u001b[0m, \u001b[38;5;34m32\u001b[0m)  │     \u001b[38;5;34m18,464\u001b[0m │ conv2d_6[\u001b[38;5;34m0\u001b[0m][\u001b[38;5;34m0\u001b[0m]    │\n",
       "│ (\u001b[38;5;33mConv2DTranspose\u001b[0m)   │                   │            │                   │\n",
       "├─────────────────────┼───────────────────┼────────────┼───────────────────┤\n",
       "│ conv2d_7 (\u001b[38;5;33mConv2D\u001b[0m)   │ (\u001b[38;5;45mNone\u001b[0m, \u001b[38;5;34m8\u001b[0m, \u001b[38;5;34m8\u001b[0m, \u001b[38;5;34m32\u001b[0m)  │      \u001b[38;5;34m9,248\u001b[0m │ conv2d_transpose… │\n",
       "├─────────────────────┼───────────────────┼────────────┼───────────────────┤\n",
       "│ conv2d_transpose_1  │ (\u001b[38;5;45mNone\u001b[0m, \u001b[38;5;34m16\u001b[0m, \u001b[38;5;34m16\u001b[0m,    │      \u001b[38;5;34m4,624\u001b[0m │ conv2d_7[\u001b[38;5;34m0\u001b[0m][\u001b[38;5;34m0\u001b[0m]    │\n",
       "│ (\u001b[38;5;33mConv2DTranspose\u001b[0m)   │ \u001b[38;5;34m16\u001b[0m)               │            │                   │\n",
       "├─────────────────────┼───────────────────┼────────────┼───────────────────┤\n",
       "│ conv2d_8 (\u001b[38;5;33mConv2D\u001b[0m)   │ (\u001b[38;5;45mNone\u001b[0m, \u001b[38;5;34m14\u001b[0m, \u001b[38;5;34m14\u001b[0m,    │      \u001b[38;5;34m2,320\u001b[0m │ conv2d_transpose… │\n",
       "│                     │ \u001b[38;5;34m16\u001b[0m)               │            │                   │\n",
       "├─────────────────────┼───────────────────┼────────────┼───────────────────┤\n",
       "│ conv2d_transpose_2  │ (\u001b[38;5;45mNone\u001b[0m, \u001b[38;5;34m28\u001b[0m, \u001b[38;5;34m28\u001b[0m,    │      \u001b[38;5;34m2,320\u001b[0m │ conv2d_8[\u001b[38;5;34m0\u001b[0m][\u001b[38;5;34m0\u001b[0m]    │\n",
       "│ (\u001b[38;5;33mConv2DTranspose\u001b[0m)   │ \u001b[38;5;34m16\u001b[0m)               │            │                   │\n",
       "├─────────────────────┼───────────────────┼────────────┼───────────────────┤\n",
       "│ conv2d_9 (\u001b[38;5;33mConv2D\u001b[0m)   │ (\u001b[38;5;45mNone\u001b[0m, \u001b[38;5;34m28\u001b[0m, \u001b[38;5;34m28\u001b[0m,    │      \u001b[38;5;34m2,320\u001b[0m │ conv2d_transpose… │\n",
       "│                     │ \u001b[38;5;34m16\u001b[0m)               │            │                   │\n",
       "├─────────────────────┼───────────────────┼────────────┼───────────────────┤\n",
       "│ batch_normalizatio… │ (\u001b[38;5;45mNone\u001b[0m, \u001b[38;5;34m28\u001b[0m, \u001b[38;5;34m28\u001b[0m,    │         \u001b[38;5;34m64\u001b[0m │ conv2d_9[\u001b[38;5;34m0\u001b[0m][\u001b[38;5;34m0\u001b[0m]    │\n",
       "│ (\u001b[38;5;33mBatchNormalizatio…\u001b[0m │ \u001b[38;5;34m16\u001b[0m)               │            │                   │\n",
       "├─────────────────────┼───────────────────┼────────────┼───────────────────┤\n",
       "│ activation_1        │ (\u001b[38;5;45mNone\u001b[0m, \u001b[38;5;34m28\u001b[0m, \u001b[38;5;34m28\u001b[0m,    │          \u001b[38;5;34m0\u001b[0m │ batch_normalizat… │\n",
       "│ (\u001b[38;5;33mActivation\u001b[0m)        │ \u001b[38;5;34m16\u001b[0m)               │            │                   │\n",
       "├─────────────────────┼───────────────────┼────────────┼───────────────────┤\n",
       "│ conv2d_10 (\u001b[38;5;33mConv2D\u001b[0m)  │ (\u001b[38;5;45mNone\u001b[0m, \u001b[38;5;34m28\u001b[0m, \u001b[38;5;34m28\u001b[0m, \u001b[38;5;34m1\u001b[0m) │        \u001b[38;5;34m145\u001b[0m │ activation_1[\u001b[38;5;34m0\u001b[0m][\u001b[38;5;34m…\u001b[0m │\n",
       "└─────────────────────┴───────────────────┴────────────┴───────────────────┘\n"
      ]
     },
     "metadata": {},
     "output_type": "display_data"
    },
    {
     "data": {
      "text/html": [
       "<pre style=\"white-space:pre;overflow-x:auto;line-height:normal;font-family:Menlo,'DejaVu Sans Mono',consolas,'Courier New',monospace\"><span style=\"font-weight: bold\"> Total params: </span><span style=\"color: #00af00; text-decoration-color: #00af00\">104,081</span> (406.57 KB)\n",
       "</pre>\n"
      ],
      "text/plain": [
       "\u001b[1m Total params: \u001b[0m\u001b[38;5;34m104,081\u001b[0m (406.57 KB)\n"
      ]
     },
     "metadata": {},
     "output_type": "display_data"
    },
    {
     "data": {
      "text/html": [
       "<pre style=\"white-space:pre;overflow-x:auto;line-height:normal;font-family:Menlo,'DejaVu Sans Mono',consolas,'Courier New',monospace\"><span style=\"font-weight: bold\"> Trainable params: </span><span style=\"color: #00af00; text-decoration-color: #00af00\">104,049</span> (406.44 KB)\n",
       "</pre>\n"
      ],
      "text/plain": [
       "\u001b[1m Trainable params: \u001b[0m\u001b[38;5;34m104,049\u001b[0m (406.44 KB)\n"
      ]
     },
     "metadata": {},
     "output_type": "display_data"
    },
    {
     "data": {
      "text/html": [
       "<pre style=\"white-space:pre;overflow-x:auto;line-height:normal;font-family:Menlo,'DejaVu Sans Mono',consolas,'Courier New',monospace\"><span style=\"font-weight: bold\"> Non-trainable params: </span><span style=\"color: #00af00; text-decoration-color: #00af00\">32</span> (128.00 B)\n",
       "</pre>\n"
      ],
      "text/plain": [
       "\u001b[1m Non-trainable params: \u001b[0m\u001b[38;5;34m32\u001b[0m (128.00 B)\n"
      ]
     },
     "metadata": {},
     "output_type": "display_data"
    }
   ],
   "source": [
    "decoder.summary()"
   ]
  },
  {
   "cell_type": "markdown",
   "id": "2501c96c",
   "metadata": {
    "id": "WUL-X_iT-Omd",
    "papermill": {
     "duration": 0.011601,
     "end_time": "2024-05-21T09:49:24.667451",
     "exception": false,
     "start_time": "2024-05-21T09:49:24.655850",
     "status": "completed"
    },
    "tags": []
   },
   "source": [
    "## 2.3. CVAE Model\n",
    "Creating CVAE Final Model"
   ]
  },
  {
   "cell_type": "code",
   "execution_count": 9,
   "id": "a7d3b2d7",
   "metadata": {
    "execution": {
     "iopub.execute_input": "2024-05-21T09:49:24.691349Z",
     "iopub.status.busy": "2024-05-21T09:49:24.691078Z",
     "iopub.status.idle": "2024-05-21T09:49:24.700964Z",
     "shell.execute_reply": "2024-05-21T09:49:24.700073Z"
    },
    "id": "PkMlqvXMLa2U",
    "papermill": {
     "duration": 0.024145,
     "end_time": "2024-05-21T09:49:24.702916",
     "exception": false,
     "start_time": "2024-05-21T09:49:24.678771",
     "status": "completed"
    },
    "tags": []
   },
   "outputs": [],
   "source": [
    "class CVAE(Model):\n",
    "    def __init__(self, encoder, decoder, gamma=1.0, **kwargs):\n",
    "        super(CVAE, self).__init__(**kwargs)\n",
    "        self.encoder = encoder\n",
    "        self.decoder = decoder\n",
    "        self.gamma = gamma\n",
    "\n",
    "    def train_step(self, data):\n",
    "        x, c = data\n",
    "\n",
    "        with tf.GradientTape() as tape:\n",
    "            z_mean, z_log_var = self.encoder([x, c])\n",
    "            z = sampling([z_mean, z_log_var])\n",
    "            x_hat = self.decoder([z, c])\n",
    "            loss = vae_loss(x, x_hat, z_mean, z_log_var, self.gamma)\n",
    "\n",
    "        gradients = tape.gradient(loss, self.trainable_variables)\n",
    "        self.optimizer.apply_gradients(zip(gradients, self.trainable_variables))\n",
    "        return {\"loss\": loss}\n",
    "\n",
    "    def test_step(self, data):\n",
    "        x, c = data\n",
    "\n",
    "        z_mean, z_log_var = self.encoder([x, c])\n",
    "        z = sampling([z_mean, z_log_var])\n",
    "        x_hat = self.decoder([z, c])\n",
    "        loss = vae_loss(x, x_hat, z_mean, z_log_var, self.gamma)\n",
    "        return {\"loss\": loss}\n",
    "    \n",
    "    def call(self, inputs):\n",
    "        x, c = inputs\n",
    "        z_mean, z_log_var = self.encoder([x, c])\n",
    "        z = sampling([z_mean, z_log_var])\n",
    "        return self.decoder([z, c])"
   ]
  },
  {
   "cell_type": "markdown",
   "id": "f906bddb",
   "metadata": {
    "id": "a-NDaqVC-7-3",
    "papermill": {
     "duration": 0.011343,
     "end_time": "2024-05-21T09:49:24.725763",
     "exception": false,
     "start_time": "2024-05-21T09:49:24.714420",
     "status": "completed"
    },
    "tags": []
   },
   "source": [
    "Below is the VAE Loss Function:"
   ]
  },
  {
   "cell_type": "code",
   "execution_count": 10,
   "id": "5f80467e",
   "metadata": {
    "execution": {
     "iopub.execute_input": "2024-05-21T09:49:24.749140Z",
     "iopub.status.busy": "2024-05-21T09:49:24.748893Z",
     "iopub.status.idle": "2024-05-21T09:49:24.753838Z",
     "shell.execute_reply": "2024-05-21T09:49:24.752979Z"
    },
    "id": "JoGx6ok5j9SH",
    "outputId": "a724206e-75d9-41f1-a722-3356ed6104f3",
    "papermill": {
     "duration": 0.01884,
     "end_time": "2024-05-21T09:49:24.755731",
     "exception": false,
     "start_time": "2024-05-21T09:49:24.736891",
     "status": "completed"
    },
    "tags": []
   },
   "outputs": [],
   "source": [
    "def vae_loss(x, x_hat, z_mean, z_log_var, gamma):\n",
    "    rec_loss = K.mean(losses.mean_squared_error(x, x_hat), axis=(1, 2))\n",
    "    kl_loss = -0.5 * K.sum(1 + z_log_var - K.square(z_mean) - K.exp(z_log_var), axis=-1)\n",
    "    return K.mean(rec_loss + gamma * kl_loss)"
   ]
  },
  {
   "cell_type": "markdown",
   "id": "3ec23bb0",
   "metadata": {
    "id": "4pXS7wjS85eD",
    "papermill": {
     "duration": 0.011122,
     "end_time": "2024-05-21T09:49:24.778124",
     "exception": false,
     "start_time": "2024-05-21T09:49:24.767002",
     "status": "completed"
    },
    "tags": []
   },
   "source": [
    "Some hyperparameters. Gamma is used to balance loglikelihood and KL-divergence in the loss function"
   ]
  },
  {
   "cell_type": "code",
   "execution_count": 11,
   "id": "a54ce950",
   "metadata": {
    "execution": {
     "iopub.execute_input": "2024-05-21T09:49:24.802038Z",
     "iopub.status.busy": "2024-05-21T09:49:24.801396Z",
     "iopub.status.idle": "2024-05-21T09:49:24.805211Z",
     "shell.execute_reply": "2024-05-21T09:49:24.804279Z"
    },
    "id": "WXNDTqdQZK-d",
    "papermill": {
     "duration": 0.017612,
     "end_time": "2024-05-21T09:49:24.807031",
     "exception": false,
     "start_time": "2024-05-21T09:49:24.789419",
     "status": "completed"
    },
    "tags": []
   },
   "outputs": [],
   "source": [
    "gamma = .0001"
   ]
  },
  {
   "cell_type": "code",
   "execution_count": 12,
   "id": "0cabef61",
   "metadata": {
    "execution": {
     "iopub.execute_input": "2024-05-21T09:49:24.830744Z",
     "iopub.status.busy": "2024-05-21T09:49:24.830079Z",
     "iopub.status.idle": "2024-05-21T09:49:24.847860Z",
     "shell.execute_reply": "2024-05-21T09:49:24.846957Z"
    },
    "papermill": {
     "duration": 0.031508,
     "end_time": "2024-05-21T09:49:24.849680",
     "exception": false,
     "start_time": "2024-05-21T09:49:24.818172",
     "status": "completed"
    },
    "tags": []
   },
   "outputs": [
    {
     "data": {
      "text/html": [
       "<pre style=\"white-space:pre;overflow-x:auto;line-height:normal;font-family:Menlo,'DejaVu Sans Mono',consolas,'Courier New',monospace\"><span style=\"font-weight: bold\">Model: \"cvae\"</span>\n",
       "</pre>\n"
      ],
      "text/plain": [
       "\u001b[1mModel: \"cvae\"\u001b[0m\n"
      ]
     },
     "metadata": {},
     "output_type": "display_data"
    },
    {
     "data": {
      "text/html": [
       "<pre style=\"white-space:pre;overflow-x:auto;line-height:normal;font-family:Menlo,'DejaVu Sans Mono',consolas,'Courier New',monospace\">┏━━━━━━━━━━━━━━━━━━━━━━━━━━━━━━━━━┳━━━━━━━━━━━━━━━━━━━━━━━━┳━━━━━━━━━━━━━━━┓\n",
       "┃<span style=\"font-weight: bold\"> Layer (type)                    </span>┃<span style=\"font-weight: bold\"> Output Shape           </span>┃<span style=\"font-weight: bold\">       Param # </span>┃\n",
       "┡━━━━━━━━━━━━━━━━━━━━━━━━━━━━━━━━━╇━━━━━━━━━━━━━━━━━━━━━━━━╇━━━━━━━━━━━━━━━┩\n",
       "│ functional_1 (<span style=\"color: #0087ff; text-decoration-color: #0087ff\">Functional</span>)       │ ?                      │       <span style=\"color: #00af00; text-decoration-color: #00af00\">140,976</span> │\n",
       "├─────────────────────────────────┼────────────────────────┼───────────────┤\n",
       "│ functional_3 (<span style=\"color: #0087ff; text-decoration-color: #0087ff\">Functional</span>)       │ ?                      │       <span style=\"color: #00af00; text-decoration-color: #00af00\">104,081</span> │\n",
       "└─────────────────────────────────┴────────────────────────┴───────────────┘\n",
       "</pre>\n"
      ],
      "text/plain": [
       "┏━━━━━━━━━━━━━━━━━━━━━━━━━━━━━━━━━┳━━━━━━━━━━━━━━━━━━━━━━━━┳━━━━━━━━━━━━━━━┓\n",
       "┃\u001b[1m \u001b[0m\u001b[1mLayer (type)                   \u001b[0m\u001b[1m \u001b[0m┃\u001b[1m \u001b[0m\u001b[1mOutput Shape          \u001b[0m\u001b[1m \u001b[0m┃\u001b[1m \u001b[0m\u001b[1m      Param #\u001b[0m\u001b[1m \u001b[0m┃\n",
       "┡━━━━━━━━━━━━━━━━━━━━━━━━━━━━━━━━━╇━━━━━━━━━━━━━━━━━━━━━━━━╇━━━━━━━━━━━━━━━┩\n",
       "│ functional_1 (\u001b[38;5;33mFunctional\u001b[0m)       │ ?                      │       \u001b[38;5;34m140,976\u001b[0m │\n",
       "├─────────────────────────────────┼────────────────────────┼───────────────┤\n",
       "│ functional_3 (\u001b[38;5;33mFunctional\u001b[0m)       │ ?                      │       \u001b[38;5;34m104,081\u001b[0m │\n",
       "└─────────────────────────────────┴────────────────────────┴───────────────┘\n"
      ]
     },
     "metadata": {},
     "output_type": "display_data"
    },
    {
     "data": {
      "text/html": [
       "<pre style=\"white-space:pre;overflow-x:auto;line-height:normal;font-family:Menlo,'DejaVu Sans Mono',consolas,'Courier New',monospace\"><span style=\"font-weight: bold\"> Total params: </span><span style=\"color: #00af00; text-decoration-color: #00af00\">245,057</span> (957.25 KB)\n",
       "</pre>\n"
      ],
      "text/plain": [
       "\u001b[1m Total params: \u001b[0m\u001b[38;5;34m245,057\u001b[0m (957.25 KB)\n"
      ]
     },
     "metadata": {},
     "output_type": "display_data"
    },
    {
     "data": {
      "text/html": [
       "<pre style=\"white-space:pre;overflow-x:auto;line-height:normal;font-family:Menlo,'DejaVu Sans Mono',consolas,'Courier New',monospace\"><span style=\"font-weight: bold\"> Trainable params: </span><span style=\"color: #00af00; text-decoration-color: #00af00\">244,993</span> (957.00 KB)\n",
       "</pre>\n"
      ],
      "text/plain": [
       "\u001b[1m Trainable params: \u001b[0m\u001b[38;5;34m244,993\u001b[0m (957.00 KB)\n"
      ]
     },
     "metadata": {},
     "output_type": "display_data"
    },
    {
     "data": {
      "text/html": [
       "<pre style=\"white-space:pre;overflow-x:auto;line-height:normal;font-family:Menlo,'DejaVu Sans Mono',consolas,'Courier New',monospace\"><span style=\"font-weight: bold\"> Non-trainable params: </span><span style=\"color: #00af00; text-decoration-color: #00af00\">64</span> (256.00 B)\n",
       "</pre>\n"
      ],
      "text/plain": [
       "\u001b[1m Non-trainable params: \u001b[0m\u001b[38;5;34m64\u001b[0m (256.00 B)\n"
      ]
     },
     "metadata": {},
     "output_type": "display_data"
    }
   ],
   "source": [
    "cvae = CVAE(encoder, decoder, gamma=gamma)\n",
    "\n",
    "cvae.summary()"
   ]
  },
  {
   "cell_type": "code",
   "execution_count": 13,
   "id": "02b6de04",
   "metadata": {
    "execution": {
     "iopub.execute_input": "2024-05-21T09:49:24.875147Z",
     "iopub.status.busy": "2024-05-21T09:49:24.874621Z",
     "iopub.status.idle": "2024-05-21T09:49:24.878131Z",
     "shell.execute_reply": "2024-05-21T09:49:24.877332Z"
    },
    "id": "bBZvcj_VnRjE",
    "papermill": {
     "duration": 0.018178,
     "end_time": "2024-05-21T09:49:24.880015",
     "exception": false,
     "start_time": "2024-05-21T09:49:24.861837",
     "status": "completed"
    },
    "tags": []
   },
   "outputs": [],
   "source": [
    "batch_size = 128\n",
    "epochs = 60"
   ]
  },
  {
   "cell_type": "markdown",
   "id": "ef74f262",
   "metadata": {
    "id": "wO5bJn1e_VcD",
    "papermill": {
     "duration": 0.01182,
     "end_time": "2024-05-21T09:49:24.903743",
     "exception": false,
     "start_time": "2024-05-21T09:49:24.891923",
     "status": "completed"
    },
    "tags": []
   },
   "source": [
    "We are ready to compile. We specify the loss function with Compile method. "
   ]
  },
  {
   "cell_type": "code",
   "execution_count": 14,
   "id": "a2fa004d",
   "metadata": {
    "execution": {
     "iopub.execute_input": "2024-05-21T09:49:24.928775Z",
     "iopub.status.busy": "2024-05-21T09:49:24.928521Z",
     "iopub.status.idle": "2024-05-21T09:49:24.937974Z",
     "shell.execute_reply": "2024-05-21T09:49:24.937310Z"
    },
    "id": "_Px-yKVV_sRH",
    "papermill": {
     "duration": 0.024199,
     "end_time": "2024-05-21T09:49:24.939943",
     "exception": false,
     "start_time": "2024-05-21T09:49:24.915744",
     "status": "completed"
    },
    "tags": []
   },
   "outputs": [],
   "source": [
    "optimizer = optimizers.Adam(learning_rate=.0005)"
   ]
  },
  {
   "cell_type": "code",
   "execution_count": 15,
   "id": "18e29cb1",
   "metadata": {
    "execution": {
     "iopub.execute_input": "2024-05-21T09:49:24.965187Z",
     "iopub.status.busy": "2024-05-21T09:49:24.964709Z",
     "iopub.status.idle": "2024-05-21T09:49:24.972304Z",
     "shell.execute_reply": "2024-05-21T09:49:24.971477Z"
    },
    "id": "88MtVNBokxYM",
    "papermill": {
     "duration": 0.02235,
     "end_time": "2024-05-21T09:49:24.974148",
     "exception": false,
     "start_time": "2024-05-21T09:49:24.951798",
     "status": "completed"
    },
    "tags": []
   },
   "outputs": [],
   "source": [
    "cvae.compile(optimizer=optimizer, loss=vae_loss)"
   ]
  },
  {
   "cell_type": "markdown",
   "id": "12120284",
   "metadata": {
    "id": "2I2N8blv_kT2",
    "papermill": {
     "duration": 0.011801,
     "end_time": "2024-05-21T09:49:24.997812",
     "exception": false,
     "start_time": "2024-05-21T09:49:24.986011",
     "status": "completed"
    },
    "tags": []
   },
   "source": [
    "Training "
   ]
  },
  {
   "cell_type": "code",
   "execution_count": 16,
   "id": "9e1c0fdc",
   "metadata": {
    "execution": {
     "iopub.execute_input": "2024-05-21T09:49:25.023071Z",
     "iopub.status.busy": "2024-05-21T09:49:25.022780Z",
     "iopub.status.idle": "2024-05-21T09:53:03.932057Z",
     "shell.execute_reply": "2024-05-21T09:53:03.931098Z"
    },
    "id": "Z12B7w7zi_kv",
    "outputId": "45b89394-6e7b-445d-edc8-2c5724f22f94",
    "papermill": {
     "duration": 218.924684,
     "end_time": "2024-05-21T09:53:03.934298",
     "exception": false,
     "start_time": "2024-05-21T09:49:25.009614",
     "status": "completed"
    },
    "tags": []
   },
   "outputs": [
    {
     "name": "stdout",
     "output_type": "stream",
     "text": [
      "Epoch 1/60\n",
      "\u001b[1m 15/469\u001b[0m \u001b[37m━━━━━━━━━━━━━━━━━━━━\u001b[0m \u001b[1m5s\u001b[0m 12ms/step - loss: 0.2264"
     ]
    },
    {
     "name": "stderr",
     "output_type": "stream",
     "text": [
      "WARNING: All log messages before absl::InitializeLog() is called are written to STDERR\n",
      "I0000 00:00:1716284979.561928      71 device_compiler.h:186] Compiled cluster using XLA!  This line is logged at most once for the lifetime of the process.\n",
      "W0000 00:00:1716284979.583610      71 graph_launch.cc:671] Fallback to op-by-op mode because memset node breaks graph update\n",
      "W0000 00:00:1716284979.590362      71 graph_launch.cc:671] Fallback to op-by-op mode because memset node breaks graph update\n"
     ]
    },
    {
     "name": "stdout",
     "output_type": "stream",
     "text": [
      "\u001b[1m469/469\u001b[0m \u001b[32m━━━━━━━━━━━━━━━━━━━━\u001b[0m\u001b[37m\u001b[0m \u001b[1m23s\u001b[0m 20ms/step - loss: 0.0781\n",
      "Epoch 2/60\n",
      "\u001b[1m 11/469\u001b[0m \u001b[37m━━━━━━━━━━━━━━━━━━━━\u001b[0m \u001b[1m5s\u001b[0m 12ms/step - loss: 0.0498"
     ]
    },
    {
     "name": "stderr",
     "output_type": "stream",
     "text": [
      "W0000 00:00:1716284988.938528      74 graph_launch.cc:671] Fallback to op-by-op mode because memset node breaks graph update\n"
     ]
    },
    {
     "name": "stdout",
     "output_type": "stream",
     "text": [
      "\u001b[1m469/469\u001b[0m \u001b[32m━━━━━━━━━━━━━━━━━━━━\u001b[0m\u001b[37m\u001b[0m \u001b[1m3s\u001b[0m 7ms/step - loss: 0.0352\n",
      "Epoch 3/60\n",
      "\u001b[1m469/469\u001b[0m \u001b[32m━━━━━━━━━━━━━━━━━━━━\u001b[0m\u001b[37m\u001b[0m \u001b[1m5s\u001b[0m 7ms/step - loss: 0.0227\n",
      "Epoch 4/60\n",
      "\u001b[1m469/469\u001b[0m \u001b[32m━━━━━━━━━━━━━━━━━━━━\u001b[0m\u001b[37m\u001b[0m \u001b[1m3s\u001b[0m 6ms/step - loss: 0.0186\n",
      "Epoch 5/60\n",
      "\u001b[1m469/469\u001b[0m \u001b[32m━━━━━━━━━━━━━━━━━━━━\u001b[0m\u001b[37m\u001b[0m \u001b[1m3s\u001b[0m 7ms/step - loss: 0.0167\n",
      "Epoch 6/60\n",
      "\u001b[1m469/469\u001b[0m \u001b[32m━━━━━━━━━━━━━━━━━━━━\u001b[0m\u001b[37m\u001b[0m \u001b[1m3s\u001b[0m 7ms/step - loss: 0.0153\n",
      "Epoch 7/60\n",
      "\u001b[1m469/469\u001b[0m \u001b[32m━━━━━━━━━━━━━━━━━━━━\u001b[0m\u001b[37m\u001b[0m \u001b[1m3s\u001b[0m 7ms/step - loss: 0.0143\n",
      "Epoch 8/60\n",
      "\u001b[1m469/469\u001b[0m \u001b[32m━━━━━━━━━━━━━━━━━━━━\u001b[0m\u001b[37m\u001b[0m \u001b[1m3s\u001b[0m 7ms/step - loss: 0.0136\n",
      "Epoch 9/60\n",
      "\u001b[1m469/469\u001b[0m \u001b[32m━━━━━━━━━━━━━━━━━━━━\u001b[0m\u001b[37m\u001b[0m \u001b[1m3s\u001b[0m 7ms/step - loss: 0.0131\n",
      "Epoch 10/60\n",
      "\u001b[1m469/469\u001b[0m \u001b[32m━━━━━━━━━━━━━━━━━━━━\u001b[0m\u001b[37m\u001b[0m \u001b[1m3s\u001b[0m 7ms/step - loss: 0.0127\n",
      "Epoch 11/60\n",
      "\u001b[1m469/469\u001b[0m \u001b[32m━━━━━━━━━━━━━━━━━━━━\u001b[0m\u001b[37m\u001b[0m \u001b[1m3s\u001b[0m 7ms/step - loss: 0.0123\n",
      "Epoch 12/60\n",
      "\u001b[1m469/469\u001b[0m \u001b[32m━━━━━━━━━━━━━━━━━━━━\u001b[0m\u001b[37m\u001b[0m \u001b[1m3s\u001b[0m 7ms/step - loss: 0.0121\n",
      "Epoch 13/60\n",
      "\u001b[1m469/469\u001b[0m \u001b[32m━━━━━━━━━━━━━━━━━━━━\u001b[0m\u001b[37m\u001b[0m \u001b[1m3s\u001b[0m 7ms/step - loss: 0.0118\n",
      "Epoch 14/60\n",
      "\u001b[1m469/469\u001b[0m \u001b[32m━━━━━━━━━━━━━━━━━━━━\u001b[0m\u001b[37m\u001b[0m \u001b[1m3s\u001b[0m 7ms/step - loss: 0.0116\n",
      "Epoch 15/60\n",
      "\u001b[1m469/469\u001b[0m \u001b[32m━━━━━━━━━━━━━━━━━━━━\u001b[0m\u001b[37m\u001b[0m \u001b[1m3s\u001b[0m 7ms/step - loss: 0.0114\n",
      "Epoch 16/60\n",
      "\u001b[1m469/469\u001b[0m \u001b[32m━━━━━━━━━━━━━━━━━━━━\u001b[0m\u001b[37m\u001b[0m \u001b[1m3s\u001b[0m 7ms/step - loss: 0.0113\n",
      "Epoch 17/60\n",
      "\u001b[1m469/469\u001b[0m \u001b[32m━━━━━━━━━━━━━━━━━━━━\u001b[0m\u001b[37m\u001b[0m \u001b[1m3s\u001b[0m 7ms/step - loss: 0.0111\n",
      "Epoch 18/60\n",
      "\u001b[1m469/469\u001b[0m \u001b[32m━━━━━━━━━━━━━━━━━━━━\u001b[0m\u001b[37m\u001b[0m \u001b[1m3s\u001b[0m 7ms/step - loss: 0.0110\n",
      "Epoch 19/60\n",
      "\u001b[1m469/469\u001b[0m \u001b[32m━━━━━━━━━━━━━━━━━━━━\u001b[0m\u001b[37m\u001b[0m \u001b[1m5s\u001b[0m 7ms/step - loss: 0.0109\n",
      "Epoch 20/60\n",
      "\u001b[1m469/469\u001b[0m \u001b[32m━━━━━━━━━━━━━━━━━━━━\u001b[0m\u001b[37m\u001b[0m \u001b[1m3s\u001b[0m 7ms/step - loss: 0.0108\n",
      "Epoch 21/60\n",
      "\u001b[1m469/469\u001b[0m \u001b[32m━━━━━━━━━━━━━━━━━━━━\u001b[0m\u001b[37m\u001b[0m \u001b[1m3s\u001b[0m 7ms/step - loss: 0.0107\n",
      "Epoch 22/60\n",
      "\u001b[1m469/469\u001b[0m \u001b[32m━━━━━━━━━━━━━━━━━━━━\u001b[0m\u001b[37m\u001b[0m \u001b[1m3s\u001b[0m 7ms/step - loss: 0.0106\n",
      "Epoch 23/60\n",
      "\u001b[1m469/469\u001b[0m \u001b[32m━━━━━━━━━━━━━━━━━━━━\u001b[0m\u001b[37m\u001b[0m \u001b[1m3s\u001b[0m 7ms/step - loss: 0.0105\n",
      "Epoch 24/60\n",
      "\u001b[1m469/469\u001b[0m \u001b[32m━━━━━━━━━━━━━━━━━━━━\u001b[0m\u001b[37m\u001b[0m \u001b[1m3s\u001b[0m 7ms/step - loss: 0.0104\n",
      "Epoch 25/60\n",
      "\u001b[1m469/469\u001b[0m \u001b[32m━━━━━━━━━━━━━━━━━━━━\u001b[0m\u001b[37m\u001b[0m \u001b[1m3s\u001b[0m 7ms/step - loss: 0.0103\n",
      "Epoch 26/60\n",
      "\u001b[1m469/469\u001b[0m \u001b[32m━━━━━━━━━━━━━━━━━━━━\u001b[0m\u001b[37m\u001b[0m \u001b[1m3s\u001b[0m 7ms/step - loss: 0.0103\n",
      "Epoch 27/60\n",
      "\u001b[1m469/469\u001b[0m \u001b[32m━━━━━━━━━━━━━━━━━━━━\u001b[0m\u001b[37m\u001b[0m \u001b[1m3s\u001b[0m 7ms/step - loss: 0.0102\n",
      "Epoch 28/60\n",
      "\u001b[1m469/469\u001b[0m \u001b[32m━━━━━━━━━━━━━━━━━━━━\u001b[0m\u001b[37m\u001b[0m \u001b[1m3s\u001b[0m 7ms/step - loss: 0.0101\n",
      "Epoch 29/60\n",
      "\u001b[1m469/469\u001b[0m \u001b[32m━━━━━━━━━━━━━━━━━━━━\u001b[0m\u001b[37m\u001b[0m \u001b[1m3s\u001b[0m 7ms/step - loss: 0.0101\n",
      "Epoch 30/60\n",
      "\u001b[1m469/469\u001b[0m \u001b[32m━━━━━━━━━━━━━━━━━━━━\u001b[0m\u001b[37m\u001b[0m \u001b[1m3s\u001b[0m 7ms/step - loss: 0.0100\n",
      "Epoch 31/60\n",
      "\u001b[1m469/469\u001b[0m \u001b[32m━━━━━━━━━━━━━━━━━━━━\u001b[0m\u001b[37m\u001b[0m \u001b[1m3s\u001b[0m 7ms/step - loss: 0.0100\n",
      "Epoch 32/60\n",
      "\u001b[1m469/469\u001b[0m \u001b[32m━━━━━━━━━━━━━━━━━━━━\u001b[0m\u001b[37m\u001b[0m \u001b[1m3s\u001b[0m 7ms/step - loss: 0.0099\n",
      "Epoch 33/60\n",
      "\u001b[1m469/469\u001b[0m \u001b[32m━━━━━━━━━━━━━━━━━━━━\u001b[0m\u001b[37m\u001b[0m \u001b[1m3s\u001b[0m 7ms/step - loss: 0.0098\n",
      "Epoch 34/60\n",
      "\u001b[1m469/469\u001b[0m \u001b[32m━━━━━━━━━━━━━━━━━━━━\u001b[0m\u001b[37m\u001b[0m \u001b[1m3s\u001b[0m 7ms/step - loss: 0.0098\n",
      "Epoch 35/60\n",
      "\u001b[1m469/469\u001b[0m \u001b[32m━━━━━━━━━━━━━━━━━━━━\u001b[0m\u001b[37m\u001b[0m \u001b[1m3s\u001b[0m 7ms/step - loss: 0.0098\n",
      "Epoch 36/60\n",
      "\u001b[1m469/469\u001b[0m \u001b[32m━━━━━━━━━━━━━━━━━━━━\u001b[0m\u001b[37m\u001b[0m \u001b[1m3s\u001b[0m 7ms/step - loss: 0.0097\n",
      "Epoch 37/60\n",
      "\u001b[1m469/469\u001b[0m \u001b[32m━━━━━━━━━━━━━━━━━━━━\u001b[0m\u001b[37m\u001b[0m \u001b[1m3s\u001b[0m 7ms/step - loss: 0.0097\n",
      "Epoch 38/60\n",
      "\u001b[1m469/469\u001b[0m \u001b[32m━━━━━━━━━━━━━━━━━━━━\u001b[0m\u001b[37m\u001b[0m \u001b[1m3s\u001b[0m 7ms/step - loss: 0.0096\n",
      "Epoch 39/60\n",
      "\u001b[1m469/469\u001b[0m \u001b[32m━━━━━━━━━━━━━━━━━━━━\u001b[0m\u001b[37m\u001b[0m \u001b[1m3s\u001b[0m 7ms/step - loss: 0.0096\n",
      "Epoch 40/60\n",
      "\u001b[1m469/469\u001b[0m \u001b[32m━━━━━━━━━━━━━━━━━━━━\u001b[0m\u001b[37m\u001b[0m \u001b[1m3s\u001b[0m 7ms/step - loss: 0.0096\n",
      "Epoch 41/60\n",
      "\u001b[1m469/469\u001b[0m \u001b[32m━━━━━━━━━━━━━━━━━━━━\u001b[0m\u001b[37m\u001b[0m \u001b[1m3s\u001b[0m 7ms/step - loss: 0.0095\n",
      "Epoch 42/60\n",
      "\u001b[1m469/469\u001b[0m \u001b[32m━━━━━━━━━━━━━━━━━━━━\u001b[0m\u001b[37m\u001b[0m \u001b[1m3s\u001b[0m 7ms/step - loss: 0.0095\n",
      "Epoch 43/60\n",
      "\u001b[1m469/469\u001b[0m \u001b[32m━━━━━━━━━━━━━━━━━━━━\u001b[0m\u001b[37m\u001b[0m \u001b[1m3s\u001b[0m 7ms/step - loss: 0.0095\n",
      "Epoch 44/60\n",
      "\u001b[1m469/469\u001b[0m \u001b[32m━━━━━━━━━━━━━━━━━━━━\u001b[0m\u001b[37m\u001b[0m \u001b[1m3s\u001b[0m 7ms/step - loss: 0.0094\n",
      "Epoch 45/60\n",
      "\u001b[1m469/469\u001b[0m \u001b[32m━━━━━━━━━━━━━━━━━━━━\u001b[0m\u001b[37m\u001b[0m \u001b[1m3s\u001b[0m 7ms/step - loss: 0.0094\n",
      "Epoch 46/60\n",
      "\u001b[1m469/469\u001b[0m \u001b[32m━━━━━━━━━━━━━━━━━━━━\u001b[0m\u001b[37m\u001b[0m \u001b[1m3s\u001b[0m 7ms/step - loss: 0.0094\n",
      "Epoch 47/60\n",
      "\u001b[1m469/469\u001b[0m \u001b[32m━━━━━━━━━━━━━━━━━━━━\u001b[0m\u001b[37m\u001b[0m \u001b[1m3s\u001b[0m 7ms/step - loss: 0.0093\n",
      "Epoch 48/60\n",
      "\u001b[1m469/469\u001b[0m \u001b[32m━━━━━━━━━━━━━━━━━━━━\u001b[0m\u001b[37m\u001b[0m \u001b[1m3s\u001b[0m 7ms/step - loss: 0.0093\n",
      "Epoch 49/60\n",
      "\u001b[1m469/469\u001b[0m \u001b[32m━━━━━━━━━━━━━━━━━━━━\u001b[0m\u001b[37m\u001b[0m \u001b[1m3s\u001b[0m 7ms/step - loss: 0.0093\n",
      "Epoch 50/60\n",
      "\u001b[1m469/469\u001b[0m \u001b[32m━━━━━━━━━━━━━━━━━━━━\u001b[0m\u001b[37m\u001b[0m \u001b[1m3s\u001b[0m 7ms/step - loss: 0.0093\n",
      "Epoch 51/60\n",
      "\u001b[1m469/469\u001b[0m \u001b[32m━━━━━━━━━━━━━━━━━━━━\u001b[0m\u001b[37m\u001b[0m \u001b[1m3s\u001b[0m 7ms/step - loss: 0.0092\n",
      "Epoch 52/60\n",
      "\u001b[1m469/469\u001b[0m \u001b[32m━━━━━━━━━━━━━━━━━━━━\u001b[0m\u001b[37m\u001b[0m \u001b[1m3s\u001b[0m 7ms/step - loss: 0.0092\n",
      "Epoch 53/60\n",
      "\u001b[1m469/469\u001b[0m \u001b[32m━━━━━━━━━━━━━━━━━━━━\u001b[0m\u001b[37m\u001b[0m \u001b[1m3s\u001b[0m 7ms/step - loss: 0.0092\n",
      "Epoch 54/60\n",
      "\u001b[1m469/469\u001b[0m \u001b[32m━━━━━━━━━━━━━━━━━━━━\u001b[0m\u001b[37m\u001b[0m \u001b[1m3s\u001b[0m 7ms/step - loss: 0.0092\n",
      "Epoch 55/60\n",
      "\u001b[1m469/469\u001b[0m \u001b[32m━━━━━━━━━━━━━━━━━━━━\u001b[0m\u001b[37m\u001b[0m \u001b[1m3s\u001b[0m 7ms/step - loss: 0.0091\n",
      "Epoch 56/60\n",
      "\u001b[1m469/469\u001b[0m \u001b[32m━━━━━━━━━━━━━━━━━━━━\u001b[0m\u001b[37m\u001b[0m \u001b[1m3s\u001b[0m 7ms/step - loss: 0.0091\n",
      "Epoch 57/60\n",
      "\u001b[1m469/469\u001b[0m \u001b[32m━━━━━━━━━━━━━━━━━━━━\u001b[0m\u001b[37m\u001b[0m \u001b[1m3s\u001b[0m 7ms/step - loss: 0.0091\n",
      "Epoch 58/60\n",
      "\u001b[1m469/469\u001b[0m \u001b[32m━━━━━━━━━━━━━━━━━━━━\u001b[0m\u001b[37m\u001b[0m \u001b[1m3s\u001b[0m 7ms/step - loss: 0.0091\n",
      "Epoch 59/60\n",
      "\u001b[1m469/469\u001b[0m \u001b[32m━━━━━━━━━━━━━━━━━━━━\u001b[0m\u001b[37m\u001b[0m \u001b[1m3s\u001b[0m 7ms/step - loss: 0.0091\n",
      "Epoch 60/60\n",
      "\u001b[1m469/469\u001b[0m \u001b[32m━━━━━━━━━━━━━━━━━━━━\u001b[0m\u001b[37m\u001b[0m \u001b[1m3s\u001b[0m 7ms/step - loss: 0.0090\n"
     ]
    },
    {
     "data": {
      "text/plain": [
       "<keras.src.callbacks.history.History at 0x7df0b1b3a920>"
      ]
     },
     "execution_count": 16,
     "metadata": {},
     "output_type": "execute_result"
    }
   ],
   "source": [
    "train_dataset = tf.data.Dataset.from_tensor_slices((x_train, y_train)).batch(batch_size)\n",
    "\n",
    "cvae.fit(train_dataset, epochs=epochs)"
   ]
  },
  {
   "cell_type": "markdown",
   "id": "5d7bde25",
   "metadata": {
    "id": "txKlTVhs_yeF",
    "papermill": {
     "duration": 0.315559,
     "end_time": "2024-05-21T09:53:04.596976",
     "exception": false,
     "start_time": "2024-05-21T09:53:04.281417",
     "status": "completed"
    },
    "tags": []
   },
   "source": [
    "Let us decode the full test set."
   ]
  },
  {
   "cell_type": "code",
   "execution_count": 17,
   "id": "52328f15",
   "metadata": {
    "execution": {
     "iopub.execute_input": "2024-05-21T09:53:05.226347Z",
     "iopub.status.busy": "2024-05-21T09:53:05.225971Z",
     "iopub.status.idle": "2024-05-21T09:53:10.603500Z",
     "shell.execute_reply": "2024-05-21T09:53:10.602502Z"
    },
    "id": "VbZ110fvm5GU",
    "outputId": "3bf7fe13-9ad9-48ca-90a5-02f568f97c56",
    "papermill": {
     "duration": 5.692907,
     "end_time": "2024-05-21T09:53:10.605915",
     "exception": false,
     "start_time": "2024-05-21T09:53:04.913008",
     "status": "completed"
    },
    "tags": []
   },
   "outputs": [
    {
     "name": "stdout",
     "output_type": "stream",
     "text": [
      "\u001b[1m 71/313\u001b[0m \u001b[32m━━━━\u001b[0m\u001b[37m━━━━━━━━━━━━━━━━\u001b[0m \u001b[1m0s\u001b[0m 2ms/step"
     ]
    },
    {
     "name": "stderr",
     "output_type": "stream",
     "text": [
      "W0000 00:00:1716285187.568099      74 graph_launch.cc:671] Fallback to op-by-op mode because memset node breaks graph update\n"
     ]
    },
    {
     "name": "stdout",
     "output_type": "stream",
     "text": [
      "\u001b[1m313/313\u001b[0m \u001b[32m━━━━━━━━━━━━━━━━━━━━\u001b[0m\u001b[37m\u001b[0m \u001b[1m5s\u001b[0m 9ms/step\n"
     ]
    }
   ],
   "source": [
    "decoded_imgs = cvae.predict((x_test, y_test))"
   ]
  },
  {
   "cell_type": "markdown",
   "id": "e5a58ca4",
   "metadata": {
    "id": "5N0khSaF_6-8",
    "papermill": {
     "duration": 0.313893,
     "end_time": "2024-05-21T09:53:11.296149",
     "exception": false,
     "start_time": "2024-05-21T09:53:10.982256",
     "status": "completed"
    },
    "tags": []
   },
   "source": [
    "The following function is to test the quality of reconstructions (not particularly good, since compression is strong)."
   ]
  },
  {
   "cell_type": "code",
   "execution_count": 18,
   "id": "29ff7323",
   "metadata": {
    "execution": {
     "iopub.execute_input": "2024-05-21T09:53:11.928778Z",
     "iopub.status.busy": "2024-05-21T09:53:11.928375Z",
     "iopub.status.idle": "2024-05-21T09:53:11.935608Z",
     "shell.execute_reply": "2024-05-21T09:53:11.934683Z"
    },
    "id": "QhEuyvLqmg9Z",
    "papermill": {
     "duration": 0.325883,
     "end_time": "2024-05-21T09:53:11.937712",
     "exception": false,
     "start_time": "2024-05-21T09:53:11.611829",
     "status": "completed"
    },
    "tags": []
   },
   "outputs": [],
   "source": [
    "def plot(n=10):\n",
    "  plt.figure(figsize=(20, 4))\n",
    "  for i in range(n):\n",
    "    # display original\n",
    "    ax = plt.subplot(2, n, i + 1)\n",
    "    plt.imshow(x_test[i].reshape(28, 28))\n",
    "    plt.gray()\n",
    "    ax.get_xaxis().set_visible(False)\n",
    "    ax.get_yaxis().set_visible(False)\n",
    "\n",
    "    # display reconstruction\n",
    "    ax = plt.subplot(2, n, i + 1 + n)\n",
    "    plt.imshow(decoded_imgs[i].reshape(28, 28))\n",
    "    plt.gray()\n",
    "    ax.get_xaxis().set_visible(False)\n",
    "    ax.get_yaxis().set_visible(False)\n",
    "  plt.show()"
   ]
  },
  {
   "cell_type": "code",
   "execution_count": 19,
   "id": "533d441f",
   "metadata": {
    "execution": {
     "iopub.execute_input": "2024-05-21T09:53:12.571591Z",
     "iopub.status.busy": "2024-05-21T09:53:12.570909Z",
     "iopub.status.idle": "2024-05-21T09:53:13.230594Z",
     "shell.execute_reply": "2024-05-21T09:53:13.229633Z"
    },
    "id": "kts9354Pmq9Y",
    "outputId": "514977b8-30dd-4746-ce4f-f633314f48c0",
    "papermill": {
     "duration": 0.977591,
     "end_time": "2024-05-21T09:53:13.232828",
     "exception": false,
     "start_time": "2024-05-21T09:53:12.255237",
     "status": "completed"
    },
    "tags": []
   },
   "outputs": [
    {
     "data": {
      "image/png": "[encoded data removed]",
      "text/plain": [
       "<Figure size 2000x400 with 20 Axes>"
      ]
     },
     "metadata": {},
     "output_type": "display_data"
    }
   ],
   "source": [
    "plot()"
   ]
  },
  {
   "cell_type": "markdown",
   "id": "72f4b344",
   "metadata": {
    "id": "ADA_k_hLn_vU",
    "papermill": {
     "duration": 0.312557,
     "end_time": "2024-05-21T09:53:13.859905",
     "exception": false,
     "start_time": "2024-05-21T09:53:13.547348",
     "status": "completed"
    },
    "tags": []
   },
   "source": [
    "Finally, we build a digit generator that can sample from the learned distribution"
   ]
  },
  {
   "cell_type": "code",
   "execution_count": 20,
   "id": "379e2bf3",
   "metadata": {
    "execution": {
     "iopub.execute_input": "2024-05-21T09:53:14.559010Z",
     "iopub.status.busy": "2024-05-21T09:53:14.558135Z",
     "iopub.status.idle": "2024-05-21T09:53:14.562505Z",
     "shell.execute_reply": "2024-05-21T09:53:14.561642Z"
    },
    "id": "mRcV178se5zv",
    "papermill": {
     "duration": 0.318843,
     "end_time": "2024-05-21T09:53:14.564354",
     "exception": false,
     "start_time": "2024-05-21T09:53:14.245511",
     "status": "completed"
    },
    "tags": []
   },
   "outputs": [],
   "source": [
    "generator = decoder"
   ]
  },
  {
   "cell_type": "markdown",
   "id": "c6ed7196",
   "metadata": {
    "id": "MpzeowOsAVEX",
    "papermill": {
     "duration": 0.316992,
     "end_time": "2024-05-21T09:53:15.198342",
     "exception": false,
     "start_time": "2024-05-21T09:53:14.881350",
     "status": "completed"
    },
    "tags": []
   },
   "source": [
    "And we can generate our samples"
   ]
  },
  {
   "cell_type": "code",
   "execution_count": 21,
   "id": "83f928b9",
   "metadata": {
    "execution": {
     "iopub.execute_input": "2024-05-21T09:53:15.830911Z",
     "iopub.status.busy": "2024-05-21T09:53:15.830560Z",
     "iopub.status.idle": "2024-05-21T09:53:18.752003Z",
     "shell.execute_reply": "2024-05-21T09:53:18.750908Z"
    },
    "id": "dXO1fys7ohKn",
    "outputId": "0cde25d0-ef2a-4c4e-8690-e02439bd2748",
    "papermill": {
     "duration": 3.242753,
     "end_time": "2024-05-21T09:53:18.754493",
     "exception": false,
     "start_time": "2024-05-21T09:53:15.511740",
     "status": "completed"
    },
    "tags": []
   },
   "outputs": [
    {
     "name": "stdout",
     "output_type": "stream",
     "text": [
      "\u001b[1m1/1\u001b[0m \u001b[32m━━━━━━━━━━━━━━━━━━━━\u001b[0m\u001b[37m\u001b[0m \u001b[1m1s\u001b[0m 1s/step\n",
      "\u001b[1m1/1\u001b[0m \u001b[32m━━━━━━━━━━━━━━━━━━━━\u001b[0m\u001b[37m\u001b[0m \u001b[1m0s\u001b[0m 21ms/step\n",
      "\u001b[1m1/1\u001b[0m \u001b[32m━━━━━━━━━━━━━━━━━━━━\u001b[0m\u001b[37m\u001b[0m \u001b[1m0s\u001b[0m 21ms/step\n",
      "\u001b[1m1/1\u001b[0m \u001b[32m━━━━━━━━━━━━━━━━━━━━\u001b[0m\u001b[37m\u001b[0m \u001b[1m0s\u001b[0m 20ms/step\n",
      "\u001b[1m1/1\u001b[0m \u001b[32m━━━━━━━━━━━━━━━━━━━━\u001b[0m\u001b[37m\u001b[0m \u001b[1m0s\u001b[0m 19ms/step\n",
      "\u001b[1m1/1\u001b[0m \u001b[32m━━━━━━━━━━━━━━━━━━━━\u001b[0m\u001b[37m\u001b[0m \u001b[1m0s\u001b[0m 19ms/step\n",
      "\u001b[1m1/1\u001b[0m \u001b[32m━━━━━━━━━━━━━━━━━━━━\u001b[0m\u001b[37m\u001b[0m \u001b[1m0s\u001b[0m 19ms/step\n",
      "\u001b[1m1/1\u001b[0m \u001b[32m━━━━━━━━━━━━━━━━━━━━\u001b[0m\u001b[37m\u001b[0m \u001b[1m0s\u001b[0m 19ms/step\n",
      "\u001b[1m1/1\u001b[0m \u001b[32m━━━━━━━━━━━━━━━━━━━━\u001b[0m\u001b[37m\u001b[0m \u001b[1m0s\u001b[0m 20ms/step\n"
     ]
    },
    {
     "data": {
      "image/png": "[encoded data removed]",
      "text/plain": [
       "<Figure size 500x500 with 1 Axes>"
      ]
     },
     "metadata": {},
     "output_type": "display_data"
    }
   ],
   "source": [
    "import time\n",
    "# display a 2D manifold of the digits\n",
    "n = 3  # figure with 15x15 digits\n",
    "digit_size = 28\n",
    "figure = np.zeros((digit_size * n, digit_size * n))\n",
    "\n",
    "while True:\n",
    "    # Uncomment next line to try more example\n",
    "#     label = input(\"input digit to generate: \\n\")\n",
    "    # and comment this one after it\n",
    "    label = 5\n",
    "    label = int(label)\n",
    "    if label < 0 or label > 9:\n",
    "        print(label)\n",
    "        break\n",
    "\n",
    "    label = np.expand_dims(utils.to_categorical(label, 10),axis=0)\n",
    "    for i in range(0,n):\n",
    "        for j in range (0,n):\n",
    "            z_sample = np.expand_dims(np.random.normal(size=latent_dim),axis=0)\n",
    "            x_decoded = generator.predict([z_sample,label])\n",
    "            digit = x_decoded[0].reshape(digit_size, digit_size)\n",
    "            figure[i * digit_size: (i + 1) * digit_size,\n",
    "                   j * digit_size: (j + 1) * digit_size] = digit\n",
    "            \n",
    "    plt.figure(figsize=(5, 5))\n",
    "    plt.imshow(figure, cmap='Greys_r')\n",
    "    plt.show()\n",
    "    time.sleep(1)\n",
    "    \n",
    "    # Comment next line for more input\n",
    "    break\n"
   ]
  }
 ],
 "metadata": {
  "accelerator": "GPU",
  "colab": {
   "provenance": []
  },
  "kaggle": {
   "accelerator": "nvidiaTeslaT4",
   "dataSources": [],
   "dockerImageVersionId": 30699,
   "isGpuEnabled": true,
   "isInternetEnabled": true,
   "language": "python",
   "sourceType": "notebook"
  },
  "kernelspec": {
   "display_name": "Python 3",
   "language": "python",
   "name": "python3"
  },
  "language_info": {
   "codemirror_mode": {
    "name": "ipython",
    "version": 3
   },
   "file_extension": ".py",
   "mimetype": "text/x-python",
   "name": "python",
   "nbconvert_exporter": "python",
   "pygments_lexer": "ipython3",
   "version": "3.10.13"
  },
  "papermill": {
   "default_parameters": {},
   "duration": 255.41077,
   "end_time": "2024-05-21T09:53:22.198585",
   "environment_variables": {},
   "exception": null,
   "input_path": "__notebook__.ipynb",
   "output_path": "__notebook__.ipynb",
   "parameters": {},
   "start_time": "2024-05-21T09:49:06.787815",
   "version": "2.5.0"
  }
 },
 "nbformat": 4,
 "nbformat_minor": 5
}
