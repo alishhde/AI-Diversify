{
 "cells": [
  {
   "cell_type": "markdown",
   "id": "baa8a0f1",
   "metadata": {
    "papermill": {
     "duration": 0.01934,
     "end_time": "2024-05-06T10:26:45.054564",
     "exception": false,
     "start_time": "2024-05-06T10:26:45.035224",
     "status": "completed"
    },
    "tags": []
   },
   "source": [
    "# BERT - Classify Spam or Not Spam"
   ]
  },
  {
   "cell_type": "markdown",
   "id": "eb46510a",
   "metadata": {
    "papermill": {
     "duration": 0.012149,
     "end_time": "2024-05-06T10:26:45.081439",
     "exception": false,
     "start_time": "2024-05-06T10:26:45.069290",
     "status": "completed"
    },
    "tags": []
   },
   "source": [
    "In this second notebook of BERT, we want to use BERT on a Classification Problem. \n",
    "\n",
    "> The first notebook, which was an introduction to BERT, can be found at [this page](https://www.kaggle.com/code/alishohadaee/dl-introduction-to-bert). "
   ]
  },
  {
   "cell_type": "code",
   "execution_count": 1,
   "id": "473f086d",
   "metadata": {
    "execution": {
     "iopub.execute_input": "2024-05-06T10:26:45.109137Z",
     "iopub.status.busy": "2024-05-06T10:26:45.108380Z",
     "iopub.status.idle": "2024-05-06T10:27:08.295419Z",
     "shell.execute_reply": "2024-05-06T10:27:08.294630Z"
    },
    "papermill": {
     "duration": 23.204159,
     "end_time": "2024-05-06T10:27:08.297782",
     "exception": false,
     "start_time": "2024-05-06T10:26:45.093623",
     "status": "completed"
    },
    "tags": []
   },
   "outputs": [
    {
     "name": "stderr",
     "output_type": "stream",
     "text": [
      "2024-05-06 10:26:50.133016: E external/local_xla/xla/stream_executor/cuda/cuda_dnn.cc:9261] Unable to register cuDNN factory: Attempting to register factory for plugin cuDNN when one has already been registered\n",
      "2024-05-06 10:26:50.133112: E external/local_xla/xla/stream_executor/cuda/cuda_fft.cc:607] Unable to register cuFFT factory: Attempting to register factory for plugin cuFFT when one has already been registered\n",
      "2024-05-06 10:26:50.387140: E external/local_xla/xla/stream_executor/cuda/cuda_blas.cc:1515] Unable to register cuBLAS factory: Attempting to register factory for plugin cuBLAS when one has already been registered\n"
     ]
    }
   ],
   "source": [
    "import pandas as pd\n",
    "import tensorflow as tf\n",
    "import tensorflow_hub as hub\n",
    "import tensorflow_text as text"
   ]
  },
  {
   "cell_type": "markdown",
   "id": "29f28fc5",
   "metadata": {
    "papermill": {
     "duration": 0.012605,
     "end_time": "2024-05-06T10:27:08.322775",
     "exception": false,
     "start_time": "2024-05-06T10:27:08.310170",
     "status": "completed"
    },
    "tags": []
   },
   "source": [
    "# 1. Data and Preprocessing"
   ]
  },
  {
   "cell_type": "code",
   "execution_count": 2,
   "id": "4f4b845b",
   "metadata": {
    "execution": {
     "iopub.execute_input": "2024-05-06T10:27:08.347040Z",
     "iopub.status.busy": "2024-05-06T10:27:08.346507Z",
     "iopub.status.idle": "2024-05-06T10:27:08.500015Z",
     "shell.execute_reply": "2024-05-06T10:27:08.498905Z"
    },
    "papermill": {
     "duration": 0.168669,
     "end_time": "2024-05-06T10:27:08.502650",
     "exception": false,
     "start_time": "2024-05-06T10:27:08.333981",
     "status": "completed"
    },
    "tags": []
   },
   "outputs": [
    {
     "data": {
      "text/html": [
       "<div>\n",
       "<style scoped>\n",
       "    .dataframe tbody tr th:only-of-type {\n",
       "        vertical-align: middle;\n",
       "    }\n",
       "\n",
       "    .dataframe tbody tr th {\n",
       "        vertical-align: top;\n",
       "    }\n",
       "\n",
       "    .dataframe thead th {\n",
       "        text-align: right;\n",
       "    }\n",
       "</style>\n",
       "<table border=\"1\" class=\"dataframe\">\n",
       "  <thead>\n",
       "    <tr style=\"text-align: right;\">\n",
       "      <th></th>\n",
       "      <th>email</th>\n",
       "      <th>label</th>\n",
       "    </tr>\n",
       "  </thead>\n",
       "  <tbody>\n",
       "    <tr>\n",
       "      <th>0</th>\n",
       "      <td>date wed NUMBER aug NUMBER NUMBER NUMBER NUMB...</td>\n",
       "      <td>0</td>\n",
       "    </tr>\n",
       "    <tr>\n",
       "      <th>1</th>\n",
       "      <td>martin a posted tassos papadopoulos the greek ...</td>\n",
       "      <td>0</td>\n",
       "    </tr>\n",
       "    <tr>\n",
       "      <th>2</th>\n",
       "      <td>man threatens explosion in moscow thursday aug...</td>\n",
       "      <td>0</td>\n",
       "    </tr>\n",
       "    <tr>\n",
       "      <th>3</th>\n",
       "      <td>klez the virus that won t die already the most...</td>\n",
       "      <td>0</td>\n",
       "    </tr>\n",
       "    <tr>\n",
       "      <th>4</th>\n",
       "      <td>in adding cream to spaghetti carbonara which ...</td>\n",
       "      <td>0</td>\n",
       "    </tr>\n",
       "  </tbody>\n",
       "</table>\n",
       "</div>"
      ],
      "text/plain": [
       "                                               email  label\n",
       "0   date wed NUMBER aug NUMBER NUMBER NUMBER NUMB...      0\n",
       "1  martin a posted tassos papadopoulos the greek ...      0\n",
       "2  man threatens explosion in moscow thursday aug...      0\n",
       "3  klez the virus that won t die already the most...      0\n",
       "4   in adding cream to spaghetti carbonara which ...      0"
      ]
     },
     "execution_count": 2,
     "metadata": {},
     "output_type": "execute_result"
    }
   ],
   "source": [
    "df = pd.read_csv(\"/kaggle/input/spam-or-not-spam-dataset/spam_or_not_spam.csv\")\n",
    "df.head(5)"
   ]
  },
  {
   "cell_type": "markdown",
   "id": "270482c0",
   "metadata": {
    "papermill": {
     "duration": 0.013224,
     "end_time": "2024-05-06T10:27:08.531012",
     "exception": false,
     "start_time": "2024-05-06T10:27:08.517788",
     "status": "completed"
    },
    "tags": []
   },
   "source": [
    "According to the dataset, 0 indicates `not spam` and 1 indicates `spam`. "
   ]
  },
  {
   "cell_type": "code",
   "execution_count": 3,
   "id": "f76bdae0",
   "metadata": {
    "execution": {
     "iopub.execute_input": "2024-05-06T10:27:08.559787Z",
     "iopub.status.busy": "2024-05-06T10:27:08.559372Z",
     "iopub.status.idle": "2024-05-06T10:27:08.582572Z",
     "shell.execute_reply": "2024-05-06T10:27:08.581477Z"
    },
    "papermill": {
     "duration": 0.040325,
     "end_time": "2024-05-06T10:27:08.584807",
     "exception": false,
     "start_time": "2024-05-06T10:27:08.544482",
     "status": "completed"
    },
    "tags": []
   },
   "outputs": [
    {
     "data": {
      "text/plain": [
       "label\n",
       "0    2500\n",
       "1     500\n",
       "Name: count, dtype: int64"
      ]
     },
     "execution_count": 3,
     "metadata": {},
     "output_type": "execute_result"
    }
   ],
   "source": [
    "df['label'].value_counts()"
   ]
  },
  {
   "cell_type": "code",
   "execution_count": 4,
   "id": "63738c9f",
   "metadata": {
    "execution": {
     "iopub.execute_input": "2024-05-06T10:27:08.610283Z",
     "iopub.status.busy": "2024-05-06T10:27:08.609987Z",
     "iopub.status.idle": "2024-05-06T10:27:08.615434Z",
     "shell.execute_reply": "2024-05-06T10:27:08.614620Z"
    },
    "papermill": {
     "duration": 0.020363,
     "end_time": "2024-05-06T10:27:08.617359",
     "exception": false,
     "start_time": "2024-05-06T10:27:08.596996",
     "status": "completed"
    },
    "tags": []
   },
   "outputs": [
    {
     "data": {
      "text/plain": [
       "0.2"
      ]
     },
     "execution_count": 4,
     "metadata": {},
     "output_type": "execute_result"
    }
   ],
   "source": [
    "500/2500"
   ]
  },
  {
   "cell_type": "markdown",
   "id": "7dd40e59",
   "metadata": {
    "papermill": {
     "duration": 0.013658,
     "end_time": "2024-05-06T10:27:08.643373",
     "exception": false,
     "start_time": "2024-05-06T10:27:08.629715",
     "status": "completed"
    },
    "tags": []
   },
   "source": [
    "20% spam, 80% Not Spam. This is a considerable imbalance between the classes. We take care of it by downsampling. In downsampling, we choose the same amount of the data from the class with higher frequency to the class with lower frequency. "
   ]
  },
  {
   "cell_type": "code",
   "execution_count": 5,
   "id": "8bb02da5",
   "metadata": {
    "execution": {
     "iopub.execute_input": "2024-05-06T10:27:08.673339Z",
     "iopub.status.busy": "2024-05-06T10:27:08.672331Z",
     "iopub.status.idle": "2024-05-06T10:27:08.686691Z",
     "shell.execute_reply": "2024-05-06T10:27:08.685655Z"
    },
    "papermill": {
     "duration": 0.031747,
     "end_time": "2024-05-06T10:27:08.689053",
     "exception": false,
     "start_time": "2024-05-06T10:27:08.657306",
     "status": "completed"
    },
    "tags": []
   },
   "outputs": [
    {
     "data": {
      "text/plain": [
       "(500, 2)"
      ]
     },
     "execution_count": 5,
     "metadata": {},
     "output_type": "execute_result"
    }
   ],
   "source": [
    "df_spam = df[df['label'] == 1]\n",
    "df_spam.shape"
   ]
  },
  {
   "cell_type": "code",
   "execution_count": 6,
   "id": "03e482aa",
   "metadata": {
    "execution": {
     "iopub.execute_input": "2024-05-06T10:27:08.717691Z",
     "iopub.status.busy": "2024-05-06T10:27:08.717048Z",
     "iopub.status.idle": "2024-05-06T10:27:08.725577Z",
     "shell.execute_reply": "2024-05-06T10:27:08.724398Z"
    },
    "papermill": {
     "duration": 0.025506,
     "end_time": "2024-05-06T10:27:08.727907",
     "exception": false,
     "start_time": "2024-05-06T10:27:08.702401",
     "status": "completed"
    },
    "tags": []
   },
   "outputs": [
    {
     "data": {
      "text/plain": [
       "(2500, 2)"
      ]
     },
     "execution_count": 6,
     "metadata": {},
     "output_type": "execute_result"
    }
   ],
   "source": [
    "df_nspam = df[df['label']==0]\n",
    "df_nspam.shape"
   ]
  },
  {
   "cell_type": "code",
   "execution_count": 7,
   "id": "4be9b237",
   "metadata": {
    "execution": {
     "iopub.execute_input": "2024-05-06T10:27:08.755585Z",
     "iopub.status.busy": "2024-05-06T10:27:08.755282Z",
     "iopub.status.idle": "2024-05-06T10:27:08.765649Z",
     "shell.execute_reply": "2024-05-06T10:27:08.764649Z"
    },
    "papermill": {
     "duration": 0.026507,
     "end_time": "2024-05-06T10:27:08.767688",
     "exception": false,
     "start_time": "2024-05-06T10:27:08.741181",
     "status": "completed"
    },
    "tags": []
   },
   "outputs": [
    {
     "data": {
      "text/plain": [
       "(500, 2)"
      ]
     },
     "execution_count": 7,
     "metadata": {},
     "output_type": "execute_result"
    }
   ],
   "source": [
    "df_nspam_downsampled = df_nspam.sample(df_spam.shape[0])\n",
    "df_nspam_downsampled.shape"
   ]
  },
  {
   "cell_type": "code",
   "execution_count": 8,
   "id": "e46735b0",
   "metadata": {
    "execution": {
     "iopub.execute_input": "2024-05-06T10:27:08.793762Z",
     "iopub.status.busy": "2024-05-06T10:27:08.793291Z",
     "iopub.status.idle": "2024-05-06T10:27:08.799618Z",
     "shell.execute_reply": "2024-05-06T10:27:08.798790Z"
    },
    "papermill": {
     "duration": 0.020962,
     "end_time": "2024-05-06T10:27:08.801462",
     "exception": false,
     "start_time": "2024-05-06T10:27:08.780500",
     "status": "completed"
    },
    "tags": []
   },
   "outputs": [
    {
     "data": {
      "text/plain": [
       "(1000, 2)"
      ]
     },
     "execution_count": 8,
     "metadata": {},
     "output_type": "execute_result"
    }
   ],
   "source": [
    "df_balanced = pd.concat([df_nspam_downsampled, df_spam])\n",
    "df_balanced.shape"
   ]
  },
  {
   "cell_type": "code",
   "execution_count": 9,
   "id": "3e779a12",
   "metadata": {
    "execution": {
     "iopub.execute_input": "2024-05-06T10:27:08.832293Z",
     "iopub.status.busy": "2024-05-06T10:27:08.831369Z",
     "iopub.status.idle": "2024-05-06T10:27:08.840376Z",
     "shell.execute_reply": "2024-05-06T10:27:08.839369Z"
    },
    "papermill": {
     "duration": 0.027277,
     "end_time": "2024-05-06T10:27:08.842765",
     "exception": false,
     "start_time": "2024-05-06T10:27:08.815488",
     "status": "completed"
    },
    "tags": []
   },
   "outputs": [
    {
     "data": {
      "text/plain": [
       "label\n",
       "0    500\n",
       "1    500\n",
       "Name: count, dtype: int64"
      ]
     },
     "execution_count": 9,
     "metadata": {},
     "output_type": "execute_result"
    }
   ],
   "source": [
    "df_balanced['label'].value_counts()"
   ]
  },
  {
   "cell_type": "markdown",
   "id": "d890d725",
   "metadata": {
    "papermill": {
     "duration": 0.013291,
     "end_time": "2024-05-06T10:27:08.870955",
     "exception": false,
     "start_time": "2024-05-06T10:27:08.857664",
     "status": "completed"
    },
    "tags": []
   },
   "source": [
    "# 2. Splitting dataset"
   ]
  },
  {
   "cell_type": "code",
   "execution_count": 10,
   "id": "b84bd40d",
   "metadata": {
    "execution": {
     "iopub.execute_input": "2024-05-06T10:27:08.901570Z",
     "iopub.status.busy": "2024-05-06T10:27:08.900899Z",
     "iopub.status.idle": "2024-05-06T10:27:10.364024Z",
     "shell.execute_reply": "2024-05-06T10:27:10.363074Z"
    },
    "papermill": {
     "duration": 1.481444,
     "end_time": "2024-05-06T10:27:10.366581",
     "exception": false,
     "start_time": "2024-05-06T10:27:08.885137",
     "status": "completed"
    },
    "tags": []
   },
   "outputs": [],
   "source": [
    "from sklearn.model_selection import train_test_split\n",
    "\n",
    "X = df_balanced['email']\n",
    "y = df_balanced['label']\n",
    "\n",
    "X_train, X_test, y_train, y_test = train_test_split(X, y, stratify=y)"
   ]
  },
  {
   "cell_type": "code",
   "execution_count": 11,
   "id": "1cc6bddb",
   "metadata": {
    "execution": {
     "iopub.execute_input": "2024-05-06T10:27:10.395759Z",
     "iopub.status.busy": "2024-05-06T10:27:10.395446Z",
     "iopub.status.idle": "2024-05-06T10:27:10.402451Z",
     "shell.execute_reply": "2024-05-06T10:27:10.401539Z"
    },
    "papermill": {
     "duration": 0.023508,
     "end_time": "2024-05-06T10:27:10.404761",
     "exception": false,
     "start_time": "2024-05-06T10:27:10.381253",
     "status": "completed"
    },
    "scrolled": true,
    "tags": []
   },
   "outputs": [
    {
     "data": {
      "text/plain": [
       "2765     don t wait refinance now take advantage of th...\n",
       "1842    url URL date NUMBER NUMBER NUMBER NUMBER NUMBE...\n",
       "712      and say hello to the cool oooo this is going ...\n",
       "996      on tue NUMBER sep NUMBER NUMBER NUMBER NUMBER...\n",
       "Name: email, dtype: object"
      ]
     },
     "execution_count": 11,
     "metadata": {},
     "output_type": "execute_result"
    }
   ],
   "source": [
    "X_train.head(4)"
   ]
  },
  {
   "cell_type": "markdown",
   "id": "c193217b",
   "metadata": {
    "papermill": {
     "duration": 0.013611,
     "end_time": "2024-05-06T10:27:10.432216",
     "exception": false,
     "start_time": "2024-05-06T10:27:10.418605",
     "status": "completed"
    },
    "tags": []
   },
   "source": [
    "# 3. BERT Initialization\n",
    "We do the following as we described it in [previous notebook](https://www.kaggle.com/code/alishohadaee/dl-introduction-to-bert). "
   ]
  },
  {
   "cell_type": "code",
   "execution_count": 12,
   "id": "107c8c66",
   "metadata": {
    "execution": {
     "iopub.execute_input": "2024-05-06T10:27:10.463896Z",
     "iopub.status.busy": "2024-05-06T10:27:10.463534Z",
     "iopub.status.idle": "2024-05-06T10:27:29.907522Z",
     "shell.execute_reply": "2024-05-06T10:27:29.906736Z"
    },
    "papermill": {
     "duration": 19.462484,
     "end_time": "2024-05-06T10:27:29.909873",
     "exception": false,
     "start_time": "2024-05-06T10:27:10.447389",
     "status": "completed"
    },
    "tags": []
   },
   "outputs": [
    {
     "name": "stderr",
     "output_type": "stream",
     "text": [
      "Attaching model 'tensorflow/bert/tensorflow2/en-uncased-preprocess/3' to your Kaggle notebook...\n",
      "Attaching model 'tensorflow/bert/tensorflow2/en-uncased-l-12-h-768-a-12/4' to your Kaggle notebook...\n"
     ]
    }
   ],
   "source": [
    "bert_preprocess = hub.KerasLayer(\"https://kaggle.com/models/tensorflow/bert/TensorFlow2/en-uncased-preprocess/3\")\n",
    "bert_encoder = hub.KerasLayer(\"https://www.kaggle.com/models/tensorflow/bert/TensorFlow2/en-uncased-l-12-h-768-a-12/4\")"
   ]
  },
  {
   "cell_type": "markdown",
   "id": "ddd59724",
   "metadata": {
    "papermill": {
     "duration": 0.013307,
     "end_time": "2024-05-06T10:27:29.936291",
     "exception": false,
     "start_time": "2024-05-06T10:27:29.922984",
     "status": "completed"
    },
    "tags": []
   },
   "source": [
    "As described before, the `pooled_output` value is used for classification problem. That's why we return it in the next defined function. "
   ]
  },
  {
   "cell_type": "code",
   "execution_count": 13,
   "id": "2cb48e35",
   "metadata": {
    "execution": {
     "iopub.execute_input": "2024-05-06T10:27:29.966655Z",
     "iopub.status.busy": "2024-05-06T10:27:29.966244Z",
     "iopub.status.idle": "2024-05-06T10:27:33.772001Z",
     "shell.execute_reply": "2024-05-06T10:27:33.770979Z"
    },
    "papermill": {
     "duration": 3.825094,
     "end_time": "2024-05-06T10:27:33.774975",
     "exception": false,
     "start_time": "2024-05-06T10:27:29.949881",
     "status": "completed"
    },
    "scrolled": true,
    "tags": []
   },
   "outputs": [
    {
     "data": {
      "text/plain": [
       "<tf.Tensor: shape=(2, 768), dtype=float32, numpy=\n",
       "array([[-0.7468495 , -0.39978012, -0.7962678 , ..., -0.6996817 ,\n",
       "        -0.61443937,  0.7623512 ],\n",
       "       [-0.81543624, -0.36400348, -0.8609254 , ..., -0.8127121 ,\n",
       "        -0.6290068 ,  0.889372  ]], dtype=float32)>"
      ]
     },
     "execution_count": 13,
     "metadata": {},
     "output_type": "execute_result"
    }
   ],
   "source": [
    "def get_sentence_embeding(sentences):\n",
    "    preprocessed_text = bert_preprocess(sentences)\n",
    "    return bert_encoder(preprocessed_text)['pooled_output']\n",
    "\n",
    "# Example\n",
    "get_sentence_embeding([\n",
    "    \"Click and get thousands of money\", \n",
    "    \"Hey Ali Shohadaee, are you comming tommorow for festival?\"]\n",
    "    )"
   ]
  },
  {
   "cell_type": "markdown",
   "id": "6a741344",
   "metadata": {
    "papermill": {
     "duration": 0.015391,
     "end_time": "2024-05-06T10:27:33.805386",
     "exception": false,
     "start_time": "2024-05-06T10:27:33.789995",
     "status": "completed"
    },
    "tags": []
   },
   "source": [
    "#### Checking similarites \n",
    "In the next cell we define some random words, and then we calculate their similarities."
   ]
  },
  {
   "cell_type": "code",
   "execution_count": 14,
   "id": "e0e5be3a",
   "metadata": {
    "execution": {
     "iopub.execute_input": "2024-05-06T10:27:33.837388Z",
     "iopub.status.busy": "2024-05-06T10:27:33.836973Z",
     "iopub.status.idle": "2024-05-06T10:27:34.660490Z",
     "shell.execute_reply": "2024-05-06T10:27:34.659297Z"
    },
    "papermill": {
     "duration": 0.843931,
     "end_time": "2024-05-06T10:27:34.664503",
     "exception": false,
     "start_time": "2024-05-06T10:27:33.820572",
     "status": "completed"
    },
    "tags": []
   },
   "outputs": [],
   "source": [
    "words = get_sentence_embeding([\n",
    "    \"MIlk\", \n",
    "    \"Cucumbers\",\n",
    "    \"tree\",\n",
    "    \"University of Bologna\",\n",
    "    \"Ali Shohadaee\",\n",
    "    \"Deep Learning\",\n",
    "    \"Artificial Intelligence\",\n",
    "    \"University of Mazandaran\",\n",
    "    \"Machine Learning\"\n",
    "    ])"
   ]
  },
  {
   "cell_type": "code",
   "execution_count": 15,
   "id": "5cb70fd4",
   "metadata": {
    "execution": {
     "iopub.execute_input": "2024-05-06T10:27:34.698578Z",
     "iopub.status.busy": "2024-05-06T10:27:34.698224Z",
     "iopub.status.idle": "2024-05-06T10:27:34.768817Z",
     "shell.execute_reply": "2024-05-06T10:27:34.767707Z"
    },
    "papermill": {
     "duration": 0.088528,
     "end_time": "2024-05-06T10:27:34.771500",
     "exception": false,
     "start_time": "2024-05-06T10:27:34.682972",
     "status": "completed"
    },
    "tags": []
   },
   "outputs": [
    {
     "data": {
      "text/plain": [
       "array([[0.97753453]], dtype=float32)"
      ]
     },
     "execution_count": 15,
     "metadata": {},
     "output_type": "execute_result"
    }
   ],
   "source": [
    "from sklearn.metrics.pairwise import cosine_similarity\n",
    "cosine_similarity([words[3]],[words[7]])"
   ]
  },
  {
   "cell_type": "markdown",
   "id": "0502cb9c",
   "metadata": {
    "papermill": {
     "duration": 0.056071,
     "end_time": "2024-05-06T10:27:34.844333",
     "exception": false,
     "start_time": "2024-05-06T10:27:34.788262",
     "status": "completed"
    },
    "tags": []
   },
   "source": [
    "Values near to 1 means they are similar and near to 0 means they are very different. As the output suggests, the two universities are very similar. "
   ]
  },
  {
   "cell_type": "markdown",
   "id": "7057e2a0",
   "metadata": {
    "papermill": {
     "duration": 0.015234,
     "end_time": "2024-05-06T10:27:34.873779",
     "exception": false,
     "start_time": "2024-05-06T10:27:34.858545",
     "status": "completed"
    },
    "tags": []
   },
   "source": [
    "# 4. BERT Model Building \n",
    "In deep learning, particularly with frameworks like TensorFlow and Keras, model building can generally be categorized into two styles: **Sequential** and **Functional**. These styles provide different methods for constructing neural network architectures, offering flexibility and control suited to specific needs.\n",
    "\n",
    "### Sequential Model Building\n",
    "\n",
    "The **Sequential** model is the simplest way to assemble layers in a neural network. It is designed for creating models with a single input and output, where layers are stacked sequentially, each feeding directly into the next.\n",
    "\n",
    "- **Advantages**:\n",
    "  - **Simplicity**: The sequential model is very straightforward to use and understand. It is perfect for beginners or when working with standard layer architectures that involve straightforward data flows.\n",
    "  - **Ease of use**: With the sequential model, you can easily stack layers using a list or by repeatedly calling the `add()` method on the model.\n",
    "\n",
    "- **Example** (Using TensorFlow/Keras):\n",
    "  ```python\n",
    "  from tensorflow.keras.models import Sequential\n",
    "  from tensorflow.keras.layers import Dense, Flatten\n",
    "\n",
    "  model = Sequential([\n",
    "      Flatten(input_shape=(28, 28)),  # Converts input shape of 28x28 into a 1D array\n",
    "      Dense(128, activation='relu'),\n",
    "      Dense(10, activation='softmax')\n",
    "  ])\n",
    "  ```\n",
    "\n",
    "### Functional Model Building\n",
    "\n",
    "The **Functional** model offers more flexibility and is used for creating models that might have non-linear topology, shared layers, and multiple inputs or outputs. This approach defines a graph of layers, which means you can connect any layer to any other layer instead of just the next one in a sequence.\n",
    "\n",
    "- **Advantages**:\n",
    "  - **Flexibility**: The functional API can handle models with multiple inputs and outputs, which is difficult with the sequential model.\n",
    "  - **Complex Architectures**: It supports complex architectures like multi-output models, directed acyclic graphs, or models with shared layers.\n",
    "\n",
    "- **Example** (Using TensorFlow/Keras):\n",
    "  ```python\n",
    "  from tensorflow.keras.layers import Input, Dense, Concatenate\n",
    "  from tensorflow.keras.models import Model\n",
    "\n",
    "  input_a = Input(shape=(32,))\n",
    "  input_b = Input(shape=(32,))\n",
    "\n",
    "  dense_1 = Dense(64, activation='relu')(input_a)\n",
    "  dense_2 = Dense(64, activation='relu')(input_b)\n",
    "  concat = Concatenate()([dense_1, dense_2])\n",
    "  output = Dense(1, activation='sigmoid')(concat)\n",
    "\n",
    "  model = Model(inputs=[input_a, input_b], outputs=output)\n",
    "  ```\n",
    "\n",
    "### Choosing Between Sequential and Functional\n",
    "\n",
    "- **Use Sequential** when:\n",
    "  - Your model has a single input and output.\n",
    "  - Your model is a linear stack of layers.\n",
    "\n",
    "\n",
    "- **Use Functional** when:\n",
    "  - Your model has multiple inputs or outputs.\n",
    "  - Any of your layers has multiple inputs or outputs.\n",
    "  - You need to do layer sharing.\n",
    "  - You want to create complex topologies like multi-branch models or residual connections.\n",
    "\n",
    "The choice between sequential and functional APIs ultimately depends on the complexity of the model you're trying to build and the specific requirements of your project. For many standard tasks, the sequential model is sufficient and easier to manage, while the functional API is excellent for more sophisticated, custom architectures."
   ]
  },
  {
   "cell_type": "markdown",
   "id": "d41bb7bc",
   "metadata": {
    "papermill": {
     "duration": 0.014983,
     "end_time": "2024-05-06T10:27:34.904360",
     "exception": false,
     "start_time": "2024-05-06T10:27:34.889377",
     "status": "completed"
    },
    "tags": []
   },
   "source": [
    "> Due to inconsistency that currently, 6th of May, exists between Keras V3.x and Tensorflow Hub, we install an older version of Tensorflow which has keras version 2."
   ]
  },
  {
   "cell_type": "code",
   "execution_count": 16,
   "id": "34a888b5",
   "metadata": {
    "collapsed": true,
    "execution": {
     "iopub.execute_input": "2024-05-06T10:27:34.937167Z",
     "iopub.status.busy": "2024-05-06T10:27:34.936399Z",
     "iopub.status.idle": "2024-05-06T10:27:54.194352Z",
     "shell.execute_reply": "2024-05-06T10:27:54.193223Z"
    },
    "jupyter": {
     "outputs_hidden": true
    },
    "papermill": {
     "duration": 19.277306,
     "end_time": "2024-05-06T10:27:54.196854",
     "exception": false,
     "start_time": "2024-05-06T10:27:34.919548",
     "status": "completed"
    },
    "tags": []
   },
   "outputs": [
    {
     "name": "stdout",
     "output_type": "stream",
     "text": [
      "Requirement already satisfied: tf_keras in /opt/conda/lib/python3.10/site-packages (2.15.1)\r\n",
      "Requirement already satisfied: tensorflow<2.16,>=2.15 in /opt/conda/lib/python3.10/site-packages (from tf_keras) (2.15.0)\r\n",
      "Requirement already satisfied: absl-py>=1.0.0 in /opt/conda/lib/python3.10/site-packages (from tensorflow<2.16,>=2.15->tf_keras) (1.4.0)\r\n",
      "Requirement already satisfied: astunparse>=1.6.0 in /opt/conda/lib/python3.10/site-packages (from tensorflow<2.16,>=2.15->tf_keras) (1.6.3)\r\n",
      "Requirement already satisfied: flatbuffers>=23.5.26 in /opt/conda/lib/python3.10/site-packages (from tensorflow<2.16,>=2.15->tf_keras) (23.5.26)\r\n",
      "Requirement already satisfied: gast!=0.5.0,!=0.5.1,!=0.5.2,>=0.2.1 in /opt/conda/lib/python3.10/site-packages (from tensorflow<2.16,>=2.15->tf_keras) (0.5.4)\r\n",
      "Requirement already satisfied: google-pasta>=0.1.1 in /opt/conda/lib/python3.10/site-packages (from tensorflow<2.16,>=2.15->tf_keras) (0.2.0)\r\n",
      "Requirement already satisfied: h5py>=2.9.0 in /opt/conda/lib/python3.10/site-packages (from tensorflow<2.16,>=2.15->tf_keras) (3.10.0)\r\n",
      "Requirement already satisfied: libclang>=13.0.0 in /opt/conda/lib/python3.10/site-packages (from tensorflow<2.16,>=2.15->tf_keras) (16.0.6)\r\n",
      "Requirement already satisfied: ml-dtypes~=0.2.0 in /opt/conda/lib/python3.10/site-packages (from tensorflow<2.16,>=2.15->tf_keras) (0.2.0)\r\n",
      "Requirement already satisfied: numpy<2.0.0,>=1.23.5 in /opt/conda/lib/python3.10/site-packages (from tensorflow<2.16,>=2.15->tf_keras) (1.26.4)\r\n",
      "Requirement already satisfied: opt-einsum>=2.3.2 in /opt/conda/lib/python3.10/site-packages (from tensorflow<2.16,>=2.15->tf_keras) (3.3.0)\r\n",
      "Requirement already satisfied: packaging in /opt/conda/lib/python3.10/site-packages (from tensorflow<2.16,>=2.15->tf_keras) (21.3)\r\n",
      "Requirement already satisfied: protobuf!=4.21.0,!=4.21.1,!=4.21.2,!=4.21.3,!=4.21.4,!=4.21.5,<5.0.0dev,>=3.20.3 in /opt/conda/lib/python3.10/site-packages (from tensorflow<2.16,>=2.15->tf_keras) (3.20.3)\r\n",
      "Requirement already satisfied: setuptools in /opt/conda/lib/python3.10/site-packages (from tensorflow<2.16,>=2.15->tf_keras) (69.0.3)\r\n",
      "Requirement already satisfied: six>=1.12.0 in /opt/conda/lib/python3.10/site-packages (from tensorflow<2.16,>=2.15->tf_keras) (1.16.0)\r\n",
      "Requirement already satisfied: termcolor>=1.1.0 in /opt/conda/lib/python3.10/site-packages (from tensorflow<2.16,>=2.15->tf_keras) (2.4.0)\r\n",
      "Requirement already satisfied: typing-extensions>=3.6.6 in /opt/conda/lib/python3.10/site-packages (from tensorflow<2.16,>=2.15->tf_keras) (4.9.0)\r\n",
      "Requirement already satisfied: wrapt<1.15,>=1.11.0 in /opt/conda/lib/python3.10/site-packages (from tensorflow<2.16,>=2.15->tf_keras) (1.14.1)\r\n",
      "Requirement already satisfied: tensorflow-io-gcs-filesystem>=0.23.1 in /opt/conda/lib/python3.10/site-packages (from tensorflow<2.16,>=2.15->tf_keras) (0.35.0)\r\n",
      "Requirement already satisfied: grpcio<2.0,>=1.24.3 in /opt/conda/lib/python3.10/site-packages (from tensorflow<2.16,>=2.15->tf_keras) (1.51.1)\r\n",
      "Requirement already satisfied: tensorboard<2.16,>=2.15 in /opt/conda/lib/python3.10/site-packages (from tensorflow<2.16,>=2.15->tf_keras) (2.15.1)\r\n",
      "Requirement already satisfied: tensorflow-estimator<2.16,>=2.15.0 in /opt/conda/lib/python3.10/site-packages (from tensorflow<2.16,>=2.15->tf_keras) (2.15.0)\r\n",
      "Collecting keras<2.16,>=2.15.0 (from tensorflow<2.16,>=2.15->tf_keras)\r\n",
      "  Downloading keras-2.15.0-py3-none-any.whl.metadata (2.4 kB)\r\n",
      "Requirement already satisfied: wheel<1.0,>=0.23.0 in /opt/conda/lib/python3.10/site-packages (from astunparse>=1.6.0->tensorflow<2.16,>=2.15->tf_keras) (0.42.0)\r\n",
      "Requirement already satisfied: google-auth<3,>=1.6.3 in /opt/conda/lib/python3.10/site-packages (from tensorboard<2.16,>=2.15->tensorflow<2.16,>=2.15->tf_keras) (2.26.1)\r\n",
      "Requirement already satisfied: google-auth-oauthlib<2,>=0.5 in /opt/conda/lib/python3.10/site-packages (from tensorboard<2.16,>=2.15->tensorflow<2.16,>=2.15->tf_keras) (1.2.0)\r\n",
      "Requirement already satisfied: markdown>=2.6.8 in /opt/conda/lib/python3.10/site-packages (from tensorboard<2.16,>=2.15->tensorflow<2.16,>=2.15->tf_keras) (3.5.2)\r\n",
      "Requirement already satisfied: requests<3,>=2.21.0 in /opt/conda/lib/python3.10/site-packages (from tensorboard<2.16,>=2.15->tensorflow<2.16,>=2.15->tf_keras) (2.31.0)\r\n",
      "Requirement already satisfied: tensorboard-data-server<0.8.0,>=0.7.0 in /opt/conda/lib/python3.10/site-packages (from tensorboard<2.16,>=2.15->tensorflow<2.16,>=2.15->tf_keras) (0.7.2)\r\n",
      "Requirement already satisfied: werkzeug>=1.0.1 in /opt/conda/lib/python3.10/site-packages (from tensorboard<2.16,>=2.15->tensorflow<2.16,>=2.15->tf_keras) (3.0.2)\r\n",
      "Requirement already satisfied: pyparsing!=3.0.5,>=2.0.2 in /opt/conda/lib/python3.10/site-packages (from packaging->tensorflow<2.16,>=2.15->tf_keras) (3.1.1)\r\n",
      "Requirement already satisfied: cachetools<6.0,>=2.0.0 in /opt/conda/lib/python3.10/site-packages (from google-auth<3,>=1.6.3->tensorboard<2.16,>=2.15->tensorflow<2.16,>=2.15->tf_keras) (4.2.4)\r\n",
      "Requirement already satisfied: pyasn1-modules>=0.2.1 in /opt/conda/lib/python3.10/site-packages (from google-auth<3,>=1.6.3->tensorboard<2.16,>=2.15->tensorflow<2.16,>=2.15->tf_keras) (0.3.0)\r\n",
      "Requirement already satisfied: rsa<5,>=3.1.4 in /opt/conda/lib/python3.10/site-packages (from google-auth<3,>=1.6.3->tensorboard<2.16,>=2.15->tensorflow<2.16,>=2.15->tf_keras) (4.9)\r\n",
      "Requirement already satisfied: requests-oauthlib>=0.7.0 in /opt/conda/lib/python3.10/site-packages (from google-auth-oauthlib<2,>=0.5->tensorboard<2.16,>=2.15->tensorflow<2.16,>=2.15->tf_keras) (1.3.1)\r\n",
      "Requirement already satisfied: charset-normalizer<4,>=2 in /opt/conda/lib/python3.10/site-packages (from requests<3,>=2.21.0->tensorboard<2.16,>=2.15->tensorflow<2.16,>=2.15->tf_keras) (3.3.2)\r\n",
      "Requirement already satisfied: idna<4,>=2.5 in /opt/conda/lib/python3.10/site-packages (from requests<3,>=2.21.0->tensorboard<2.16,>=2.15->tensorflow<2.16,>=2.15->tf_keras) (3.6)\r\n",
      "Requirement already satisfied: urllib3<3,>=1.21.1 in /opt/conda/lib/python3.10/site-packages (from requests<3,>=2.21.0->tensorboard<2.16,>=2.15->tensorflow<2.16,>=2.15->tf_keras) (1.26.18)\r\n",
      "Requirement already satisfied: certifi>=2017.4.17 in /opt/conda/lib/python3.10/site-packages (from requests<3,>=2.21.0->tensorboard<2.16,>=2.15->tensorflow<2.16,>=2.15->tf_keras) (2024.2.2)\r\n",
      "Requirement already satisfied: MarkupSafe>=2.1.1 in /opt/conda/lib/python3.10/site-packages (from werkzeug>=1.0.1->tensorboard<2.16,>=2.15->tensorflow<2.16,>=2.15->tf_keras) (2.1.3)\r\n",
      "Requirement already satisfied: pyasn1<0.6.0,>=0.4.6 in /opt/conda/lib/python3.10/site-packages (from pyasn1-modules>=0.2.1->google-auth<3,>=1.6.3->tensorboard<2.16,>=2.15->tensorflow<2.16,>=2.15->tf_keras) (0.5.1)\r\n",
      "Requirement already satisfied: oauthlib>=3.0.0 in /opt/conda/lib/python3.10/site-packages (from requests-oauthlib>=0.7.0->google-auth-oauthlib<2,>=0.5->tensorboard<2.16,>=2.15->tensorflow<2.16,>=2.15->tf_keras) (3.2.2)\r\n",
      "Downloading keras-2.15.0-py3-none-any.whl (1.7 MB)\r\n",
      "\u001b[2K   \u001b[90m━━━━━━━━━━━━━━━━━━━━━━━━━━━━━━━━━━━━━━━━\u001b[0m \u001b[32m1.7/1.7 MB\u001b[0m \u001b[31m6.8 MB/s\u001b[0m eta \u001b[36m0:00:00\u001b[0m\r\n",
      "\u001b[?25hInstalling collected packages: keras\r\n",
      "  Attempting uninstall: keras\r\n",
      "    Found existing installation: keras 3.2.1\r\n",
      "    Uninstalling keras-3.2.1:\r\n",
      "      Successfully uninstalled keras-3.2.1\r\n",
      "\u001b[31mERROR: pip's dependency resolver does not currently take into account all the packages that are installed. This behaviour is the source of the following dependency conflicts.\r\n",
      "tensorflow-decision-forests 1.8.1 requires wurlitzer, which is not installed.\u001b[0m\u001b[31m\r\n",
      "\u001b[0mSuccessfully installed keras-2.15.0\r\n"
     ]
    }
   ],
   "source": [
    "!pip install tf_keras"
   ]
  },
  {
   "cell_type": "code",
   "execution_count": 17,
   "id": "1862eb75",
   "metadata": {
    "execution": {
     "iopub.execute_input": "2024-05-06T10:27:54.233933Z",
     "iopub.status.busy": "2024-05-06T10:27:54.233461Z",
     "iopub.status.idle": "2024-05-06T10:27:54.238762Z",
     "shell.execute_reply": "2024-05-06T10:27:54.237732Z"
    },
    "papermill": {
     "duration": 0.026489,
     "end_time": "2024-05-06T10:27:54.240973",
     "exception": false,
     "start_time": "2024-05-06T10:27:54.214484",
     "status": "completed"
    },
    "tags": []
   },
   "outputs": [],
   "source": [
    "import tf_keras as tfk"
   ]
  },
  {
   "cell_type": "code",
   "execution_count": 18,
   "id": "465fc773",
   "metadata": {
    "execution": {
     "iopub.execute_input": "2024-05-06T10:27:54.276620Z",
     "iopub.status.busy": "2024-05-06T10:27:54.275945Z",
     "iopub.status.idle": "2024-05-06T10:27:55.183199Z",
     "shell.execute_reply": "2024-05-06T10:27:55.182195Z"
    },
    "papermill": {
     "duration": 0.927725,
     "end_time": "2024-05-06T10:27:55.185562",
     "exception": false,
     "start_time": "2024-05-06T10:27:54.257837",
     "status": "completed"
    },
    "tags": []
   },
   "outputs": [],
   "source": [
    "# Bert layers\n",
    "text_input = tfk.layers.Input(shape=(), dtype=tf.string, name='text')\n",
    "preprocessed_text = bert_preprocess(text_input)\n",
    "outputs = bert_encoder(preprocessed_text)\n",
    "\n",
    "# Neural network layers\n",
    "l = tfk.layers.Dropout(0.1, name=\"dropout\")(outputs['pooled_output'])\n",
    "l = tfk.layers.Dense(1, activation='sigmoid', name=\"output\")(l)\n",
    "\n",
    "# Use inputs and outputs to construct a final model\n",
    "model = tfk.Model(inputs=[text_input], outputs = [l])\n",
    "\n",
    "model.compile(optimizer='adam', loss='binary_crossentropy', metrics=['accuracy'])\n"
   ]
  },
  {
   "cell_type": "code",
   "execution_count": 19,
   "id": "1ba38253",
   "metadata": {
    "execution": {
     "iopub.execute_input": "2024-05-06T10:27:55.222252Z",
     "iopub.status.busy": "2024-05-06T10:27:55.221890Z",
     "iopub.status.idle": "2024-05-06T10:27:55.276003Z",
     "shell.execute_reply": "2024-05-06T10:27:55.274967Z"
    },
    "papermill": {
     "duration": 0.07471,
     "end_time": "2024-05-06T10:27:55.278186",
     "exception": false,
     "start_time": "2024-05-06T10:27:55.203476",
     "status": "completed"
    },
    "tags": []
   },
   "outputs": [
    {
     "name": "stdout",
     "output_type": "stream",
     "text": [
      "Model: \"model\"\n",
      "__________________________________________________________________________________________________\n",
      " Layer (type)                Output Shape                 Param #   Connected to                  \n",
      "==================================================================================================\n",
      " text (InputLayer)           [(None,)]                    0         []                            \n",
      "                                                                                                  \n",
      " keras_layer (KerasLayer)    {'input_mask': (None, 128)   0         ['text[0][0]']                \n",
      "                             , 'input_word_ids': (None,                                           \n",
      "                              128),                                                               \n",
      "                              'input_type_ids': (None,                                            \n",
      "                             128)}                                                                \n",
      "                                                                                                  \n",
      " keras_layer_1 (KerasLayer)  {'sequence_output': (None,   1094822   ['keras_layer[0][0]',         \n",
      "                              128, 768),                  41         'keras_layer[0][1]',         \n",
      "                              'encoder_outputs': [(None              'keras_layer[0][2]']         \n",
      "                             , 128, 768),                                                         \n",
      "                              (None, 128, 768),                                                   \n",
      "                              (None, 128, 768),                                                   \n",
      "                              (None, 128, 768),                                                   \n",
      "                              (None, 128, 768),                                                   \n",
      "                              (None, 128, 768),                                                   \n",
      "                              (None, 128, 768),                                                   \n",
      "                              (None, 128, 768),                                                   \n",
      "                              (None, 128, 768),                                                   \n",
      "                              (None, 128, 768),                                                   \n",
      "                              (None, 128, 768),                                                   \n",
      "                              (None, 128, 768)],                                                  \n",
      "                              'pooled_output': (None, 7                                           \n",
      "                             68),                                                                 \n",
      "                              'default': (None, 768)}                                             \n",
      "                                                                                                  \n",
      " dropout (Dropout)           (None, 768)                  0         ['keras_layer_1[0][13]']      \n",
      "                                                                                                  \n",
      " output (Dense)              (None, 1)                    769       ['dropout[0][0]']             \n",
      "                                                                                                  \n",
      "==================================================================================================\n",
      "Total params: 109483010 (417.64 MB)\n",
      "Trainable params: 769 (3.00 KB)\n",
      "Non-trainable params: 109482241 (417.64 MB)\n",
      "__________________________________________________________________________________________________\n"
     ]
    }
   ],
   "source": [
    "model.summary()"
   ]
  },
  {
   "cell_type": "code",
   "execution_count": 20,
   "id": "40f8276e",
   "metadata": {
    "execution": {
     "iopub.execute_input": "2024-05-06T10:27:55.320078Z",
     "iopub.status.busy": "2024-05-06T10:27:55.319380Z",
     "iopub.status.idle": "2024-05-06T10:27:55.346683Z",
     "shell.execute_reply": "2024-05-06T10:27:55.345709Z"
    },
    "papermill": {
     "duration": 0.051056,
     "end_time": "2024-05-06T10:27:55.348764",
     "exception": false,
     "start_time": "2024-05-06T10:27:55.297708",
     "status": "completed"
    },
    "tags": []
   },
   "outputs": [],
   "source": [
    "METRICS = [\n",
    "      tfk.metrics.BinaryAccuracy(name='accuracy'),\n",
    "      tfk.metrics.Precision(name='precision'),\n",
    "      tfk.metrics.Recall(name='recall')\n",
    "]\n",
    "\n",
    "model.compile(optimizer='adam',\n",
    "              loss='binary_crossentropy',\n",
    "              metrics=METRICS)"
   ]
  },
  {
   "cell_type": "markdown",
   "id": "f39d253c",
   "metadata": {
    "papermill": {
     "duration": 0.018978,
     "end_time": "2024-05-06T10:27:55.386650",
     "exception": false,
     "start_time": "2024-05-06T10:27:55.367672",
     "status": "completed"
    },
    "tags": []
   },
   "source": [
    "# 5. Training the Model"
   ]
  },
  {
   "cell_type": "markdown",
   "id": "6ae5ae6c",
   "metadata": {
    "papermill": {
     "duration": 0.020727,
     "end_time": "2024-05-06T10:27:55.425662",
     "exception": false,
     "start_time": "2024-05-06T10:27:55.404935",
     "status": "completed"
    },
    "tags": []
   },
   "source": [
    "Before that, the data needs to be converted. If you remember and noticed, the input layer of the network is configured for `dtype=tf.string`, so it expects the input data to be string. Hence, we change the type of `Xtrain` in the following:"
   ]
  },
  {
   "cell_type": "code",
   "execution_count": 21,
   "id": "6567e630",
   "metadata": {
    "execution": {
     "iopub.execute_input": "2024-05-06T10:27:55.470574Z",
     "iopub.status.busy": "2024-05-06T10:27:55.470141Z",
     "iopub.status.idle": "2024-05-06T10:27:55.474794Z",
     "shell.execute_reply": "2024-05-06T10:27:55.473752Z"
    },
    "papermill": {
     "duration": 0.029548,
     "end_time": "2024-05-06T10:27:55.477086",
     "exception": false,
     "start_time": "2024-05-06T10:27:55.447538",
     "status": "completed"
    },
    "tags": []
   },
   "outputs": [],
   "source": [
    "import numpy as np"
   ]
  },
  {
   "cell_type": "code",
   "execution_count": 22,
   "id": "0353ce34",
   "metadata": {
    "execution": {
     "iopub.execute_input": "2024-05-06T10:27:55.519843Z",
     "iopub.status.busy": "2024-05-06T10:27:55.519473Z",
     "iopub.status.idle": "2024-05-06T10:27:55.947833Z",
     "shell.execute_reply": "2024-05-06T10:27:55.946746Z"
    },
    "papermill": {
     "duration": 0.451194,
     "end_time": "2024-05-06T10:27:55.949738",
     "exception": false,
     "start_time": "2024-05-06T10:27:55.498544",
     "status": "completed"
    },
    "tags": []
   },
   "outputs": [
    {
     "name": "stdout",
     "output_type": "stream",
     "text": [
      "X_train data type: object\n",
      "y_train data type: int64\n",
      "y_train new data type: float32\n",
      "X_train new data type: <U200408\n",
      "Shape of y_train before: (750,)\n",
      "Shape of y_train after: (750, 1)\n"
     ]
    }
   ],
   "source": [
    "# Check data types\n",
    "print(\"X_train data type:\", X_train.dtype)\n",
    "print(\"y_train data type:\", y_train.dtype)\n",
    "\n",
    "# Convert y_train to float32 if necessary\n",
    "X_train = np.array(X_train, dtype=str)\n",
    "y_train = y_train.astype('float32')\n",
    "\n",
    "# Verify the conversion\n",
    "print(\"y_train new data type:\", y_train.dtype)\n",
    "print(\"X_train new data type:\", X_train.dtype)\n",
    "\n",
    "# Changing the shape of y_train - Not Mandatory\n",
    "print(\"Shape of y_train before:\", y_train.shape)\n",
    "y_train = np.expand_dims(y_train, axis=-1)  # Reshape to (num_samples, 1) if necessary\n",
    "print(\"Shape of y_train after:\", y_train.shape)"
   ]
  },
  {
   "cell_type": "code",
   "execution_count": 23,
   "id": "1c49f1b2",
   "metadata": {
    "execution": {
     "iopub.execute_input": "2024-05-06T10:27:55.988709Z",
     "iopub.status.busy": "2024-05-06T10:27:55.988335Z",
     "iopub.status.idle": "2024-05-06T10:30:01.758593Z",
     "shell.execute_reply": "2024-05-06T10:30:01.757483Z"
    },
    "papermill": {
     "duration": 125.792303,
     "end_time": "2024-05-06T10:30:01.760699",
     "exception": false,
     "start_time": "2024-05-06T10:27:55.968396",
     "status": "completed"
    },
    "tags": []
   },
   "outputs": [
    {
     "name": "stdout",
     "output_type": "stream",
     "text": [
      "Epoch 1/10\n",
      " 1/24 [>.............................] - ETA: 13:13 - loss: 0.7232 - accuracy: 0.4062 - precision: 0.4444 - recall: 0.7500"
     ]
    },
    {
     "name": "stderr",
     "output_type": "stream",
     "text": [
      "WARNING: All log messages before absl::InitializeLog() is called are written to STDERR\n",
      "I0000 00:00:1714991311.315749      70 device_compiler.h:186] Compiled cluster using XLA!  This line is logged at most once for the lifetime of the process.\n"
     ]
    },
    {
     "name": "stdout",
     "output_type": "stream",
     "text": [
      "24/24 [==============================] - 43s 373ms/step - loss: 0.6864 - accuracy: 0.5507 - precision: 0.5505 - recall: 0.5520\n",
      "Epoch 2/10\n",
      "24/24 [==============================] - 9s 375ms/step - loss: 0.6545 - accuracy: 0.6373 - precision: 0.6467 - recall: 0.6053\n",
      "Epoch 3/10\n",
      "24/24 [==============================] - 9s 371ms/step - loss: 0.6332 - accuracy: 0.6320 - precision: 0.6486 - recall: 0.5760\n",
      "Epoch 4/10\n",
      "24/24 [==============================] - 9s 376ms/step - loss: 0.6149 - accuracy: 0.6720 - precision: 0.6577 - recall: 0.7173\n",
      "Epoch 5/10\n",
      "24/24 [==============================] - 9s 378ms/step - loss: 0.6013 - accuracy: 0.7080 - precision: 0.7364 - recall: 0.6480\n",
      "Epoch 6/10\n",
      "24/24 [==============================] - 9s 383ms/step - loss: 0.5844 - accuracy: 0.7213 - precision: 0.7173 - recall: 0.7307\n",
      "Epoch 7/10\n",
      "24/24 [==============================] - 9s 379ms/step - loss: 0.5629 - accuracy: 0.7373 - precision: 0.7587 - recall: 0.6960\n",
      "Epoch 8/10\n",
      "24/24 [==============================] - 9s 388ms/step - loss: 0.5675 - accuracy: 0.7373 - precision: 0.7543 - recall: 0.7040\n",
      "Epoch 9/10\n",
      "24/24 [==============================] - 9s 389ms/step - loss: 0.5458 - accuracy: 0.7480 - precision: 0.7460 - recall: 0.7520\n",
      "Epoch 10/10\n",
      "24/24 [==============================] - 9s 384ms/step - loss: 0.5398 - accuracy: 0.7547 - precision: 0.7645 - recall: 0.7360\n"
     ]
    },
    {
     "data": {
      "text/plain": [
       "<tf_keras.src.callbacks.History at 0x7e20e47ba8c0>"
      ]
     },
     "execution_count": 23,
     "metadata": {},
     "output_type": "execute_result"
    }
   ],
   "source": [
    "model.fit(X_train, y_train, epochs=10)"
   ]
  },
  {
   "cell_type": "code",
   "execution_count": 24,
   "id": "fd1e47b6",
   "metadata": {
    "execution": {
     "iopub.execute_input": "2024-05-06T10:30:01.854285Z",
     "iopub.status.busy": "2024-05-06T10:30:01.853385Z",
     "iopub.status.idle": "2024-05-06T10:30:06.074630Z",
     "shell.execute_reply": "2024-05-06T10:30:06.073454Z"
    },
    "papermill": {
     "duration": 4.270655,
     "end_time": "2024-05-06T10:30:06.076997",
     "exception": false,
     "start_time": "2024-05-06T10:30:01.806342",
     "status": "completed"
    },
    "scrolled": true,
    "tags": []
   },
   "outputs": [
    {
     "name": "stdout",
     "output_type": "stream",
     "text": [
      "8/8 [==============================] - 4s 335ms/step - loss: 0.5121 - accuracy: 0.7960 - precision: 0.7681 - recall: 0.8480\n"
     ]
    },
    {
     "data": {
      "text/plain": [
       "[0.512091875076294, 0.7960000038146973, 0.7681159377098083, 0.8479999899864197]"
      ]
     },
     "execution_count": 24,
     "metadata": {},
     "output_type": "execute_result"
    }
   ],
   "source": [
    "model.evaluate(X_test, y_test)"
   ]
  },
  {
   "cell_type": "code",
   "execution_count": 25,
   "id": "d968da59",
   "metadata": {
    "execution": {
     "iopub.execute_input": "2024-05-06T10:30:06.164334Z",
     "iopub.status.busy": "2024-05-06T10:30:06.163433Z",
     "iopub.status.idle": "2024-05-06T10:30:09.989633Z",
     "shell.execute_reply": "2024-05-06T10:30:09.988590Z"
    },
    "papermill": {
     "duration": 3.871451,
     "end_time": "2024-05-06T10:30:09.992015",
     "exception": false,
     "start_time": "2024-05-06T10:30:06.120564",
     "status": "completed"
    },
    "tags": []
   },
   "outputs": [
    {
     "name": "stdout",
     "output_type": "stream",
     "text": [
      "8/8 [==============================] - 4s 334ms/step\n"
     ]
    }
   ],
   "source": [
    "y_predicted = model.predict(X_test)\n",
    "y_predicted = y_predicted.flatten()"
   ]
  },
  {
   "cell_type": "markdown",
   "id": "c609e1d2",
   "metadata": {
    "papermill": {
     "duration": 0.043697,
     "end_time": "2024-05-06T10:30:10.081951",
     "exception": false,
     "start_time": "2024-05-06T10:30:10.038254",
     "status": "completed"
    },
    "tags": []
   },
   "source": [
    "Next cell puts threshold for this classification:"
   ]
  },
  {
   "cell_type": "code",
   "execution_count": 26,
   "id": "cd1ac041",
   "metadata": {
    "execution": {
     "iopub.execute_input": "2024-05-06T10:30:10.175987Z",
     "iopub.status.busy": "2024-05-06T10:30:10.175162Z",
     "iopub.status.idle": "2024-05-06T10:30:10.183796Z",
     "shell.execute_reply": "2024-05-06T10:30:10.182800Z"
    },
    "papermill": {
     "duration": 0.059827,
     "end_time": "2024-05-06T10:30:10.186361",
     "exception": false,
     "start_time": "2024-05-06T10:30:10.126534",
     "status": "completed"
    },
    "tags": []
   },
   "outputs": [
    {
     "data": {
      "text/plain": [
       "array([0, 0, 0, 1, 1, 1, 1, 1, 0, 1, 0, 1, 0, 0, 0, 0, 0, 1, 1, 1, 0, 0,\n",
       "       1, 0, 1, 0, 0, 1, 0, 0, 1, 0, 0, 1, 1, 1, 1, 1, 0, 1, 1, 0, 1, 1,\n",
       "       0, 1, 0, 0, 0, 1, 1, 1, 0, 1, 1, 0, 1, 0, 0, 1, 1, 1, 0, 1, 1, 1,\n",
       "       1, 1, 0, 1, 0, 1, 1, 1, 0, 1, 0, 0, 0, 0, 0, 0, 1, 0, 1, 0, 1, 1,\n",
       "       1, 1, 0, 1, 0, 0, 1, 1, 1, 1, 0, 0, 1, 0, 0, 0, 1, 0, 1, 0, 1, 0,\n",
       "       1, 1, 0, 1, 0, 1, 1, 0, 1, 1, 1, 1, 1, 0, 1, 0, 1, 1, 1, 0, 1, 1,\n",
       "       1, 1, 1, 1, 0, 0, 0, 0, 0, 0, 0, 1, 1, 1, 1, 1, 0, 0, 1, 0, 1, 1,\n",
       "       1, 1, 1, 1, 1, 0, 1, 1, 0, 1, 1, 0, 0, 1, 0, 1, 0, 1, 0, 0, 0, 1,\n",
       "       1, 0, 1, 1, 0, 1, 1, 0, 1, 0, 0, 0, 0, 0, 1, 1, 1, 0, 0, 0, 1, 0,\n",
       "       0, 1, 0, 1, 1, 0, 1, 0, 0, 0, 0, 1, 1, 1, 0, 1, 0, 1, 1, 0, 1, 0,\n",
       "       0, 0, 0, 0, 1, 1, 1, 0, 1, 0, 0, 1, 1, 1, 1, 0, 1, 0, 1, 1, 1, 0,\n",
       "       0, 1, 1, 0, 1, 1, 1, 1])"
      ]
     },
     "execution_count": 26,
     "metadata": {},
     "output_type": "execute_result"
    }
   ],
   "source": [
    "def define_predict_class(y_pred):\n",
    "    return np.where(y_pred > 0.5, 1, 0)\n",
    "\n",
    "y_predicted = define_predict_class(y_predicted)\n",
    "y_predicted"
   ]
  },
  {
   "cell_type": "code",
   "execution_count": 27,
   "id": "418aa748",
   "metadata": {
    "execution": {
     "iopub.execute_input": "2024-05-06T10:30:10.278816Z",
     "iopub.status.busy": "2024-05-06T10:30:10.278436Z",
     "iopub.status.idle": "2024-05-06T10:30:10.287880Z",
     "shell.execute_reply": "2024-05-06T10:30:10.286947Z"
    },
    "papermill": {
     "duration": 0.056514,
     "end_time": "2024-05-06T10:30:10.290049",
     "exception": false,
     "start_time": "2024-05-06T10:30:10.233535",
     "status": "completed"
    },
    "tags": []
   },
   "outputs": [
    {
     "data": {
      "text/plain": [
       "array([[ 93,  32],\n",
       "       [ 19, 106]])"
      ]
     },
     "execution_count": 27,
     "metadata": {},
     "output_type": "execute_result"
    }
   ],
   "source": [
    "from sklearn.metrics import confusion_matrix, classification_report\n",
    "\n",
    "cm = confusion_matrix(y_test, y_predicted)\n",
    "cm "
   ]
  },
  {
   "cell_type": "code",
   "execution_count": 28,
   "id": "d7a5a041",
   "metadata": {
    "execution": {
     "iopub.execute_input": "2024-05-06T10:30:10.386646Z",
     "iopub.status.busy": "2024-05-06T10:30:10.385667Z",
     "iopub.status.idle": "2024-05-06T10:30:11.207432Z",
     "shell.execute_reply": "2024-05-06T10:30:11.206574Z"
    },
    "papermill": {
     "duration": 0.872819,
     "end_time": "2024-05-06T10:30:11.210000",
     "exception": false,
     "start_time": "2024-05-06T10:30:10.337181",
     "status": "completed"
    },
    "tags": []
   },
   "outputs": [
    {
     "data": {
      "text/plain": [
       "Text(50.722222222222214, 0.5, 'Truth')"
      ]
     },
     "execution_count": 28,
     "metadata": {},
     "output_type": "execute_result"
    },
    {
     "data": {
      "image/png": "[encoded data removed]",
      "text/plain": [
       "<Figure size 640x480 with 2 Axes>"
      ]
     },
     "metadata": {},
     "output_type": "display_data"
    }
   ],
   "source": [
    "from matplotlib import pyplot as plt\n",
    "import seaborn as sn\n",
    "\n",
    "sn.heatmap(cm, annot=True, fmt='d')\n",
    "plt.xlabel('Predicted')\n",
    "plt.ylabel('Truth')"
   ]
  },
  {
   "cell_type": "code",
   "execution_count": 29,
   "id": "be348d5c",
   "metadata": {
    "execution": {
     "iopub.execute_input": "2024-05-06T10:30:11.302142Z",
     "iopub.status.busy": "2024-05-06T10:30:11.301787Z",
     "iopub.status.idle": "2024-05-06T10:30:11.318003Z",
     "shell.execute_reply": "2024-05-06T10:30:11.317009Z"
    },
    "papermill": {
     "duration": 0.062028,
     "end_time": "2024-05-06T10:30:11.320127",
     "exception": false,
     "start_time": "2024-05-06T10:30:11.258099",
     "status": "completed"
    },
    "tags": []
   },
   "outputs": [
    {
     "name": "stdout",
     "output_type": "stream",
     "text": [
      "              precision    recall  f1-score   support\n",
      "\n",
      "           0       0.83      0.74      0.78       125\n",
      "           1       0.77      0.85      0.81       125\n",
      "\n",
      "    accuracy                           0.80       250\n",
      "   macro avg       0.80      0.80      0.80       250\n",
      "weighted avg       0.80      0.80      0.80       250\n",
      "\n"
     ]
    }
   ],
   "source": [
    "print(classification_report(y_test, y_predicted))"
   ]
  },
  {
   "cell_type": "markdown",
   "id": "ff061ae4",
   "metadata": {
    "papermill": {
     "duration": 0.045583,
     "end_time": "2024-05-06T10:30:11.413507",
     "exception": false,
     "start_time": "2024-05-06T10:30:11.367924",
     "status": "completed"
    },
    "tags": []
   },
   "source": [
    "Not a bad accuracy. "
   ]
  },
  {
   "cell_type": "markdown",
   "id": "3f2c23c3",
   "metadata": {
    "papermill": {
     "duration": 0.046551,
     "end_time": "2024-05-06T10:30:11.507293",
     "exception": false,
     "start_time": "2024-05-06T10:30:11.460742",
     "status": "completed"
    },
    "tags": []
   },
   "source": [
    "# 6. Inferencing "
   ]
  },
  {
   "cell_type": "code",
   "execution_count": 30,
   "id": "bf4bc328",
   "metadata": {
    "execution": {
     "iopub.execute_input": "2024-05-06T10:30:11.602590Z",
     "iopub.status.busy": "2024-05-06T10:30:11.601849Z",
     "iopub.status.idle": "2024-05-06T10:30:12.884873Z",
     "shell.execute_reply": "2024-05-06T10:30:12.883784Z"
    },
    "papermill": {
     "duration": 1.3324,
     "end_time": "2024-05-06T10:30:12.886977",
     "exception": false,
     "start_time": "2024-05-06T10:30:11.554577",
     "status": "completed"
    },
    "tags": []
   },
   "outputs": [
    {
     "name": "stdout",
     "output_type": "stream",
     "text": [
      "1/1 [==============================] - 1s 1s/step\n",
      "1/1 [==============================] - 0s 51ms/step\n",
      "\n",
      "Predicted probability: [[0.5393355 ]\n",
      " [0.4945383 ]\n",
      " [0.49699938]\n",
      " [0.3017626 ]\n",
      " [0.31330362]] \n",
      "\n",
      "Class: [[1]\n",
      " [0]\n",
      " [0]\n",
      " [0]\n",
      " [0]]\n"
     ]
    }
   ],
   "source": [
    "reviews = [\n",
    "    'Enter a chance to win $5000, hurry up, offer valid until march 31, 2021',\n",
    "    'You are awarded a SiPix Digital Camera! call 09061221061 from landline. Delivery within 28days. T Cs Box177. M221BP. 2yr warranty. 150ppm. 16 . p pÂ£3.99',\n",
    "    'it to 80488. Your 500 free text messages are valid until 31 December 2005.',\n",
    "    'Hey Sam, Are you coming for a cricket game tomorrow',\n",
    "    \"Why don't you wait 'til at least wednesday to see if you get your .\"\n",
    "]\n",
    "print(\"\\nPredicted probability:\", model.predict(reviews), \"\\n\\nClass:\", define_predict_class(model.predict(reviews)))"
   ]
  }
 ],
 "metadata": {
  "kaggle": {
   "accelerator": "nvidiaTeslaT4",
   "dataSources": [
    {
     "datasetId": 91827,
     "sourceId": 213216,
     "sourceType": "datasetVersion"
    },
    {
     "modelInstanceId": 2180,
     "sourceId": 2938,
     "sourceType": "modelInstanceVersion"
    },
    {
     "modelInstanceId": 1882,
     "sourceId": 2580,
     "sourceType": "modelInstanceVersion"
    }
   ],
   "dockerImageVersionId": 30699,
   "isGpuEnabled": true,
   "isInternetEnabled": true,
   "language": "python",
   "sourceType": "notebook"
  },
  "kernelspec": {
   "display_name": "Python 3",
   "language": "python",
   "name": "python3"
  },
  "language_info": {
   "codemirror_mode": {
    "name": "ipython",
    "version": 3
   },
   "file_extension": ".py",
   "mimetype": "text/x-python",
   "name": "python",
   "nbconvert_exporter": "python",
   "pygments_lexer": "ipython3",
   "version": "3.10.13"
  },
  "papermill": {
   "default_parameters": {},
   "duration": 215.317327,
   "end_time": "2024-05-06T10:30:16.071793",
   "environment_variables": {},
   "exception": null,
   "input_path": "__notebook__.ipynb",
   "output_path": "__notebook__.ipynb",
   "parameters": {},
   "start_time": "2024-05-06T10:26:40.754466",
   "version": "2.5.0"
  }
 },
 "nbformat": 4,
 "nbformat_minor": 5
}
