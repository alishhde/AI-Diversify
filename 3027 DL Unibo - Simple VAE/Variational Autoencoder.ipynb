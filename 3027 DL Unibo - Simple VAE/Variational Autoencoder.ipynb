{
 "cells": [
  {
   "cell_type": "markdown",
   "id": "4630fc0f",
   "metadata": {
    "id": "d_DKvNpcIeVu",
    "papermill": {
     "duration": 0.008794,
     "end_time": "2024-05-20T18:53:16.728109",
     "exception": false,
     "start_time": "2024-05-20T18:53:16.719315",
     "status": "completed"
    },
    "tags": []
   },
   "source": [
    "# 1. Variational Autoencoder\n",
    "In this notebook we shall present a simple conditional Variational Autoencoder, trained on MNIST. VAE is a type of generative model that combines principles from variational inference and autoencoders. It is used for generating new data samples that are similar to a given dataset. VAEs are particularly useful in scenarios such as image generation, data compression, and representation learning. \n",
    "\n",
    "## Components:\n",
    "\n",
    "1. **Encoder**:\n",
    "   - The encoder is a neural network that takes an input data sample (e.g., an image) and maps it to a latent space. Instead of directly outputting a single point in the latent space, the encoder outputs parameters of a probability distribution (typically a Gaussian distribution), namely the mean ($\\mu$) and the standard deviation ($\\sigma$).\n",
    "\n",
    "\n",
    "2. **Latent Space**:\n",
    "   - The latent space is a lower-dimensional representation of the input data. It captures the underlying factors of variation in the data. Each point in the latent space can be sampled to generate new data points.\n",
    "\n",
    "\n",
    "3. **Decoder**:\n",
    "   - The decoder is another neural network that takes a point from the latent space and maps it back to the data space. It reconstructs the original data sample from the latent representation.\n",
    "\n",
    "\n",
    "## Working of VAE:\n",
    "\n",
    "1. **Encoding**:\n",
    "   - An input sample $x$ is passed through the encoder, which outputs the parameters $\\mu$ and $\\sigma$ of the latent distribution.\n",
    "   - Instead of using a single deterministic point, a random sample $z$ is drawn from the Gaussian distribution defined by $\\mu$ and $\\sigma$. This sampling process is essential for the generative capabilities of the VAE.\n",
    "\n",
    "2. **Reparameterization Trick**:\n",
    "   - To enable backpropagation through the sampling process, the reparameterization trick is used. It involves expressing the sampled latent vector $z$ as:\n",
    "     $\n",
    "     z = \\mu + \\sigma \\odot \\epsilon\n",
    "     $\n",
    "     where $\\epsilon$ is a random noise vector sampled from a standard normal distribution, and $\\odot$ denotes element-wise multiplication.\n",
    "\n",
    "3. **Decoding**:\n",
    "   - The sampled latent vector $z$ is passed through the decoder to reconstruct the original data sample $\\hat{x}$.\n",
    "\n",
    "4. **Loss Function**:\n",
    "   - The VAE is trained using a loss function that has two components:\n",
    "     - **Reconstruction Loss**: Measures how well the reconstructed data $\\hat{x}$ matches the original input $x$. This is typically the Mean Squared Error (MSE) for continuous data or Binary Cross-Entropy (BCE) for binary data.\n",
    "     - **KL Divergence Loss**: Measures the divergence between the learned latent distribution $q(z|x)$ and the prior distribution $p(z)$, which is usually a standard normal distribution. This encourages the learned latent space to be close to the prior distribution.\n",
    "     $$\n",
    "     \\mathcal{L} = \\mathbb{E}_{q(z|x)}[\\log p(x|z)] - D_{\\text{KL}}(q(z|x) \\parallel p(z))\n",
    "     $$\n",
    "\n",
    "\n",
    "## Notes\n",
    "- **Generative Model**: VAEs are used to generate new data samples that resemble the training data.\n",
    "- **Latent Space**: They learn a continuous, lower-dimensional latent space representing the data.\n",
    "- **Probabilistic Encoder**: The encoder outputs a distribution over the latent space, rather than a single point.\n",
    "- **Training Objective**: The training optimizes both the reconstruction of the input data and the regularization of the latent space distribution.\n",
    "\n",
    "VAEs have found applications in various fields, including image generation, text generation, and anomaly detection, due to their ability to learn meaningful latent representations and generate diverse samples."
   ]
  },
  {
   "cell_type": "code",
   "execution_count": 1,
   "id": "696ede8c",
   "metadata": {
    "execution": {
     "iopub.execute_input": "2024-05-20T18:53:16.747586Z",
     "iopub.status.busy": "2024-05-20T18:53:16.746770Z",
     "iopub.status.idle": "2024-05-20T18:53:33.408394Z",
     "shell.execute_reply": "2024-05-20T18:53:33.406737Z"
    },
    "id": "V8_HUth4IW1g",
    "papermill": {
     "duration": 16.675184,
     "end_time": "2024-05-20T18:53:33.411625",
     "exception": false,
     "start_time": "2024-05-20T18:53:16.736441",
     "status": "completed"
    },
    "tags": []
   },
   "outputs": [
    {
     "name": "stderr",
     "output_type": "stream",
     "text": [
      "2024-05-20 18:53:19.152468: E external/local_xla/xla/stream_executor/cuda/cuda_dnn.cc:9261] Unable to register cuDNN factory: Attempting to register factory for plugin cuDNN when one has already been registered\n",
      "2024-05-20 18:53:19.152642: E external/local_xla/xla/stream_executor/cuda/cuda_fft.cc:607] Unable to register cuFFT factory: Attempting to register factory for plugin cuFFT when one has already been registered\n",
      "2024-05-20 18:53:19.310126: E external/local_xla/xla/stream_executor/cuda/cuda_blas.cc:1515] Unable to register cuBLAS factory: Attempting to register factory for plugin cuBLAS when one has already been registered\n"
     ]
    }
   ],
   "source": [
    "import tensorflow as tf\n",
    "from tensorflow.keras import layers\n",
    "from tensorflow.keras import Model\n",
    "from tensorflow.keras import backend as K\n",
    "from tensorflow.keras import metrics\n",
    "from tensorflow.keras import utils\n",
    "from keras.datasets import mnist\n",
    "import numpy as np\n",
    "import matplotlib.pyplot as plt"
   ]
  },
  {
   "cell_type": "markdown",
   "id": "f64bc711",
   "metadata": {
    "id": "bKj7GMTI7eK2",
    "papermill": {
     "duration": 0.008004,
     "end_time": "2024-05-20T18:53:33.428104",
     "exception": false,
     "start_time": "2024-05-20T18:53:33.420100",
     "status": "completed"
    },
    "tags": []
   },
   "source": [
    "We want to use the variational autoencoder technique to generate digits similar to those in the MNIST dataset."
   ]
  },
  {
   "cell_type": "code",
   "execution_count": 2,
   "id": "5c01ce20",
   "metadata": {
    "execution": {
     "iopub.execute_input": "2024-05-20T18:53:33.447289Z",
     "iopub.status.busy": "2024-05-20T18:53:33.446507Z",
     "iopub.status.idle": "2024-05-20T18:53:34.207635Z",
     "shell.execute_reply": "2024-05-20T18:53:34.206071Z"
    },
    "id": "_WG8B8RJlAaW",
    "papermill": {
     "duration": 0.774173,
     "end_time": "2024-05-20T18:53:34.210669",
     "exception": false,
     "start_time": "2024-05-20T18:53:33.436496",
     "status": "completed"
    },
    "tags": []
   },
   "outputs": [
    {
     "name": "stdout",
     "output_type": "stream",
     "text": [
      "Downloading data from https://storage.googleapis.com/tensorflow/tf-keras-datasets/mnist.npz\n",
      "\u001b[1m11490434/11490434\u001b[0m \u001b[32m━━━━━━━━━━━━━━━━━━━━\u001b[0m\u001b[37m\u001b[0m \u001b[1m0s\u001b[0m 0us/step\n"
     ]
    }
   ],
   "source": [
    "# train the VAE on MNIST digits\n",
    "(x_train, y_train), (x_test, y_test) = mnist.load_data()\n",
    "\n",
    "x_train = x_train.astype('float32') / 255.\n",
    "x_test = x_test.astype('float32') / 255.\n",
    "\n",
    "x_train = x_train.reshape((len(x_train), np.prod(x_train.shape[1:])))  # Result: (num_samples, 784)\n",
    "x_test = x_test.reshape((len(x_test), np.prod(x_test.shape[1:])))\n",
    "\n",
    "y_train = utils.to_categorical(y_train)  # Converting integer labels to One-hot Encodding\n",
    "y_test = utils.to_categorical(y_test)"
   ]
  },
  {
   "cell_type": "markdown",
   "id": "62a66c6d",
   "metadata": {
    "id": "OxLa37ZnKIUV",
    "papermill": {
     "duration": 0.0086,
     "end_time": "2024-05-20T18:53:34.227841",
     "exception": false,
     "start_time": "2024-05-20T18:53:34.219241",
     "status": "completed"
    },
    "tags": []
   },
   "source": [
    "# 2. Model\n",
    "Sampling function is a key part of implementing a VAE. It is used to sample latent vectors from the learned latent space distribution during the encoding process. In a VAE, instead of encoding an input to a fixed point in the latent space, we encode it to a distribution (usually Gaussian). The sampling function performs the crucial step of sampling from this distribution to obtain a latent vector that will be passed to the decoder for reconstruction."
   ]
  },
  {
   "cell_type": "code",
   "execution_count": 3,
   "id": "a53d89c9",
   "metadata": {
    "execution": {
     "iopub.execute_input": "2024-05-20T18:53:34.247111Z",
     "iopub.status.busy": "2024-05-20T18:53:34.246639Z",
     "iopub.status.idle": "2024-05-20T18:53:34.253437Z",
     "shell.execute_reply": "2024-05-20T18:53:34.252177Z"
    },
    "id": "t1hiFRyHJbKf",
    "papermill": {
     "duration": 0.019195,
     "end_time": "2024-05-20T18:53:34.255843",
     "exception": false,
     "start_time": "2024-05-20T18:53:34.236648",
     "status": "completed"
    },
    "tags": []
   },
   "outputs": [],
   "source": [
    "def sampling(args):\n",
    "    z_mean, z_log_var = args\n",
    "    epsilon = K.random_normal(shape=(K.shape(z_mean)[0], latent_dim), \n",
    "                              mean=0.,\n",
    "                              stddev=1.)\n",
    "    return z_mean + K.exp(z_log_var / 2) * epsilon"
   ]
  },
  {
   "cell_type": "markdown",
   "id": "57e71289",
   "metadata": {
    "papermill": {
     "duration": 0.007952,
     "end_time": "2024-05-20T18:53:34.272105",
     "exception": false,
     "start_time": "2024-05-20T18:53:34.264153",
     "status": "completed"
    },
    "tags": []
   },
   "source": [
    "#### Code Explanation \n",
    "- The function takes a single argument args, which is a tuple containing `z_mean` and `z_log_var`. These are the outputs of the encoder network.\n",
    "- `z_mean` represents the mean of the latent Gaussian distribution.\n",
    "- `z_log_var` represents the logarithm of the variance of the latent Gaussian distribution.\n",
    "- `epsilon` is a random noise vector sampled from a standard normal distribution with mean 0 and standard deviation 1.\n",
    "    - `K.random_normal` is a Keras backend function to generate random normal values. The shape of `epsilon` matches the batch size and the dimensionality of the latent space (`latent_dim`).\n",
    "- The return line implements the `reparameterization` trick, which allows the gradients to backpropagate through the sampling process.\n",
    "    - `K.exp(z_log_var / 2)` computes the standard deviation from the log variance.\n",
    "    - The latent vector `z` is computed by shifting the mean (`z_mean`) and scaling by the standard deviation (`K.exp(z_log_var / 2)`) with the random noise `epsilon`."
   ]
  },
  {
   "cell_type": "markdown",
   "id": "f8389220",
   "metadata": {
    "id": "cwm4jR5E8in4",
    "papermill": {
     "duration": 0.007991,
     "end_time": "2024-05-20T18:53:34.288309",
     "exception": false,
     "start_time": "2024-05-20T18:53:34.280318",
     "status": "completed"
    },
    "tags": []
   },
   "source": [
    "Main dimensions for the model (a simple stack of dense layers)."
   ]
  },
  {
   "cell_type": "code",
   "execution_count": 4,
   "id": "995e847f",
   "metadata": {
    "execution": {
     "iopub.execute_input": "2024-05-20T18:53:34.307261Z",
     "iopub.status.busy": "2024-05-20T18:53:34.306399Z",
     "iopub.status.idle": "2024-05-20T18:53:34.311306Z",
     "shell.execute_reply": "2024-05-20T18:53:34.310370Z"
    },
    "id": "VT9baosbKW8M",
    "papermill": {
     "duration": 0.017107,
     "end_time": "2024-05-20T18:53:34.313565",
     "exception": false,
     "start_time": "2024-05-20T18:53:34.296458",
     "status": "completed"
    },
    "tags": []
   },
   "outputs": [],
   "source": [
    "input_dim = 784\n",
    "latent_dim = 16\n",
    "intermediate_dim_1 = 128\n",
    "intermediate_dim_2 = 32"
   ]
  },
  {
   "cell_type": "markdown",
   "id": "9c74b07b",
   "metadata": {
    "id": "533QeAx09JGh",
    "papermill": {
     "duration": 0.007908,
     "end_time": "2024-05-20T18:53:34.330966",
     "exception": false,
     "start_time": "2024-05-20T18:53:34.323058",
     "status": "completed"
    },
    "tags": []
   },
   "source": [
    "## 2.1. Encoder\n",
    "We start with the encoder. It takes two inputs: the image and the category. It returns the latent encoding `z_mean` and a `(log-)variance` for each latent variable."
   ]
  },
  {
   "cell_type": "code",
   "execution_count": 5,
   "id": "a819c003",
   "metadata": {
    "execution": {
     "iopub.execute_input": "2024-05-20T18:53:34.350212Z",
     "iopub.status.busy": "2024-05-20T18:53:34.349337Z",
     "iopub.status.idle": "2024-05-20T18:53:34.457521Z",
     "shell.execute_reply": "2024-05-20T18:53:34.456462Z"
    },
    "id": "9atMqlZUJ_dD",
    "papermill": {
     "duration": 0.120895,
     "end_time": "2024-05-20T18:53:34.460112",
     "exception": false,
     "start_time": "2024-05-20T18:53:34.339217",
     "status": "completed"
    },
    "tags": []
   },
   "outputs": [],
   "source": [
    "# Input Layer\n",
    "x = layers.Input(shape=(input_dim, ))  # Input shape equals to 28*28\n",
    "\n",
    "# Dense Layers\n",
    "h1 = layers.Dense(intermediate_dim_1, activation='swish')(x)\n",
    "h2 = layers.Dense(intermediate_dim_2, activation='swish')(h1)\n",
    "\n",
    "# Output Layers\n",
    "z_mean = layers.Dense(latent_dim)(h2)\n",
    "z_log_var = layers.Dense(latent_dim)(h2)\n",
    "\n",
    "encoder = Model(x, [z_mean, z_log_var])"
   ]
  },
  {
   "cell_type": "markdown",
   "id": "c0d25450",
   "metadata": {
    "id": "wuIsUslmBKxj",
    "papermill": {
     "duration": 0.008807,
     "end_time": "2024-05-20T18:53:34.477309",
     "exception": false,
     "start_time": "2024-05-20T18:53:34.468502",
     "status": "completed"
    },
    "tags": []
   },
   "source": [
    "## 2.2. Decoder\n",
    "Now we define the decoder. It takes in input a vector in the latent space, and it returns the image of a digit."
   ]
  },
  {
   "cell_type": "code",
   "execution_count": 6,
   "id": "54857485",
   "metadata": {
    "execution": {
     "iopub.execute_input": "2024-05-20T18:53:34.497279Z",
     "iopub.status.busy": "2024-05-20T18:53:34.496385Z",
     "iopub.status.idle": "2024-05-20T18:53:34.540014Z",
     "shell.execute_reply": "2024-05-20T18:53:34.539027Z"
    },
    "id": "0NX6uciuBKJw",
    "papermill": {
     "duration": 0.056777,
     "end_time": "2024-05-20T18:53:34.542677",
     "exception": false,
     "start_time": "2024-05-20T18:53:34.485900",
     "status": "completed"
    },
    "tags": []
   },
   "outputs": [],
   "source": [
    "# Input Layer\n",
    "y = layers.Input(shape=(latent_dim, ))\n",
    "\n",
    "# Dense Layers\n",
    "dec_mid_1 = layers.Dense(intermediate_dim_2, activation='swish')(y)\n",
    "dec_mid_2 = layers.Dense(intermediate_dim_1, activation='swish')(dec_mid_1)\n",
    "\n",
    "# Output Layer\n",
    "x_hat = layers.Dense(input_dim, activation='sigmoid')(dec_mid_2)\n",
    "\n",
    "decoder = Model(inputs=y, outputs=[x_hat])"
   ]
  },
  {
   "cell_type": "markdown",
   "id": "32496261",
   "metadata": {
    "id": "CL94ost69tn_",
    "papermill": {
     "duration": 0.008479,
     "end_time": "2024-05-20T18:53:34.559754",
     "exception": false,
     "start_time": "2024-05-20T18:53:34.551275",
     "status": "completed"
    },
    "tags": []
   },
   "source": [
    "## 2.3. Building VAE\n",
    "We build the VAE by composing the encoder and the decoder. However, between them we need to insert the sampling operation. In order to wrap the sampling function into a layer we use a special layer called \"lambda\". \n",
    "\n",
    "Sample code is as follow, for our case, due to unexpected error, we have implemented our own Training class with respect to the following sample code:\n",
    "```Python\n",
    "# Input Layer\n",
    "x = layers.Input(shape=(input_dim, ))\n",
    "\n",
    "# Encoding\n",
    "z_mean, z_log_var = encoder(x)\n",
    "\n",
    "# Inserting Sampling Operation between Encoder-Decoder\n",
    "z = layers.Lambda(sampling, output_shape=(latent_dim, ))([z_mean, z_log_var])\n",
    "\n",
    "# Decoding\n",
    "x_hat = decoder(z)\n",
    "\n",
    "# Final Model is composed by the ...\n",
    "vae = Model(x, x_hat)\n",
    "\n",
    "```"
   ]
  },
  {
   "cell_type": "code",
   "execution_count": 7,
   "id": "9f49535d",
   "metadata": {
    "execution": {
     "iopub.execute_input": "2024-05-20T18:53:34.580959Z",
     "iopub.status.busy": "2024-05-20T18:53:34.580063Z",
     "iopub.status.idle": "2024-05-20T18:53:34.595493Z",
     "shell.execute_reply": "2024-05-20T18:53:34.594093Z"
    },
    "id": "RrqVE-8gLVkP",
    "papermill": {
     "duration": 0.029414,
     "end_time": "2024-05-20T18:53:34.598534",
     "exception": false,
     "start_time": "2024-05-20T18:53:34.569120",
     "status": "completed"
    },
    "tags": []
   },
   "outputs": [],
   "source": [
    "class VAE(Model):\n",
    "    def __init__(self, encoder, decoder, **kwargs):\n",
    "        super(VAE, self).__init__(**kwargs)\n",
    "        self.encoder = encoder\n",
    "        self.decoder = decoder\n",
    "\n",
    "    def train_step(self, data):\n",
    "        if isinstance(data, tuple):\n",
    "            data = data[0]\n",
    "\n",
    "        with tf.GradientTape() as tape:\n",
    "            z_mean, z_log_var = self.encoder(data)\n",
    "            z = sampling([z_mean, z_log_var])\n",
    "            x_hat = self.decoder(z)\n",
    "            loss = vae_loss(data, x_hat, z_mean, z_log_var)\n",
    "\n",
    "        gradients = tape.gradient(loss, self.trainable_variables)\n",
    "        self.optimizer.apply_gradients(zip(gradients, self.trainable_variables))\n",
    "        return {\"loss\": loss}\n",
    "\n",
    "    def test_step(self, data):\n",
    "        if isinstance(data, tuple):\n",
    "            data = data[0]\n",
    "\n",
    "        z_mean, z_log_var = self.encoder(data)\n",
    "        z = sampling([z_mean, z_log_var])\n",
    "        x_hat = self.decoder(z)\n",
    "        loss = vae_loss(data, x_hat, z_mean, z_log_var)\n",
    "        return {\"loss\": loss}\n",
    "\n",
    "# Instantiate and compile the VAE model\n",
    "vae = VAE(encoder, decoder)"
   ]
  },
  {
   "cell_type": "markdown",
   "id": "88df8554",
   "metadata": {
    "id": "HFLYIrj8Ds9l",
    "papermill": {
     "duration": 0.008206,
     "end_time": "2024-05-20T18:53:34.615243",
     "exception": false,
     "start_time": "2024-05-20T18:53:34.607037",
     "status": "completed"
    },
    "tags": []
   },
   "source": [
    "The VAE loss function is just the sum between the `reconstruction error` (mse or bce) and the `KL-divergence`, acting as a regularizer of the latent space. In other words, The loss function combines two components: the `reconstruction loss` and the `Kullback-Leibler (KL) divergence`. This combination ensures that the VAE learns to generate data that is similar to the input data while maintaining a well-formed latent space. \n",
    "\n",
    "- Reconstruction Loss:\n",
    "    - Purpose: Measures how well the VAE can reconstruct the input data 𝑥 from the latent representation.\n",
    "    \n",
    "    \n",
    "- KL-Divergence Loss:\n",
    "    - Purpose: Regularizes the latent space to ensure that the learned distribution is close to a standard normal distribution 𝑁(0, 𝐼). This regularization prevents overfitting and ensures smooth interpolation in the latent space."
   ]
  },
  {
   "cell_type": "code",
   "execution_count": 8,
   "id": "487ab9d9",
   "metadata": {
    "execution": {
     "iopub.execute_input": "2024-05-20T18:53:34.634780Z",
     "iopub.status.busy": "2024-05-20T18:53:34.634317Z",
     "iopub.status.idle": "2024-05-20T18:53:34.678353Z",
     "shell.execute_reply": "2024-05-20T18:53:34.676998Z"
    },
    "papermill": {
     "duration": 0.05744,
     "end_time": "2024-05-20T18:53:34.680966",
     "exception": false,
     "start_time": "2024-05-20T18:53:34.623526",
     "status": "completed"
    },
    "tags": []
   },
   "outputs": [
    {
     "data": {
      "text/html": [
       "<pre style=\"white-space:pre;overflow-x:auto;line-height:normal;font-family:Menlo,'DejaVu Sans Mono',consolas,'Courier New',monospace\"><span style=\"font-weight: bold\">Model: \"vae\"</span>\n",
       "</pre>\n"
      ],
      "text/plain": [
       "\u001b[1mModel: \"vae\"\u001b[0m\n"
      ]
     },
     "metadata": {},
     "output_type": "display_data"
    },
    {
     "data": {
      "text/html": [
       "<pre style=\"white-space:pre;overflow-x:auto;line-height:normal;font-family:Menlo,'DejaVu Sans Mono',consolas,'Courier New',monospace\">┏━━━━━━━━━━━━━━━━━━━━━━━━━━━━━━━━━┳━━━━━━━━━━━━━━━━━━━━━━━━┳━━━━━━━━━━━━━━━┓\n",
       "┃<span style=\"font-weight: bold\"> Layer (type)                    </span>┃<span style=\"font-weight: bold\"> Output Shape           </span>┃<span style=\"font-weight: bold\">       Param # </span>┃\n",
       "┡━━━━━━━━━━━━━━━━━━━━━━━━━━━━━━━━━╇━━━━━━━━━━━━━━━━━━━━━━━━╇━━━━━━━━━━━━━━━┩\n",
       "│ functional_1 (<span style=\"color: #0087ff; text-decoration-color: #0087ff\">Functional</span>)       │ ?                      │       <span style=\"color: #00af00; text-decoration-color: #00af00\">105,664</span> │\n",
       "├─────────────────────────────────┼────────────────────────┼───────────────┤\n",
       "│ functional_3 (<span style=\"color: #0087ff; text-decoration-color: #0087ff\">Functional</span>)       │ ?                      │       <span style=\"color: #00af00; text-decoration-color: #00af00\">105,904</span> │\n",
       "└─────────────────────────────────┴────────────────────────┴───────────────┘\n",
       "</pre>\n"
      ],
      "text/plain": [
       "┏━━━━━━━━━━━━━━━━━━━━━━━━━━━━━━━━━┳━━━━━━━━━━━━━━━━━━━━━━━━┳━━━━━━━━━━━━━━━┓\n",
       "┃\u001b[1m \u001b[0m\u001b[1mLayer (type)                   \u001b[0m\u001b[1m \u001b[0m┃\u001b[1m \u001b[0m\u001b[1mOutput Shape          \u001b[0m\u001b[1m \u001b[0m┃\u001b[1m \u001b[0m\u001b[1m      Param #\u001b[0m\u001b[1m \u001b[0m┃\n",
       "┡━━━━━━━━━━━━━━━━━━━━━━━━━━━━━━━━━╇━━━━━━━━━━━━━━━━━━━━━━━━╇━━━━━━━━━━━━━━━┩\n",
       "│ functional_1 (\u001b[38;5;33mFunctional\u001b[0m)       │ ?                      │       \u001b[38;5;34m105,664\u001b[0m │\n",
       "├─────────────────────────────────┼────────────────────────┼───────────────┤\n",
       "│ functional_3 (\u001b[38;5;33mFunctional\u001b[0m)       │ ?                      │       \u001b[38;5;34m105,904\u001b[0m │\n",
       "└─────────────────────────────────┴────────────────────────┴───────────────┘\n"
      ]
     },
     "metadata": {},
     "output_type": "display_data"
    },
    {
     "data": {
      "text/html": [
       "<pre style=\"white-space:pre;overflow-x:auto;line-height:normal;font-family:Menlo,'DejaVu Sans Mono',consolas,'Courier New',monospace\"><span style=\"font-weight: bold\"> Total params: </span><span style=\"color: #00af00; text-decoration-color: #00af00\">211,568</span> (826.44 KB)\n",
       "</pre>\n"
      ],
      "text/plain": [
       "\u001b[1m Total params: \u001b[0m\u001b[38;5;34m211,568\u001b[0m (826.44 KB)\n"
      ]
     },
     "metadata": {},
     "output_type": "display_data"
    },
    {
     "data": {
      "text/html": [
       "<pre style=\"white-space:pre;overflow-x:auto;line-height:normal;font-family:Menlo,'DejaVu Sans Mono',consolas,'Courier New',monospace\"><span style=\"font-weight: bold\"> Trainable params: </span><span style=\"color: #00af00; text-decoration-color: #00af00\">211,568</span> (826.44 KB)\n",
       "</pre>\n"
      ],
      "text/plain": [
       "\u001b[1m Trainable params: \u001b[0m\u001b[38;5;34m211,568\u001b[0m (826.44 KB)\n"
      ]
     },
     "metadata": {},
     "output_type": "display_data"
    },
    {
     "data": {
      "text/html": [
       "<pre style=\"white-space:pre;overflow-x:auto;line-height:normal;font-family:Menlo,'DejaVu Sans Mono',consolas,'Courier New',monospace\"><span style=\"font-weight: bold\"> Non-trainable params: </span><span style=\"color: #00af00; text-decoration-color: #00af00\">0</span> (0.00 B)\n",
       "</pre>\n"
      ],
      "text/plain": [
       "\u001b[1m Non-trainable params: \u001b[0m\u001b[38;5;34m0\u001b[0m (0.00 B)\n"
      ]
     },
     "metadata": {},
     "output_type": "display_data"
    }
   ],
   "source": [
    "beta = 1.0 # balancing factor\n",
    "\n",
    "# Custom loss function\n",
    "def vae_loss(x, x_hat, z_mean, z_log_var):\n",
    "    rec_loss = input_dim * metrics.binary_crossentropy(x, x_hat)\n",
    "    kl_loss = - 0.5 * K.sum(1 + z_log_var - K.square(z_mean) - K.exp(z_log_var), axis=-1)\n",
    "    return K.mean(rec_loss + kl_loss)\n",
    "\n",
    "# Compile the model with the custom loss\n",
    "vae.compile(optimizer='adam', loss=vae_loss)\n",
    "\n",
    "# Summary of the model (optional)\n",
    "vae.summary()\n"
   ]
  },
  {
   "cell_type": "markdown",
   "id": "96a02730",
   "metadata": {
    "papermill": {
     "duration": 0.009051,
     "end_time": "2024-05-20T18:53:34.699362",
     "exception": false,
     "start_time": "2024-05-20T18:53:34.690311",
     "status": "completed"
    },
    "tags": []
   },
   "source": [
    "#### Code Explanation\n",
    "- `beta` Controls the trade-off between the reconstruction loss and the KL divergence loss.\n",
    "    - By adjusting 𝛽, you can control the importance of the KL divergence regularization relative to the reconstruction loss. Setting 𝛽=1 gives equal weight to both losses. Adjusting 𝛽 can help in balancing between generating accurate reconstructions and ensuring a well-behaved latent space.\n",
    "- `metrics.binary_crossentropy(x, x_hat)` computes the binary cross-entropy between the original input 𝑥 and the reconstructed output 𝑥^.\n",
    "- `1 + z_log_var - K.square(z_mean) - K.exp(z_log_var)` computes the element-wise KL divergence for each latent variable.\n",
    "- `K.sum(..., axis=-1)` sums the KL divergence terms over the latent dimensions."
   ]
  },
  {
   "cell_type": "code",
   "execution_count": 9,
   "id": "b426e404",
   "metadata": {
    "execution": {
     "iopub.execute_input": "2024-05-20T18:53:34.720542Z",
     "iopub.status.busy": "2024-05-20T18:53:34.720039Z",
     "iopub.status.idle": "2024-05-20T18:53:34.726142Z",
     "shell.execute_reply": "2024-05-20T18:53:34.724773Z"
    },
    "id": "bBZvcj_VnRjE",
    "papermill": {
     "duration": 0.019377,
     "end_time": "2024-05-20T18:53:34.728638",
     "exception": false,
     "start_time": "2024-05-20T18:53:34.709261",
     "status": "completed"
    },
    "tags": []
   },
   "outputs": [],
   "source": [
    "batch_size = 100\n",
    "epochs = 50"
   ]
  },
  {
   "cell_type": "markdown",
   "id": "28ceffcd",
   "metadata": {
    "id": "2I2N8blv_kT2",
    "papermill": {
     "duration": 0.008936,
     "end_time": "2024-05-20T18:53:34.746755",
     "exception": false,
     "start_time": "2024-05-20T18:53:34.737819",
     "status": "completed"
    },
    "tags": []
   },
   "source": [
    "Train for a sufficient amount of epochs. Generation is a more complex task than classification."
   ]
  },
  {
   "cell_type": "code",
   "execution_count": 10,
   "id": "df518c26",
   "metadata": {
    "execution": {
     "iopub.execute_input": "2024-05-20T18:53:34.767566Z",
     "iopub.status.busy": "2024-05-20T18:53:34.767040Z",
     "iopub.status.idle": "2024-05-20T18:59:25.153993Z",
     "shell.execute_reply": "2024-05-20T18:59:25.152483Z"
    },
    "id": "VgjJ9-sElLFe",
    "outputId": "906fe5aa-c002-4830-ab28-d27ca9768cc7",
    "papermill": {
     "duration": 350.401373,
     "end_time": "2024-05-20T18:59:25.157381",
     "exception": false,
     "start_time": "2024-05-20T18:53:34.756008",
     "status": "completed"
    },
    "tags": []
   },
   "outputs": [
    {
     "name": "stdout",
     "output_type": "stream",
     "text": [
      "Training data shape: (60000, 784)\n",
      "Validation data shape: (10000, 784)\n",
      "Epoch 1/50\n",
      "\u001b[1m600/600\u001b[0m \u001b[32m━━━━━━━━━━━━━━━━━━━━\u001b[0m\u001b[37m\u001b[0m \u001b[1m8s\u001b[0m 10ms/step - loss: 192.7300 - val_loss: 0.0000e+00\n",
      "Epoch 2/50\n",
      "\u001b[1m600/600\u001b[0m \u001b[32m━━━━━━━━━━━━━━━━━━━━\u001b[0m\u001b[37m\u001b[0m \u001b[1m6s\u001b[0m 9ms/step - loss: 146.5652 - val_loss: 0.0000e+00\n",
      "Epoch 3/50\n",
      "\u001b[1m600/600\u001b[0m \u001b[32m━━━━━━━━━━━━━━━━━━━━\u001b[0m\u001b[37m\u001b[0m \u001b[1m6s\u001b[0m 9ms/step - loss: 136.1186 - val_loss: 0.0000e+00\n",
      "Epoch 4/50\n",
      "\u001b[1m600/600\u001b[0m \u001b[32m━━━━━━━━━━━━━━━━━━━━\u001b[0m\u001b[37m\u001b[0m \u001b[1m10s\u001b[0m 9ms/step - loss: 129.7634 - val_loss: 0.0000e+00\n",
      "Epoch 5/50\n",
      "\u001b[1m600/600\u001b[0m \u001b[32m━━━━━━━━━━━━━━━━━━━━\u001b[0m\u001b[37m\u001b[0m \u001b[1m6s\u001b[0m 9ms/step - loss: 125.2633 - val_loss: 0.0000e+00\n",
      "Epoch 6/50\n",
      "\u001b[1m600/600\u001b[0m \u001b[32m━━━━━━━━━━━━━━━━━━━━\u001b[0m\u001b[37m\u001b[0m \u001b[1m6s\u001b[0m 10ms/step - loss: 121.8837 - val_loss: 0.0000e+00\n",
      "Epoch 7/50\n",
      "\u001b[1m600/600\u001b[0m \u001b[32m━━━━━━━━━━━━━━━━━━━━\u001b[0m\u001b[37m\u001b[0m \u001b[1m6s\u001b[0m 10ms/step - loss: 118.9654 - val_loss: 0.0000e+00\n",
      "Epoch 8/50\n",
      "\u001b[1m600/600\u001b[0m \u001b[32m━━━━━━━━━━━━━━━━━━━━\u001b[0m\u001b[37m\u001b[0m \u001b[1m6s\u001b[0m 9ms/step - loss: 116.9854 - val_loss: 0.0000e+00\n",
      "Epoch 9/50\n",
      "\u001b[1m600/600\u001b[0m \u001b[32m━━━━━━━━━━━━━━━━━━━━\u001b[0m\u001b[37m\u001b[0m \u001b[1m6s\u001b[0m 10ms/step - loss: 115.6083 - val_loss: 0.0000e+00\n",
      "Epoch 10/50\n",
      "\u001b[1m600/600\u001b[0m \u001b[32m━━━━━━━━━━━━━━━━━━━━\u001b[0m\u001b[37m\u001b[0m \u001b[1m6s\u001b[0m 10ms/step - loss: 114.5964 - val_loss: 0.0000e+00\n",
      "Epoch 11/50\n",
      "\u001b[1m600/600\u001b[0m \u001b[32m━━━━━━━━━━━━━━━━━━━━\u001b[0m\u001b[37m\u001b[0m \u001b[1m6s\u001b[0m 10ms/step - loss: 113.6767 - val_loss: 0.0000e+00\n",
      "Epoch 12/50\n",
      "\u001b[1m600/600\u001b[0m \u001b[32m━━━━━━━━━━━━━━━━━━━━\u001b[0m\u001b[37m\u001b[0m \u001b[1m10s\u001b[0m 10ms/step - loss: 112.9794 - val_loss: 0.0000e+00\n",
      "Epoch 13/50\n",
      "\u001b[1m600/600\u001b[0m \u001b[32m━━━━━━━━━━━━━━━━━━━━\u001b[0m\u001b[37m\u001b[0m \u001b[1m6s\u001b[0m 10ms/step - loss: 112.3440 - val_loss: 0.0000e+00\n",
      "Epoch 14/50\n",
      "\u001b[1m600/600\u001b[0m \u001b[32m━━━━━━━━━━━━━━━━━━━━\u001b[0m\u001b[37m\u001b[0m \u001b[1m10s\u001b[0m 9ms/step - loss: 111.8720 - val_loss: 0.0000e+00\n",
      "Epoch 15/50\n",
      "\u001b[1m600/600\u001b[0m \u001b[32m━━━━━━━━━━━━━━━━━━━━\u001b[0m\u001b[37m\u001b[0m \u001b[1m6s\u001b[0m 9ms/step - loss: 111.4497 - val_loss: 0.0000e+00\n",
      "Epoch 16/50\n",
      "\u001b[1m600/600\u001b[0m \u001b[32m━━━━━━━━━━━━━━━━━━━━\u001b[0m\u001b[37m\u001b[0m \u001b[1m11s\u001b[0m 10ms/step - loss: 111.0490 - val_loss: 0.0000e+00\n",
      "Epoch 17/50\n",
      "\u001b[1m600/600\u001b[0m \u001b[32m━━━━━━━━━━━━━━━━━━━━\u001b[0m\u001b[37m\u001b[0m \u001b[1m6s\u001b[0m 10ms/step - loss: 110.6481 - val_loss: 0.0000e+00\n",
      "Epoch 18/50\n",
      "\u001b[1m600/600\u001b[0m \u001b[32m━━━━━━━━━━━━━━━━━━━━\u001b[0m\u001b[37m\u001b[0m \u001b[1m6s\u001b[0m 9ms/step - loss: 110.3611 - val_loss: 0.0000e+00\n",
      "Epoch 19/50\n",
      "\u001b[1m600/600\u001b[0m \u001b[32m━━━━━━━━━━━━━━━━━━━━\u001b[0m\u001b[37m\u001b[0m \u001b[1m10s\u001b[0m 9ms/step - loss: 110.0563 - val_loss: 0.0000e+00\n",
      "Epoch 20/50\n",
      "\u001b[1m600/600\u001b[0m \u001b[32m━━━━━━━━━━━━━━━━━━━━\u001b[0m\u001b[37m\u001b[0m \u001b[1m11s\u001b[0m 9ms/step - loss: 109.7970 - val_loss: 0.0000e+00\n",
      "Epoch 21/50\n",
      "\u001b[1m600/600\u001b[0m \u001b[32m━━━━━━━━━━━━━━━━━━━━\u001b[0m\u001b[37m\u001b[0m \u001b[1m6s\u001b[0m 9ms/step - loss: 109.5832 - val_loss: 0.0000e+00\n",
      "Epoch 22/50\n",
      "\u001b[1m600/600\u001b[0m \u001b[32m━━━━━━━━━━━━━━━━━━━━\u001b[0m\u001b[37m\u001b[0m \u001b[1m5s\u001b[0m 9ms/step - loss: 109.3244 - val_loss: 0.0000e+00\n",
      "Epoch 23/50\n",
      "\u001b[1m600/600\u001b[0m \u001b[32m━━━━━━━━━━━━━━━━━━━━\u001b[0m\u001b[37m\u001b[0m \u001b[1m10s\u001b[0m 9ms/step - loss: 109.1084 - val_loss: 0.0000e+00\n",
      "Epoch 24/50\n",
      "\u001b[1m600/600\u001b[0m \u001b[32m━━━━━━━━━━━━━━━━━━━━\u001b[0m\u001b[37m\u001b[0m \u001b[1m5s\u001b[0m 9ms/step - loss: 108.9504 - val_loss: 0.0000e+00\n",
      "Epoch 25/50\n",
      "\u001b[1m600/600\u001b[0m \u001b[32m━━━━━━━━━━━━━━━━━━━━\u001b[0m\u001b[37m\u001b[0m \u001b[1m5s\u001b[0m 9ms/step - loss: 108.7798 - val_loss: 0.0000e+00\n",
      "Epoch 26/50\n",
      "\u001b[1m600/600\u001b[0m \u001b[32m━━━━━━━━━━━━━━━━━━━━\u001b[0m\u001b[37m\u001b[0m \u001b[1m10s\u001b[0m 9ms/step - loss: 108.6264 - val_loss: 0.0000e+00\n",
      "Epoch 27/50\n",
      "\u001b[1m600/600\u001b[0m \u001b[32m━━━━━━━━━━━━━━━━━━━━\u001b[0m\u001b[37m\u001b[0m \u001b[1m5s\u001b[0m 9ms/step - loss: 108.4137 - val_loss: 0.0000e+00\n",
      "Epoch 28/50\n",
      "\u001b[1m600/600\u001b[0m \u001b[32m━━━━━━━━━━━━━━━━━━━━\u001b[0m\u001b[37m\u001b[0m \u001b[1m6s\u001b[0m 9ms/step - loss: 108.3158 - val_loss: 0.0000e+00\n",
      "Epoch 29/50\n",
      "\u001b[1m600/600\u001b[0m \u001b[32m━━━━━━━━━━━━━━━━━━━━\u001b[0m\u001b[37m\u001b[0m \u001b[1m6s\u001b[0m 9ms/step - loss: 108.1812 - val_loss: 0.0000e+00\n",
      "Epoch 30/50\n",
      "\u001b[1m600/600\u001b[0m \u001b[32m━━━━━━━━━━━━━━━━━━━━\u001b[0m\u001b[37m\u001b[0m \u001b[1m10s\u001b[0m 9ms/step - loss: 108.0111 - val_loss: 0.0000e+00\n",
      "Epoch 31/50\n",
      "\u001b[1m600/600\u001b[0m \u001b[32m━━━━━━━━━━━━━━━━━━━━\u001b[0m\u001b[37m\u001b[0m \u001b[1m10s\u001b[0m 9ms/step - loss: 107.8687 - val_loss: 0.0000e+00\n",
      "Epoch 32/50\n",
      "\u001b[1m600/600\u001b[0m \u001b[32m━━━━━━━━━━━━━━━━━━━━\u001b[0m\u001b[37m\u001b[0m \u001b[1m5s\u001b[0m 9ms/step - loss: 107.7434 - val_loss: 0.0000e+00\n",
      "Epoch 33/50\n",
      "\u001b[1m600/600\u001b[0m \u001b[32m━━━━━━━━━━━━━━━━━━━━\u001b[0m\u001b[37m\u001b[0m \u001b[1m6s\u001b[0m 9ms/step - loss: 107.6552 - val_loss: 0.0000e+00\n",
      "Epoch 34/50\n",
      "\u001b[1m600/600\u001b[0m \u001b[32m━━━━━━━━━━━━━━━━━━━━\u001b[0m\u001b[37m\u001b[0m \u001b[1m6s\u001b[0m 9ms/step - loss: 107.5353 - val_loss: 0.0000e+00\n",
      "Epoch 35/50\n",
      "\u001b[1m600/600\u001b[0m \u001b[32m━━━━━━━━━━━━━━━━━━━━\u001b[0m\u001b[37m\u001b[0m \u001b[1m6s\u001b[0m 9ms/step - loss: 107.4298 - val_loss: 0.0000e+00\n",
      "Epoch 36/50\n",
      "\u001b[1m600/600\u001b[0m \u001b[32m━━━━━━━━━━━━━━━━━━━━\u001b[0m\u001b[37m\u001b[0m \u001b[1m5s\u001b[0m 9ms/step - loss: 107.3189 - val_loss: 0.0000e+00\n",
      "Epoch 37/50\n",
      "\u001b[1m600/600\u001b[0m \u001b[32m━━━━━━━━━━━━━━━━━━━━\u001b[0m\u001b[37m\u001b[0m \u001b[1m6s\u001b[0m 9ms/step - loss: 107.2271 - val_loss: 0.0000e+00\n",
      "Epoch 38/50\n",
      "\u001b[1m600/600\u001b[0m \u001b[32m━━━━━━━━━━━━━━━━━━━━\u001b[0m\u001b[37m\u001b[0m \u001b[1m10s\u001b[0m 9ms/step - loss: 107.1231 - val_loss: 0.0000e+00\n",
      "Epoch 39/50\n",
      "\u001b[1m600/600\u001b[0m \u001b[32m━━━━━━━━━━━━━━━━━━━━\u001b[0m\u001b[37m\u001b[0m \u001b[1m6s\u001b[0m 10ms/step - loss: 107.0138 - val_loss: 0.0000e+00\n",
      "Epoch 40/50\n",
      "\u001b[1m600/600\u001b[0m \u001b[32m━━━━━━━━━━━━━━━━━━━━\u001b[0m\u001b[37m\u001b[0m \u001b[1m6s\u001b[0m 10ms/step - loss: 106.9433 - val_loss: 0.0000e+00\n",
      "Epoch 41/50\n",
      "\u001b[1m600/600\u001b[0m \u001b[32m━━━━━━━━━━━━━━━━━━━━\u001b[0m\u001b[37m\u001b[0m \u001b[1m6s\u001b[0m 9ms/step - loss: 106.8479 - val_loss: 0.0000e+00\n",
      "Epoch 42/50\n",
      "\u001b[1m600/600\u001b[0m \u001b[32m━━━━━━━━━━━━━━━━━━━━\u001b[0m\u001b[37m\u001b[0m \u001b[1m6s\u001b[0m 9ms/step - loss: 106.7465 - val_loss: 0.0000e+00\n",
      "Epoch 43/50\n",
      "\u001b[1m600/600\u001b[0m \u001b[32m━━━━━━━━━━━━━━━━━━━━\u001b[0m\u001b[37m\u001b[0m \u001b[1m6s\u001b[0m 9ms/step - loss: 106.6802 - val_loss: 0.0000e+00\n",
      "Epoch 44/50\n",
      "\u001b[1m600/600\u001b[0m \u001b[32m━━━━━━━━━━━━━━━━━━━━\u001b[0m\u001b[37m\u001b[0m \u001b[1m10s\u001b[0m 9ms/step - loss: 106.6086 - val_loss: 0.0000e+00\n",
      "Epoch 45/50\n",
      "\u001b[1m600/600\u001b[0m \u001b[32m━━━━━━━━━━━━━━━━━━━━\u001b[0m\u001b[37m\u001b[0m \u001b[1m6s\u001b[0m 10ms/step - loss: 106.5284 - val_loss: 0.0000e+00\n",
      "Epoch 46/50\n",
      "\u001b[1m600/600\u001b[0m \u001b[32m━━━━━━━━━━━━━━━━━━━━\u001b[0m\u001b[37m\u001b[0m \u001b[1m6s\u001b[0m 9ms/step - loss: 106.4678 - val_loss: 0.0000e+00\n",
      "Epoch 47/50\n",
      "\u001b[1m600/600\u001b[0m \u001b[32m━━━━━━━━━━━━━━━━━━━━\u001b[0m\u001b[37m\u001b[0m \u001b[1m10s\u001b[0m 10ms/step - loss: 106.3653 - val_loss: 0.0000e+00\n",
      "Epoch 48/50\n",
      "\u001b[1m600/600\u001b[0m \u001b[32m━━━━━━━━━━━━━━━━━━━━\u001b[0m\u001b[37m\u001b[0m \u001b[1m6s\u001b[0m 9ms/step - loss: 106.3216 - val_loss: 0.0000e+00\n",
      "Epoch 49/50\n",
      "\u001b[1m600/600\u001b[0m \u001b[32m━━━━━━━━━━━━━━━━━━━━\u001b[0m\u001b[37m\u001b[0m \u001b[1m6s\u001b[0m 10ms/step - loss: 106.2229 - val_loss: 0.0000e+00\n",
      "Epoch 50/50\n",
      "\u001b[1m600/600\u001b[0m \u001b[32m━━━━━━━━━━━━━━━━━━━━\u001b[0m\u001b[37m\u001b[0m \u001b[1m6s\u001b[0m 10ms/step - loss: 106.1619 - val_loss: 0.0000e+00\n"
     ]
    }
   ],
   "source": [
    "# Print shapes for debugging\n",
    "print(\"Training data shape:\", x_train.shape)\n",
    "print(\"Validation data shape:\", x_test.shape)\n",
    "\n",
    "vae.fit(x_train, shuffle=True, epochs=epochs, batch_size=batch_size, validation_data=(x_test, None))\n",
    "\n",
    "vae.save_weights(\"vae.weights.h5\")"
   ]
  },
  {
   "cell_type": "markdown",
   "id": "24f71ff1",
   "metadata": {
    "id": "OgS9EBeAGVBM",
    "papermill": {
     "duration": 0.518741,
     "end_time": "2024-05-20T18:59:26.279924",
     "exception": false,
     "start_time": "2024-05-20T18:59:25.761183",
     "status": "completed"
    },
    "tags": []
   },
   "source": [
    "Let us plot some examples"
   ]
  },
  {
   "cell_type": "code",
   "execution_count": 11,
   "id": "bc4fbb95",
   "metadata": {
    "execution": {
     "iopub.execute_input": "2024-05-20T18:59:27.273769Z",
     "iopub.status.busy": "2024-05-20T18:59:27.273339Z",
     "iopub.status.idle": "2024-05-20T18:59:27.281597Z",
     "shell.execute_reply": "2024-05-20T18:59:27.280271Z"
    },
    "id": "QhEuyvLqmg9Z",
    "papermill": {
     "duration": 0.505901,
     "end_time": "2024-05-20T18:59:27.284259",
     "exception": false,
     "start_time": "2024-05-20T18:59:26.778358",
     "status": "completed"
    },
    "tags": []
   },
   "outputs": [],
   "source": [
    "def plot(images):\n",
    "    n = images.shape[0]\n",
    "    plt.figure(figsize=(2*n, 2))\n",
    "    \n",
    "    for i in range(n):\n",
    "        # display original\n",
    "        ax = plt.subplot(1, n, i + 1)\n",
    "        plt.imshow(images[i].reshape(28, 28))\n",
    "        plt.gray()\n",
    "        ax.get_xaxis().set_visible(False)\n",
    "        ax.get_yaxis().set_visible(False)\n",
    "    \n",
    "    plt.show()"
   ]
  },
  {
   "cell_type": "code",
   "execution_count": 12,
   "id": "4ee37e33",
   "metadata": {
    "execution": {
     "iopub.execute_input": "2024-05-20T18:59:28.245778Z",
     "iopub.status.busy": "2024-05-20T18:59:28.245372Z",
     "iopub.status.idle": "2024-05-20T18:59:29.289067Z",
     "shell.execute_reply": "2024-05-20T18:59:29.287439Z"
    },
    "id": "kts9354Pmq9Y",
    "outputId": "7c7ce849-1593-414c-ebbe-d8b089fc8aa8",
    "papermill": {
     "duration": 1.531236,
     "end_time": "2024-05-20T18:59:29.292000",
     "exception": false,
     "start_time": "2024-05-20T18:59:27.760764",
     "status": "completed"
    },
    "tags": []
   },
   "outputs": [
    {
     "name": "stdout",
     "output_type": "stream",
     "text": [
      "\u001b[1m1/1\u001b[0m \u001b[32m━━━━━━━━━━━━━━━━━━━━\u001b[0m\u001b[37m\u001b[0m \u001b[1m0s\u001b[0m 83ms/step\n"
     ]
    },
    {
     "data": {
      "image/png": "[encoded data removed]",
      "text/plain": [
       "<Figure size 2000x200 with 10 Axes>"
      ]
     },
     "metadata": {},
     "output_type": "display_data"
    }
   ],
   "source": [
    "z_sample = np.random.normal(size=(10, latent_dim))  # Creating 10 samples - latent_dim is dimensionality of the latent space\n",
    "generated = decoder.predict(z_sample)  # generates new data from the random latent samples.\n",
    "plot(generated)"
   ]
  }
 ],
 "metadata": {
  "accelerator": "GPU",
  "colab": {
   "name": "VAE.ipynb",
   "provenance": []
  },
  "kaggle": {
   "accelerator": "none",
   "dataSources": [],
   "dockerImageVersionId": 30698,
   "isGpuEnabled": false,
   "isInternetEnabled": true,
   "language": "python",
   "sourceType": "notebook"
  },
  "kernelspec": {
   "display_name": "Python 3",
   "language": "python",
   "name": "python3"
  },
  "language_info": {
   "codemirror_mode": {
    "name": "ipython",
    "version": 3
   },
   "file_extension": ".py",
   "mimetype": "text/x-python",
   "name": "python",
   "nbconvert_exporter": "python",
   "pygments_lexer": "ipython3",
   "version": "3.10.13"
  },
  "papermill": {
   "default_parameters": {},
   "duration": 379.622283,
   "end_time": "2024-05-20T18:59:32.855142",
   "environment_variables": {},
   "exception": null,
   "input_path": "__notebook__.ipynb",
   "output_path": "__notebook__.ipynb",
   "parameters": {},
   "start_time": "2024-05-20T18:53:13.232859",
   "version": "2.5.0"
  }
 },
 "nbformat": 4,
 "nbformat_minor": 5
}
