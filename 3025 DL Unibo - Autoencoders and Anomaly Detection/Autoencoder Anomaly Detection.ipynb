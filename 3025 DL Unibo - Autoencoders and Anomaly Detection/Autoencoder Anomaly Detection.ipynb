{
 "cells": [
  {
   "cell_type": "markdown",
   "id": "f72c8c27",
   "metadata": {
    "papermill": {
     "duration": 0.009501,
     "end_time": "2024-05-17T06:02:18.124018",
     "exception": false,
     "start_time": "2024-05-17T06:02:18.114517",
     "status": "completed"
    },
    "tags": []
   },
   "source": [
    "# Autoencoders \n",
    "Autoencoders are a type of neural network for unsupervised learning tasks, particularly for dimensionality reduction, feature learning, and data denoising. They are designed to learn efficient codings of input data by training the network to compress the input into a latent-space representation and then reconstruct the output from this representation.\n",
    "\n",
    "An autoencoder consists of two main parts:\n",
    "\n",
    "1. **Encoder**: The encoder part of the network compresses the input data into a latent-space representation. It maps the input $ \\mathbf{x} $ to a hidden representation $ \\mathbf{z} $ using one or more layers. The transformation is typically defined as:\n",
    "   $$\n",
    "   \\mathbf{z} = f(\\mathbf{x})\n",
    "   $$\n",
    "   where $ f $ is a function representing the encoder, often involving several neural network layers.\n",
    "\n",
    "2. **Decoder**: The decoder part of the network reconstructs the input data from the latent representation. It maps the hidden representation $ \\mathbf{z} $ back to the input space, producing a reconstruction $ \\mathbf{x'} $:\n",
    "   $$\n",
    "   \\mathbf{x'} = g(\\mathbf{z})\n",
    "   $$\n",
    "   where $ g $ is a function representing the decoder, again often involving several neural network layers.\n",
    "\n",
    "The goal of training an autoencoder is to make the reconstructed input $ \\mathbf{x'} $ as close as possible to the original input $ \\mathbf{x}  $. This is typically achieved by minimizing a reconstruction loss function, such as mean squared error (MSE) or binary cross-entropy depending on the nature of the input data.\n",
    "\n",
    "### Types of Autoencoders\n",
    "\n",
    "1. **Basic Autoencoders**: These consist of a simple encoder-decoder pair, with the aim of learning a compressed representation of the input data.\n",
    "\n",
    "2. **Denoising Autoencoders**: These are trained to remove noise from the input data. During training, the input data is corrupted with noise, and the autoencoder learns to reconstruct the original, noise-free data.\n",
    "\n",
    "3. **Sparse Autoencoders**: These impose a sparsity constraint on the hidden units, encouraging the network to learn a more efficient and meaningful representation by activating only a small number of neurons in the latent space.\n",
    "\n",
    "4. **Variational Autoencoders (VAEs)**: These are probabilistic models that learn the underlying distribution of the data. They consist of an encoder that maps the input to a distribution in the latent space and a decoder that samples from this distribution to reconstruct the input.\n",
    "\n",
    "5. **Convolutional Autoencoders**: These use convolutional layers in the encoder and decoder, making them suitable for image data. They can capture spatial hierarchies in the data.\n",
    "\n",
    "### Applications of Autoencoders\n",
    "\n",
    "- **Dimensionality Reduction**: Reducing the number of features in the data while preserving important information.\n",
    "- **Feature Extraction**: Learning useful features from the data for tasks such as classification and clustering.\n",
    "- **Denoising**: Removing noise from corrupted data.\n",
    "- **Image Compression**: Compressing image data while retaining important visual information.\n",
    "- **Anomaly Detection**: Identifying anomalies in the data by detecting deviations from the learned normal patterns.\n"
   ]
  },
  {
   "cell_type": "markdown",
   "id": "b4490b0d",
   "metadata": {
    "id": "tdJWYFlSYr2a",
    "papermill": {
     "duration": 0.009084,
     "end_time": "2024-05-17T06:02:18.141918",
     "exception": false,
     "start_time": "2024-05-17T06:02:18.132834",
     "status": "completed"
    },
    "tags": []
   },
   "source": [
    "In this notebook we will build a simple auotencoder for Mnist data, and show how to use it for anomaly detection."
   ]
  },
  {
   "cell_type": "code",
   "execution_count": 1,
   "id": "ecfbd5d0",
   "metadata": {
    "execution": {
     "iopub.execute_input": "2024-05-17T06:02:18.161618Z",
     "iopub.status.busy": "2024-05-17T06:02:18.160901Z",
     "iopub.status.idle": "2024-05-17T06:02:33.410115Z",
     "shell.execute_reply": "2024-05-17T06:02:33.408270Z"
    },
    "id": "gfzis0VRTzx4",
    "papermill": {
     "duration": 15.264134,
     "end_time": "2024-05-17T06:02:33.414662",
     "exception": false,
     "start_time": "2024-05-17T06:02:18.150528",
     "status": "completed"
    },
    "tags": []
   },
   "outputs": [
    {
     "name": "stderr",
     "output_type": "stream",
     "text": [
      "2024-05-17 06:02:20.409789: E external/local_xla/xla/stream_executor/cuda/cuda_dnn.cc:9261] Unable to register cuDNN factory: Attempting to register factory for plugin cuDNN when one has already been registered\n",
      "2024-05-17 06:02:20.409948: E external/local_xla/xla/stream_executor/cuda/cuda_fft.cc:607] Unable to register cuFFT factory: Attempting to register factory for plugin cuFFT when one has already been registered\n",
      "2024-05-17 06:02:20.555162: E external/local_xla/xla/stream_executor/cuda/cuda_blas.cc:1515] Unable to register cuBLAS factory: Attempting to register factory for plugin cuBLAS when one has already been registered\n"
     ]
    }
   ],
   "source": [
    "import tensorflow as tf\n",
    "from tensorflow.keras import layers\n",
    "from tensorflow.keras.models import Model\n",
    "from tensorflow.keras.optimizers import Adam"
   ]
  },
  {
   "cell_type": "markdown",
   "id": "d1717205",
   "metadata": {
    "id": "UUejWwcHYqyC",
    "papermill": {
     "duration": 0.01274,
     "end_time": "2024-05-17T06:02:33.445024",
     "exception": false,
     "start_time": "2024-05-17T06:02:33.432284",
     "status": "completed"
    },
    "tags": []
   },
   "source": [
    "# How Autoencoder works\n",
    "Both the encoder and the decoder are just composed by a couple of dense layers. The latent dimension is 16. This means that each input is reduced from an initial dimensions of 28*28=784 (Dimension of each image in MNIST) to a an internal dimension of just 16 floats.\n",
    "\n",
    "Most of the relevant information is preserved, as testified by the fact that we are able to reconstruct, out of this 16 values, an image very similar to the original one.\n",
    "\n",
    "### Structure of the Autoencoder\n",
    "\n",
    "1. **Input Layer**: The input layer consists of 784 neurons (28x28 pixels flattened into a vector).\n",
    "\n",
    "2. **Encoder**: The encoder compresses the input into a lower-dimensional representation. It might consist of a few dense (fully connected) layers that gradually reduce the dimensionality. For instance:\n",
    "   - Dense layer 1: 784 neurons (input layer).\n",
    "   - Dense layer 2: 128 neurons.\n",
    "   - Dense layer 3: 64 neurons.\n",
    "   - Dense layer 4: 32 neurons.\n",
    "   - Dense layer 5: 16 neurons (latent space).\n",
    "\n",
    "3. **Latent Space**: The latent space, also known as the `bottleneck`, is a layer with 16 neurons. This represents the compressed form of the input data. Despite the significant reduction in dimensions, this latent space captures the most relevant features of the input data.\n",
    "\n",
    "4. **Decoder**: The decoder reconstructs the data from the latent space back to the original dimensions. It consists of several dense layers that progressively increase the dimensionality back to 784 neurons. For instance:\n",
    "   - Dense layer 6: 32 neurons.\n",
    "   - Dense layer 7: 64 neurons.\n",
    "   - Dense layer 8: 128 neurons.\n",
    "   - Dense layer 9: 784 neurons (output layer).\n",
    "\n",
    "5. **Output Layer**: The output layer aims to reconstruct the original input image, also with 784 neurons reshaped back to 28x28 pixels.\n",
    "\n",
    "### Why It Works\n",
    "\n",
    "- **Dimensionality Reduction**: The encoder reduces the input data from 784 dimensions to 16 dimensions. This compression forces the network to learn the most important features of the data, effectively performing dimensionality reduction.\n",
    "\n",
    "- **Feature Learning**: By training the autoencoder, the encoder learns a meaningful representation of the data in the latent space. These 16 values represent the core features necessary to reconstruct the original image.\n",
    "\n",
    "- **Reconstruction**: Despite the drastic reduction in dimensions, the decoder can reconstruct an image similar to the original. This indicates that the autoencoder has successfully learned the important features and can recreate the input data from the compressed representation.\n",
    "\n",
    "### Training Process\n",
    "\n",
    "- **Loss Function**: The training involves minimizing a reconstruction loss, such as mean squared error (MSE), which measures the difference between the input image and the reconstructed image.\n",
    "  \n",
    "- **Optimization**: Through backpropagation and optimization techniques (e.g., stochastic gradient descent, Adam), the weights of the encoder and decoder are adjusted to minimize the reconstruction loss.\n",
    "\n",
    "### Practical Implementation\n",
    "\n",
    "Here is a simple implementation in Python using Keras:\n",
    "\n",
    "```python\n",
    "from keras.layers import Input, Dense\n",
    "from keras.models import Model\n",
    "\n",
    "# Input layer\n",
    "input_img = Input(shape=(784,))\n",
    "\n",
    "# Encoder\n",
    "encoded = Dense(128, activation='relu')(input_img)\n",
    "encoded = Dense(64, activation='relu')(encoded)\n",
    "encoded = Dense(32, activation='relu')(encoded)\n",
    "encoded = Dense(16, activation='relu')(encoded)\n",
    "\n",
    "# Decoder\n",
    "decoded = Dense(32, activation='relu')(encoded)\n",
    "decoded = Dense(64, activation='relu')(decoded)\n",
    "decoded = Dense(128, activation='relu')(decoded)\n",
    "decoded = Dense(784, activation='sigmoid')(decoded)\n",
    "\n",
    "# Autoencoder model\n",
    "autoencoder = Model(input_img, decoded)\n",
    "\n",
    "# Compile the model\n",
    "autoencoder.compile(optimizer='adam', loss='mean_squared_error')\n",
    "\n",
    "# Train the model\n",
    "# Assuming X_train contains the training data\n",
    "autoencoder.fit(X_train, X_train, epochs=50, batch_size=256, shuffle=True, validation_data=(X_test, X_test))\n",
    "```\n",
    "\n",
    "An autoencoder with dense layers compresses input data into a low-dimensional latent space and reconstructs it, effectively learning to capture the essential features of the input data. Despite the significant reduction in dimensions, the reconstruction's similarity to the original input demonstrates the autoencoder's ability to preserve relevant information."
   ]
  },
  {
   "cell_type": "code",
   "execution_count": 2,
   "id": "53340580",
   "metadata": {
    "execution": {
     "iopub.execute_input": "2024-05-17T06:02:33.471816Z",
     "iopub.status.busy": "2024-05-17T06:02:33.470532Z",
     "iopub.status.idle": "2024-05-17T06:02:33.565660Z",
     "shell.execute_reply": "2024-05-17T06:02:33.564330Z"
    },
    "id": "BTo6QGjpUL-6",
    "papermill": {
     "duration": 0.11265,
     "end_time": "2024-05-17T06:02:33.568677",
     "exception": false,
     "start_time": "2024-05-17T06:02:33.456027",
     "status": "completed"
    },
    "tags": []
   },
   "outputs": [],
   "source": [
    "# size of our encoded representations\n",
    "mid_dim = 64\n",
    "encoding_dim = 16 \n",
    "\n",
    "# Input \n",
    "input_img = layers.Input(shape=(784, ))\n",
    "\n",
    "# \"encoded\" is the encoded representation of the input\n",
    "encoded = layers.Dense(mid_dim, activation='relu')(input_img)\n",
    "encoded = layers.Dense(encoding_dim, activation='relu')(encoded)\n",
    "\n",
    "# \"decoded\" is the lossy reconstruction of the input\n",
    "decoded = layers.Dense(mid_dim, activation='relu')(encoded)\n",
    "decoded = layers.Dense(784, activation='sigmoid')(decoded)\n",
    "\n",
    "# this model maps an input to its reconstruction\n",
    "autoencoder = Model(input_img, decoded)"
   ]
  },
  {
   "cell_type": "code",
   "execution_count": 3,
   "id": "c2a57c5b",
   "metadata": {
    "execution": {
     "iopub.execute_input": "2024-05-17T06:02:33.589544Z",
     "iopub.status.busy": "2024-05-17T06:02:33.589175Z",
     "iopub.status.idle": "2024-05-17T06:02:33.629219Z",
     "shell.execute_reply": "2024-05-17T06:02:33.624705Z"
    },
    "id": "pxo-bQN_UpeW",
    "outputId": "1c433068-180d-4b36-ad28-f18a372df307",
    "papermill": {
     "duration": 0.054984,
     "end_time": "2024-05-17T06:02:33.633067",
     "exception": false,
     "start_time": "2024-05-17T06:02:33.578083",
     "status": "completed"
    },
    "tags": []
   },
   "outputs": [
    {
     "data": {
      "text/html": [
       "<pre style=\"white-space:pre;overflow-x:auto;line-height:normal;font-family:Menlo,'DejaVu Sans Mono',consolas,'Courier New',monospace\"><span style=\"font-weight: bold\">Model: \"functional_1\"</span>\n",
       "</pre>\n"
      ],
      "text/plain": [
       "\u001b[1mModel: \"functional_1\"\u001b[0m\n"
      ]
     },
     "metadata": {},
     "output_type": "display_data"
    },
    {
     "data": {
      "text/html": [
       "<pre style=\"white-space:pre;overflow-x:auto;line-height:normal;font-family:Menlo,'DejaVu Sans Mono',consolas,'Courier New',monospace\">┏━━━━━━━━━━━━━━━━━━━━━━━━━━━━━━━━━┳━━━━━━━━━━━━━━━━━━━━━━━━┳━━━━━━━━━━━━━━━┓\n",
       "┃<span style=\"font-weight: bold\"> Layer (type)                    </span>┃<span style=\"font-weight: bold\"> Output Shape           </span>┃<span style=\"font-weight: bold\">       Param # </span>┃\n",
       "┡━━━━━━━━━━━━━━━━━━━━━━━━━━━━━━━━━╇━━━━━━━━━━━━━━━━━━━━━━━━╇━━━━━━━━━━━━━━━┩\n",
       "│ input_layer (<span style=\"color: #0087ff; text-decoration-color: #0087ff\">InputLayer</span>)        │ (<span style=\"color: #00d7ff; text-decoration-color: #00d7ff\">None</span>, <span style=\"color: #00af00; text-decoration-color: #00af00\">784</span>)            │             <span style=\"color: #00af00; text-decoration-color: #00af00\">0</span> │\n",
       "├─────────────────────────────────┼────────────────────────┼───────────────┤\n",
       "│ dense (<span style=\"color: #0087ff; text-decoration-color: #0087ff\">Dense</span>)                   │ (<span style=\"color: #00d7ff; text-decoration-color: #00d7ff\">None</span>, <span style=\"color: #00af00; text-decoration-color: #00af00\">64</span>)             │        <span style=\"color: #00af00; text-decoration-color: #00af00\">50,240</span> │\n",
       "├─────────────────────────────────┼────────────────────────┼───────────────┤\n",
       "│ dense_1 (<span style=\"color: #0087ff; text-decoration-color: #0087ff\">Dense</span>)                 │ (<span style=\"color: #00d7ff; text-decoration-color: #00d7ff\">None</span>, <span style=\"color: #00af00; text-decoration-color: #00af00\">16</span>)             │         <span style=\"color: #00af00; text-decoration-color: #00af00\">1,040</span> │\n",
       "├─────────────────────────────────┼────────────────────────┼───────────────┤\n",
       "│ dense_2 (<span style=\"color: #0087ff; text-decoration-color: #0087ff\">Dense</span>)                 │ (<span style=\"color: #00d7ff; text-decoration-color: #00d7ff\">None</span>, <span style=\"color: #00af00; text-decoration-color: #00af00\">64</span>)             │         <span style=\"color: #00af00; text-decoration-color: #00af00\">1,088</span> │\n",
       "├─────────────────────────────────┼────────────────────────┼───────────────┤\n",
       "│ dense_3 (<span style=\"color: #0087ff; text-decoration-color: #0087ff\">Dense</span>)                 │ (<span style=\"color: #00d7ff; text-decoration-color: #00d7ff\">None</span>, <span style=\"color: #00af00; text-decoration-color: #00af00\">784</span>)            │        <span style=\"color: #00af00; text-decoration-color: #00af00\">50,960</span> │\n",
       "└─────────────────────────────────┴────────────────────────┴───────────────┘\n",
       "</pre>\n"
      ],
      "text/plain": [
       "┏━━━━━━━━━━━━━━━━━━━━━━━━━━━━━━━━━┳━━━━━━━━━━━━━━━━━━━━━━━━┳━━━━━━━━━━━━━━━┓\n",
       "┃\u001b[1m \u001b[0m\u001b[1mLayer (type)                   \u001b[0m\u001b[1m \u001b[0m┃\u001b[1m \u001b[0m\u001b[1mOutput Shape          \u001b[0m\u001b[1m \u001b[0m┃\u001b[1m \u001b[0m\u001b[1m      Param #\u001b[0m\u001b[1m \u001b[0m┃\n",
       "┡━━━━━━━━━━━━━━━━━━━━━━━━━━━━━━━━━╇━━━━━━━━━━━━━━━━━━━━━━━━╇━━━━━━━━━━━━━━━┩\n",
       "│ input_layer (\u001b[38;5;33mInputLayer\u001b[0m)        │ (\u001b[38;5;45mNone\u001b[0m, \u001b[38;5;34m784\u001b[0m)            │             \u001b[38;5;34m0\u001b[0m │\n",
       "├─────────────────────────────────┼────────────────────────┼───────────────┤\n",
       "│ dense (\u001b[38;5;33mDense\u001b[0m)                   │ (\u001b[38;5;45mNone\u001b[0m, \u001b[38;5;34m64\u001b[0m)             │        \u001b[38;5;34m50,240\u001b[0m │\n",
       "├─────────────────────────────────┼────────────────────────┼───────────────┤\n",
       "│ dense_1 (\u001b[38;5;33mDense\u001b[0m)                 │ (\u001b[38;5;45mNone\u001b[0m, \u001b[38;5;34m16\u001b[0m)             │         \u001b[38;5;34m1,040\u001b[0m │\n",
       "├─────────────────────────────────┼────────────────────────┼───────────────┤\n",
       "│ dense_2 (\u001b[38;5;33mDense\u001b[0m)                 │ (\u001b[38;5;45mNone\u001b[0m, \u001b[38;5;34m64\u001b[0m)             │         \u001b[38;5;34m1,088\u001b[0m │\n",
       "├─────────────────────────────────┼────────────────────────┼───────────────┤\n",
       "│ dense_3 (\u001b[38;5;33mDense\u001b[0m)                 │ (\u001b[38;5;45mNone\u001b[0m, \u001b[38;5;34m784\u001b[0m)            │        \u001b[38;5;34m50,960\u001b[0m │\n",
       "└─────────────────────────────────┴────────────────────────┴───────────────┘\n"
      ]
     },
     "metadata": {},
     "output_type": "display_data"
    },
    {
     "data": {
      "text/html": [
       "<pre style=\"white-space:pre;overflow-x:auto;line-height:normal;font-family:Menlo,'DejaVu Sans Mono',consolas,'Courier New',monospace\"><span style=\"font-weight: bold\"> Total params: </span><span style=\"color: #00af00; text-decoration-color: #00af00\">103,328</span> (403.62 KB)\n",
       "</pre>\n"
      ],
      "text/plain": [
       "\u001b[1m Total params: \u001b[0m\u001b[38;5;34m103,328\u001b[0m (403.62 KB)\n"
      ]
     },
     "metadata": {},
     "output_type": "display_data"
    },
    {
     "data": {
      "text/html": [
       "<pre style=\"white-space:pre;overflow-x:auto;line-height:normal;font-family:Menlo,'DejaVu Sans Mono',consolas,'Courier New',monospace\"><span style=\"font-weight: bold\"> Trainable params: </span><span style=\"color: #00af00; text-decoration-color: #00af00\">103,328</span> (403.62 KB)\n",
       "</pre>\n"
      ],
      "text/plain": [
       "\u001b[1m Trainable params: \u001b[0m\u001b[38;5;34m103,328\u001b[0m (403.62 KB)\n"
      ]
     },
     "metadata": {},
     "output_type": "display_data"
    },
    {
     "data": {
      "text/html": [
       "<pre style=\"white-space:pre;overflow-x:auto;line-height:normal;font-family:Menlo,'DejaVu Sans Mono',consolas,'Courier New',monospace\"><span style=\"font-weight: bold\"> Non-trainable params: </span><span style=\"color: #00af00; text-decoration-color: #00af00\">0</span> (0.00 B)\n",
       "</pre>\n"
      ],
      "text/plain": [
       "\u001b[1m Non-trainable params: \u001b[0m\u001b[38;5;34m0\u001b[0m (0.00 B)\n"
      ]
     },
     "metadata": {},
     "output_type": "display_data"
    }
   ],
   "source": [
    "autoencoder.summary()"
   ]
  },
  {
   "cell_type": "markdown",
   "id": "688eea2f",
   "metadata": {
    "id": "t6oO__LvanuN",
    "papermill": {
     "duration": 0.014037,
     "end_time": "2024-05-17T06:02:33.663612",
     "exception": false,
     "start_time": "2024-05-17T06:02:33.649575",
     "status": "completed"
    },
    "tags": []
   },
   "source": [
    "We can now compile the model and as loss function we can take mse or categorical crossentropy, as you prefer. "
   ]
  },
  {
   "cell_type": "code",
   "execution_count": 4,
   "id": "29517438",
   "metadata": {
    "execution": {
     "iopub.execute_input": "2024-05-17T06:02:33.690676Z",
     "iopub.status.busy": "2024-05-17T06:02:33.689779Z",
     "iopub.status.idle": "2024-05-17T06:02:33.707760Z",
     "shell.execute_reply": "2024-05-17T06:02:33.706800Z"
    },
    "id": "U4ynuGg2U5Yf",
    "papermill": {
     "duration": 0.033981,
     "end_time": "2024-05-17T06:02:33.710699",
     "exception": false,
     "start_time": "2024-05-17T06:02:33.676718",
     "status": "completed"
    },
    "tags": []
   },
   "outputs": [],
   "source": [
    "adam = Adam(0.001)\n",
    "autoencoder.compile(optimizer=adam, loss='mse')"
   ]
  },
  {
   "cell_type": "markdown",
   "id": "ec803b26",
   "metadata": {
    "id": "5QkSZJw9bC4M",
    "papermill": {
     "duration": 0.010037,
     "end_time": "2024-05-17T06:02:33.730611",
     "exception": false,
     "start_time": "2024-05-17T06:02:33.720574",
     "status": "completed"
    },
    "tags": []
   },
   "source": [
    "We now load the datatet, and normalize it in the range [0,1]. We are not using labels."
   ]
  },
  {
   "cell_type": "code",
   "execution_count": 5,
   "id": "d43af10a",
   "metadata": {
    "execution": {
     "iopub.execute_input": "2024-05-17T06:02:33.752928Z",
     "iopub.status.busy": "2024-05-17T06:02:33.752067Z",
     "iopub.status.idle": "2024-05-17T06:02:34.386206Z",
     "shell.execute_reply": "2024-05-17T06:02:34.384623Z"
    },
    "id": "DrxbCjv_VEr_",
    "outputId": "75e6942d-8c6d-4dbf-8613-621f729dc347",
    "papermill": {
     "duration": 0.64859,
     "end_time": "2024-05-17T06:02:34.389002",
     "exception": false,
     "start_time": "2024-05-17T06:02:33.740412",
     "status": "completed"
    },
    "tags": []
   },
   "outputs": [
    {
     "name": "stdout",
     "output_type": "stream",
     "text": [
      "Downloading data from https://storage.googleapis.com/tensorflow/tf-keras-datasets/mnist.npz\n",
      "\u001b[1m11490434/11490434\u001b[0m \u001b[32m━━━━━━━━━━━━━━━━━━━━\u001b[0m\u001b[37m\u001b[0m \u001b[1m0s\u001b[0m 0us/step\n",
      "(60000, 784)\n",
      "(10000, 784)\n"
     ]
    }
   ],
   "source": [
    "from keras.datasets import mnist\n",
    "import numpy as np\n",
    "\n",
    "(x_train, _), (x_test, _) = mnist.load_data()\n",
    "\n",
    "x_train = x_train.astype('float32') / 255.\n",
    "x_test = x_test.astype('float32') / 255.\n",
    "\n",
    "x_train = x_train.reshape((len(x_train), np.prod(x_train.shape[1:])))\n",
    "x_test = x_test.reshape((len(x_test), np.prod(x_test.shape[1:])))\n",
    "\n",
    "print(x_train.shape)\n",
    "print(x_test.shape)"
   ]
  },
  {
   "cell_type": "markdown",
   "id": "0c8e07b6",
   "metadata": {
    "id": "4f0kaHulbS8V",
    "papermill": {
     "duration": 0.01002,
     "end_time": "2024-05-17T06:02:34.409564",
     "exception": false,
     "start_time": "2024-05-17T06:02:34.399544",
     "status": "completed"
    },
    "tags": []
   },
   "source": [
    "Time to fit the model. Observe that the ground truth we need to compare with is in this case the input itself. In other words, the loss is the distance between the inout $X$ and its reconstruction $\\hat{X}$"
   ]
  },
  {
   "cell_type": "code",
   "execution_count": 6,
   "id": "7acc1812",
   "metadata": {
    "execution": {
     "iopub.execute_input": "2024-05-17T06:02:34.432930Z",
     "iopub.status.busy": "2024-05-17T06:02:34.431989Z",
     "iopub.status.idle": "2024-05-17T06:03:24.001220Z",
     "shell.execute_reply": "2024-05-17T06:03:23.999828Z"
    },
    "id": "FrHB6uf4VP2D",
    "outputId": "0caa2ccd-9f6b-4094-f6fa-e84e01130b8a",
    "papermill": {
     "duration": 49.5842,
     "end_time": "2024-05-17T06:03:24.004235",
     "exception": false,
     "start_time": "2024-05-17T06:02:34.420035",
     "status": "completed"
    },
    "tags": []
   },
   "outputs": [
    {
     "name": "stdout",
     "output_type": "stream",
     "text": [
      "Epoch 1/20\n",
      "\u001b[1m235/235\u001b[0m \u001b[32m━━━━━━━━━━━━━━━━━━━━\u001b[0m\u001b[37m\u001b[0m \u001b[1m4s\u001b[0m 10ms/step - loss: 0.1025 - val_loss: 0.0423\n",
      "Epoch 2/20\n",
      "\u001b[1m235/235\u001b[0m \u001b[32m━━━━━━━━━━━━━━━━━━━━\u001b[0m\u001b[37m\u001b[0m \u001b[1m2s\u001b[0m 8ms/step - loss: 0.0386 - val_loss: 0.0298\n",
      "Epoch 3/20\n",
      "\u001b[1m235/235\u001b[0m \u001b[32m━━━━━━━━━━━━━━━━━━━━\u001b[0m\u001b[37m\u001b[0m \u001b[1m3s\u001b[0m 8ms/step - loss: 0.0287 - val_loss: 0.0244\n",
      "Epoch 4/20\n",
      "\u001b[1m235/235\u001b[0m \u001b[32m━━━━━━━━━━━━━━━━━━━━\u001b[0m\u001b[37m\u001b[0m \u001b[1m2s\u001b[0m 8ms/step - loss: 0.0243 - val_loss: 0.0221\n",
      "Epoch 5/20\n",
      "\u001b[1m235/235\u001b[0m \u001b[32m━━━━━━━━━━━━━━━━━━━━\u001b[0m\u001b[37m\u001b[0m \u001b[1m3s\u001b[0m 8ms/step - loss: 0.0222 - val_loss: 0.0209\n",
      "Epoch 6/20\n",
      "\u001b[1m235/235\u001b[0m \u001b[32m━━━━━━━━━━━━━━━━━━━━\u001b[0m\u001b[37m\u001b[0m \u001b[1m3s\u001b[0m 8ms/step - loss: 0.0212 - val_loss: 0.0202\n",
      "Epoch 7/20\n",
      "\u001b[1m235/235\u001b[0m \u001b[32m━━━━━━━━━━━━━━━━━━━━\u001b[0m\u001b[37m\u001b[0m \u001b[1m3s\u001b[0m 8ms/step - loss: 0.0205 - val_loss: 0.0196\n",
      "Epoch 8/20\n",
      "\u001b[1m235/235\u001b[0m \u001b[32m━━━━━━━━━━━━━━━━━━━━\u001b[0m\u001b[37m\u001b[0m \u001b[1m3s\u001b[0m 8ms/step - loss: 0.0200 - val_loss: 0.0193\n",
      "Epoch 9/20\n",
      "\u001b[1m235/235\u001b[0m \u001b[32m━━━━━━━━━━━━━━━━━━━━\u001b[0m\u001b[37m\u001b[0m \u001b[1m2s\u001b[0m 8ms/step - loss: 0.0197 - val_loss: 0.0190\n",
      "Epoch 10/20\n",
      "\u001b[1m235/235\u001b[0m \u001b[32m━━━━━━━━━━━━━━━━━━━━\u001b[0m\u001b[37m\u001b[0m \u001b[1m2s\u001b[0m 8ms/step - loss: 0.0193 - val_loss: 0.0186\n",
      "Epoch 11/20\n",
      "\u001b[1m235/235\u001b[0m \u001b[32m━━━━━━━━━━━━━━━━━━━━\u001b[0m\u001b[37m\u001b[0m \u001b[1m2s\u001b[0m 8ms/step - loss: 0.0190 - val_loss: 0.0184\n",
      "Epoch 12/20\n",
      "\u001b[1m235/235\u001b[0m \u001b[32m━━━━━━━━━━━━━━━━━━━━\u001b[0m\u001b[37m\u001b[0m \u001b[1m3s\u001b[0m 8ms/step - loss: 0.0188 - val_loss: 0.0182\n",
      "Epoch 13/20\n",
      "\u001b[1m235/235\u001b[0m \u001b[32m━━━━━━━━━━━━━━━━━━━━\u001b[0m\u001b[37m\u001b[0m \u001b[1m2s\u001b[0m 8ms/step - loss: 0.0185 - val_loss: 0.0180\n",
      "Epoch 14/20\n",
      "\u001b[1m235/235\u001b[0m \u001b[32m━━━━━━━━━━━━━━━━━━━━\u001b[0m\u001b[37m\u001b[0m \u001b[1m3s\u001b[0m 9ms/step - loss: 0.0184 - val_loss: 0.0178\n",
      "Epoch 15/20\n",
      "\u001b[1m235/235\u001b[0m \u001b[32m━━━━━━━━━━━━━━━━━━━━\u001b[0m\u001b[37m\u001b[0m \u001b[1m2s\u001b[0m 8ms/step - loss: 0.0182 - val_loss: 0.0176\n",
      "Epoch 16/20\n",
      "\u001b[1m235/235\u001b[0m \u001b[32m━━━━━━━━━━━━━━━━━━━━\u001b[0m\u001b[37m\u001b[0m \u001b[1m3s\u001b[0m 8ms/step - loss: 0.0180 - val_loss: 0.0174\n",
      "Epoch 17/20\n",
      "\u001b[1m235/235\u001b[0m \u001b[32m━━━━━━━━━━━━━━━━━━━━\u001b[0m\u001b[37m\u001b[0m \u001b[1m2s\u001b[0m 8ms/step - loss: 0.0177 - val_loss: 0.0172\n",
      "Epoch 18/20\n",
      "\u001b[1m235/235\u001b[0m \u001b[32m━━━━━━━━━━━━━━━━━━━━\u001b[0m\u001b[37m\u001b[0m \u001b[1m3s\u001b[0m 8ms/step - loss: 0.0176 - val_loss: 0.0171\n",
      "Epoch 19/20\n",
      "\u001b[1m235/235\u001b[0m \u001b[32m━━━━━━━━━━━━━━━━━━━━\u001b[0m\u001b[37m\u001b[0m \u001b[1m2s\u001b[0m 8ms/step - loss: 0.0175 - val_loss: 0.0169\n",
      "Epoch 20/20\n",
      "\u001b[1m235/235\u001b[0m \u001b[32m━━━━━━━━━━━━━━━━━━━━\u001b[0m\u001b[37m\u001b[0m \u001b[1m2s\u001b[0m 8ms/step - loss: 0.0172 - val_loss: 0.0168\n"
     ]
    },
    {
     "data": {
      "text/plain": [
       "<keras.src.callbacks.history.History at 0x7d172863d420>"
      ]
     },
     "execution_count": 6,
     "metadata": {},
     "output_type": "execute_result"
    }
   ],
   "source": [
    "autoencoder.fit(x_train, x_train,\n",
    "                epochs=20,\n",
    "                batch_size=256,\n",
    "                shuffle=True,\n",
    "                validation_data=(x_test, x_test))"
   ]
  },
  {
   "cell_type": "markdown",
   "id": "ab2f37b6",
   "metadata": {
    "id": "9yXRGD2rb-gd",
    "papermill": {
     "duration": 0.079252,
     "end_time": "2024-05-17T06:03:24.161342",
     "exception": false,
     "start_time": "2024-05-17T06:03:24.082090",
     "status": "completed"
    },
    "tags": []
   },
   "source": [
    "Let us check the result. First of all we compute all reconstructions for images in the test set."
   ]
  },
  {
   "cell_type": "code",
   "execution_count": 7,
   "id": "8fb3e714",
   "metadata": {
    "execution": {
     "iopub.execute_input": "2024-05-17T06:03:24.324614Z",
     "iopub.status.busy": "2024-05-17T06:03:24.324206Z",
     "iopub.status.idle": "2024-05-17T06:03:25.295322Z",
     "shell.execute_reply": "2024-05-17T06:03:25.294052Z"
    },
    "id": "drKSjCmIVkr7",
    "papermill": {
     "duration": 1.055628,
     "end_time": "2024-05-17T06:03:25.298278",
     "exception": false,
     "start_time": "2024-05-17T06:03:24.242650",
     "status": "completed"
    },
    "tags": []
   },
   "outputs": [
    {
     "name": "stdout",
     "output_type": "stream",
     "text": [
      "\u001b[1m313/313\u001b[0m \u001b[32m━━━━━━━━━━━━━━━━━━━━\u001b[0m\u001b[37m\u001b[0m \u001b[1m1s\u001b[0m 2ms/step\n"
     ]
    }
   ],
   "source": [
    "decoded_imgs = autoencoder.predict(x_test)"
   ]
  },
  {
   "cell_type": "markdown",
   "id": "71c07c0a",
   "metadata": {
    "id": "DMBrchCtcRhL",
    "papermill": {
     "duration": 0.077246,
     "end_time": "2024-05-17T06:03:25.453093",
     "exception": false,
     "start_time": "2024-05-17T06:03:25.375847",
     "status": "completed"
    },
    "tags": []
   },
   "source": [
    "Now we can plot the result. We pick ten random images, and for each of them we show the original and the reconstruction obtained from the autoencoder."
   ]
  },
  {
   "cell_type": "code",
   "execution_count": 8,
   "id": "b0dfc6ae",
   "metadata": {
    "execution": {
     "iopub.execute_input": "2024-05-17T06:03:25.671264Z",
     "iopub.status.busy": "2024-05-17T06:03:25.670822Z",
     "iopub.status.idle": "2024-05-17T06:03:26.842805Z",
     "shell.execute_reply": "2024-05-17T06:03:26.841331Z"
    },
    "id": "2I8qdO3rV9OE",
    "outputId": "96bf0fe2-8497-4da3-819a-e9dcb56646d0",
    "papermill": {
     "duration": 1.314771,
     "end_time": "2024-05-17T06:03:26.845388",
     "exception": false,
     "start_time": "2024-05-17T06:03:25.530617",
     "status": "completed"
    },
    "tags": []
   },
   "outputs": [
    {
     "data": {
      "image/png": "[encoded data removed]",
      "text/plain": [
       "<Figure size 2000x400 with 20 Axes>"
      ]
     },
     "metadata": {},
     "output_type": "display_data"
    }
   ],
   "source": [
    "import matplotlib.pyplot as plt\n",
    "\n",
    "n = 10 #no images to plot\n",
    "imgs = np.random.randint(low=0,high=10000,size=n)\n",
    "plt.figure(figsize=(20, 4))\n",
    "for (i,idx) in enumerate(imgs):\n",
    "    # display original\n",
    "    ax = plt.subplot(2, n, i + 1)\n",
    "    plt.imshow(x_test[idx].reshape(28, 28))\n",
    "    plt.gray()\n",
    "    ax.get_xaxis().set_visible(False)\n",
    "    ax.get_yaxis().set_visible(False)\n",
    "\n",
    "    # display reconstruction\n",
    "    ax = plt.subplot(2, n, i + 1 + n)\n",
    "    plt.imshow(decoded_imgs[idx].reshape(28, 28))\n",
    "    plt.gray()\n",
    "    ax.get_xaxis().set_visible(False)\n",
    "    ax.get_yaxis().set_visible(False)\n",
    "plt.show()\n"
   ]
  },
  {
   "cell_type": "markdown",
   "id": "da8dc3c9",
   "metadata": {
    "id": "hkRApEXofHuz",
    "papermill": {
     "duration": 0.079051,
     "end_time": "2024-05-17T06:03:27.003404",
     "exception": false,
     "start_time": "2024-05-17T06:03:26.924353",
     "status": "completed"
    },
    "tags": []
   },
   "source": [
    "# Anomaly detection\n",
    "\n",
    "Now, we want to show how we can use an autoencoder for anomaly detection.\n",
    "\n",
    "The genral idea is that the encoding learned by the autoenoder is data-specific. This means that if we apply the autoencoder to an outlier, the resulting reconstruction should be sensibily worse than usual, and we may exploit this simple fact to detect the anomaly."
   ]
  },
  {
   "cell_type": "markdown",
   "id": "e64d92fe",
   "metadata": {
    "id": "RvuJQDk6f9dY",
    "papermill": {
     "duration": 0.083533,
     "end_time": "2024-05-17T06:03:27.169264",
     "exception": false,
     "start_time": "2024-05-17T06:03:27.085731",
     "status": "completed"
    },
    "tags": []
   },
   "source": [
    "The first step of the procedure is to identify the `Canonical Expected Reconstruction Error` on true data, and the associated `Standard Deviation`.\n",
    "\n",
    "- **Identifying Canonical Expected Reconstruction Error:**\n",
    "The reconstruction error is calculated for each input image in the test set. This error indicates how well the autoencoder has been able to reconstruct the original image from its compressed representation.\n",
    "The canonical expected reconstruction error is the average (mean) of these errors across all test images.\n",
    "\n",
    "- **Calculating Standard Deviation:**\n",
    "The standard deviation of the reconstruction errors provides insight into the variability of the reconstruction performance. A low standard deviation means that the autoencoder performs consistently across different inputs, while a high standard deviation indicates more variability in reconstruction quality."
   ]
  },
  {
   "cell_type": "code",
   "execution_count": 9,
   "id": "e16291c8",
   "metadata": {
    "execution": {
     "iopub.execute_input": "2024-05-17T06:03:27.333071Z",
     "iopub.status.busy": "2024-05-17T06:03:27.332585Z",
     "iopub.status.idle": "2024-05-17T06:03:27.374732Z",
     "shell.execute_reply": "2024-05-17T06:03:27.373059Z"
    },
    "id": "9P1yRXhTgWj1",
    "outputId": "49126bdb-3615-4b4d-a6a1-7ce912c4eac8",
    "papermill": {
     "duration": 0.126835,
     "end_time": "2024-05-17T06:03:27.377136",
     "exception": false,
     "start_time": "2024-05-17T06:03:27.250301",
     "status": "completed"
    },
    "tags": []
   },
   "outputs": [
    {
     "name": "stdout",
     "output_type": "stream",
     "text": [
      "(10000,)\n",
      "mse is 0.01679156720638275, with a standard deviation of 0.009084324352443218\n"
     ]
    }
   ],
   "source": [
    "mse_all = np.mean(np.square(decoded_imgs - x_test), axis=1) #mean error for each input\n",
    "print(mse_all.shape) \n",
    "\n",
    "mse = np.mean(mse_all)\n",
    "std = np.std(mse_all)\n",
    "print(\"mse is {}, with a standard deviation of {}\".format(mse, std))"
   ]
  },
  {
   "cell_type": "markdown",
   "id": "fb5f9881",
   "metadata": {
    "papermill": {
     "duration": 0.078419,
     "end_time": "2024-05-17T06:03:27.534672",
     "exception": false,
     "start_time": "2024-05-17T06:03:27.456253",
     "status": "completed"
    },
    "tags": []
   },
   "source": [
    "This tells us that on average, the reconstruction error (MSE) is about 0.018 with a standard deviation of 0.009. This information helps us identify what constitutes a \"normal\" reconstruction error."
   ]
  },
  {
   "cell_type": "markdown",
   "id": "d422a2f1",
   "metadata": {
    "id": "rfydyrtLh-Eh",
    "papermill": {
     "duration": 0.078541,
     "end_time": "2024-05-17T06:03:27.693546",
     "exception": false,
     "start_time": "2024-05-17T06:03:27.615005",
     "status": "completed"
    },
    "tags": []
   },
   "source": [
    "### Creating an Anomaly\n",
    "Now, we create an anomaly by rotating a normal image from the test set by 90 degrees. We will observe the reconstruction and compute the MSE for this modified image. "
   ]
  },
  {
   "cell_type": "code",
   "execution_count": 10,
   "id": "3e47d169",
   "metadata": {
    "execution": {
     "iopub.execute_input": "2024-05-17T06:03:27.853289Z",
     "iopub.status.busy": "2024-05-17T06:03:27.852833Z",
     "iopub.status.idle": "2024-05-17T06:03:28.115332Z",
     "shell.execute_reply": "2024-05-17T06:03:28.113688Z"
    },
    "id": "Znt0h6BFiqjl",
    "outputId": "6afefd5b-8469-40f0-d2c6-863dfa206e6f",
    "papermill": {
     "duration": 0.348414,
     "end_time": "2024-05-17T06:03:28.120519",
     "exception": false,
     "start_time": "2024-05-17T06:03:27.772105",
     "status": "completed"
    },
    "tags": []
   },
   "outputs": [
    {
     "name": "stdout",
     "output_type": "stream",
     "text": [
      "\u001b[1m1/1\u001b[0m \u001b[32m━━━━━━━━━━━━━━━━━━━━\u001b[0m\u001b[37m\u001b[0m \u001b[1m0s\u001b[0m 27ms/step - loss: 0.0263\n",
      "0.026314973831176758\n"
     ]
    },
    {
     "data": {
      "image/png": "[encoded data removed]",
      "text/plain": [
       "<Figure size 800x400 with 2 Axes>"
      ]
     },
     "metadata": {},
     "output_type": "display_data"
    }
   ],
   "source": [
    "test = x_test[15].reshape(1,784)\n",
    "print(autoencoder.evaluate(test,test))\n",
    "\n",
    "plt.figure(figsize=(8,4))\n",
    "ax = plt.subplot(1,2,1)\n",
    "plt.imshow(x_test[15].reshape(28, 28))\n",
    "\n",
    "plt.gray()\n",
    "ax.get_xaxis().set_visible(False)\n",
    "ax.get_yaxis().set_visible(False)\n",
    "ax = plt.subplot(1, 2, 2)\n",
    "plt.imshow(decoded_imgs[15].reshape(28, 28))\n",
    "\n",
    "plt.gray()\n",
    "ax.get_xaxis().set_visible(False)\n",
    "ax.get_yaxis().set_visible(False)\n",
    "plt.savefig('lyar1.jpg')\n",
    "plt.show()"
   ]
  },
  {
   "cell_type": "markdown",
   "id": "f1a56114",
   "metadata": {
    "id": "NUCMrEjCi7gq",
    "papermill": {
     "duration": 0.081732,
     "end_time": "2024-05-17T06:03:28.317063",
     "exception": false,
     "start_time": "2024-05-17T06:03:28.235331",
     "status": "completed"
    },
    "tags": []
   },
   "source": [
    "Observe that the reconstruction is not particularly good, but still the loss (0.032) is more or less on std away from the mean, that is a normal behaviour.\n"
   ]
  },
  {
   "cell_type": "markdown",
   "id": "bff69b20",
   "metadata": {
    "papermill": {
     "duration": 0.080636,
     "end_time": "2024-05-17T06:03:28.479880",
     "exception": false,
     "start_time": "2024-05-17T06:03:28.399244",
     "status": "completed"
    },
    "tags": []
   },
   "source": [
    "### Rotating the Image and Recomputing MSE\n",
    "We then rotate the image by 90 degrees and compute the reconstruction error."
   ]
  },
  {
   "cell_type": "code",
   "execution_count": 11,
   "id": "55979c4a",
   "metadata": {
    "execution": {
     "iopub.execute_input": "2024-05-17T06:03:28.644655Z",
     "iopub.status.busy": "2024-05-17T06:03:28.644196Z",
     "iopub.status.idle": "2024-05-17T06:03:28.875919Z",
     "shell.execute_reply": "2024-05-17T06:03:28.874126Z"
    },
    "id": "V2jM4Hfzjfju",
    "outputId": "ce7ac12a-f994-4222-93d9-6a7da71e9ae0",
    "papermill": {
     "duration": 0.319163,
     "end_time": "2024-05-17T06:03:28.880606",
     "exception": false,
     "start_time": "2024-05-17T06:03:28.561443",
     "status": "completed"
    },
    "tags": []
   },
   "outputs": [
    {
     "name": "stdout",
     "output_type": "stream",
     "text": [
      "\u001b[1m1/1\u001b[0m \u001b[32m━━━━━━━━━━━━━━━━━━━━\u001b[0m\u001b[37m\u001b[0m \u001b[1m0s\u001b[0m 19ms/step\n"
     ]
    },
    {
     "data": {
      "image/png": "[encoded data removed]",
      "text/plain": [
       "<Figure size 800x400 with 2 Axes>"
      ]
     },
     "metadata": {},
     "output_type": "display_data"
    }
   ],
   "source": [
    "rotated = np.rot90(x_test[15].reshape(28,28))\n",
    "predicted = autoencoder.predict(rotated.reshape(1,784))[0].reshape(28,28)\n",
    "\n",
    "plt.figure(figsize=(8,4))\n",
    "ax = plt.subplot(1,2,1)\n",
    "plt.imshow(rotated)\n",
    "\n",
    "plt.gray()\n",
    "ax.get_xaxis().set_visible(False)\n",
    "ax.get_yaxis().set_visible(False)\n",
    "ax = plt.subplot(1, 2, 2)\n",
    "plt.imshow(predicted)\n",
    "\n",
    "plt.gray()\n",
    "ax.get_xaxis().set_visible(False)\n",
    "ax.get_yaxis().set_visible(False)\n",
    "plt.savefig('lyar2.jpg')\n",
    "plt.show()"
   ]
  },
  {
   "cell_type": "code",
   "execution_count": 12,
   "id": "413bdf8d",
   "metadata": {
    "execution": {
     "iopub.execute_input": "2024-05-17T06:03:29.080009Z",
     "iopub.status.busy": "2024-05-17T06:03:29.078740Z",
     "iopub.status.idle": "2024-05-17T06:03:29.086545Z",
     "shell.execute_reply": "2024-05-17T06:03:29.085081Z"
    },
    "id": "lLpUNUAvkSV9",
    "outputId": "56dcc164-98bf-4ab5-d29c-35e46c197703",
    "papermill": {
     "duration": 0.094765,
     "end_time": "2024-05-17T06:03:29.089615",
     "exception": false,
     "start_time": "2024-05-17T06:03:28.994850",
     "status": "completed"
    },
    "tags": []
   },
   "outputs": [
    {
     "name": "stdout",
     "output_type": "stream",
     "text": [
      "mse is 0.05060863494873047\n"
     ]
    }
   ],
   "source": [
    "mse = np.mean(np.square(predicted-rotated))\n",
    "print(\"mse is {}\".format(mse))"
   ]
  },
  {
   "cell_type": "markdown",
   "id": "25dcd4ea",
   "metadata": {
    "id": "QBuqr7o5ksM5",
    "papermill": {
     "duration": 0.083775,
     "end_time": "2024-05-17T06:03:29.257034",
     "exception": false,
     "start_time": "2024-05-17T06:03:29.173259",
     "status": "completed"
    },
    "tags": []
   },
   "source": [
    "The MSE of the rotated image is 0.050, which is 3 standard deviations away from the mean reconstruction error (0.018). This indicates an anomaly because it significantly deviates from the normal reconstruction error distribution."
   ]
  },
  {
   "cell_type": "markdown",
   "id": "46ca8b62",
   "metadata": {
    "id": "ZpwnCIrkk601",
    "papermill": {
     "duration": 0.081615,
     "end_time": "2024-05-17T06:03:29.421376",
     "exception": false,
     "start_time": "2024-05-17T06:03:29.339761",
     "status": "completed"
    },
    "tags": []
   },
   "source": [
    "- __Using Latent Space for Anomaly Detection__ \n",
    "    - Instead of relying solely on reconstruction error, we could also work directly in the latent space. Autoencoders generalize Principal Component Analysis (PCA), extracting relevant, non-linear combinations of input features. Anomalies will significantly deviate from the canonical values of the latent encoding.\n",
    "    - This approach involves examining the latent space representation (the output of the encoder) for anomalies, as significant deviations in the latent space can indicate anomalies even if the reconstruction error is not exceptionally high."
   ]
  }
 ],
 "metadata": {
  "accelerator": "GPU",
  "colab": {
   "name": "anomaly_detection.ipynb",
   "provenance": []
  },
  "kaggle": {
   "accelerator": "none",
   "dataSources": [],
   "dockerImageVersionId": 30698,
   "isGpuEnabled": false,
   "isInternetEnabled": true,
   "language": "python",
   "sourceType": "notebook"
  },
  "kernelspec": {
   "display_name": "Python 3",
   "language": "python",
   "name": "python3"
  },
  "language_info": {
   "codemirror_mode": {
    "name": "ipython",
    "version": 3
   },
   "file_extension": ".py",
   "mimetype": "text/x-python",
   "name": "python",
   "nbconvert_exporter": "python",
   "pygments_lexer": "ipython3",
   "version": "3.10.13"
  },
  "papermill": {
   "default_parameters": {},
   "duration": 77.258346,
   "end_time": "2024-05-17T06:03:32.117829",
   "environment_variables": {},
   "exception": null,
   "input_path": "__notebook__.ipynb",
   "output_path": "__notebook__.ipynb",
   "parameters": {},
   "start_time": "2024-05-17T06:02:14.859483",
   "version": "2.5.0"
  }
 },
 "nbformat": 4,
 "nbformat_minor": 5
}
