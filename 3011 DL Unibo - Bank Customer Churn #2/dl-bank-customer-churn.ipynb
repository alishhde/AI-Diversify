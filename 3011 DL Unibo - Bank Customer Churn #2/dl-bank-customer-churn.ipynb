{
 "cells": [
  {
   "cell_type": "markdown",
   "id": "e52261f9",
   "metadata": {
    "papermill": {
     "duration": 0.01286,
     "end_time": "2024-04-21T08:55:39.605161",
     "exception": false,
     "start_time": "2024-04-21T08:55:39.592301",
     "status": "completed"
    },
    "tags": []
   },
   "source": [
    "# Bank Customer Churn Prediction\n",
    "In the following we want to go toward another dataset and do the same tasks we did in our previous [project](https://www.kaggle.com/code/alishohadaee/dl-customer-churn-prediction). The following will be only a practice exercise of what we have learned until now. "
   ]
  },
  {
   "cell_type": "code",
   "execution_count": 1,
   "id": "a92a64d0",
   "metadata": {
    "execution": {
     "iopub.execute_input": "2024-04-21T08:55:39.631009Z",
     "iopub.status.busy": "2024-04-21T08:55:39.630599Z",
     "iopub.status.idle": "2024-04-21T08:55:40.800045Z",
     "shell.execute_reply": "2024-04-21T08:55:40.798739Z"
    },
    "papermill": {
     "duration": 1.185781,
     "end_time": "2024-04-21T08:55:40.803057",
     "exception": false,
     "start_time": "2024-04-21T08:55:39.617276",
     "status": "completed"
    },
    "tags": []
   },
   "outputs": [],
   "source": [
    "from matplotlib import pyplot as plt \n",
    "import pandas as pd\n",
    "import numpy as np"
   ]
  },
  {
   "cell_type": "code",
   "execution_count": 2,
   "id": "8d3de93a",
   "metadata": {
    "execution": {
     "iopub.execute_input": "2024-04-21T08:55:40.828721Z",
     "iopub.status.busy": "2024-04-21T08:55:40.828169Z",
     "iopub.status.idle": "2024-04-21T08:55:40.924623Z",
     "shell.execute_reply": "2024-04-21T08:55:40.923462Z"
    },
    "papermill": {
     "duration": 0.112159,
     "end_time": "2024-04-21T08:55:40.927193",
     "exception": false,
     "start_time": "2024-04-21T08:55:40.815034",
     "status": "completed"
    },
    "tags": []
   },
   "outputs": [
    {
     "data": {
      "text/html": [
       "<div>\n",
       "<style scoped>\n",
       "    .dataframe tbody tr th:only-of-type {\n",
       "        vertical-align: middle;\n",
       "    }\n",
       "\n",
       "    .dataframe tbody tr th {\n",
       "        vertical-align: top;\n",
       "    }\n",
       "\n",
       "    .dataframe thead th {\n",
       "        text-align: right;\n",
       "    }\n",
       "</style>\n",
       "<table border=\"1\" class=\"dataframe\">\n",
       "  <thead>\n",
       "    <tr style=\"text-align: right;\">\n",
       "      <th></th>\n",
       "      <th>CustomerId</th>\n",
       "      <th>Surname</th>\n",
       "      <th>CreditScore</th>\n",
       "      <th>Geography</th>\n",
       "      <th>Gender</th>\n",
       "      <th>Age</th>\n",
       "      <th>Tenure</th>\n",
       "      <th>Balance</th>\n",
       "      <th>NumOfProducts</th>\n",
       "      <th>HasCrCard</th>\n",
       "      <th>IsActiveMember</th>\n",
       "      <th>EstimatedSalary</th>\n",
       "      <th>Exited</th>\n",
       "    </tr>\n",
       "    <tr>\n",
       "      <th>RowNumber</th>\n",
       "      <th></th>\n",
       "      <th></th>\n",
       "      <th></th>\n",
       "      <th></th>\n",
       "      <th></th>\n",
       "      <th></th>\n",
       "      <th></th>\n",
       "      <th></th>\n",
       "      <th></th>\n",
       "      <th></th>\n",
       "      <th></th>\n",
       "      <th></th>\n",
       "      <th></th>\n",
       "    </tr>\n",
       "  </thead>\n",
       "  <tbody>\n",
       "    <tr>\n",
       "      <th>1</th>\n",
       "      <td>15634602</td>\n",
       "      <td>Hargrave</td>\n",
       "      <td>619</td>\n",
       "      <td>France</td>\n",
       "      <td>Female</td>\n",
       "      <td>42</td>\n",
       "      <td>2</td>\n",
       "      <td>0.00</td>\n",
       "      <td>1</td>\n",
       "      <td>1</td>\n",
       "      <td>1</td>\n",
       "      <td>101348.88</td>\n",
       "      <td>1</td>\n",
       "    </tr>\n",
       "    <tr>\n",
       "      <th>2</th>\n",
       "      <td>15647311</td>\n",
       "      <td>Hill</td>\n",
       "      <td>608</td>\n",
       "      <td>Spain</td>\n",
       "      <td>Female</td>\n",
       "      <td>41</td>\n",
       "      <td>1</td>\n",
       "      <td>83807.86</td>\n",
       "      <td>1</td>\n",
       "      <td>0</td>\n",
       "      <td>1</td>\n",
       "      <td>112542.58</td>\n",
       "      <td>0</td>\n",
       "    </tr>\n",
       "    <tr>\n",
       "      <th>3</th>\n",
       "      <td>15619304</td>\n",
       "      <td>Onio</td>\n",
       "      <td>502</td>\n",
       "      <td>France</td>\n",
       "      <td>Female</td>\n",
       "      <td>42</td>\n",
       "      <td>8</td>\n",
       "      <td>159660.80</td>\n",
       "      <td>3</td>\n",
       "      <td>1</td>\n",
       "      <td>0</td>\n",
       "      <td>113931.57</td>\n",
       "      <td>1</td>\n",
       "    </tr>\n",
       "    <tr>\n",
       "      <th>4</th>\n",
       "      <td>15701354</td>\n",
       "      <td>Boni</td>\n",
       "      <td>699</td>\n",
       "      <td>France</td>\n",
       "      <td>Female</td>\n",
       "      <td>39</td>\n",
       "      <td>1</td>\n",
       "      <td>0.00</td>\n",
       "      <td>2</td>\n",
       "      <td>0</td>\n",
       "      <td>0</td>\n",
       "      <td>93826.63</td>\n",
       "      <td>0</td>\n",
       "    </tr>\n",
       "    <tr>\n",
       "      <th>5</th>\n",
       "      <td>15737888</td>\n",
       "      <td>Mitchell</td>\n",
       "      <td>850</td>\n",
       "      <td>Spain</td>\n",
       "      <td>Female</td>\n",
       "      <td>43</td>\n",
       "      <td>2</td>\n",
       "      <td>125510.82</td>\n",
       "      <td>1</td>\n",
       "      <td>1</td>\n",
       "      <td>1</td>\n",
       "      <td>79084.10</td>\n",
       "      <td>0</td>\n",
       "    </tr>\n",
       "  </tbody>\n",
       "</table>\n",
       "</div>"
      ],
      "text/plain": [
       "           CustomerId   Surname  CreditScore Geography  Gender  Age  Tenure  \\\n",
       "RowNumber                                                                     \n",
       "1            15634602  Hargrave          619    France  Female   42       2   \n",
       "2            15647311      Hill          608     Spain  Female   41       1   \n",
       "3            15619304      Onio          502    France  Female   42       8   \n",
       "4            15701354      Boni          699    France  Female   39       1   \n",
       "5            15737888  Mitchell          850     Spain  Female   43       2   \n",
       "\n",
       "             Balance  NumOfProducts  HasCrCard  IsActiveMember  \\\n",
       "RowNumber                                                        \n",
       "1               0.00              1          1               1   \n",
       "2           83807.86              1          0               1   \n",
       "3          159660.80              3          1               0   \n",
       "4               0.00              2          0               0   \n",
       "5          125510.82              1          1               1   \n",
       "\n",
       "           EstimatedSalary  Exited  \n",
       "RowNumber                           \n",
       "1                101348.88       1  \n",
       "2                112542.58       0  \n",
       "3                113931.57       1  \n",
       "4                 93826.63       0  \n",
       "5                 79084.10       0  "
      ]
     },
     "execution_count": 2,
     "metadata": {},
     "output_type": "execute_result"
    }
   ],
   "source": [
    "# Dataset path: \"/kaggle/input/bank-customer-churn-modeling/Churn_Modelling.csv\"\n",
    "\n",
    "bank = pd.read_csv(\"/kaggle/input/bank-customer-churn-modeling/Churn_Modelling.csv\", index_col=\"RowNumber\")\n",
    "bank.head()\n",
    "# bank.sample(5)  # This line returns 5 samples of dataset"
   ]
  },
  {
   "cell_type": "code",
   "execution_count": 3,
   "id": "056a97ac",
   "metadata": {
    "execution": {
     "iopub.execute_input": "2024-04-21T08:55:40.954748Z",
     "iopub.status.busy": "2024-04-21T08:55:40.954280Z",
     "iopub.status.idle": "2024-04-21T08:55:40.960369Z",
     "shell.execute_reply": "2024-04-21T08:55:40.959468Z"
    },
    "papermill": {
     "duration": 0.022533,
     "end_time": "2024-04-21T08:55:40.962933",
     "exception": false,
     "start_time": "2024-04-21T08:55:40.940400",
     "status": "completed"
    },
    "tags": []
   },
   "outputs": [
    {
     "data": {
      "text/plain": [
       "(10000, 13)"
      ]
     },
     "execution_count": 3,
     "metadata": {},
     "output_type": "execute_result"
    }
   ],
   "source": [
    "bank.shape"
   ]
  },
  {
   "cell_type": "markdown",
   "id": "4349f366",
   "metadata": {
    "papermill": {
     "duration": 0.011972,
     "end_time": "2024-04-21T08:55:40.987390",
     "exception": false,
     "start_time": "2024-04-21T08:55:40.975418",
     "status": "completed"
    },
    "tags": []
   },
   "source": [
    "## Preprocessing\n",
    "In the following we will go through the data and modify them if necessary. "
   ]
  },
  {
   "cell_type": "code",
   "execution_count": 4,
   "id": "0662ea61",
   "metadata": {
    "execution": {
     "iopub.execute_input": "2024-04-21T08:55:41.016800Z",
     "iopub.status.busy": "2024-04-21T08:55:41.015654Z",
     "iopub.status.idle": "2024-04-21T08:55:41.042894Z",
     "shell.execute_reply": "2024-04-21T08:55:41.041867Z"
    },
    "papermill": {
     "duration": 0.044302,
     "end_time": "2024-04-21T08:55:41.045861",
     "exception": false,
     "start_time": "2024-04-21T08:55:41.001559",
     "status": "completed"
    },
    "tags": []
   },
   "outputs": [
    {
     "name": "stdout",
     "output_type": "stream",
     "text": [
      "<class 'pandas.core.frame.DataFrame'>\n",
      "Index: 10000 entries, 1 to 10000\n",
      "Data columns (total 13 columns):\n",
      " #   Column           Non-Null Count  Dtype  \n",
      "---  ------           --------------  -----  \n",
      " 0   CustomerId       10000 non-null  int64  \n",
      " 1   Surname          10000 non-null  object \n",
      " 2   CreditScore      10000 non-null  int64  \n",
      " 3   Geography        10000 non-null  object \n",
      " 4   Gender           10000 non-null  object \n",
      " 5   Age              10000 non-null  int64  \n",
      " 6   Tenure           10000 non-null  int64  \n",
      " 7   Balance          10000 non-null  float64\n",
      " 8   NumOfProducts    10000 non-null  int64  \n",
      " 9   HasCrCard        10000 non-null  int64  \n",
      " 10  IsActiveMember   10000 non-null  int64  \n",
      " 11  EstimatedSalary  10000 non-null  float64\n",
      " 12  Exited           10000 non-null  int64  \n",
      "dtypes: float64(2), int64(8), object(3)\n",
      "memory usage: 1.1+ MB\n"
     ]
    }
   ],
   "source": [
    "bank.info()"
   ]
  },
  {
   "cell_type": "code",
   "execution_count": 5,
   "id": "a38bee4e",
   "metadata": {
    "execution": {
     "iopub.execute_input": "2024-04-21T08:55:41.073324Z",
     "iopub.status.busy": "2024-04-21T08:55:41.072216Z",
     "iopub.status.idle": "2024-04-21T08:55:41.081849Z",
     "shell.execute_reply": "2024-04-21T08:55:41.080410Z"
    },
    "papermill": {
     "duration": 0.025929,
     "end_time": "2024-04-21T08:55:41.084348",
     "exception": false,
     "start_time": "2024-04-21T08:55:41.058419",
     "status": "completed"
    },
    "tags": []
   },
   "outputs": [
    {
     "data": {
      "text/plain": [
       "CustomerId           int64\n",
       "Surname             object\n",
       "CreditScore          int64\n",
       "Geography           object\n",
       "Gender              object\n",
       "Age                  int64\n",
       "Tenure               int64\n",
       "Balance            float64\n",
       "NumOfProducts        int64\n",
       "HasCrCard            int64\n",
       "IsActiveMember       int64\n",
       "EstimatedSalary    float64\n",
       "Exited               int64\n",
       "dtype: object"
      ]
     },
     "execution_count": 5,
     "metadata": {},
     "output_type": "execute_result"
    }
   ],
   "source": [
    "bank.dtypes"
   ]
  },
  {
   "cell_type": "markdown",
   "id": "dfa96345",
   "metadata": {
    "papermill": {
     "duration": 0.013198,
     "end_time": "2024-04-21T08:55:41.110828",
     "exception": false,
     "start_time": "2024-04-21T08:55:41.097630",
     "status": "completed"
    },
    "tags": []
   },
   "source": [
    "According to output we have 13 columns (features). Some of these columns are useless in calculating the output. For example, the surname of an individual must affect the output the will be produced, because it is not related to whether a person leaves the bank or not.\n",
    "\n",
    "Hence, we drop this column."
   ]
  },
  {
   "cell_type": "code",
   "execution_count": 6,
   "id": "1149bf61",
   "metadata": {
    "execution": {
     "iopub.execute_input": "2024-04-21T08:55:41.139802Z",
     "iopub.status.busy": "2024-04-21T08:55:41.139084Z",
     "iopub.status.idle": "2024-04-21T08:55:41.154620Z",
     "shell.execute_reply": "2024-04-21T08:55:41.153392Z"
    },
    "papermill": {
     "duration": 0.032951,
     "end_time": "2024-04-21T08:55:41.157701",
     "exception": false,
     "start_time": "2024-04-21T08:55:41.124750",
     "status": "completed"
    },
    "tags": []
   },
   "outputs": [
    {
     "data": {
      "text/plain": [
       "CreditScore          int64\n",
       "Geography           object\n",
       "Gender              object\n",
       "Age                  int64\n",
       "Tenure               int64\n",
       "Balance            float64\n",
       "NumOfProducts        int64\n",
       "HasCrCard            int64\n",
       "IsActiveMember       int64\n",
       "EstimatedSalary    float64\n",
       "Exited               int64\n",
       "dtype: object"
      ]
     },
     "execution_count": 6,
     "metadata": {},
     "output_type": "execute_result"
    }
   ],
   "source": [
    "bank.drop([\"CustomerId\", \"Surname\"], axis=1, inplace=True)\n",
    "bank.dtypes"
   ]
  },
  {
   "cell_type": "markdown",
   "id": "c215fab9",
   "metadata": {
    "papermill": {
     "duration": 0.012542,
     "end_time": "2024-04-21T08:55:41.184875",
     "exception": false,
     "start_time": "2024-04-21T08:55:41.172333",
     "status": "completed"
    },
    "tags": []
   },
   "source": [
    "- Note: `inplace=True` ensures that the operation modifies the DataFrame directly without returning a new DataFrame.\n",
    "\n",
    "As you must already know, NN needs numerical values, so we should handle the `Geography` and `Gender` columns as their types are object. Let's first deal with Gender. "
   ]
  },
  {
   "cell_type": "code",
   "execution_count": 7,
   "id": "844cedd4",
   "metadata": {
    "execution": {
     "iopub.execute_input": "2024-04-21T08:55:41.214220Z",
     "iopub.status.busy": "2024-04-21T08:55:41.213524Z",
     "iopub.status.idle": "2024-04-21T08:55:41.222663Z",
     "shell.execute_reply": "2024-04-21T08:55:41.221421Z"
    },
    "papermill": {
     "duration": 0.026923,
     "end_time": "2024-04-21T08:55:41.225098",
     "exception": false,
     "start_time": "2024-04-21T08:55:41.198175",
     "status": "completed"
    },
    "tags": []
   },
   "outputs": [
    {
     "data": {
      "text/plain": [
       "array(['Female', 'Male'], dtype=object)"
      ]
     },
     "execution_count": 7,
     "metadata": {},
     "output_type": "execute_result"
    }
   ],
   "source": [
    "bank.Gender.unique()"
   ]
  },
  {
   "cell_type": "markdown",
   "id": "bb4883fe",
   "metadata": {
    "papermill": {
     "duration": 0.014107,
     "end_time": "2024-04-21T08:55:41.252567",
     "exception": false,
     "start_time": "2024-04-21T08:55:41.238460",
     "status": "completed"
    },
    "tags": []
   },
   "source": [
    "So, in this dataset, our `Gender` column has only two unique values, we can easily convert it to a binary column. Hence, we have: "
   ]
  },
  {
   "cell_type": "code",
   "execution_count": 8,
   "id": "90c62593",
   "metadata": {
    "execution": {
     "iopub.execute_input": "2024-04-21T08:55:41.281807Z",
     "iopub.status.busy": "2024-04-21T08:55:41.281349Z",
     "iopub.status.idle": "2024-04-21T08:55:41.307112Z",
     "shell.execute_reply": "2024-04-21T08:55:41.305906Z"
    },
    "papermill": {
     "duration": 0.043674,
     "end_time": "2024-04-21T08:55:41.309696",
     "exception": false,
     "start_time": "2024-04-21T08:55:41.266022",
     "status": "completed"
    },
    "tags": []
   },
   "outputs": [
    {
     "name": "stdout",
     "output_type": "stream",
     "text": [
      "The new values for Gender column are:  [0 1]\n"
     ]
    },
    {
     "name": "stderr",
     "output_type": "stream",
     "text": [
      "/tmp/ipykernel_18/3121149053.py:1: FutureWarning: Downcasting behavior in `replace` is deprecated and will be removed in a future version. To retain the old behavior, explicitly call `result.infer_objects(copy=False)`. To opt-in to the future behavior, set `pd.set_option('future.no_silent_downcasting', True)`\n",
      "  bank.replace({'Gender': {'Female': 0, 'Male': 1}}, inplace=True)\n"
     ]
    },
    {
     "data": {
      "text/plain": [
       "CreditScore          int64\n",
       "Geography           object\n",
       "Gender               int64\n",
       "Age                  int64\n",
       "Tenure               int64\n",
       "Balance            float64\n",
       "NumOfProducts        int64\n",
       "HasCrCard            int64\n",
       "IsActiveMember       int64\n",
       "EstimatedSalary    float64\n",
       "Exited               int64\n",
       "dtype: object"
      ]
     },
     "execution_count": 8,
     "metadata": {},
     "output_type": "execute_result"
    }
   ],
   "source": [
    "bank.replace({'Gender': {'Female': 0, 'Male': 1}}, inplace=True)\n",
    "print(\"The new values for Gender column are: \", bank.Gender.unique())\n",
    "bank.dtypes"
   ]
  },
  {
   "cell_type": "markdown",
   "id": "8bac11a1",
   "metadata": {
    "papermill": {
     "duration": 0.013259,
     "end_time": "2024-04-21T08:55:41.336769",
     "exception": false,
     "start_time": "2024-04-21T08:55:41.323510",
     "status": "completed"
    },
    "tags": []
   },
   "source": [
    "Now let's deal with the Geography column. Let's see the unique values of this column and then choose a method to deal with it. "
   ]
  },
  {
   "cell_type": "code",
   "execution_count": 9,
   "id": "d728de4c",
   "metadata": {
    "execution": {
     "iopub.execute_input": "2024-04-21T08:55:41.364833Z",
     "iopub.status.busy": "2024-04-21T08:55:41.364389Z",
     "iopub.status.idle": "2024-04-21T08:55:41.373712Z",
     "shell.execute_reply": "2024-04-21T08:55:41.372547Z"
    },
    "papermill": {
     "duration": 0.027741,
     "end_time": "2024-04-21T08:55:41.377693",
     "exception": false,
     "start_time": "2024-04-21T08:55:41.349952",
     "status": "completed"
    },
    "tags": []
   },
   "outputs": [
    {
     "data": {
      "text/plain": [
       "array(['France', 'Spain', 'Germany'], dtype=object)"
      ]
     },
     "execution_count": 9,
     "metadata": {},
     "output_type": "execute_result"
    }
   ],
   "source": [
    "bank.Geography.unique()"
   ]
  },
  {
   "cell_type": "markdown",
   "id": "ddd5f146",
   "metadata": {
    "papermill": {
     "duration": 0.013433,
     "end_time": "2024-04-21T08:55:41.406082",
     "exception": false,
     "start_time": "2024-04-21T08:55:41.392649",
     "status": "completed"
    },
    "tags": []
   },
   "source": [
    "So, we have only three different values for this column. Two of the methods of converting this column to a numerical value are:\n",
    "\n",
    "1. **Label Encoding**: Assign each country a unique numerical label. This is useful if there is an inherent order to the countries, which may not be the case for countries, but could be applicable in other contexts.\n",
    "\n",
    "```python\n",
    "from sklearn.preprocessing import LabelEncoder\n",
    "\n",
    "# Create a sample DataFrame\n",
    "data = {\n",
    "    'Country': ['USA', 'Canada', 'USA', 'Mexico', 'Canada']\n",
    "}\n",
    "\n",
    "df = pd.DataFrame(data)\n",
    "\n",
    "# Use LabelEncoder to convert countries to numerical labels\n",
    "label_encoder = LabelEncoder()\n",
    "df['Country_Label'] = label_encoder.fit_transform(df['Country'])\n",
    "\n",
    "print(df)\n",
    "```\n",
    "\n",
    "2. **One-Hot Encoding**: Create binary columns for each country, indicating whether or not each row corresponds to that country. This is a common technique for dealing with categorical variables.\n",
    "\n",
    "```python\n",
    "# Use pandas get_dummies to perform one-hot encoding\n",
    "one_hot_encoded = pd.get_dummies(df['Country'], prefix='Country')\n",
    "\n",
    "# Concatenate the one-hot encoded columns with the original DataFrame\n",
    "df = pd.concat([df, one_hot_encoded], axis=1)\n",
    "\n",
    "print(df)\n",
    "```\n",
    "\n",
    "In our practice, we want to solve this by the `OneHotEncodding` technique. Follow the cells:"
   ]
  },
  {
   "cell_type": "code",
   "execution_count": 10,
   "id": "0e8677e3",
   "metadata": {
    "execution": {
     "iopub.execute_input": "2024-04-21T08:55:41.435929Z",
     "iopub.status.busy": "2024-04-21T08:55:41.435540Z",
     "iopub.status.idle": "2024-04-21T08:55:41.450790Z",
     "shell.execute_reply": "2024-04-21T08:55:41.449661Z"
    },
    "papermill": {
     "duration": 0.033129,
     "end_time": "2024-04-21T08:55:41.453381",
     "exception": false,
     "start_time": "2024-04-21T08:55:41.420252",
     "status": "completed"
    },
    "tags": []
   },
   "outputs": [
    {
     "data": {
      "text/plain": [
       "CreditScore          int64\n",
       "Gender               int64\n",
       "Age                  int64\n",
       "Tenure               int64\n",
       "Balance            float64\n",
       "NumOfProducts        int64\n",
       "HasCrCard            int64\n",
       "IsActiveMember       int64\n",
       "EstimatedSalary    float64\n",
       "Exited               int64\n",
       "Geo_France            bool\n",
       "Geo_Germany           bool\n",
       "Geo_Spain             bool\n",
       "dtype: object"
      ]
     },
     "execution_count": 10,
     "metadata": {},
     "output_type": "execute_result"
    }
   ],
   "source": [
    "one_hot_encoded = pd.get_dummies(bank['Geography'], prefix='Geo')\n",
    "bank = pd.concat([bank, one_hot_encoded], axis=1).drop(['Geography'], axis=1)\n",
    "bank.dtypes"
   ]
  },
  {
   "cell_type": "code",
   "execution_count": 11,
   "id": "3800d195",
   "metadata": {
    "execution": {
     "iopub.execute_input": "2024-04-21T08:55:41.482546Z",
     "iopub.status.busy": "2024-04-21T08:55:41.482140Z",
     "iopub.status.idle": "2024-04-21T08:55:41.505971Z",
     "shell.execute_reply": "2024-04-21T08:55:41.504704Z"
    },
    "papermill": {
     "duration": 0.041533,
     "end_time": "2024-04-21T08:55:41.508553",
     "exception": false,
     "start_time": "2024-04-21T08:55:41.467020",
     "status": "completed"
    },
    "tags": []
   },
   "outputs": [
    {
     "data": {
      "text/html": [
       "<div>\n",
       "<style scoped>\n",
       "    .dataframe tbody tr th:only-of-type {\n",
       "        vertical-align: middle;\n",
       "    }\n",
       "\n",
       "    .dataframe tbody tr th {\n",
       "        vertical-align: top;\n",
       "    }\n",
       "\n",
       "    .dataframe thead th {\n",
       "        text-align: right;\n",
       "    }\n",
       "</style>\n",
       "<table border=\"1\" class=\"dataframe\">\n",
       "  <thead>\n",
       "    <tr style=\"text-align: right;\">\n",
       "      <th></th>\n",
       "      <th>CreditScore</th>\n",
       "      <th>Gender</th>\n",
       "      <th>Age</th>\n",
       "      <th>Tenure</th>\n",
       "      <th>Balance</th>\n",
       "      <th>NumOfProducts</th>\n",
       "      <th>HasCrCard</th>\n",
       "      <th>IsActiveMember</th>\n",
       "      <th>EstimatedSalary</th>\n",
       "      <th>Exited</th>\n",
       "      <th>Geo_France</th>\n",
       "      <th>Geo_Germany</th>\n",
       "      <th>Geo_Spain</th>\n",
       "    </tr>\n",
       "    <tr>\n",
       "      <th>RowNumber</th>\n",
       "      <th></th>\n",
       "      <th></th>\n",
       "      <th></th>\n",
       "      <th></th>\n",
       "      <th></th>\n",
       "      <th></th>\n",
       "      <th></th>\n",
       "      <th></th>\n",
       "      <th></th>\n",
       "      <th></th>\n",
       "      <th></th>\n",
       "      <th></th>\n",
       "      <th></th>\n",
       "    </tr>\n",
       "  </thead>\n",
       "  <tbody>\n",
       "    <tr>\n",
       "      <th>6606</th>\n",
       "      <td>771</td>\n",
       "      <td>0</td>\n",
       "      <td>33</td>\n",
       "      <td>5</td>\n",
       "      <td>0.00</td>\n",
       "      <td>2</td>\n",
       "      <td>1</td>\n",
       "      <td>0</td>\n",
       "      <td>8673.43</td>\n",
       "      <td>0</td>\n",
       "      <td>False</td>\n",
       "      <td>False</td>\n",
       "      <td>True</td>\n",
       "    </tr>\n",
       "    <tr>\n",
       "      <th>9609</th>\n",
       "      <td>700</td>\n",
       "      <td>1</td>\n",
       "      <td>44</td>\n",
       "      <td>9</td>\n",
       "      <td>0.00</td>\n",
       "      <td>2</td>\n",
       "      <td>1</td>\n",
       "      <td>0</td>\n",
       "      <td>142287.65</td>\n",
       "      <td>0</td>\n",
       "      <td>False</td>\n",
       "      <td>False</td>\n",
       "      <td>True</td>\n",
       "    </tr>\n",
       "    <tr>\n",
       "      <th>6562</th>\n",
       "      <td>445</td>\n",
       "      <td>0</td>\n",
       "      <td>48</td>\n",
       "      <td>7</td>\n",
       "      <td>168286.58</td>\n",
       "      <td>1</td>\n",
       "      <td>1</td>\n",
       "      <td>0</td>\n",
       "      <td>16645.77</td>\n",
       "      <td>1</td>\n",
       "      <td>False</td>\n",
       "      <td>True</td>\n",
       "      <td>False</td>\n",
       "    </tr>\n",
       "    <tr>\n",
       "      <th>687</th>\n",
       "      <td>715</td>\n",
       "      <td>0</td>\n",
       "      <td>31</td>\n",
       "      <td>2</td>\n",
       "      <td>112212.14</td>\n",
       "      <td>2</td>\n",
       "      <td>1</td>\n",
       "      <td>1</td>\n",
       "      <td>181600.72</td>\n",
       "      <td>0</td>\n",
       "      <td>True</td>\n",
       "      <td>False</td>\n",
       "      <td>False</td>\n",
       "    </tr>\n",
       "    <tr>\n",
       "      <th>9384</th>\n",
       "      <td>716</td>\n",
       "      <td>0</td>\n",
       "      <td>23</td>\n",
       "      <td>2</td>\n",
       "      <td>94464.81</td>\n",
       "      <td>2</td>\n",
       "      <td>0</td>\n",
       "      <td>1</td>\n",
       "      <td>185900.88</td>\n",
       "      <td>0</td>\n",
       "      <td>True</td>\n",
       "      <td>False</td>\n",
       "      <td>False</td>\n",
       "    </tr>\n",
       "  </tbody>\n",
       "</table>\n",
       "</div>"
      ],
      "text/plain": [
       "           CreditScore  Gender  Age  Tenure    Balance  NumOfProducts  \\\n",
       "RowNumber                                                               \n",
       "6606               771       0   33       5       0.00              2   \n",
       "9609               700       1   44       9       0.00              2   \n",
       "6562               445       0   48       7  168286.58              1   \n",
       "687                715       0   31       2  112212.14              2   \n",
       "9384               716       0   23       2   94464.81              2   \n",
       "\n",
       "           HasCrCard  IsActiveMember  EstimatedSalary  Exited  Geo_France  \\\n",
       "RowNumber                                                                   \n",
       "6606               1               0          8673.43       0       False   \n",
       "9609               1               0        142287.65       0       False   \n",
       "6562               1               0         16645.77       1       False   \n",
       "687                1               1        181600.72       0        True   \n",
       "9384               0               1        185900.88       0        True   \n",
       "\n",
       "           Geo_Germany  Geo_Spain  \n",
       "RowNumber                          \n",
       "6606             False       True  \n",
       "9609             False       True  \n",
       "6562              True      False  \n",
       "687              False      False  \n",
       "9384             False      False  "
      ]
     },
     "execution_count": 11,
     "metadata": {},
     "output_type": "execute_result"
    }
   ],
   "source": [
    "bank.sample(5)"
   ]
  },
  {
   "cell_type": "markdown",
   "id": "21140ef9",
   "metadata": {
    "papermill": {
     "duration": 0.015234,
     "end_time": "2024-04-21T08:55:41.537738",
     "exception": false,
     "start_time": "2024-04-21T08:55:41.522504",
     "status": "completed"
    },
    "tags": []
   },
   "source": [
    "Let's convert the boolean values of these three columns to integers:"
   ]
  },
  {
   "cell_type": "code",
   "execution_count": 12,
   "id": "a811f4ef",
   "metadata": {
    "execution": {
     "iopub.execute_input": "2024-04-21T08:55:41.569455Z",
     "iopub.status.busy": "2024-04-21T08:55:41.568921Z",
     "iopub.status.idle": "2024-04-21T08:55:41.590611Z",
     "shell.execute_reply": "2024-04-21T08:55:41.589689Z"
    },
    "papermill": {
     "duration": 0.040338,
     "end_time": "2024-04-21T08:55:41.593081",
     "exception": false,
     "start_time": "2024-04-21T08:55:41.552743",
     "status": "completed"
    },
    "tags": []
   },
   "outputs": [
    {
     "data": {
      "text/html": [
       "<div>\n",
       "<style scoped>\n",
       "    .dataframe tbody tr th:only-of-type {\n",
       "        vertical-align: middle;\n",
       "    }\n",
       "\n",
       "    .dataframe tbody tr th {\n",
       "        vertical-align: top;\n",
       "    }\n",
       "\n",
       "    .dataframe thead th {\n",
       "        text-align: right;\n",
       "    }\n",
       "</style>\n",
       "<table border=\"1\" class=\"dataframe\">\n",
       "  <thead>\n",
       "    <tr style=\"text-align: right;\">\n",
       "      <th></th>\n",
       "      <th>CreditScore</th>\n",
       "      <th>Gender</th>\n",
       "      <th>Age</th>\n",
       "      <th>Tenure</th>\n",
       "      <th>Balance</th>\n",
       "      <th>NumOfProducts</th>\n",
       "      <th>HasCrCard</th>\n",
       "      <th>IsActiveMember</th>\n",
       "      <th>EstimatedSalary</th>\n",
       "      <th>Exited</th>\n",
       "      <th>Geo_France</th>\n",
       "      <th>Geo_Germany</th>\n",
       "      <th>Geo_Spain</th>\n",
       "    </tr>\n",
       "    <tr>\n",
       "      <th>RowNumber</th>\n",
       "      <th></th>\n",
       "      <th></th>\n",
       "      <th></th>\n",
       "      <th></th>\n",
       "      <th></th>\n",
       "      <th></th>\n",
       "      <th></th>\n",
       "      <th></th>\n",
       "      <th></th>\n",
       "      <th></th>\n",
       "      <th></th>\n",
       "      <th></th>\n",
       "      <th></th>\n",
       "    </tr>\n",
       "  </thead>\n",
       "  <tbody>\n",
       "    <tr>\n",
       "      <th>2736</th>\n",
       "      <td>551</td>\n",
       "      <td>0</td>\n",
       "      <td>30</td>\n",
       "      <td>2</td>\n",
       "      <td>143340.44</td>\n",
       "      <td>1</td>\n",
       "      <td>1</td>\n",
       "      <td>0</td>\n",
       "      <td>145796.49</td>\n",
       "      <td>0</td>\n",
       "      <td>0</td>\n",
       "      <td>1</td>\n",
       "      <td>0</td>\n",
       "    </tr>\n",
       "    <tr>\n",
       "      <th>3772</th>\n",
       "      <td>477</td>\n",
       "      <td>1</td>\n",
       "      <td>34</td>\n",
       "      <td>8</td>\n",
       "      <td>139959.55</td>\n",
       "      <td>2</td>\n",
       "      <td>1</td>\n",
       "      <td>1</td>\n",
       "      <td>189875.83</td>\n",
       "      <td>0</td>\n",
       "      <td>0</td>\n",
       "      <td>1</td>\n",
       "      <td>0</td>\n",
       "    </tr>\n",
       "    <tr>\n",
       "      <th>3021</th>\n",
       "      <td>571</td>\n",
       "      <td>0</td>\n",
       "      <td>38</td>\n",
       "      <td>6</td>\n",
       "      <td>107193.82</td>\n",
       "      <td>2</td>\n",
       "      <td>0</td>\n",
       "      <td>0</td>\n",
       "      <td>38962.94</td>\n",
       "      <td>0</td>\n",
       "      <td>1</td>\n",
       "      <td>0</td>\n",
       "      <td>0</td>\n",
       "    </tr>\n",
       "    <tr>\n",
       "      <th>8850</th>\n",
       "      <td>664</td>\n",
       "      <td>0</td>\n",
       "      <td>38</td>\n",
       "      <td>4</td>\n",
       "      <td>74306.19</td>\n",
       "      <td>2</td>\n",
       "      <td>1</td>\n",
       "      <td>0</td>\n",
       "      <td>154395.56</td>\n",
       "      <td>0</td>\n",
       "      <td>1</td>\n",
       "      <td>0</td>\n",
       "      <td>0</td>\n",
       "    </tr>\n",
       "    <tr>\n",
       "      <th>4400</th>\n",
       "      <td>670</td>\n",
       "      <td>0</td>\n",
       "      <td>45</td>\n",
       "      <td>9</td>\n",
       "      <td>104930.38</td>\n",
       "      <td>1</td>\n",
       "      <td>1</td>\n",
       "      <td>0</td>\n",
       "      <td>155921.81</td>\n",
       "      <td>1</td>\n",
       "      <td>1</td>\n",
       "      <td>0</td>\n",
       "      <td>0</td>\n",
       "    </tr>\n",
       "  </tbody>\n",
       "</table>\n",
       "</div>"
      ],
      "text/plain": [
       "           CreditScore  Gender  Age  Tenure    Balance  NumOfProducts  \\\n",
       "RowNumber                                                               \n",
       "2736               551       0   30       2  143340.44              1   \n",
       "3772               477       1   34       8  139959.55              2   \n",
       "3021               571       0   38       6  107193.82              2   \n",
       "8850               664       0   38       4   74306.19              2   \n",
       "4400               670       0   45       9  104930.38              1   \n",
       "\n",
       "           HasCrCard  IsActiveMember  EstimatedSalary  Exited  Geo_France  \\\n",
       "RowNumber                                                                   \n",
       "2736               1               0        145796.49       0           0   \n",
       "3772               1               1        189875.83       0           0   \n",
       "3021               0               0         38962.94       0           1   \n",
       "8850               1               0        154395.56       0           1   \n",
       "4400               1               0        155921.81       1           1   \n",
       "\n",
       "           Geo_Germany  Geo_Spain  \n",
       "RowNumber                          \n",
       "2736                 1          0  \n",
       "3772                 1          0  \n",
       "3021                 0          0  \n",
       "8850                 0          0  \n",
       "4400                 0          0  "
      ]
     },
     "execution_count": 12,
     "metadata": {},
     "output_type": "execute_result"
    }
   ],
   "source": [
    "bank['Geo_France'] = bank['Geo_France'] * 1\n",
    "bank['Geo_Germany'] = bank['Geo_Germany'] * 1\n",
    "bank['Geo_Spain'] = bank['Geo_Spain'] * 1\n",
    "bank.sample(5)"
   ]
  },
  {
   "cell_type": "markdown",
   "id": "85e67708",
   "metadata": {
    "papermill": {
     "duration": 0.014064,
     "end_time": "2024-04-21T08:55:41.622109",
     "exception": false,
     "start_time": "2024-04-21T08:55:41.608045",
     "status": "completed"
    },
    "tags": []
   },
   "source": [
    "Now, We need to normalize the columns with different ranges into a same range. This improves the accuracy of the our model. "
   ]
  },
  {
   "cell_type": "code",
   "execution_count": 13,
   "id": "1e374b6e",
   "metadata": {
    "execution": {
     "iopub.execute_input": "2024-04-21T08:55:41.653595Z",
     "iopub.status.busy": "2024-04-21T08:55:41.653160Z",
     "iopub.status.idle": "2024-04-21T08:55:41.667840Z",
     "shell.execute_reply": "2024-04-21T08:55:41.666011Z"
    },
    "papermill": {
     "duration": 0.033578,
     "end_time": "2024-04-21T08:55:41.670564",
     "exception": false,
     "start_time": "2024-04-21T08:55:41.636986",
     "status": "completed"
    },
    "tags": []
   },
   "outputs": [
    {
     "name": "stdout",
     "output_type": "stream",
     "text": [
      "CreditScore: [619 608 502 699 850 645 822 376 501 684 528 497 476 549 635 616 653 587\n",
      " 726 732 636 510 669 846 577 756 571 574 411 591 533 553 520 722 475 490\n",
      " 804 582 472 465 556 834 660 776 829 637 550 698 585 788 655 601 656 725\n",
      " 511 614 742 687 555 603 751 581 735 661 675 738 813 657 604 519 664 678\n",
      " 757 416 665 777 543 506 493 652 750 729 646 647 808 524 769 730 515 773\n",
      " 814 710 413 623 670 622 785 605 479 685 538 562 721 628 668 828 674 625\n",
      " 432 770 758 795 686 789 589 461 584 579 663 682 793 691 485 650 754 535\n",
      " 716 539 706 586 631 717 800 683 704 615 667 484 480 578 512 606 597 778\n",
      " 514 525 715 580 807 521 759 516 711 618 643 671 689 620 676 572 695 592\n",
      " 567 694 547 594 673 610 767 763 712 703 662 659 523 772 545 634 739 771\n",
      " 681 544 696 766 727 693 557 531 498 651 791 733 811 707 714 782 775 799\n",
      " 602 744 588 747 583 627 731 629 438 642 806 474 559 429 680 749 734 644\n",
      " 626 649 805 718 840 630 654 762 568 613 522 737 648 443 640 540 460 593\n",
      " 801 611 802 745 483 690 492 709 705 560 752 701 537 487 596 702 486 724\n",
      " 548 464 790 534 748 494 590 468 509 818 816 536 753 774 621 569 658 798\n",
      " 641 542 692 639 765 570 638 599 632 779 527 564 833 504 842 508 417 598\n",
      " 741 607 761 848 546 439 755 760 526 713 700 666 566 495 688 612 477 427\n",
      " 839 819 720 459 503 624 529 563 482 796 445 746 786 554 672 787 499 844\n",
      " 450 815 838 803 736 633 600 679 517 792 743 488 421 841 708 507 505 456\n",
      " 435 561 518 565 728 784 552 609 764 697 723 551 444 719 496 541 830 812\n",
      " 677 420 595 617 809 500 826 434 513 478 797 363 399 463 780 452 575 837\n",
      " 794 824 428 823 781 849 489 431 457 768 831 359 820 573 576 558 817 449\n",
      " 440 415 821 530 350 446 425 740 481 783 358 845 451 458 469 423 404 836\n",
      " 473 835 466 491 351 827 843 365 532 414 453 471 401 810 832 470 447 422\n",
      " 825 430 436 426 408 847 418 437 410 454 407 455 462 386 405 383 395 467\n",
      " 433 442 424 448 441 367 412 382 373 419]\n",
      "Gender: [0 1]\n",
      "Age: [42 41 39 43 44 50 29 27 31 24 34 25 35 45 58 32 38 46 36 33 40 51 61 49\n",
      " 37 19 66 56 26 21 55 75 22 30 28 65 48 52 57 73 47 54 72 20 67 79 62 53\n",
      " 80 59 68 23 60 70 63 64 18 82 69 74 71 76 77 88 85 84 78 81 92 83]\n",
      "Tenure: [ 2  1  8  7  4  6  3 10  5  9  0]\n",
      "Balance: [     0.    83807.86 159660.8  ...  57369.61  75075.31 130142.79]\n",
      "NumOfProducts: [1 3 2 4]\n",
      "HasCrCard: [1 0]\n",
      "IsActiveMember: [1 0]\n",
      "EstimatedSalary: [101348.88 112542.58 113931.57 ...  42085.58  92888.52  38190.78]\n",
      "Exited: [1 0]\n",
      "Geo_France: [1 0]\n",
      "Geo_Germany: [0 1]\n",
      "Geo_Spain: [0 1]\n"
     ]
    }
   ],
   "source": [
    "for col in bank.columns:\n",
    "    print(f'{col}: {bank[col].unique()}')"
   ]
  },
  {
   "cell_type": "code",
   "execution_count": 14,
   "id": "27bc15ef",
   "metadata": {
    "execution": {
     "iopub.execute_input": "2024-04-21T08:55:41.701961Z",
     "iopub.status.busy": "2024-04-21T08:55:41.701520Z",
     "iopub.status.idle": "2024-04-21T08:55:43.323245Z",
     "shell.execute_reply": "2024-04-21T08:55:43.321089Z"
    },
    "papermill": {
     "duration": 1.640727,
     "end_time": "2024-04-21T08:55:43.325835",
     "exception": false,
     "start_time": "2024-04-21T08:55:41.685108",
     "status": "completed"
    },
    "tags": []
   },
   "outputs": [
    {
     "name": "stdout",
     "output_type": "stream",
     "text": [
      "CreditScore: [0.538 0.516 0.304 0.698 1.    0.59  0.944 0.052 0.302 0.668 0.356 0.294\n",
      " 0.252 0.398 0.57  0.532 0.606 0.474 0.752 0.764 0.572 0.32  0.638 0.992\n",
      " 0.454 0.812 0.442 0.448 0.122 0.482 0.366 0.406 0.34  0.744 0.25  0.28\n",
      " 0.908 0.464 0.244 0.23  0.412 0.968 0.62  0.852 0.958 0.574 0.4   0.696\n",
      " 0.47  0.876 0.61  0.502 0.612 0.75  0.322 0.528 0.784 0.674 0.41  0.506\n",
      " 0.802 0.462 0.77  0.622 0.65  0.776 0.926 0.614 0.508 0.338 0.628 0.656\n",
      " 0.814 0.132 0.63  0.854 0.386 0.312 0.286 0.604 0.8   0.758 0.592 0.594\n",
      " 0.916 0.348 0.838 0.76  0.33  0.846 0.928 0.72  0.126 0.546 0.64  0.544\n",
      " 0.87  0.51  0.258 0.67  0.376 0.424 0.742 0.556 0.636 0.956 0.648 0.55\n",
      " 0.164 0.84  0.816 0.89  0.672 0.878 0.478 0.222 0.468 0.458 0.626 0.664\n",
      " 0.886 0.682 0.27  0.6   0.808 0.37  0.732 0.378 0.712 0.472 0.562 0.734\n",
      " 0.9   0.666 0.708 0.53  0.634 0.268 0.26  0.456 0.324 0.512 0.494 0.856\n",
      " 0.328 0.35  0.73  0.46  0.914 0.342 0.818 0.332 0.722 0.536 0.586 0.642\n",
      " 0.678 0.54  0.652 0.444 0.69  0.484 0.434 0.688 0.394 0.488 0.646 0.52\n",
      " 0.834 0.826 0.724 0.706 0.624 0.618 0.346 0.844 0.39  0.568 0.778 0.842\n",
      " 0.662 0.388 0.692 0.832 0.754 0.686 0.414 0.362 0.296 0.602 0.882 0.766\n",
      " 0.922 0.714 0.728 0.864 0.85  0.898 0.504 0.788 0.476 0.794 0.466 0.554\n",
      " 0.762 0.558 0.176 0.584 0.912 0.248 0.418 0.158 0.66  0.798 0.768 0.588\n",
      " 0.552 0.598 0.91  0.736 0.98  0.56  0.608 0.824 0.436 0.526 0.344 0.774\n",
      " 0.596 0.186 0.58  0.38  0.22  0.486 0.902 0.522 0.904 0.79  0.266 0.68\n",
      " 0.284 0.718 0.71  0.42  0.804 0.702 0.374 0.274 0.492 0.704 0.272 0.748\n",
      " 0.396 0.228 0.88  0.368 0.796 0.288 0.48  0.236 0.318 0.936 0.932 0.372\n",
      " 0.806 0.848 0.542 0.438 0.616 0.896 0.582 0.384 0.684 0.578 0.83  0.44\n",
      " 0.576 0.498 0.564 0.858 0.354 0.428 0.966 0.308 0.984 0.316 0.134 0.496\n",
      " 0.782 0.514 0.822 0.996 0.392 0.178 0.81  0.82  0.352 0.726 0.7   0.632\n",
      " 0.432 0.29  0.676 0.524 0.254 0.154 0.978 0.938 0.74  0.218 0.306 0.548\n",
      " 0.358 0.426 0.264 0.892 0.19  0.792 0.872 0.408 0.644 0.874 0.298 0.988\n",
      " 0.2   0.93  0.976 0.906 0.772 0.566 0.5   0.658 0.334 0.884 0.786 0.276\n",
      " 0.142 0.982 0.716 0.314 0.31  0.212 0.17  0.422 0.336 0.43  0.756 0.868\n",
      " 0.404 0.518 0.828 0.694 0.746 0.402 0.188 0.738 0.292 0.382 0.96  0.924\n",
      " 0.654 0.14  0.49  0.534 0.918 0.3   0.952 0.168 0.326 0.256 0.894 0.026\n",
      " 0.098 0.226 0.86  0.204 0.45  0.974 0.888 0.948 0.156 0.946 0.862 0.998\n",
      " 0.278 0.162 0.214 0.836 0.962 0.018 0.94  0.446 0.452 0.416 0.934 0.198\n",
      " 0.18  0.13  0.942 0.36  0.    0.192 0.15  0.78  0.262 0.866 0.016 0.99\n",
      " 0.202 0.216 0.238 0.146 0.108 0.972 0.246 0.97  0.232 0.282 0.002 0.954\n",
      " 0.986 0.03  0.364 0.128 0.206 0.242 0.102 0.92  0.964 0.24  0.194 0.144\n",
      " 0.95  0.16  0.172 0.152 0.116 0.994 0.136 0.174 0.12  0.208 0.114 0.21\n",
      " 0.224 0.072 0.11  0.066 0.09  0.234 0.166 0.184 0.148 0.196 0.182 0.034\n",
      " 0.124 0.064 0.046 0.138]\n",
      "Gender: [0 1]\n",
      "Age: [0.32432432 0.31081081 0.28378378 0.33783784 0.35135135 0.43243243\n",
      " 0.14864865 0.12162162 0.17567568 0.08108108 0.21621622 0.09459459\n",
      " 0.22972973 0.36486486 0.54054054 0.18918919 0.27027027 0.37837838\n",
      " 0.24324324 0.2027027  0.2972973  0.44594595 0.58108108 0.41891892\n",
      " 0.25675676 0.01351351 0.64864865 0.51351351 0.10810811 0.04054054\n",
      " 0.5        0.77027027 0.05405405 0.16216216 0.13513514 0.63513514\n",
      " 0.40540541 0.45945946 0.52702703 0.74324324 0.39189189 0.48648649\n",
      " 0.72972973 0.02702703 0.66216216 0.82432432 0.59459459 0.47297297\n",
      " 0.83783784 0.55405405 0.67567568 0.06756757 0.56756757 0.7027027\n",
      " 0.60810811 0.62162162 0.         0.86486486 0.68918919 0.75675676\n",
      " 0.71621622 0.78378378 0.7972973  0.94594595 0.90540541 0.89189189\n",
      " 0.81081081 0.85135135 1.         0.87837838]\n",
      "Tenure: [0.2 0.1 0.8 0.7 0.4 0.6 0.3 1.  0.5 0.9 0. ]\n",
      "Balance: [0.         0.33403148 0.63635718 ... 0.22865702 0.29922631 0.51870777]\n",
      "NumOfProducts: [0.         0.66666667 0.33333333 1.        ]\n",
      "HasCrCard: [1 0]\n",
      "IsActiveMember: [1 0]\n",
      "EstimatedSalary: [0.50673489 0.56270874 0.56965435 ... 0.21039009 0.46442905 0.19091423]\n",
      "Exited: [1 0]\n",
      "Geo_France: [1 0]\n",
      "Geo_Germany: [0 1]\n",
      "Geo_Spain: [0 1]\n"
     ]
    }
   ],
   "source": [
    "from sklearn.preprocessing import MinMaxScaler\n",
    "scaler = MinMaxScaler()\n",
    "\n",
    "scale_col = ['CreditScore', 'Age', 'Tenure', 'Balance', 'NumOfProducts', 'EstimatedSalary']\n",
    "bank[scale_col] = scaler.fit_transform(bank[scale_col])\n",
    "\n",
    "for col in bank.columns:\n",
    "    print(f'{col}: {bank[col].unique()}')"
   ]
  },
  {
   "cell_type": "code",
   "execution_count": 15,
   "id": "2cc39d26",
   "metadata": {
    "execution": {
     "iopub.execute_input": "2024-04-21T08:55:43.359480Z",
     "iopub.status.busy": "2024-04-21T08:55:43.358268Z",
     "iopub.status.idle": "2024-04-21T08:55:43.419953Z",
     "shell.execute_reply": "2024-04-21T08:55:43.418665Z"
    },
    "papermill": {
     "duration": 0.081978,
     "end_time": "2024-04-21T08:55:43.422679",
     "exception": false,
     "start_time": "2024-04-21T08:55:43.340701",
     "status": "completed"
    },
    "tags": []
   },
   "outputs": [
    {
     "data": {
      "text/html": [
       "<div>\n",
       "<style scoped>\n",
       "    .dataframe tbody tr th:only-of-type {\n",
       "        vertical-align: middle;\n",
       "    }\n",
       "\n",
       "    .dataframe tbody tr th {\n",
       "        vertical-align: top;\n",
       "    }\n",
       "\n",
       "    .dataframe thead th {\n",
       "        text-align: right;\n",
       "    }\n",
       "</style>\n",
       "<table border=\"1\" class=\"dataframe\">\n",
       "  <thead>\n",
       "    <tr style=\"text-align: right;\">\n",
       "      <th></th>\n",
       "      <th>CreditScore</th>\n",
       "      <th>Gender</th>\n",
       "      <th>Age</th>\n",
       "      <th>Tenure</th>\n",
       "      <th>Balance</th>\n",
       "      <th>NumOfProducts</th>\n",
       "      <th>HasCrCard</th>\n",
       "      <th>IsActiveMember</th>\n",
       "      <th>EstimatedSalary</th>\n",
       "      <th>Exited</th>\n",
       "      <th>Geo_France</th>\n",
       "      <th>Geo_Germany</th>\n",
       "      <th>Geo_Spain</th>\n",
       "    </tr>\n",
       "  </thead>\n",
       "  <tbody>\n",
       "    <tr>\n",
       "      <th>count</th>\n",
       "      <td>10000.000000</td>\n",
       "      <td>10000.000000</td>\n",
       "      <td>10000.000000</td>\n",
       "      <td>10000.000000</td>\n",
       "      <td>10000.000000</td>\n",
       "      <td>10000.000000</td>\n",
       "      <td>10000.00000</td>\n",
       "      <td>10000.000000</td>\n",
       "      <td>10000.000000</td>\n",
       "      <td>10000.000000</td>\n",
       "      <td>10000.000000</td>\n",
       "      <td>10000.000000</td>\n",
       "      <td>10000.000000</td>\n",
       "    </tr>\n",
       "    <tr>\n",
       "      <th>mean</th>\n",
       "      <td>0.601058</td>\n",
       "      <td>0.545700</td>\n",
       "      <td>0.282727</td>\n",
       "      <td>0.501280</td>\n",
       "      <td>0.304848</td>\n",
       "      <td>0.176733</td>\n",
       "      <td>0.70550</td>\n",
       "      <td>0.515100</td>\n",
       "      <td>0.500441</td>\n",
       "      <td>0.203700</td>\n",
       "      <td>0.501400</td>\n",
       "      <td>0.250900</td>\n",
       "      <td>0.247700</td>\n",
       "    </tr>\n",
       "    <tr>\n",
       "      <th>std</th>\n",
       "      <td>0.193307</td>\n",
       "      <td>0.497932</td>\n",
       "      <td>0.141727</td>\n",
       "      <td>0.289217</td>\n",
       "      <td>0.248696</td>\n",
       "      <td>0.193885</td>\n",
       "      <td>0.45584</td>\n",
       "      <td>0.499797</td>\n",
       "      <td>0.287580</td>\n",
       "      <td>0.402769</td>\n",
       "      <td>0.500023</td>\n",
       "      <td>0.433553</td>\n",
       "      <td>0.431698</td>\n",
       "    </tr>\n",
       "    <tr>\n",
       "      <th>min</th>\n",
       "      <td>0.000000</td>\n",
       "      <td>0.000000</td>\n",
       "      <td>0.000000</td>\n",
       "      <td>0.000000</td>\n",
       "      <td>0.000000</td>\n",
       "      <td>0.000000</td>\n",
       "      <td>0.00000</td>\n",
       "      <td>0.000000</td>\n",
       "      <td>0.000000</td>\n",
       "      <td>0.000000</td>\n",
       "      <td>0.000000</td>\n",
       "      <td>0.000000</td>\n",
       "      <td>0.000000</td>\n",
       "    </tr>\n",
       "    <tr>\n",
       "      <th>25%</th>\n",
       "      <td>0.468000</td>\n",
       "      <td>0.000000</td>\n",
       "      <td>0.189189</td>\n",
       "      <td>0.300000</td>\n",
       "      <td>0.000000</td>\n",
       "      <td>0.000000</td>\n",
       "      <td>0.00000</td>\n",
       "      <td>0.000000</td>\n",
       "      <td>0.254977</td>\n",
       "      <td>0.000000</td>\n",
       "      <td>0.000000</td>\n",
       "      <td>0.000000</td>\n",
       "      <td>0.000000</td>\n",
       "    </tr>\n",
       "    <tr>\n",
       "      <th>50%</th>\n",
       "      <td>0.604000</td>\n",
       "      <td>1.000000</td>\n",
       "      <td>0.256757</td>\n",
       "      <td>0.500000</td>\n",
       "      <td>0.387402</td>\n",
       "      <td>0.000000</td>\n",
       "      <td>1.00000</td>\n",
       "      <td>1.000000</td>\n",
       "      <td>0.500960</td>\n",
       "      <td>0.000000</td>\n",
       "      <td>1.000000</td>\n",
       "      <td>0.000000</td>\n",
       "      <td>0.000000</td>\n",
       "    </tr>\n",
       "    <tr>\n",
       "      <th>75%</th>\n",
       "      <td>0.736000</td>\n",
       "      <td>1.000000</td>\n",
       "      <td>0.351351</td>\n",
       "      <td>0.700000</td>\n",
       "      <td>0.508749</td>\n",
       "      <td>0.333333</td>\n",
       "      <td>1.00000</td>\n",
       "      <td>1.000000</td>\n",
       "      <td>0.746955</td>\n",
       "      <td>0.000000</td>\n",
       "      <td>1.000000</td>\n",
       "      <td>1.000000</td>\n",
       "      <td>0.000000</td>\n",
       "    </tr>\n",
       "    <tr>\n",
       "      <th>max</th>\n",
       "      <td>1.000000</td>\n",
       "      <td>1.000000</td>\n",
       "      <td>1.000000</td>\n",
       "      <td>1.000000</td>\n",
       "      <td>1.000000</td>\n",
       "      <td>1.000000</td>\n",
       "      <td>1.00000</td>\n",
       "      <td>1.000000</td>\n",
       "      <td>1.000000</td>\n",
       "      <td>1.000000</td>\n",
       "      <td>1.000000</td>\n",
       "      <td>1.000000</td>\n",
       "      <td>1.000000</td>\n",
       "    </tr>\n",
       "  </tbody>\n",
       "</table>\n",
       "</div>"
      ],
      "text/plain": [
       "        CreditScore        Gender           Age        Tenure       Balance  \\\n",
       "count  10000.000000  10000.000000  10000.000000  10000.000000  10000.000000   \n",
       "mean       0.601058      0.545700      0.282727      0.501280      0.304848   \n",
       "std        0.193307      0.497932      0.141727      0.289217      0.248696   \n",
       "min        0.000000      0.000000      0.000000      0.000000      0.000000   \n",
       "25%        0.468000      0.000000      0.189189      0.300000      0.000000   \n",
       "50%        0.604000      1.000000      0.256757      0.500000      0.387402   \n",
       "75%        0.736000      1.000000      0.351351      0.700000      0.508749   \n",
       "max        1.000000      1.000000      1.000000      1.000000      1.000000   \n",
       "\n",
       "       NumOfProducts    HasCrCard  IsActiveMember  EstimatedSalary  \\\n",
       "count   10000.000000  10000.00000    10000.000000     10000.000000   \n",
       "mean        0.176733      0.70550        0.515100         0.500441   \n",
       "std         0.193885      0.45584        0.499797         0.287580   \n",
       "min         0.000000      0.00000        0.000000         0.000000   \n",
       "25%         0.000000      0.00000        0.000000         0.254977   \n",
       "50%         0.000000      1.00000        1.000000         0.500960   \n",
       "75%         0.333333      1.00000        1.000000         0.746955   \n",
       "max         1.000000      1.00000        1.000000         1.000000   \n",
       "\n",
       "             Exited    Geo_France   Geo_Germany     Geo_Spain  \n",
       "count  10000.000000  10000.000000  10000.000000  10000.000000  \n",
       "mean       0.203700      0.501400      0.250900      0.247700  \n",
       "std        0.402769      0.500023      0.433553      0.431698  \n",
       "min        0.000000      0.000000      0.000000      0.000000  \n",
       "25%        0.000000      0.000000      0.000000      0.000000  \n",
       "50%        0.000000      1.000000      0.000000      0.000000  \n",
       "75%        0.000000      1.000000      1.000000      0.000000  \n",
       "max        1.000000      1.000000      1.000000      1.000000  "
      ]
     },
     "execution_count": 15,
     "metadata": {},
     "output_type": "execute_result"
    }
   ],
   "source": [
    "bank.describe()"
   ]
  },
  {
   "cell_type": "markdown",
   "id": "48a87a90",
   "metadata": {
    "papermill": {
     "duration": 0.015015,
     "end_time": "2024-04-21T08:55:43.453442",
     "exception": false,
     "start_time": "2024-04-21T08:55:43.438427",
     "status": "completed"
    },
    "tags": []
   },
   "source": [
    "## Creating Model and Training\n",
    "In the following we want to split the data and train a NN model. "
   ]
  },
  {
   "cell_type": "markdown",
   "id": "810526d3",
   "metadata": {
    "papermill": {
     "duration": 0.014831,
     "end_time": "2024-04-21T08:55:43.483843",
     "exception": false,
     "start_time": "2024-04-21T08:55:43.469012",
     "status": "completed"
    },
    "tags": []
   },
   "source": [
    "### Splitting the data"
   ]
  },
  {
   "cell_type": "code",
   "execution_count": 16,
   "id": "3c2d15fe",
   "metadata": {
    "execution": {
     "iopub.execute_input": "2024-04-21T08:55:43.516149Z",
     "iopub.status.busy": "2024-04-21T08:55:43.515756Z",
     "iopub.status.idle": "2024-04-21T08:55:43.671794Z",
     "shell.execute_reply": "2024-04-21T08:55:43.670601Z"
    },
    "papermill": {
     "duration": 0.175193,
     "end_time": "2024-04-21T08:55:43.674490",
     "exception": false,
     "start_time": "2024-04-21T08:55:43.499297",
     "status": "completed"
    },
    "tags": []
   },
   "outputs": [
    {
     "data": {
      "text/plain": [
       "((8000, 12), (2000, 12), (8000,), (2000,))"
      ]
     },
     "execution_count": 16,
     "metadata": {},
     "output_type": "execute_result"
    }
   ],
   "source": [
    "from sklearn.model_selection import train_test_split\n",
    "\n",
    "X = bank.drop('Exited', axis=1)\n",
    "y = bank['Exited']\n",
    "\n",
    "X_train, X_test, y_train, y_test = train_test_split(X, y, test_size=0.2, random_state=101, stratify=y)\n",
    "\n",
    "X_train.shape, X_test.shape, y_train.shape, y_test.shape"
   ]
  },
  {
   "cell_type": "code",
   "execution_count": 17,
   "id": "938ef704",
   "metadata": {
    "execution": {
     "iopub.execute_input": "2024-04-21T08:55:43.707648Z",
     "iopub.status.busy": "2024-04-21T08:55:43.707145Z",
     "iopub.status.idle": "2024-04-21T08:55:43.726996Z",
     "shell.execute_reply": "2024-04-21T08:55:43.725686Z"
    },
    "papermill": {
     "duration": 0.039292,
     "end_time": "2024-04-21T08:55:43.729792",
     "exception": false,
     "start_time": "2024-04-21T08:55:43.690500",
     "status": "completed"
    },
    "tags": []
   },
   "outputs": [
    {
     "data": {
      "text/html": [
       "<div>\n",
       "<style scoped>\n",
       "    .dataframe tbody tr th:only-of-type {\n",
       "        vertical-align: middle;\n",
       "    }\n",
       "\n",
       "    .dataframe tbody tr th {\n",
       "        vertical-align: top;\n",
       "    }\n",
       "\n",
       "    .dataframe thead th {\n",
       "        text-align: right;\n",
       "    }\n",
       "</style>\n",
       "<table border=\"1\" class=\"dataframe\">\n",
       "  <thead>\n",
       "    <tr style=\"text-align: right;\">\n",
       "      <th></th>\n",
       "      <th>CreditScore</th>\n",
       "      <th>Gender</th>\n",
       "      <th>Age</th>\n",
       "      <th>Tenure</th>\n",
       "      <th>Balance</th>\n",
       "      <th>NumOfProducts</th>\n",
       "      <th>HasCrCard</th>\n",
       "      <th>IsActiveMember</th>\n",
       "      <th>EstimatedSalary</th>\n",
       "      <th>Geo_France</th>\n",
       "      <th>Geo_Germany</th>\n",
       "      <th>Geo_Spain</th>\n",
       "    </tr>\n",
       "    <tr>\n",
       "      <th>RowNumber</th>\n",
       "      <th></th>\n",
       "      <th></th>\n",
       "      <th></th>\n",
       "      <th></th>\n",
       "      <th></th>\n",
       "      <th></th>\n",
       "      <th></th>\n",
       "      <th></th>\n",
       "      <th></th>\n",
       "      <th></th>\n",
       "      <th></th>\n",
       "      <th></th>\n",
       "    </tr>\n",
       "  </thead>\n",
       "  <tbody>\n",
       "    <tr>\n",
       "      <th>639</th>\n",
       "      <td>0.788</td>\n",
       "      <td>0</td>\n",
       "      <td>0.337838</td>\n",
       "      <td>1.0</td>\n",
       "      <td>0.589212</td>\n",
       "      <td>0.000000</td>\n",
       "      <td>0</td>\n",
       "      <td>1</td>\n",
       "      <td>0.121124</td>\n",
       "      <td>1</td>\n",
       "      <td>0</td>\n",
       "      <td>0</td>\n",
       "    </tr>\n",
       "    <tr>\n",
       "      <th>9186</th>\n",
       "      <td>0.468</td>\n",
       "      <td>1</td>\n",
       "      <td>0.229730</td>\n",
       "      <td>0.6</td>\n",
       "      <td>0.644142</td>\n",
       "      <td>0.333333</td>\n",
       "      <td>1</td>\n",
       "      <td>1</td>\n",
       "      <td>0.741204</td>\n",
       "      <td>1</td>\n",
       "      <td>0</td>\n",
       "      <td>0</td>\n",
       "    </tr>\n",
       "    <tr>\n",
       "      <th>9845</th>\n",
       "      <td>0.616</td>\n",
       "      <td>0</td>\n",
       "      <td>0.297297</td>\n",
       "      <td>0.5</td>\n",
       "      <td>0.572209</td>\n",
       "      <td>0.000000</td>\n",
       "      <td>1</td>\n",
       "      <td>1</td>\n",
       "      <td>0.948071</td>\n",
       "      <td>1</td>\n",
       "      <td>0</td>\n",
       "      <td>0</td>\n",
       "    </tr>\n",
       "    <tr>\n",
       "      <th>7678</th>\n",
       "      <td>0.690</td>\n",
       "      <td>1</td>\n",
       "      <td>0.243243</td>\n",
       "      <td>0.4</td>\n",
       "      <td>0.643819</td>\n",
       "      <td>0.000000</td>\n",
       "      <td>1</td>\n",
       "      <td>0</td>\n",
       "      <td>0.504695</td>\n",
       "      <td>1</td>\n",
       "      <td>0</td>\n",
       "      <td>0</td>\n",
       "    </tr>\n",
       "    <tr>\n",
       "      <th>4659</th>\n",
       "      <td>0.700</td>\n",
       "      <td>1</td>\n",
       "      <td>0.135135</td>\n",
       "      <td>0.8</td>\n",
       "      <td>0.637312</td>\n",
       "      <td>0.000000</td>\n",
       "      <td>0</td>\n",
       "      <td>0</td>\n",
       "      <td>0.113446</td>\n",
       "      <td>0</td>\n",
       "      <td>0</td>\n",
       "      <td>1</td>\n",
       "    </tr>\n",
       "    <tr>\n",
       "      <th>9727</th>\n",
       "      <td>0.846</td>\n",
       "      <td>1</td>\n",
       "      <td>0.337838</td>\n",
       "      <td>0.7</td>\n",
       "      <td>0.550624</td>\n",
       "      <td>0.000000</td>\n",
       "      <td>1</td>\n",
       "      <td>1</td>\n",
       "      <td>0.886813</td>\n",
       "      <td>0</td>\n",
       "      <td>0</td>\n",
       "      <td>1</td>\n",
       "    </tr>\n",
       "  </tbody>\n",
       "</table>\n",
       "</div>"
      ],
      "text/plain": [
       "           CreditScore  Gender       Age  Tenure   Balance  NumOfProducts  \\\n",
       "RowNumber                                                                   \n",
       "639              0.788       0  0.337838     1.0  0.589212       0.000000   \n",
       "9186             0.468       1  0.229730     0.6  0.644142       0.333333   \n",
       "9845             0.616       0  0.297297     0.5  0.572209       0.000000   \n",
       "7678             0.690       1  0.243243     0.4  0.643819       0.000000   \n",
       "4659             0.700       1  0.135135     0.8  0.637312       0.000000   \n",
       "9727             0.846       1  0.337838     0.7  0.550624       0.000000   \n",
       "\n",
       "           HasCrCard  IsActiveMember  EstimatedSalary  Geo_France  \\\n",
       "RowNumber                                                           \n",
       "639                0               1         0.121124           1   \n",
       "9186               1               1         0.741204           1   \n",
       "9845               1               1         0.948071           1   \n",
       "7678               1               0         0.504695           1   \n",
       "4659               0               0         0.113446           0   \n",
       "9727               1               1         0.886813           0   \n",
       "\n",
       "           Geo_Germany  Geo_Spain  \n",
       "RowNumber                          \n",
       "639                  0          0  \n",
       "9186                 0          0  \n",
       "9845                 0          0  \n",
       "7678                 0          0  \n",
       "4659                 0          1  \n",
       "9727                 0          1  "
      ]
     },
     "execution_count": 17,
     "metadata": {},
     "output_type": "execute_result"
    }
   ],
   "source": [
    "X_train.sample(6)"
   ]
  },
  {
   "cell_type": "markdown",
   "id": "fd44d9e6",
   "metadata": {
    "papermill": {
     "duration": 0.015665,
     "end_time": "2024-04-21T08:55:43.761106",
     "exception": false,
     "start_time": "2024-04-21T08:55:43.745441",
     "status": "completed"
    },
    "tags": []
   },
   "source": [
    "### Building ANN Model"
   ]
  },
  {
   "cell_type": "code",
   "execution_count": 18,
   "id": "b00aa66d",
   "metadata": {
    "execution": {
     "iopub.execute_input": "2024-04-21T08:55:43.797487Z",
     "iopub.status.busy": "2024-04-21T08:55:43.797074Z",
     "iopub.status.idle": "2024-04-21T08:56:11.870534Z",
     "shell.execute_reply": "2024-04-21T08:56:11.869518Z"
    },
    "papermill": {
     "duration": 28.094659,
     "end_time": "2024-04-21T08:56:11.873102",
     "exception": false,
     "start_time": "2024-04-21T08:55:43.778443",
     "status": "completed"
    },
    "tags": []
   },
   "outputs": [
    {
     "name": "stderr",
     "output_type": "stream",
     "text": [
      "2024-04-21 08:55:46.681646: E external/local_xla/xla/stream_executor/cuda/cuda_dnn.cc:9261] Unable to register cuDNN factory: Attempting to register factory for plugin cuDNN when one has already been registered\n",
      "2024-04-21 08:55:46.681783: E external/local_xla/xla/stream_executor/cuda/cuda_fft.cc:607] Unable to register cuFFT factory: Attempting to register factory for plugin cuFFT when one has already been registered\n",
      "2024-04-21 08:55:46.913222: E external/local_xla/xla/stream_executor/cuda/cuda_blas.cc:1515] Unable to register cuBLAS factory: Attempting to register factory for plugin cuBLAS when one has already been registered\n"
     ]
    },
    {
     "name": "stdout",
     "output_type": "stream",
     "text": [
      "Epoch 1/20\n",
      "\u001b[1m250/250\u001b[0m \u001b[32m━━━━━━━━━━━━━━━━━━━━\u001b[0m\u001b[37m\u001b[0m \u001b[1m2s\u001b[0m 2ms/step - accuracy: 0.7165 - loss: 0.5682\n",
      "Epoch 2/20\n",
      "\u001b[1m250/250\u001b[0m \u001b[32m━━━━━━━━━━━━━━━━━━━━\u001b[0m\u001b[37m\u001b[0m \u001b[1m1s\u001b[0m 2ms/step - accuracy: 0.7963 - loss: 0.4678\n",
      "Epoch 3/20\n",
      "\u001b[1m250/250\u001b[0m \u001b[32m━━━━━━━━━━━━━━━━━━━━\u001b[0m\u001b[37m\u001b[0m \u001b[1m1s\u001b[0m 2ms/step - accuracy: 0.8007 - loss: 0.4543\n",
      "Epoch 4/20\n",
      "\u001b[1m250/250\u001b[0m \u001b[32m━━━━━━━━━━━━━━━━━━━━\u001b[0m\u001b[37m\u001b[0m \u001b[1m1s\u001b[0m 2ms/step - accuracy: 0.8116 - loss: 0.4363\n",
      "Epoch 5/20\n",
      "\u001b[1m250/250\u001b[0m \u001b[32m━━━━━━━━━━━━━━━━━━━━\u001b[0m\u001b[37m\u001b[0m \u001b[1m0s\u001b[0m 1ms/step - accuracy: 0.8180 - loss: 0.4259\n",
      "Epoch 6/20\n",
      "\u001b[1m250/250\u001b[0m \u001b[32m━━━━━━━━━━━━━━━━━━━━\u001b[0m\u001b[37m\u001b[0m \u001b[1m1s\u001b[0m 2ms/step - accuracy: 0.8124 - loss: 0.4299\n",
      "Epoch 7/20\n",
      "\u001b[1m250/250\u001b[0m \u001b[32m━━━━━━━━━━━━━━━━━━━━\u001b[0m\u001b[37m\u001b[0m \u001b[1m1s\u001b[0m 2ms/step - accuracy: 0.8138 - loss: 0.4207\n",
      "Epoch 8/20\n",
      "\u001b[1m250/250\u001b[0m \u001b[32m━━━━━━━━━━━━━━━━━━━━\u001b[0m\u001b[37m\u001b[0m \u001b[1m1s\u001b[0m 1ms/step - accuracy: 0.8170 - loss: 0.4261\n",
      "Epoch 9/20\n",
      "\u001b[1m250/250\u001b[0m \u001b[32m━━━━━━━━━━━━━━━━━━━━\u001b[0m\u001b[37m\u001b[0m \u001b[1m1s\u001b[0m 1ms/step - accuracy: 0.8217 - loss: 0.4183\n",
      "Epoch 10/20\n",
      "\u001b[1m250/250\u001b[0m \u001b[32m━━━━━━━━━━━━━━━━━━━━\u001b[0m\u001b[37m\u001b[0m \u001b[1m1s\u001b[0m 2ms/step - accuracy: 0.8244 - loss: 0.4104\n",
      "Epoch 11/20\n",
      "\u001b[1m250/250\u001b[0m \u001b[32m━━━━━━━━━━━━━━━━━━━━\u001b[0m\u001b[37m\u001b[0m \u001b[1m0s\u001b[0m 2ms/step - accuracy: 0.8282 - loss: 0.4116\n",
      "Epoch 12/20\n",
      "\u001b[1m250/250\u001b[0m \u001b[32m━━━━━━━━━━━━━━━━━━━━\u001b[0m\u001b[37m\u001b[0m \u001b[1m1s\u001b[0m 2ms/step - accuracy: 0.8387 - loss: 0.3916\n",
      "Epoch 13/20\n",
      "\u001b[1m250/250\u001b[0m \u001b[32m━━━━━━━━━━━━━━━━━━━━\u001b[0m\u001b[37m\u001b[0m \u001b[1m1s\u001b[0m 2ms/step - accuracy: 0.8288 - loss: 0.4045\n",
      "Epoch 14/20\n",
      "\u001b[1m250/250\u001b[0m \u001b[32m━━━━━━━━━━━━━━━━━━━━\u001b[0m\u001b[37m\u001b[0m \u001b[1m0s\u001b[0m 1ms/step - accuracy: 0.8256 - loss: 0.4073\n",
      "Epoch 15/20\n",
      "\u001b[1m250/250\u001b[0m \u001b[32m━━━━━━━━━━━━━━━━━━━━\u001b[0m\u001b[37m\u001b[0m \u001b[1m0s\u001b[0m 2ms/step - accuracy: 0.8258 - loss: 0.4066\n",
      "Epoch 16/20\n",
      "\u001b[1m250/250\u001b[0m \u001b[32m━━━━━━━━━━━━━━━━━━━━\u001b[0m\u001b[37m\u001b[0m \u001b[1m0s\u001b[0m 2ms/step - accuracy: 0.8334 - loss: 0.4043\n",
      "Epoch 17/20\n",
      "\u001b[1m250/250\u001b[0m \u001b[32m━━━━━━━━━━━━━━━━━━━━\u001b[0m\u001b[37m\u001b[0m \u001b[1m1s\u001b[0m 1ms/step - accuracy: 0.8292 - loss: 0.4069\n",
      "Epoch 18/20\n",
      "\u001b[1m250/250\u001b[0m \u001b[32m━━━━━━━━━━━━━━━━━━━━\u001b[0m\u001b[37m\u001b[0m \u001b[1m0s\u001b[0m 2ms/step - accuracy: 0.8288 - loss: 0.4042\n",
      "Epoch 19/20\n",
      "\u001b[1m250/250\u001b[0m \u001b[32m━━━━━━━━━━━━━━━━━━━━\u001b[0m\u001b[37m\u001b[0m \u001b[1m0s\u001b[0m 1ms/step - accuracy: 0.8298 - loss: 0.4077\n",
      "Epoch 20/20\n",
      "\u001b[1m250/250\u001b[0m \u001b[32m━━━━━━━━━━━━━━━━━━━━\u001b[0m\u001b[37m\u001b[0m \u001b[1m1s\u001b[0m 2ms/step - accuracy: 0.8371 - loss: 0.3909\n"
     ]
    },
    {
     "data": {
      "text/plain": [
       "<keras.src.callbacks.history.History at 0x79ca00757a00>"
      ]
     },
     "execution_count": 18,
     "metadata": {},
     "output_type": "execute_result"
    }
   ],
   "source": [
    "import tensorflow as tf\n",
    "from tensorflow import keras \n",
    "\n",
    "model = keras.Sequential([\n",
    "    keras.Input(shape=(12, )),\n",
    "    keras.layers.Dense(12, activation='relu'),\n",
    "    keras.layers.Dense(25, activation='relu'),\n",
    "    keras.layers.Dense(1, activation='sigmoid')\n",
    "])\n",
    "\n",
    "model.compile(optimizer='adam', \n",
    "             loss='binary_crossentropy', \n",
    "             metrics=['accuracy'])\n",
    "\n",
    "model.fit(X_train, y_train, epochs=20)"
   ]
  },
  {
   "cell_type": "markdown",
   "id": "1f95f423",
   "metadata": {
    "papermill": {
     "duration": 0.034902,
     "end_time": "2024-04-21T08:56:11.945995",
     "exception": false,
     "start_time": "2024-04-21T08:56:11.911093",
     "status": "completed"
    },
    "tags": []
   },
   "source": [
    "## Evaluation of the model"
   ]
  },
  {
   "cell_type": "markdown",
   "id": "e5a4ed2d",
   "metadata": {
    "papermill": {
     "duration": 0.034737,
     "end_time": "2024-04-21T08:56:12.016096",
     "exception": false,
     "start_time": "2024-04-21T08:56:11.981359",
     "status": "completed"
    },
    "tags": []
   },
   "source": [
    "In the following we will evaluate our model on different metrics. "
   ]
  },
  {
   "cell_type": "code",
   "execution_count": 19,
   "id": "2ff06411",
   "metadata": {
    "execution": {
     "iopub.execute_input": "2024-04-21T08:56:12.090462Z",
     "iopub.status.busy": "2024-04-21T08:56:12.089123Z",
     "iopub.status.idle": "2024-04-21T08:56:12.382474Z",
     "shell.execute_reply": "2024-04-21T08:56:12.381193Z"
    },
    "papermill": {
     "duration": 0.33347,
     "end_time": "2024-04-21T08:56:12.385233",
     "exception": false,
     "start_time": "2024-04-21T08:56:12.051763",
     "status": "completed"
    },
    "tags": []
   },
   "outputs": [
    {
     "name": "stdout",
     "output_type": "stream",
     "text": [
      "\u001b[1m63/63\u001b[0m \u001b[32m━━━━━━━━━━━━━━━━━━━━\u001b[0m\u001b[37m\u001b[0m \u001b[1m0s\u001b[0m 1ms/step - accuracy: 0.8203 - loss: 0.4263\n"
     ]
    },
    {
     "data": {
      "text/plain": [
       "[0.4208577871322632, 0.8255000114440918]"
      ]
     },
     "execution_count": 19,
     "metadata": {},
     "output_type": "execute_result"
    }
   ],
   "source": [
    "model.evaluate(X_test, y_test)"
   ]
  },
  {
   "cell_type": "code",
   "execution_count": 20,
   "id": "ae54a709",
   "metadata": {
    "execution": {
     "iopub.execute_input": "2024-04-21T08:56:12.461713Z",
     "iopub.status.busy": "2024-04-21T08:56:12.460378Z",
     "iopub.status.idle": "2024-04-21T08:56:12.736487Z",
     "shell.execute_reply": "2024-04-21T08:56:12.735347Z"
    },
    "papermill": {
     "duration": 0.316808,
     "end_time": "2024-04-21T08:56:12.739147",
     "exception": false,
     "start_time": "2024-04-21T08:56:12.422339",
     "status": "completed"
    },
    "tags": []
   },
   "outputs": [
    {
     "name": "stdout",
     "output_type": "stream",
     "text": [
      "\u001b[1m63/63\u001b[0m \u001b[32m━━━━━━━━━━━━━━━━━━━━\u001b[0m\u001b[37m\u001b[0m \u001b[1m0s\u001b[0m 2ms/step\n"
     ]
    },
    {
     "data": {
      "text/plain": [
       "array([[0.09673698],\n",
       "       [0.08441187],\n",
       "       [0.23283644],\n",
       "       ...,\n",
       "       [0.04704943],\n",
       "       [0.11411659],\n",
       "       [0.44637588]], dtype=float32)"
      ]
     },
     "execution_count": 20,
     "metadata": {},
     "output_type": "execute_result"
    }
   ],
   "source": [
    "y_p = model.predict(X_test)\n",
    "y_p"
   ]
  },
  {
   "cell_type": "markdown",
   "id": "d38b1aa7",
   "metadata": {
    "papermill": {
     "duration": 0.036319,
     "end_time": "2024-04-21T08:56:12.873353",
     "exception": false,
     "start_time": "2024-04-21T08:56:12.837034",
     "status": "completed"
    },
    "tags": []
   },
   "source": [
    "Now, let's convert the y_p to actual meaningful output. Since, this is a binary classification problem, a threshold can easily help us. We consider 0.5 as our threshold here. "
   ]
  },
  {
   "cell_type": "code",
   "execution_count": 21,
   "id": "fe12fb5d",
   "metadata": {
    "execution": {
     "iopub.execute_input": "2024-04-21T08:56:12.947806Z",
     "iopub.status.busy": "2024-04-21T08:56:12.947385Z",
     "iopub.status.idle": "2024-04-21T08:56:12.961294Z",
     "shell.execute_reply": "2024-04-21T08:56:12.960068Z"
    },
    "papermill": {
     "duration": 0.054651,
     "end_time": "2024-04-21T08:56:12.964353",
     "exception": false,
     "start_time": "2024-04-21T08:56:12.909702",
     "status": "completed"
    },
    "tags": []
   },
   "outputs": [
    {
     "name": "stdout",
     "output_type": "stream",
     "text": [
      "[0, 0, 0, 0, 0, 0, 1, 0, 1, 0] \n",
      " [0, 0, 1, 0, 0, 0, 1, 1, 1, 0]\n"
     ]
    }
   ],
   "source": [
    "y_pred = []\n",
    "for prediction in y_p:\n",
    "    if prediction > 0.5:\n",
    "        y_pred.append(1)\n",
    "    else:\n",
    "        y_pred.append(0)\n",
    "print(y_pred[:10], '\\n', list(y_test[:10]))"
   ]
  },
  {
   "cell_type": "markdown",
   "id": "b98dfb69",
   "metadata": {
    "papermill": {
     "duration": 0.036005,
     "end_time": "2024-04-21T08:56:13.037011",
     "exception": false,
     "start_time": "2024-04-21T08:56:13.001006",
     "status": "completed"
    },
    "tags": []
   },
   "source": [
    "Let's calculate some metrics:"
   ]
  },
  {
   "cell_type": "code",
   "execution_count": 22,
   "id": "b3df8b5b",
   "metadata": {
    "execution": {
     "iopub.execute_input": "2024-04-21T08:56:13.112445Z",
     "iopub.status.busy": "2024-04-21T08:56:13.111531Z",
     "iopub.status.idle": "2024-04-21T08:56:13.130288Z",
     "shell.execute_reply": "2024-04-21T08:56:13.128966Z"
    },
    "papermill": {
     "duration": 0.06024,
     "end_time": "2024-04-21T08:56:13.133411",
     "exception": false,
     "start_time": "2024-04-21T08:56:13.073171",
     "status": "completed"
    },
    "tags": []
   },
   "outputs": [
    {
     "name": "stdout",
     "output_type": "stream",
     "text": [
      "              precision    recall  f1-score   support\n",
      "\n",
      "           0       0.85      0.96      0.90      1593\n",
      "           1       0.65      0.32      0.43       407\n",
      "\n",
      "    accuracy                           0.83      2000\n",
      "   macro avg       0.75      0.64      0.66      2000\n",
      "weighted avg       0.80      0.83      0.80      2000\n",
      "\n"
     ]
    }
   ],
   "source": [
    "from sklearn.metrics import confusion_matrix, classification_report\n",
    "\n",
    "print(classification_report(y_test, y_pred))"
   ]
  },
  {
   "cell_type": "markdown",
   "id": "6a1ec8f0",
   "metadata": {
    "papermill": {
     "duration": 0.036049,
     "end_time": "2024-04-21T08:56:13.207516",
     "exception": false,
     "start_time": "2024-04-21T08:56:13.171467",
     "status": "completed"
    },
    "tags": []
   },
   "source": [
    "Let's see the confusion matrix"
   ]
  },
  {
   "cell_type": "code",
   "execution_count": 23,
   "id": "513d979f",
   "metadata": {
    "execution": {
     "iopub.execute_input": "2024-04-21T08:56:13.282803Z",
     "iopub.status.busy": "2024-04-21T08:56:13.282401Z",
     "iopub.status.idle": "2024-04-21T08:56:14.061920Z",
     "shell.execute_reply": "2024-04-21T08:56:14.060668Z"
    },
    "papermill": {
     "duration": 0.820556,
     "end_time": "2024-04-21T08:56:14.064460",
     "exception": false,
     "start_time": "2024-04-21T08:56:13.243904",
     "status": "completed"
    },
    "tags": []
   },
   "outputs": [
    {
     "data": {
      "text/plain": [
       "Text(95.72222222222221, 0.5, 'Actual ')"
      ]
     },
     "execution_count": 23,
     "metadata": {},
     "output_type": "execute_result"
    },
    {
     "data": {
      "image/png": "[encoded data removed]",
      "text/plain": [
       "<Figure size 1000x700 with 2 Axes>"
      ]
     },
     "metadata": {},
     "output_type": "display_data"
    }
   ],
   "source": [
    "import seaborn as sns\n",
    "\n",
    "cm = tf.math.confusion_matrix(labels=y_test, predictions=y_pred)\n",
    "\n",
    "plt.figure(figsize=(10, 7))\n",
    "sns.heatmap(cm, annot=True, fmt='d')\n",
    "plt.xlabel('Predicted')\n",
    "plt.ylabel('Actual ')"
   ]
  },
  {
   "cell_type": "markdown",
   "id": "1606749b",
   "metadata": {
    "papermill": {
     "duration": 0.036667,
     "end_time": "2024-04-21T08:56:14.139340",
     "exception": false,
     "start_time": "2024-04-21T08:56:14.102673",
     "status": "completed"
    },
    "tags": []
   },
   "source": [
    "and now, as practice, let's compute the previous metrics ourself with the help of this matrix:"
   ]
  },
  {
   "cell_type": "code",
   "execution_count": 24,
   "id": "66a2a711",
   "metadata": {
    "execution": {
     "iopub.execute_input": "2024-04-21T08:56:14.215593Z",
     "iopub.status.busy": "2024-04-21T08:56:14.214902Z",
     "iopub.status.idle": "2024-04-21T08:56:14.223274Z",
     "shell.execute_reply": "2024-04-21T08:56:14.221749Z"
    },
    "papermill": {
     "duration": 0.049653,
     "end_time": "2024-04-21T08:56:14.225960",
     "exception": false,
     "start_time": "2024-04-21T08:56:14.176307",
     "status": "completed"
    },
    "tags": []
   },
   "outputs": [
    {
     "name": "stdout",
     "output_type": "stream",
     "text": [
      "Accuracy =  0.84\n",
      "Precision for class 0 =  0.85\n",
      "Precision for class 1 =  0.74\n",
      "Recall for class 0 =  0.97\n",
      "Recall for class 1 =  0.33\n"
     ]
    }
   ],
   "source": [
    "#### Accuracy ####\n",
    "print(\"Accuracy = \", round((1546 + 136) / (1546 + 47 + 271 + 136), 2))\n",
    "\n",
    "#### Precision for class 0 ####\n",
    "print(\"Precision for class 0 = \", round(1546 / (1546 + 271), 2))\n",
    "\n",
    "#### Precision for class 1 ####\n",
    "print(\"Precision for class 1 = \", round(136 / (136 + 47), 2))\n",
    "\n",
    "#### Recall for class 0 ####\n",
    "print(\"Recall for class 0 = \", round(1546 / (1546 + 47), 2))\n",
    "\n",
    "#### Recall for class 1 ####\n",
    "print(\"Recall for class 1 = \", round(136 / (136 + 271), 2))\n"
   ]
  }
 ],
 "metadata": {
  "kaggle": {
   "accelerator": "none",
   "dataSources": [
    {
     "datasetId": 17473,
     "sourceId": 22922,
     "sourceType": "datasetVersion"
    }
   ],
   "dockerImageVersionId": 30702,
   "isGpuEnabled": false,
   "isInternetEnabled": true,
   "language": "python",
   "sourceType": "notebook"
  },
  "kernelspec": {
   "display_name": "Python 3",
   "language": "python",
   "name": "python3"
  },
  "language_info": {
   "codemirror_mode": {
    "name": "ipython",
    "version": 3
   },
   "file_extension": ".py",
   "mimetype": "text/x-python",
   "name": "python",
   "nbconvert_exporter": "python",
   "pygments_lexer": "ipython3",
   "version": "3.10.13"
  },
  "papermill": {
   "default_parameters": {},
   "duration": 39.84829,
   "end_time": "2024-04-21T08:56:15.989396",
   "environment_variables": {},
   "exception": null,
   "input_path": "__notebook__.ipynb",
   "output_path": "__notebook__.ipynb",
   "parameters": {},
   "start_time": "2024-04-21T08:55:36.141106",
   "version": "2.5.0"
  }
 },
 "nbformat": 4,
 "nbformat_minor": 5
}
