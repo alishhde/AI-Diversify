{
 "cells": [
  {
   "cell_type": "markdown",
   "id": "60cf2839",
   "metadata": {
    "id": "Zw_326KLT9dF",
    "papermill": {
     "duration": 0.004948,
     "end_time": "2024-05-21T10:52:54.744999",
     "exception": false,
     "start_time": "2024-05-21T10:52:54.740051",
     "status": "completed"
    },
    "tags": []
   },
   "source": [
    "# 1. LSTM\n",
    "LSTM (Long Short-Term Memory) is a type of recurrent neural network (RNN) architecture that is particularly well-suited for modeling sequences and time series data. LSTMs are designed to overcome the limitations of traditional RNNs, especially the problem of vanishing and exploding gradients, which can make training difficult over long sequences.\n",
    "\n",
    "## 1.1. Components of LSTM\n",
    "1. **Cell State**: A memory that carries information across the sequence, which can be modified by the gates.\n",
    "2. **Forget Gate**: Decides what portion of the cell state to forget.\n",
    "3. **Input Gate**: Determines what new information to store in the cell state.\n",
    "4. **Output Gate**: Controls the output from the cell state.\n",
    "\n",
    "## 1.2. LSTM Use Case Study: Text Generation\n",
    "One popular and illustrative use case of LSTMs is text generation. In this task, LSTMs are trained on a large corpus of text, and once trained, they can generate new text that mimics the style and structure of the original text. \n",
    "\n",
    "### 1.2.1. Steps in the Use Case:\n",
    "1. **Data Preparation**:\n",
    "   - Collect a large text corpus.\n",
    "   - Preprocess the text (e.g., tokenization, creating sequences of fixed length).\n",
    "\n",
    "\n",
    "2. **Model Architecture**:\n",
    "   - An LSTM model with an embedding layer, one or more LSTM layers, and a dense output layer.\n",
    "   - Example architecture in Keras:\n",
    "     ```python\n",
    "     from keras.models import Sequential\n",
    "     from keras.layers import LSTM, Embedding, Dense\n",
    "\n",
    "     model = Sequential()\n",
    "     model.add(Embedding(input_dim=vocab_size, output_dim=embedding_dim, input_length=max_sequence_length))\n",
    "     model.add(LSTM(units=128, return_sequences=True))\n",
    "     model.add(LSTM(units=128))\n",
    "     model.add(Dense(units=vocab_size, activation='softmax'))\n",
    "\n",
    "     model.compile(optimizer='adam', loss='categorical_crossentropy', metrics=['accuracy'])\n",
    "     ```\n",
    "\n",
    "\n",
    "3. **Training**:\n",
    "   - Use sequences of text as input and the next character/word as the target.\n",
    "   - Train the model using categorical cross-entropy loss and a suitable optimizer like Adam.\n",
    "\n",
    "\n",
    "4. **Text Generation**:\n",
    "   - Generate text by feeding an initial seed sequence into the trained model.\n",
    "   - Predict the next character/word iteratively to generate new text.\n",
    "   - Example:\n",
    "     ```python\n",
    "     def generate_text(model, seed_text, next_words):\n",
    "         for _ in range(next_words):\n",
    "             token_list = tokenizer.texts_to_sequences([seed_text])[0]\n",
    "             token_list = pad_sequences([token_list], maxlen=max_sequence_length - 1, padding='pre')\n",
    "             predicted = model.predict_classes(token_list, verbose=0)\n",
    "             output_word = \"\"\n",
    "             for word, index in tokenizer.word_index.items():\n",
    "                 if index == predicted:\n",
    "                     output_word = word\n",
    "                     break\n",
    "             seed_text += \" \" + output_word\n",
    "         return seed_text\n",
    "     ```\n"
   ]
  },
  {
   "cell_type": "markdown",
   "id": "f9ad87a6",
   "metadata": {
    "papermill": {
     "duration": 0.004156,
     "end_time": "2024-05-21T10:52:54.753900",
     "exception": false,
     "start_time": "2024-05-21T10:52:54.749744",
     "status": "completed"
    },
    "tags": []
   },
   "source": [
    "# 2. Carry Over in Arithmetic Sequences\n",
    "To illustrate the LSTM's ability to handle sequence learning, let's consider an example project where the goal is to predict the result of adding two numbers digit-by-digit, considering carry over.\n",
    "\n",
    "#### Steps:\n",
    "1. **Data Preparation**:\n",
    "   - Generate sequences of digits representing addition problems.\n",
    "   - Include carry-over information in the sequences.\n",
    "\n",
    "\n",
    "2. **Model Architecture**:\n",
    "   - An LSTM model that takes sequences of digits and predicts the next digit in the sequence.\n",
    "   - Incorporate carry information into the input features.\n",
    "\n",
    "\n",
    "3. **Training**:\n",
    "   - Train the model on a dataset of generated addition problems.\n",
    "\n",
    "\n",
    "4. **Prediction**:\n",
    "   - Use the trained model to predict the result of new addition problems.\n",
    "\n",
    "\n",
    "The key idea is to showcase the LSTM's ability to learn and remember dependencies across sequences, which is critical for tasks involving carry-over in arithmetic operations."
   ]
  },
  {
   "cell_type": "markdown",
   "id": "a45aa852",
   "metadata": {
    "papermill": {
     "duration": 0.004073,
     "end_time": "2024-05-21T10:52:54.762363",
     "exception": false,
     "start_time": "2024-05-21T10:52:54.758290",
     "status": "completed"
    },
    "tags": []
   },
   "source": [
    "We try to compute the sum of two binay digits,\n",
    "delegating to the model the task of taking care of the propagation of the carry."
   ]
  },
  {
   "cell_type": "code",
   "execution_count": 1,
   "id": "c0d7b988",
   "metadata": {
    "execution": {
     "iopub.execute_input": "2024-05-21T10:52:54.773428Z",
     "iopub.status.busy": "2024-05-21T10:52:54.773012Z",
     "iopub.status.idle": "2024-05-21T10:53:09.407021Z",
     "shell.execute_reply": "2024-05-21T10:53:09.405754Z"
    },
    "id": "ynz-4_4cFmbJ",
    "papermill": {
     "duration": 14.642958,
     "end_time": "2024-05-21T10:53:09.409754",
     "exception": false,
     "start_time": "2024-05-21T10:52:54.766796",
     "status": "completed"
    },
    "tags": []
   },
   "outputs": [
    {
     "name": "stderr",
     "output_type": "stream",
     "text": [
      "2024-05-21 10:52:57.033070: E external/local_xla/xla/stream_executor/cuda/cuda_dnn.cc:9261] Unable to register cuDNN factory: Attempting to register factory for plugin cuDNN when one has already been registered\n",
      "2024-05-21 10:52:57.033199: E external/local_xla/xla/stream_executor/cuda/cuda_fft.cc:607] Unable to register cuFFT factory: Attempting to register factory for plugin cuFFT when one has already been registered\n",
      "2024-05-21 10:52:57.206599: E external/local_xla/xla/stream_executor/cuda/cuda_blas.cc:1515] Unable to register cuBLAS factory: Attempting to register factory for plugin cuBLAS when one has already been registered\n"
     ]
    }
   ],
   "source": [
    "import numpy as np\n",
    "import tensorflow as tf\n",
    "from tensorflow.keras.layers import Input, LSTM, Conv1D, Dense, Lambda, Layer\n",
    "from tensorflow.keras.models import Model"
   ]
  },
  {
   "cell_type": "markdown",
   "id": "616fc8a4",
   "metadata": {
    "id": "iA01pkKbUt7Q",
    "papermill": {
     "duration": 0.004391,
     "end_time": "2024-05-21T10:53:09.418863",
     "exception": false,
     "start_time": "2024-05-21T10:53:09.414472",
     "status": "completed"
    },
    "tags": []
   },
   "source": [
    "Here is our generator. Each element of the resulting batch is a pair `(a, res)` where `a[0]` and `a[1]` are two sequences of length `seqlen` of binary digits, and `res` is their sum. The digits are supposed to be represented in a positional order with less significative digits at lower positions (left to right).\n",
    "\n",
    "The initial carry of the generator is 0; at successive invocations it reuses the final carry of the previous sum."
   ]
  },
  {
   "cell_type": "code",
   "execution_count": 2,
   "id": "71f7b1a8",
   "metadata": {
    "execution": {
     "iopub.execute_input": "2024-05-21T10:53:09.430740Z",
     "iopub.status.busy": "2024-05-21T10:53:09.429677Z",
     "iopub.status.idle": "2024-05-21T10:53:09.436893Z",
     "shell.execute_reply": "2024-05-21T10:53:09.435836Z"
    },
    "id": "IXSV0bfjF64L",
    "papermill": {
     "duration": 0.016032,
     "end_time": "2024-05-21T10:53:09.439418",
     "exception": false,
     "start_time": "2024-05-21T10:53:09.423386",
     "status": "completed"
    },
    "tags": []
   },
   "outputs": [],
   "source": [
    "def generator(batchsize, seqlen):\n",
    "    init_carry = np.zeros(batchsize)\n",
    "    carry = init_carry\n",
    "    while True:\n",
    "#         print(\"initial carry = \", carry)\n",
    "        a = np.random.randint(2, size=(batchsize, seqlen, 2))\n",
    "        res = np.zeros((batchsize, seqlen))\n",
    "\n",
    "        for t in range(0,seqlen):\n",
    "            sum = a[:,t,0]+a[:,t,1] + carry\n",
    "            res[:,t] = sum % 2\n",
    "            carry = sum // 2\n",
    "        yield (a, res)"
   ]
  },
  {
   "cell_type": "markdown",
   "id": "3a40c25c",
   "metadata": {
    "id": "ZF-jlaqAWc2o",
    "papermill": {
     "duration": 0.004304,
     "end_time": "2024-05-21T10:53:09.448331",
     "exception": false,
     "start_time": "2024-05-21T10:53:09.444027",
     "status": "completed"
    },
    "tags": []
   },
   "source": [
    "Let's create an instance of the generator."
   ]
  },
  {
   "cell_type": "code",
   "execution_count": 3,
   "id": "100bbdb5",
   "metadata": {
    "execution": {
     "iopub.execute_input": "2024-05-21T10:53:09.458952Z",
     "iopub.status.busy": "2024-05-21T10:53:09.458534Z",
     "iopub.status.idle": "2024-05-21T10:53:09.463517Z",
     "shell.execute_reply": "2024-05-21T10:53:09.462417Z"
    },
    "id": "Ov3rXaLVHDCT",
    "papermill": {
     "duration": 0.012911,
     "end_time": "2024-05-21T10:53:09.465721",
     "exception": false,
     "start_time": "2024-05-21T10:53:09.452810",
     "status": "completed"
    },
    "tags": []
   },
   "outputs": [],
   "source": [
    "gen = generator(1, 2)"
   ]
  },
  {
   "cell_type": "markdown",
   "id": "5bc864fb",
   "metadata": {
    "id": "b4hntQtSWjPk",
    "papermill": {
     "duration": 0.004421,
     "end_time": "2024-05-21T10:53:09.474860",
     "exception": false,
     "start_time": "2024-05-21T10:53:09.470439",
     "status": "completed"
    },
    "tags": []
   },
   "source": [
    "And now let's see a few samples."
   ]
  },
  {
   "cell_type": "code",
   "execution_count": 4,
   "id": "aeea74e3",
   "metadata": {
    "execution": {
     "iopub.execute_input": "2024-05-21T10:53:09.485539Z",
     "iopub.status.busy": "2024-05-21T10:53:09.485163Z",
     "iopub.status.idle": "2024-05-21T10:53:09.494191Z",
     "shell.execute_reply": "2024-05-21T10:53:09.493165Z"
    },
    "id": "PM7R8ZZZHN7p",
    "outputId": "bb0e07ae-9efe-4644-ed04-a3417a46ed73",
    "papermill": {
     "duration": 0.016982,
     "end_time": "2024-05-21T10:53:09.496410",
     "exception": false,
     "start_time": "2024-05-21T10:53:09.479428",
     "status": "completed"
    },
    "tags": []
   },
   "outputs": [
    {
     "name": "stdout",
     "output_type": "stream",
     "text": [
      "a1 = [1 1], a2=[0 1], res = [1. 0.]\n"
     ]
    }
   ],
   "source": [
    "a, res = next(gen)\n",
    "print(\"a1 = {}, a2={}, res = {}\".format(a[0,:,0],a[0,:,1],res[0]))"
   ]
  },
  {
   "cell_type": "markdown",
   "id": "66fc6aff",
   "metadata": {
    "id": "dD8Yg_HnWqYf",
    "papermill": {
     "duration": 0.004445,
     "end_time": "2024-05-21T10:53:09.505605",
     "exception": false,
     "start_time": "2024-05-21T10:53:09.501160",
     "status": "completed"
    },
    "tags": []
   },
   "source": [
    "We can now define the model. It takes in input a pair of boolean sequences of unspecified length. The `batchsize` dimension is, as usual, implicit too."
   ]
  },
  {
   "cell_type": "code",
   "execution_count": 5,
   "id": "394b38df",
   "metadata": {
    "execution": {
     "iopub.execute_input": "2024-05-21T10:53:09.516270Z",
     "iopub.status.busy": "2024-05-21T10:53:09.515889Z",
     "iopub.status.idle": "2024-05-21T10:53:09.525464Z",
     "shell.execute_reply": "2024-05-21T10:53:09.524221Z"
    },
    "id": "_8FmUlpPOfcG",
    "papermill": {
     "duration": 0.017687,
     "end_time": "2024-05-21T10:53:09.527896",
     "exception": false,
     "start_time": "2024-05-21T10:53:09.510209",
     "status": "completed"
    },
    "tags": []
   },
   "outputs": [],
   "source": [
    "# Custom layer to apply tf.squeeze\n",
    "class SqueezeLayer(Layer):\n",
    "    def call(self, inputs):\n",
    "        return tf.squeeze(inputs, axis=-1)\n",
    "\n",
    "class CustomModel(Model):\n",
    "    def __init__(self):\n",
    "        super(CustomModel, self).__init__()\n",
    "        self.conv1 = Conv1D(8, 1, activation='relu')\n",
    "        self.conv2 = Conv1D(4, 1, activation='relu')\n",
    "        self.lstm = LSTM(4, activation=None, return_sequences=True)\n",
    "        self.dense = Dense(1, activation='sigmoid')\n",
    "        self.squeeze = SqueezeLayer()\n",
    "    \n",
    "    def call(self, inputs):\n",
    "        x = self.conv1(inputs)\n",
    "        x = self.conv2(x)\n",
    "        x = self.lstm(x)\n",
    "        x = self.dense(x)\n",
    "        return self.squeeze(x)\n",
    "\n",
    "def gen_model():\n",
    "    # Input Layer\n",
    "    xa = Input(shape=(None, 2))\n",
    "    \n",
    "    # Instantiate and call custom model\n",
    "    model = CustomModel()\n",
    "    out = model(xa)\n",
    "    \n",
    "    # Create the Model\n",
    "    comp = Model(inputs=xa, outputs=out)\n",
    "    \n",
    "    return comp"
   ]
  },
  {
   "cell_type": "code",
   "execution_count": 6,
   "id": "2c64cb8e",
   "metadata": {
    "execution": {
     "iopub.execute_input": "2024-05-21T10:53:09.539935Z",
     "iopub.status.busy": "2024-05-21T10:53:09.539491Z",
     "iopub.status.idle": "2024-05-21T10:53:09.938290Z",
     "shell.execute_reply": "2024-05-21T10:53:09.937188Z"
    },
    "id": "RHhEwRibOpgV",
    "outputId": "5f4d7095-b28b-4764-cc44-abf93aca0d39",
    "papermill": {
     "duration": 0.407985,
     "end_time": "2024-05-21T10:53:09.940567",
     "exception": false,
     "start_time": "2024-05-21T10:53:09.532582",
     "status": "completed"
    },
    "tags": []
   },
   "outputs": [
    {
     "data": {
      "text/html": [
       "<pre style=\"white-space:pre;overflow-x:auto;line-height:normal;font-family:Menlo,'DejaVu Sans Mono',consolas,'Courier New',monospace\"><span style=\"font-weight: bold\">Model: \"functional_1\"</span>\n",
       "</pre>\n"
      ],
      "text/plain": [
       "\u001b[1mModel: \"functional_1\"\u001b[0m\n"
      ]
     },
     "metadata": {},
     "output_type": "display_data"
    },
    {
     "data": {
      "text/html": [
       "<pre style=\"white-space:pre;overflow-x:auto;line-height:normal;font-family:Menlo,'DejaVu Sans Mono',consolas,'Courier New',monospace\">┏━━━━━━━━━━━━━━━━━━━━━━━━━━━━━━━━━┳━━━━━━━━━━━━━━━━━━━━━━━━┳━━━━━━━━━━━━━━━┓\n",
       "┃<span style=\"font-weight: bold\"> Layer (type)                    </span>┃<span style=\"font-weight: bold\"> Output Shape           </span>┃<span style=\"font-weight: bold\">       Param # </span>┃\n",
       "┡━━━━━━━━━━━━━━━━━━━━━━━━━━━━━━━━━╇━━━━━━━━━━━━━━━━━━━━━━━━╇━━━━━━━━━━━━━━━┩\n",
       "│ input_layer (<span style=\"color: #0087ff; text-decoration-color: #0087ff\">InputLayer</span>)        │ (<span style=\"color: #00d7ff; text-decoration-color: #00d7ff\">None</span>, <span style=\"color: #00d7ff; text-decoration-color: #00d7ff\">None</span>, <span style=\"color: #00af00; text-decoration-color: #00af00\">2</span>)        │             <span style=\"color: #00af00; text-decoration-color: #00af00\">0</span> │\n",
       "├─────────────────────────────────┼────────────────────────┼───────────────┤\n",
       "│ custom_model (<span style=\"color: #0087ff; text-decoration-color: #0087ff\">CustomModel</span>)      │ (<span style=\"color: #00d7ff; text-decoration-color: #00d7ff\">None</span>, <span style=\"color: #00d7ff; text-decoration-color: #00d7ff\">None</span>)           │           <span style=\"color: #00af00; text-decoration-color: #00af00\">209</span> │\n",
       "└─────────────────────────────────┴────────────────────────┴───────────────┘\n",
       "</pre>\n"
      ],
      "text/plain": [
       "┏━━━━━━━━━━━━━━━━━━━━━━━━━━━━━━━━━┳━━━━━━━━━━━━━━━━━━━━━━━━┳━━━━━━━━━━━━━━━┓\n",
       "┃\u001b[1m \u001b[0m\u001b[1mLayer (type)                   \u001b[0m\u001b[1m \u001b[0m┃\u001b[1m \u001b[0m\u001b[1mOutput Shape          \u001b[0m\u001b[1m \u001b[0m┃\u001b[1m \u001b[0m\u001b[1m      Param #\u001b[0m\u001b[1m \u001b[0m┃\n",
       "┡━━━━━━━━━━━━━━━━━━━━━━━━━━━━━━━━━╇━━━━━━━━━━━━━━━━━━━━━━━━╇━━━━━━━━━━━━━━━┩\n",
       "│ input_layer (\u001b[38;5;33mInputLayer\u001b[0m)        │ (\u001b[38;5;45mNone\u001b[0m, \u001b[38;5;45mNone\u001b[0m, \u001b[38;5;34m2\u001b[0m)        │             \u001b[38;5;34m0\u001b[0m │\n",
       "├─────────────────────────────────┼────────────────────────┼───────────────┤\n",
       "│ custom_model (\u001b[38;5;33mCustomModel\u001b[0m)      │ (\u001b[38;5;45mNone\u001b[0m, \u001b[38;5;45mNone\u001b[0m)           │           \u001b[38;5;34m209\u001b[0m │\n",
       "└─────────────────────────────────┴────────────────────────┴───────────────┘\n"
      ]
     },
     "metadata": {},
     "output_type": "display_data"
    },
    {
     "data": {
      "text/html": [
       "<pre style=\"white-space:pre;overflow-x:auto;line-height:normal;font-family:Menlo,'DejaVu Sans Mono',consolas,'Courier New',monospace\"><span style=\"font-weight: bold\"> Total params: </span><span style=\"color: #00af00; text-decoration-color: #00af00\">209</span> (836.00 B)\n",
       "</pre>\n"
      ],
      "text/plain": [
       "\u001b[1m Total params: \u001b[0m\u001b[38;5;34m209\u001b[0m (836.00 B)\n"
      ]
     },
     "metadata": {},
     "output_type": "display_data"
    },
    {
     "data": {
      "text/html": [
       "<pre style=\"white-space:pre;overflow-x:auto;line-height:normal;font-family:Menlo,'DejaVu Sans Mono',consolas,'Courier New',monospace\"><span style=\"font-weight: bold\"> Trainable params: </span><span style=\"color: #00af00; text-decoration-color: #00af00\">209</span> (836.00 B)\n",
       "</pre>\n"
      ],
      "text/plain": [
       "\u001b[1m Trainable params: \u001b[0m\u001b[38;5;34m209\u001b[0m (836.00 B)\n"
      ]
     },
     "metadata": {},
     "output_type": "display_data"
    },
    {
     "data": {
      "text/html": [
       "<pre style=\"white-space:pre;overflow-x:auto;line-height:normal;font-family:Menlo,'DejaVu Sans Mono',consolas,'Courier New',monospace\"><span style=\"font-weight: bold\"> Non-trainable params: </span><span style=\"color: #00af00; text-decoration-color: #00af00\">0</span> (0.00 B)\n",
       "</pre>\n"
      ],
      "text/plain": [
       "\u001b[1m Non-trainable params: \u001b[0m\u001b[38;5;34m0\u001b[0m (0.00 B)\n"
      ]
     },
     "metadata": {},
     "output_type": "display_data"
    }
   ],
   "source": [
    "mymodel = gen_model()\n",
    "mymodel.summary()"
   ]
  },
  {
   "cell_type": "code",
   "execution_count": 7,
   "id": "73c1c943",
   "metadata": {
    "execution": {
     "iopub.execute_input": "2024-05-21T10:53:09.952988Z",
     "iopub.status.busy": "2024-05-21T10:53:09.952556Z",
     "iopub.status.idle": "2024-05-21T10:53:09.968266Z",
     "shell.execute_reply": "2024-05-21T10:53:09.967081Z"
    },
    "id": "VHiUjmFKQB_p",
    "papermill": {
     "duration": 0.02485,
     "end_time": "2024-05-21T10:53:09.970822",
     "exception": false,
     "start_time": "2024-05-21T10:53:09.945972",
     "status": "completed"
    },
    "tags": []
   },
   "outputs": [],
   "source": [
    "mymodel.compile(optimizer='adam', loss='mse')"
   ]
  },
  {
   "cell_type": "code",
   "execution_count": 8,
   "id": "3889997b",
   "metadata": {
    "execution": {
     "iopub.execute_input": "2024-05-21T10:53:09.984017Z",
     "iopub.status.busy": "2024-05-21T10:53:09.982812Z",
     "iopub.status.idle": "2024-05-21T10:53:09.988244Z",
     "shell.execute_reply": "2024-05-21T10:53:09.987141Z"
    },
    "id": "wQwv4HCfQn11",
    "papermill": {
     "duration": 0.014496,
     "end_time": "2024-05-21T10:53:09.990746",
     "exception": false,
     "start_time": "2024-05-21T10:53:09.976250",
     "status": "completed"
    },
    "tags": []
   },
   "outputs": [],
   "source": [
    "batchsize=100\n",
    "seqlen=10"
   ]
  },
  {
   "cell_type": "code",
   "execution_count": 9,
   "id": "047222aa",
   "metadata": {
    "execution": {
     "iopub.execute_input": "2024-05-21T10:53:10.003311Z",
     "iopub.status.busy": "2024-05-21T10:53:10.002933Z",
     "iopub.status.idle": "2024-05-21T10:54:03.716604Z",
     "shell.execute_reply": "2024-05-21T10:54:03.715375Z"
    },
    "id": "PSAUJlQnQWht",
    "outputId": "fda8abd0-4292-45c1-c227-9017ebcbf3f9",
    "papermill": {
     "duration": 53.722864,
     "end_time": "2024-05-21T10:54:03.719234",
     "exception": false,
     "start_time": "2024-05-21T10:53:09.996370",
     "status": "completed"
    },
    "tags": []
   },
   "outputs": [
    {
     "name": "stdout",
     "output_type": "stream",
     "text": [
      "Epoch 1/100\n",
      "\u001b[1m100/100\u001b[0m \u001b[32m━━━━━━━━━━━━━━━━━━━━\u001b[0m\u001b[37m\u001b[0m \u001b[1m3s\u001b[0m 5ms/step - loss: 0.2500\n",
      "Epoch 2/100\n",
      "\u001b[1m100/100\u001b[0m \u001b[32m━━━━━━━━━━━━━━━━━━━━\u001b[0m\u001b[37m\u001b[0m \u001b[1m1s\u001b[0m 5ms/step - loss: 0.2499\n",
      "Epoch 3/100\n",
      "\u001b[1m100/100\u001b[0m \u001b[32m━━━━━━━━━━━━━━━━━━━━\u001b[0m\u001b[37m\u001b[0m \u001b[1m1s\u001b[0m 5ms/step - loss: 0.2489\n",
      "Epoch 4/100\n",
      "\u001b[1m100/100\u001b[0m \u001b[32m━━━━━━━━━━━━━━━━━━━━\u001b[0m\u001b[37m\u001b[0m \u001b[1m1s\u001b[0m 5ms/step - loss: 0.2186\n",
      "Epoch 5/100\n",
      "\u001b[1m100/100\u001b[0m \u001b[32m━━━━━━━━━━━━━━━━━━━━\u001b[0m\u001b[37m\u001b[0m \u001b[1m1s\u001b[0m 5ms/step - loss: 0.1144\n",
      "Epoch 6/100\n",
      "\u001b[1m100/100\u001b[0m \u001b[32m━━━━━━━━━━━━━━━━━━━━\u001b[0m\u001b[37m\u001b[0m \u001b[1m1s\u001b[0m 5ms/step - loss: 0.0640\n",
      "Epoch 7/100\n",
      "\u001b[1m100/100\u001b[0m \u001b[32m━━━━━━━━━━━━━━━━━━━━\u001b[0m\u001b[37m\u001b[0m \u001b[1m1s\u001b[0m 5ms/step - loss: 0.0532\n",
      "Epoch 8/100\n",
      "\u001b[1m100/100\u001b[0m \u001b[32m━━━━━━━━━━━━━━━━━━━━\u001b[0m\u001b[37m\u001b[0m \u001b[1m1s\u001b[0m 5ms/step - loss: 0.0526\n",
      "Epoch 9/100\n",
      "\u001b[1m100/100\u001b[0m \u001b[32m━━━━━━━━━━━━━━━━━━━━\u001b[0m\u001b[37m\u001b[0m \u001b[1m0s\u001b[0m 5ms/step - loss: 0.0518\n",
      "Epoch 10/100\n",
      "\u001b[1m100/100\u001b[0m \u001b[32m━━━━━━━━━━━━━━━━━━━━\u001b[0m\u001b[37m\u001b[0m \u001b[1m0s\u001b[0m 5ms/step - loss: 0.0502\n",
      "Epoch 11/100\n",
      "\u001b[1m100/100\u001b[0m \u001b[32m━━━━━━━━━━━━━━━━━━━━\u001b[0m\u001b[37m\u001b[0m \u001b[1m0s\u001b[0m 5ms/step - loss: 0.0501\n",
      "Epoch 12/100\n",
      "\u001b[1m100/100\u001b[0m \u001b[32m━━━━━━━━━━━━━━━━━━━━\u001b[0m\u001b[37m\u001b[0m \u001b[1m0s\u001b[0m 5ms/step - loss: 0.0499\n",
      "Epoch 13/100\n",
      "\u001b[1m100/100\u001b[0m \u001b[32m━━━━━━━━━━━━━━━━━━━━\u001b[0m\u001b[37m\u001b[0m \u001b[1m0s\u001b[0m 5ms/step - loss: 0.0504\n",
      "Epoch 14/100\n",
      "\u001b[1m100/100\u001b[0m \u001b[32m━━━━━━━━━━━━━━━━━━━━\u001b[0m\u001b[37m\u001b[0m \u001b[1m0s\u001b[0m 5ms/step - loss: 0.0499\n",
      "Epoch 15/100\n",
      "\u001b[1m100/100\u001b[0m \u001b[32m━━━━━━━━━━━━━━━━━━━━\u001b[0m\u001b[37m\u001b[0m \u001b[1m1s\u001b[0m 5ms/step - loss: 0.0496\n",
      "Epoch 16/100\n",
      "\u001b[1m100/100\u001b[0m \u001b[32m━━━━━━━━━━━━━━━━━━━━\u001b[0m\u001b[37m\u001b[0m \u001b[1m0s\u001b[0m 5ms/step - loss: 0.0502\n",
      "Epoch 17/100\n",
      "\u001b[1m100/100\u001b[0m \u001b[32m━━━━━━━━━━━━━━━━━━━━\u001b[0m\u001b[37m\u001b[0m \u001b[1m1s\u001b[0m 5ms/step - loss: 0.0490\n",
      "Epoch 18/100\n",
      "\u001b[1m100/100\u001b[0m \u001b[32m━━━━━━━━━━━━━━━━━━━━\u001b[0m\u001b[37m\u001b[0m \u001b[1m0s\u001b[0m 5ms/step - loss: 0.0505\n",
      "Epoch 19/100\n",
      "\u001b[1m100/100\u001b[0m \u001b[32m━━━━━━━━━━━━━━━━━━━━\u001b[0m\u001b[37m\u001b[0m \u001b[1m1s\u001b[0m 5ms/step - loss: 0.0492\n",
      "Epoch 20/100\n",
      "\u001b[1m100/100\u001b[0m \u001b[32m━━━━━━━━━━━━━━━━━━━━\u001b[0m\u001b[37m\u001b[0m \u001b[1m1s\u001b[0m 5ms/step - loss: 0.0506\n",
      "Epoch 21/100\n",
      "\u001b[1m100/100\u001b[0m \u001b[32m━━━━━━━━━━━━━━━━━━━━\u001b[0m\u001b[37m\u001b[0m \u001b[1m1s\u001b[0m 5ms/step - loss: 0.0507\n",
      "Epoch 22/100\n",
      "\u001b[1m100/100\u001b[0m \u001b[32m━━━━━━━━━━━━━━━━━━━━\u001b[0m\u001b[37m\u001b[0m \u001b[1m1s\u001b[0m 5ms/step - loss: 0.0505\n",
      "Epoch 23/100\n",
      "\u001b[1m100/100\u001b[0m \u001b[32m━━━━━━━━━━━━━━━━━━━━\u001b[0m\u001b[37m\u001b[0m \u001b[1m1s\u001b[0m 5ms/step - loss: 0.0499\n",
      "Epoch 24/100\n",
      "\u001b[1m100/100\u001b[0m \u001b[32m━━━━━━━━━━━━━━━━━━━━\u001b[0m\u001b[37m\u001b[0m \u001b[1m1s\u001b[0m 5ms/step - loss: 0.0499\n",
      "Epoch 25/100\n",
      "\u001b[1m100/100\u001b[0m \u001b[32m━━━━━━━━━━━━━━━━━━━━\u001b[0m\u001b[37m\u001b[0m \u001b[1m1s\u001b[0m 5ms/step - loss: 0.0496\n",
      "Epoch 26/100\n",
      "\u001b[1m100/100\u001b[0m \u001b[32m━━━━━━━━━━━━━━━━━━━━\u001b[0m\u001b[37m\u001b[0m \u001b[1m1s\u001b[0m 5ms/step - loss: 0.0497\n",
      "Epoch 27/100\n",
      "\u001b[1m100/100\u001b[0m \u001b[32m━━━━━━━━━━━━━━━━━━━━\u001b[0m\u001b[37m\u001b[0m \u001b[1m0s\u001b[0m 5ms/step - loss: 0.0511\n",
      "Epoch 28/100\n",
      "\u001b[1m100/100\u001b[0m \u001b[32m━━━━━━━━━━━━━━━━━━━━\u001b[0m\u001b[37m\u001b[0m \u001b[1m1s\u001b[0m 5ms/step - loss: 0.0502\n",
      "Epoch 29/100\n",
      "\u001b[1m100/100\u001b[0m \u001b[32m━━━━━━━━━━━━━━━━━━━━\u001b[0m\u001b[37m\u001b[0m \u001b[1m1s\u001b[0m 5ms/step - loss: 0.0500\n",
      "Epoch 30/100\n",
      "\u001b[1m100/100\u001b[0m \u001b[32m━━━━━━━━━━━━━━━━━━━━\u001b[0m\u001b[37m\u001b[0m \u001b[1m1s\u001b[0m 5ms/step - loss: 0.0511\n",
      "Epoch 31/100\n",
      "\u001b[1m100/100\u001b[0m \u001b[32m━━━━━━━━━━━━━━━━━━━━\u001b[0m\u001b[37m\u001b[0m \u001b[1m1s\u001b[0m 5ms/step - loss: 0.0493\n",
      "Epoch 32/100\n",
      "\u001b[1m100/100\u001b[0m \u001b[32m━━━━━━━━━━━━━━━━━━━━\u001b[0m\u001b[37m\u001b[0m \u001b[1m1s\u001b[0m 5ms/step - loss: 0.0498\n",
      "Epoch 33/100\n",
      "\u001b[1m100/100\u001b[0m \u001b[32m━━━━━━━━━━━━━━━━━━━━\u001b[0m\u001b[37m\u001b[0m \u001b[1m1s\u001b[0m 5ms/step - loss: 0.0506\n",
      "Epoch 34/100\n",
      "\u001b[1m100/100\u001b[0m \u001b[32m━━━━━━━━━━━━━━━━━━━━\u001b[0m\u001b[37m\u001b[0m \u001b[1m1s\u001b[0m 5ms/step - loss: 0.0498\n",
      "Epoch 35/100\n",
      "\u001b[1m100/100\u001b[0m \u001b[32m━━━━━━━━━━━━━━━━━━━━\u001b[0m\u001b[37m\u001b[0m \u001b[1m1s\u001b[0m 5ms/step - loss: 0.0504\n",
      "Epoch 36/100\n",
      "\u001b[1m100/100\u001b[0m \u001b[32m━━━━━━━━━━━━━━━━━━━━\u001b[0m\u001b[37m\u001b[0m \u001b[1m1s\u001b[0m 5ms/step - loss: 0.0503\n",
      "Epoch 37/100\n",
      "\u001b[1m100/100\u001b[0m \u001b[32m━━━━━━━━━━━━━━━━━━━━\u001b[0m\u001b[37m\u001b[0m \u001b[1m1s\u001b[0m 5ms/step - loss: 0.0503\n",
      "Epoch 38/100\n",
      "\u001b[1m100/100\u001b[0m \u001b[32m━━━━━━━━━━━━━━━━━━━━\u001b[0m\u001b[37m\u001b[0m \u001b[1m1s\u001b[0m 6ms/step - loss: 0.0499\n",
      "Epoch 39/100\n",
      "\u001b[1m100/100\u001b[0m \u001b[32m━━━━━━━━━━━━━━━━━━━━\u001b[0m\u001b[37m\u001b[0m \u001b[1m1s\u001b[0m 5ms/step - loss: 0.0503\n",
      "Epoch 40/100\n",
      "\u001b[1m100/100\u001b[0m \u001b[32m━━━━━━━━━━━━━━━━━━━━\u001b[0m\u001b[37m\u001b[0m \u001b[1m1s\u001b[0m 5ms/step - loss: 0.0493\n",
      "Epoch 41/100\n",
      "\u001b[1m100/100\u001b[0m \u001b[32m━━━━━━━━━━━━━━━━━━━━\u001b[0m\u001b[37m\u001b[0m \u001b[1m1s\u001b[0m 5ms/step - loss: 0.0503\n",
      "Epoch 42/100\n",
      "\u001b[1m100/100\u001b[0m \u001b[32m━━━━━━━━━━━━━━━━━━━━\u001b[0m\u001b[37m\u001b[0m \u001b[1m1s\u001b[0m 5ms/step - loss: 0.0502\n",
      "Epoch 43/100\n",
      "\u001b[1m100/100\u001b[0m \u001b[32m━━━━━━━━━━━━━━━━━━━━\u001b[0m\u001b[37m\u001b[0m \u001b[1m1s\u001b[0m 5ms/step - loss: 0.0495\n",
      "Epoch 44/100\n",
      "\u001b[1m100/100\u001b[0m \u001b[32m━━━━━━━━━━━━━━━━━━━━\u001b[0m\u001b[37m\u001b[0m \u001b[1m1s\u001b[0m 5ms/step - loss: 0.0499\n",
      "Epoch 45/100\n",
      "\u001b[1m100/100\u001b[0m \u001b[32m━━━━━━━━━━━━━━━━━━━━\u001b[0m\u001b[37m\u001b[0m \u001b[1m1s\u001b[0m 5ms/step - loss: 0.0489\n",
      "Epoch 46/100\n",
      "\u001b[1m100/100\u001b[0m \u001b[32m━━━━━━━━━━━━━━━━━━━━\u001b[0m\u001b[37m\u001b[0m \u001b[1m1s\u001b[0m 6ms/step - loss: 0.0493\n",
      "Epoch 47/100\n",
      "\u001b[1m100/100\u001b[0m \u001b[32m━━━━━━━━━━━━━━━━━━━━\u001b[0m\u001b[37m\u001b[0m \u001b[1m1s\u001b[0m 5ms/step - loss: 0.0503\n",
      "Epoch 48/100\n",
      "\u001b[1m100/100\u001b[0m \u001b[32m━━━━━━━━━━━━━━━━━━━━\u001b[0m\u001b[37m\u001b[0m \u001b[1m1s\u001b[0m 5ms/step - loss: 0.0502\n",
      "Epoch 49/100\n",
      "\u001b[1m100/100\u001b[0m \u001b[32m━━━━━━━━━━━━━━━━━━━━\u001b[0m\u001b[37m\u001b[0m \u001b[1m1s\u001b[0m 5ms/step - loss: 0.0500\n",
      "Epoch 50/100\n",
      "\u001b[1m100/100\u001b[0m \u001b[32m━━━━━━━━━━━━━━━━━━━━\u001b[0m\u001b[37m\u001b[0m \u001b[1m1s\u001b[0m 5ms/step - loss: 0.0496\n",
      "Epoch 51/100\n",
      "\u001b[1m100/100\u001b[0m \u001b[32m━━━━━━━━━━━━━━━━━━━━\u001b[0m\u001b[37m\u001b[0m \u001b[1m1s\u001b[0m 5ms/step - loss: 0.0507\n",
      "Epoch 52/100\n",
      "\u001b[1m100/100\u001b[0m \u001b[32m━━━━━━━━━━━━━━━━━━━━\u001b[0m\u001b[37m\u001b[0m \u001b[1m1s\u001b[0m 5ms/step - loss: 0.0507\n",
      "Epoch 53/100\n",
      "\u001b[1m100/100\u001b[0m \u001b[32m━━━━━━━━━━━━━━━━━━━━\u001b[0m\u001b[37m\u001b[0m \u001b[1m1s\u001b[0m 5ms/step - loss: 0.0500\n",
      "Epoch 54/100\n",
      "\u001b[1m100/100\u001b[0m \u001b[32m━━━━━━━━━━━━━━━━━━━━\u001b[0m\u001b[37m\u001b[0m \u001b[1m1s\u001b[0m 5ms/step - loss: 0.0501\n",
      "Epoch 55/100\n",
      "\u001b[1m100/100\u001b[0m \u001b[32m━━━━━━━━━━━━━━━━━━━━\u001b[0m\u001b[37m\u001b[0m \u001b[1m0s\u001b[0m 5ms/step - loss: 0.0505\n",
      "Epoch 56/100\n",
      "\u001b[1m100/100\u001b[0m \u001b[32m━━━━━━━━━━━━━━━━━━━━\u001b[0m\u001b[37m\u001b[0m \u001b[1m1s\u001b[0m 5ms/step - loss: 0.0500\n",
      "Epoch 57/100\n",
      "\u001b[1m100/100\u001b[0m \u001b[32m━━━━━━━━━━━━━━━━━━━━\u001b[0m\u001b[37m\u001b[0m \u001b[1m1s\u001b[0m 5ms/step - loss: 0.0498\n",
      "Epoch 58/100\n",
      "\u001b[1m100/100\u001b[0m \u001b[32m━━━━━━━━━━━━━━━━━━━━\u001b[0m\u001b[37m\u001b[0m \u001b[1m0s\u001b[0m 5ms/step - loss: 0.0493\n",
      "Epoch 59/100\n",
      "\u001b[1m100/100\u001b[0m \u001b[32m━━━━━━━━━━━━━━━━━━━━\u001b[0m\u001b[37m\u001b[0m \u001b[1m0s\u001b[0m 5ms/step - loss: 0.0501\n",
      "Epoch 60/100\n",
      "\u001b[1m100/100\u001b[0m \u001b[32m━━━━━━━━━━━━━━━━━━━━\u001b[0m\u001b[37m\u001b[0m \u001b[1m0s\u001b[0m 5ms/step - loss: 0.0494\n",
      "Epoch 61/100\n",
      "\u001b[1m100/100\u001b[0m \u001b[32m━━━━━━━━━━━━━━━━━━━━\u001b[0m\u001b[37m\u001b[0m \u001b[1m1s\u001b[0m 5ms/step - loss: 0.0499\n",
      "Epoch 62/100\n",
      "\u001b[1m100/100\u001b[0m \u001b[32m━━━━━━━━━━━━━━━━━━━━\u001b[0m\u001b[37m\u001b[0m \u001b[1m0s\u001b[0m 5ms/step - loss: 0.0504\n",
      "Epoch 63/100\n",
      "\u001b[1m100/100\u001b[0m \u001b[32m━━━━━━━━━━━━━━━━━━━━\u001b[0m\u001b[37m\u001b[0m \u001b[1m0s\u001b[0m 5ms/step - loss: 0.0497\n",
      "Epoch 64/100\n",
      "\u001b[1m100/100\u001b[0m \u001b[32m━━━━━━━━━━━━━━━━━━━━\u001b[0m\u001b[37m\u001b[0m \u001b[1m1s\u001b[0m 5ms/step - loss: 0.0496\n",
      "Epoch 65/100\n",
      "\u001b[1m100/100\u001b[0m \u001b[32m━━━━━━━━━━━━━━━━━━━━\u001b[0m\u001b[37m\u001b[0m \u001b[1m1s\u001b[0m 5ms/step - loss: 0.0507\n",
      "Epoch 66/100\n",
      "\u001b[1m100/100\u001b[0m \u001b[32m━━━━━━━━━━━━━━━━━━━━\u001b[0m\u001b[37m\u001b[0m \u001b[1m0s\u001b[0m 5ms/step - loss: 0.0500\n",
      "Epoch 67/100\n",
      "\u001b[1m100/100\u001b[0m \u001b[32m━━━━━━━━━━━━━━━━━━━━\u001b[0m\u001b[37m\u001b[0m \u001b[1m1s\u001b[0m 5ms/step - loss: 0.0509\n",
      "Epoch 68/100\n",
      "\u001b[1m100/100\u001b[0m \u001b[32m━━━━━━━━━━━━━━━━━━━━\u001b[0m\u001b[37m\u001b[0m \u001b[1m0s\u001b[0m 5ms/step - loss: 0.0497\n",
      "Epoch 69/100\n",
      "\u001b[1m100/100\u001b[0m \u001b[32m━━━━━━━━━━━━━━━━━━━━\u001b[0m\u001b[37m\u001b[0m \u001b[1m1s\u001b[0m 5ms/step - loss: 0.0498\n",
      "Epoch 70/100\n",
      "\u001b[1m100/100\u001b[0m \u001b[32m━━━━━━━━━━━━━━━━━━━━\u001b[0m\u001b[37m\u001b[0m \u001b[1m0s\u001b[0m 5ms/step - loss: 0.0506\n",
      "Epoch 71/100\n",
      "\u001b[1m100/100\u001b[0m \u001b[32m━━━━━━━━━━━━━━━━━━━━\u001b[0m\u001b[37m\u001b[0m \u001b[1m1s\u001b[0m 5ms/step - loss: 0.0504\n",
      "Epoch 72/100\n",
      "\u001b[1m100/100\u001b[0m \u001b[32m━━━━━━━━━━━━━━━━━━━━\u001b[0m\u001b[37m\u001b[0m \u001b[1m1s\u001b[0m 5ms/step - loss: 0.0494\n",
      "Epoch 73/100\n",
      "\u001b[1m100/100\u001b[0m \u001b[32m━━━━━━━━━━━━━━━━━━━━\u001b[0m\u001b[37m\u001b[0m \u001b[1m1s\u001b[0m 5ms/step - loss: 0.0499\n",
      "Epoch 74/100\n",
      "\u001b[1m100/100\u001b[0m \u001b[32m━━━━━━━━━━━━━━━━━━━━\u001b[0m\u001b[37m\u001b[0m \u001b[1m1s\u001b[0m 5ms/step - loss: 0.0498\n",
      "Epoch 75/100\n",
      "\u001b[1m100/100\u001b[0m \u001b[32m━━━━━━━━━━━━━━━━━━━━\u001b[0m\u001b[37m\u001b[0m \u001b[1m0s\u001b[0m 5ms/step - loss: 0.0492\n",
      "Epoch 76/100\n",
      "\u001b[1m100/100\u001b[0m \u001b[32m━━━━━━━━━━━━━━━━━━━━\u001b[0m\u001b[37m\u001b[0m \u001b[1m1s\u001b[0m 5ms/step - loss: 0.0497\n",
      "Epoch 77/100\n",
      "\u001b[1m100/100\u001b[0m \u001b[32m━━━━━━━━━━━━━━━━━━━━\u001b[0m\u001b[37m\u001b[0m \u001b[1m1s\u001b[0m 6ms/step - loss: 0.0499\n",
      "Epoch 78/100\n",
      "\u001b[1m100/100\u001b[0m \u001b[32m━━━━━━━━━━━━━━━━━━━━\u001b[0m\u001b[37m\u001b[0m \u001b[1m1s\u001b[0m 5ms/step - loss: 0.0500\n",
      "Epoch 79/100\n",
      "\u001b[1m100/100\u001b[0m \u001b[32m━━━━━━━━━━━━━━━━━━━━\u001b[0m\u001b[37m\u001b[0m \u001b[1m1s\u001b[0m 5ms/step - loss: 0.0502\n",
      "Epoch 80/100\n",
      "\u001b[1m100/100\u001b[0m \u001b[32m━━━━━━━━━━━━━━━━━━━━\u001b[0m\u001b[37m\u001b[0m \u001b[1m1s\u001b[0m 5ms/step - loss: 0.0507\n",
      "Epoch 81/100\n",
      "\u001b[1m100/100\u001b[0m \u001b[32m━━━━━━━━━━━━━━━━━━━━\u001b[0m\u001b[37m\u001b[0m \u001b[1m1s\u001b[0m 5ms/step - loss: 0.0500\n",
      "Epoch 82/100\n",
      "\u001b[1m100/100\u001b[0m \u001b[32m━━━━━━━━━━━━━━━━━━━━\u001b[0m\u001b[37m\u001b[0m \u001b[1m1s\u001b[0m 5ms/step - loss: 0.0495\n",
      "Epoch 83/100\n",
      "\u001b[1m100/100\u001b[0m \u001b[32m━━━━━━━━━━━━━━━━━━━━\u001b[0m\u001b[37m\u001b[0m \u001b[1m1s\u001b[0m 5ms/step - loss: 0.0503\n",
      "Epoch 84/100\n",
      "\u001b[1m100/100\u001b[0m \u001b[32m━━━━━━━━━━━━━━━━━━━━\u001b[0m\u001b[37m\u001b[0m \u001b[1m1s\u001b[0m 5ms/step - loss: 0.0498\n",
      "Epoch 85/100\n",
      "\u001b[1m100/100\u001b[0m \u001b[32m━━━━━━━━━━━━━━━━━━━━\u001b[0m\u001b[37m\u001b[0m \u001b[1m0s\u001b[0m 5ms/step - loss: 0.0493\n",
      "Epoch 86/100\n",
      "\u001b[1m100/100\u001b[0m \u001b[32m━━━━━━━━━━━━━━━━━━━━\u001b[0m\u001b[37m\u001b[0m \u001b[1m1s\u001b[0m 5ms/step - loss: 0.0506\n",
      "Epoch 87/100\n",
      "\u001b[1m100/100\u001b[0m \u001b[32m━━━━━━━━━━━━━━━━━━━━\u001b[0m\u001b[37m\u001b[0m \u001b[1m0s\u001b[0m 5ms/step - loss: 0.0492\n",
      "Epoch 88/100\n",
      "\u001b[1m100/100\u001b[0m \u001b[32m━━━━━━━━━━━━━━━━━━━━\u001b[0m\u001b[37m\u001b[0m \u001b[1m1s\u001b[0m 5ms/step - loss: 0.0500\n",
      "Epoch 89/100\n",
      "\u001b[1m100/100\u001b[0m \u001b[32m━━━━━━━━━━━━━━━━━━━━\u001b[0m\u001b[37m\u001b[0m \u001b[1m1s\u001b[0m 5ms/step - loss: 0.0497\n",
      "Epoch 90/100\n",
      "\u001b[1m100/100\u001b[0m \u001b[32m━━━━━━━━━━━━━━━━━━━━\u001b[0m\u001b[37m\u001b[0m \u001b[1m1s\u001b[0m 5ms/step - loss: 0.0499\n",
      "Epoch 91/100\n",
      "\u001b[1m100/100\u001b[0m \u001b[32m━━━━━━━━━━━━━━━━━━━━\u001b[0m\u001b[37m\u001b[0m \u001b[1m1s\u001b[0m 5ms/step - loss: 0.0498\n",
      "Epoch 92/100\n",
      "\u001b[1m100/100\u001b[0m \u001b[32m━━━━━━━━━━━━━━━━━━━━\u001b[0m\u001b[37m\u001b[0m \u001b[1m1s\u001b[0m 5ms/step - loss: 0.0493\n",
      "Epoch 93/100\n",
      "\u001b[1m100/100\u001b[0m \u001b[32m━━━━━━━━━━━━━━━━━━━━\u001b[0m\u001b[37m\u001b[0m \u001b[1m1s\u001b[0m 5ms/step - loss: 0.0500\n",
      "Epoch 94/100\n",
      "\u001b[1m100/100\u001b[0m \u001b[32m━━━━━━━━━━━━━━━━━━━━\u001b[0m\u001b[37m\u001b[0m \u001b[1m1s\u001b[0m 5ms/step - loss: 0.0501\n",
      "Epoch 95/100\n",
      "\u001b[1m100/100\u001b[0m \u001b[32m━━━━━━━━━━━━━━━━━━━━\u001b[0m\u001b[37m\u001b[0m \u001b[1m1s\u001b[0m 5ms/step - loss: 0.0503\n",
      "Epoch 96/100\n",
      "\u001b[1m100/100\u001b[0m \u001b[32m━━━━━━━━━━━━━━━━━━━━\u001b[0m\u001b[37m\u001b[0m \u001b[1m1s\u001b[0m 5ms/step - loss: 0.0497\n",
      "Epoch 97/100\n",
      "\u001b[1m100/100\u001b[0m \u001b[32m━━━━━━━━━━━━━━━━━━━━\u001b[0m\u001b[37m\u001b[0m \u001b[1m1s\u001b[0m 5ms/step - loss: 0.0505\n",
      "Epoch 98/100\n",
      "\u001b[1m100/100\u001b[0m \u001b[32m━━━━━━━━━━━━━━━━━━━━\u001b[0m\u001b[37m\u001b[0m \u001b[1m1s\u001b[0m 5ms/step - loss: 0.0501\n",
      "Epoch 99/100\n",
      "\u001b[1m100/100\u001b[0m \u001b[32m━━━━━━━━━━━━━━━━━━━━\u001b[0m\u001b[37m\u001b[0m \u001b[1m1s\u001b[0m 5ms/step - loss: 0.0506\n",
      "Epoch 100/100\n",
      "\u001b[1m100/100\u001b[0m \u001b[32m━━━━━━━━━━━━━━━━━━━━\u001b[0m\u001b[37m\u001b[0m \u001b[1m1s\u001b[0m 5ms/step - loss: 0.0500\n"
     ]
    },
    {
     "data": {
      "text/plain": [
       "<keras.src.callbacks.history.History at 0x7f7f1209a710>"
      ]
     },
     "execution_count": 9,
     "metadata": {},
     "output_type": "execute_result"
    }
   ],
   "source": [
    "mymodel.fit(generator(batchsize,seqlen), steps_per_epoch=100, epochs=100)"
   ]
  },
  {
   "cell_type": "code",
   "execution_count": 10,
   "id": "ccb7387e",
   "metadata": {
    "execution": {
     "iopub.execute_input": "2024-05-21T10:54:03.886497Z",
     "iopub.status.busy": "2024-05-21T10:54:03.885684Z",
     "iopub.status.idle": "2024-05-21T10:54:04.149169Z",
     "shell.execute_reply": "2024-05-21T10:54:04.147767Z"
    },
    "id": "CCI2sFv5SJ7O",
    "outputId": "231ff033-f6cb-4e14-e57a-abbf7d870249",
    "papermill": {
     "duration": 0.35017,
     "end_time": "2024-05-21T10:54:04.151635",
     "exception": false,
     "start_time": "2024-05-21T10:54:03.801465",
     "status": "completed"
    },
    "tags": []
   },
   "outputs": [
    {
     "name": "stdout",
     "output_type": "stream",
     "text": [
      "\u001b[1m1/1\u001b[0m \u001b[32m━━━━━━━━━━━━━━━━━━━━\u001b[0m\u001b[37m\u001b[0m \u001b[1m0s\u001b[0m 188ms/step\n",
      "a1        = [1 1 0 0 0 0 1 1 0 0]\n",
      "a2        = [0 1 0 1 0 0 0 0 0 1]\n",
      "expected  = [1 0 1 1 0 0 1 1 0 1]\n",
      "predicted = [1 1 1 1 0 0 1 1 0 1]\n"
     ]
    }
   ],
   "source": [
    "example,res = next(generator(1, 10))\n",
    "predicted = np.array([int(np.rint(x)) for x in mymodel.predict(example)[0]])\n",
    "\n",
    "print(\"a1        = {}\".format(example[0][:,0].astype(int)))\n",
    "print(\"a2        = {}\".format(example[0][:,1].astype(int)))\n",
    "print(\"expected  = {}\".format(res[0].astype(int)))\n",
    "print(\"predicted = {}\".format(predicted))"
   ]
  },
  {
   "cell_type": "markdown",
   "id": "aaedcae8",
   "metadata": {
    "papermill": {
     "duration": 0.083135,
     "end_time": "2024-05-21T10:54:04.318072",
     "exception": false,
     "start_time": "2024-05-21T10:54:04.234937",
     "status": "completed"
    },
    "tags": []
   },
   "source": [
    "There is a comprehensive theory behinde the LSTM. Theory always comes first in DL as imlementing DL model is just a simple method calling. "
   ]
  }
 ],
 "metadata": {
  "colab": {
   "provenance": []
  },
  "kaggle": {
   "accelerator": "none",
   "dataSources": [],
   "dockerImageVersionId": 30698,
   "isGpuEnabled": false,
   "isInternetEnabled": true,
   "language": "python",
   "sourceType": "notebook"
  },
  "kernelspec": {
   "display_name": "Python 3",
   "language": "python",
   "name": "python3"
  },
  "language_info": {
   "codemirror_mode": {
    "name": "ipython",
    "version": 3
   },
   "file_extension": ".py",
   "mimetype": "text/x-python",
   "name": "python",
   "nbconvert_exporter": "python",
   "pygments_lexer": "ipython3",
   "version": "3.10.13"
  },
  "papermill": {
   "default_parameters": {},
   "duration": 74.05273,
   "end_time": "2024-05-21T10:54:05.986259",
   "environment_variables": {},
   "exception": null,
   "input_path": "__notebook__.ipynb",
   "output_path": "__notebook__.ipynb",
   "parameters": {},
   "start_time": "2024-05-21T10:52:51.933529",
   "version": "2.5.0"
  }
 },
 "nbformat": 4,
 "nbformat_minor": 5
}
