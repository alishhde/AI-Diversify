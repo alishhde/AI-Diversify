{
 "cells": [
  {
   "cell_type": "markdown",
   "id": "963fff7c",
   "metadata": {
    "papermill": {
     "duration": 0.006696,
     "end_time": "2024-05-05T09:12:01.594654",
     "exception": false,
     "start_time": "2024-05-05T09:12:01.587958",
     "status": "completed"
    },
    "tags": []
   },
   "source": [
    "# 1. Word2Vec using Genism\n",
    "`Word2Vec` is a popular technique in natural language processing (NLP) to learn word embeddings, which are dense vector representations of words that capture their syntactic and semantic meanings. Developed by Tomas Mikolov and his team at Google in 2013, `Word2Vec` is designed to map words into a continuous vector space such that words with similar meanings are located in close proximity to each other.\n",
    "\n",
    "### Key Concepts of Word2Vec:\n",
    "\n",
    "1. **Training Models**: Word2Vec provides two model architectures for training:\n",
    "   - **Continuous Bag of Words (CBOW)**: This model predicts a target word based on its context. The context is typically a fixed-size window of surrounding words. CBOW is faster and has slightly better accuracy for frequent words.\n",
    "   - **Skip-Gram**: This model works in the opposite way of CBOW; it uses a word to predict a target context. Skip-Gram performs well with small amounts of data and represents well even rare words or phrases.\n",
    "\n",
    "2. **Dimensionality and Context Window**: The size of the embedding vectors and the context window size are crucial parameters. The vector size (typically between 50 and 300) balances between capturing enough information about words and keeping the model size manageable. The window size determines how many words before and after the target word are considered as context.\n",
    "\n",
    "3. **Optimization Techniques**:\n",
    "   - **Negative Sampling**: Used to speed up training and improve quality of the resulting word vectors by only updating a subset of the model’s weights during training rather than all of them.\n",
    "   - **Hierarchical Softmax**: An alternative to negative sampling, particularly useful for large vocabularies, as it speeds up computation.\n",
    "\n",
    "4. **Training Process**: During training, Word2Vec adjusts the word vectors in the embedding space to ensure that words that share common contexts are located close to one another in the space. This is achieved through a process of feeding word pairs according to their linguistic contexts into a simple neural network with a single hidden layer, and continuously adjusting the weights (word vectors) using gradient descent based on the loss between predicted and actual context words.\n",
    "\n",
    "**Applications**:\n",
    "   - **Semantic Similarity**: Word2Vec can measure the semantic similarity between two words based on their vector proximity.\n",
    "   - **Analogies**: It can solve analogies. For example, given \"man is to woman as king is to ?\", the model can predict \"queen\".\n",
    "   - **Word Clustering**: Grouping words with similar meanings.\n",
    "   - **Feature Vectors**: Word vectors can be used as feature inputs for various machine learning models.\n",
    "\n"
   ]
  },
  {
   "cell_type": "markdown",
   "id": "244a5852",
   "metadata": {
    "papermill": {
     "duration": 0.00575,
     "end_time": "2024-05-05T09:12:01.607382",
     "exception": false,
     "start_time": "2024-05-05T09:12:01.601632",
     "status": "completed"
    },
    "tags": []
   },
   "source": [
    "What is Genism?\n",
    "----\n",
    "**Gensim** is an open-source Python library designed specifically for unsupervised topic modeling and natural language processing. It is particularly useful for handling large text collections, using data streaming and efficient incremental algorithms, which makes it distinct from other NLP libraries that often require the entire dataset to fit into memory.\n",
    "\n",
    "### Key Features of Gensim:\n",
    "\n",
    "1. **Efficiency**: Gensim is highly efficient with its memory usage and processing speed, which is achieved through its use of incremental algorithms. This means that Gensim can work with large datasets that do not fit into memory, processing them in a streaming fashion.\n",
    "\n",
    "2. **Scalability**: It is scalable in both computational resources and the size of the data. Gensim is designed to handle large-scale text collections with the help of data streaming and efficient data structures.\n",
    "\n",
    "3. **Ease of Use**: Despite its focus on efficiency and scalability, Gensim is user-friendly and easy to get started with, requiring minimal setup and external dependencies.\n",
    "\n",
    "4. **Algorithm Variety**: Gensim includes implementations of various popular algorithms for topic modeling and vector space modeling, including:\n",
    "   - **Word2Vec**: To generate word embeddings by training a shallow neural network.\n",
    "   - **Doc2Vec**: An extension of Word2Vec that learns to represent documents in addition to words.\n",
    "   - **Latent Dirichlet Allocation (LDA)**: A probabilistic model for discovering abstract topics within a collection of documents.\n",
    "   - **TF-IDF (Term Frequency-Inverse Document Frequency)**: A statistical measure used to evaluate how important a word is to a document in a collection or corpus.\n",
    "\n",
    "5. **Integration**: It can be easily integrated with other machine learning frameworks like Scikit-Learn for further analysis and model enhancements.\n",
    "\n",
    "6. **Support for Various Text Formats**: Gensim can easily handle raw text or Bag of Words (BoW) formats, and it includes tools for preprocessing text like tokenization, stemming, and more.\n",
    "\n",
    "### Typical Uses of Gensim:\n",
    "- **Topic Modeling**: Discovering abstract topics from a large volume of text.\n",
    "- **Similarity Queries**: Finding similar documents or words in a collection.\n",
    "- **Document Clustering and Classification**: Grouping text documents into clusters or classifying them into predefined categories based on their content.\n",
    "\n",
    "Gensim is particularly favored in academic environments and industry settings where the handling of large textual data is required, and it is a go-to library for many researchers and practitioners working on topic modeling and document similarity tasks."
   ]
  },
  {
   "cell_type": "markdown",
   "id": "dee4ee5d",
   "metadata": {
    "papermill": {
     "duration": 0.005738,
     "end_time": "2024-05-05T09:12:01.619031",
     "exception": false,
     "start_time": "2024-05-05T09:12:01.613293",
     "status": "completed"
    },
    "tags": []
   },
   "source": [
    "> Let's experience Genism ourself..."
   ]
  },
  {
   "cell_type": "code",
   "execution_count": 1,
   "id": "e9efe84c",
   "metadata": {
    "execution": {
     "iopub.execute_input": "2024-05-05T09:12:01.632953Z",
     "iopub.status.busy": "2024-05-05T09:12:01.632444Z",
     "iopub.status.idle": "2024-05-05T09:12:11.162032Z",
     "shell.execute_reply": "2024-05-05T09:12:11.160768Z"
    },
    "papermill": {
     "duration": 9.540472,
     "end_time": "2024-05-05T09:12:11.165519",
     "exception": false,
     "start_time": "2024-05-05T09:12:01.625047",
     "status": "completed"
    },
    "tags": []
   },
   "outputs": [],
   "source": [
    "import gensim\n",
    "import pandas as pd"
   ]
  },
  {
   "cell_type": "markdown",
   "id": "ff46e08d",
   "metadata": {
    "papermill": {
     "duration": 0.005953,
     "end_time": "2024-05-05T09:12:11.178699",
     "exception": false,
     "start_time": "2024-05-05T09:12:11.172746",
     "status": "completed"
    },
    "tags": []
   },
   "source": [
    "# 2. Reading and Exploring the Dataset"
   ]
  },
  {
   "cell_type": "code",
   "execution_count": 2,
   "id": "275c95c6",
   "metadata": {
    "execution": {
     "iopub.execute_input": "2024-05-05T09:12:11.193443Z",
     "iopub.status.busy": "2024-05-05T09:12:11.192600Z",
     "iopub.status.idle": "2024-05-05T09:12:20.667627Z",
     "shell.execute_reply": "2024-05-05T09:12:20.666266Z"
    },
    "papermill": {
     "duration": 9.485552,
     "end_time": "2024-05-05T09:12:20.670391",
     "exception": false,
     "start_time": "2024-05-05T09:12:11.184839",
     "status": "completed"
    },
    "tags": []
   },
   "outputs": [
    {
     "data": {
      "text/html": [
       "<div>\n",
       "<style scoped>\n",
       "    .dataframe tbody tr th:only-of-type {\n",
       "        vertical-align: middle;\n",
       "    }\n",
       "\n",
       "    .dataframe tbody tr th {\n",
       "        vertical-align: top;\n",
       "    }\n",
       "\n",
       "    .dataframe thead th {\n",
       "        text-align: right;\n",
       "    }\n",
       "</style>\n",
       "<table border=\"1\" class=\"dataframe\">\n",
       "  <thead>\n",
       "    <tr style=\"text-align: right;\">\n",
       "      <th></th>\n",
       "      <th>reviewerID</th>\n",
       "      <th>asin</th>\n",
       "      <th>reviewerName</th>\n",
       "      <th>helpful</th>\n",
       "      <th>reviewText</th>\n",
       "      <th>overall</th>\n",
       "      <th>summary</th>\n",
       "      <th>unixReviewTime</th>\n",
       "      <th>reviewTime</th>\n",
       "    </tr>\n",
       "  </thead>\n",
       "  <tbody>\n",
       "    <tr>\n",
       "      <th>0</th>\n",
       "      <td>AIXZKN4ACSKI</td>\n",
       "      <td>1881509818</td>\n",
       "      <td>David Briner</td>\n",
       "      <td>[0, 0]</td>\n",
       "      <td>This came in on time and I am veru happy with ...</td>\n",
       "      <td>5</td>\n",
       "      <td>Woks very good</td>\n",
       "      <td>1390694400</td>\n",
       "      <td>01 26, 2014</td>\n",
       "    </tr>\n",
       "    <tr>\n",
       "      <th>1</th>\n",
       "      <td>A1L5P841VIO02V</td>\n",
       "      <td>1881509818</td>\n",
       "      <td>Jason A. Kramer</td>\n",
       "      <td>[1, 1]</td>\n",
       "      <td>I had a factory Glock tool that I was using fo...</td>\n",
       "      <td>5</td>\n",
       "      <td>Works as well as the factory tool</td>\n",
       "      <td>1328140800</td>\n",
       "      <td>02 2, 2012</td>\n",
       "    </tr>\n",
       "    <tr>\n",
       "      <th>2</th>\n",
       "      <td>AB2W04NI4OEAD</td>\n",
       "      <td>1881509818</td>\n",
       "      <td>J. Fernald</td>\n",
       "      <td>[2, 2]</td>\n",
       "      <td>If you don't have a 3/32 punch or would like t...</td>\n",
       "      <td>4</td>\n",
       "      <td>It's a punch, that's all.</td>\n",
       "      <td>1330387200</td>\n",
       "      <td>02 28, 2012</td>\n",
       "    </tr>\n",
       "    <tr>\n",
       "      <th>3</th>\n",
       "      <td>A148SVSWKTJKU6</td>\n",
       "      <td>1881509818</td>\n",
       "      <td>Jusitn A. Watts \"Maverick9614\"</td>\n",
       "      <td>[0, 0]</td>\n",
       "      <td>This works no better than any 3/32 punch you w...</td>\n",
       "      <td>4</td>\n",
       "      <td>It's a punch with a Glock logo.</td>\n",
       "      <td>1328400000</td>\n",
       "      <td>02 5, 2012</td>\n",
       "    </tr>\n",
       "    <tr>\n",
       "      <th>4</th>\n",
       "      <td>AAAWJ6LW9WMOO</td>\n",
       "      <td>1881509818</td>\n",
       "      <td>Material Man</td>\n",
       "      <td>[0, 0]</td>\n",
       "      <td>I purchased this thinking maybe I need a speci...</td>\n",
       "      <td>4</td>\n",
       "      <td>Ok,tool does what a regular punch does.</td>\n",
       "      <td>1366675200</td>\n",
       "      <td>04 23, 2013</td>\n",
       "    </tr>\n",
       "  </tbody>\n",
       "</table>\n",
       "</div>"
      ],
      "text/plain": [
       "       reviewerID        asin                    reviewerName helpful  \\\n",
       "0    AIXZKN4ACSKI  1881509818                    David Briner  [0, 0]   \n",
       "1  A1L5P841VIO02V  1881509818                 Jason A. Kramer  [1, 1]   \n",
       "2   AB2W04NI4OEAD  1881509818                      J. Fernald  [2, 2]   \n",
       "3  A148SVSWKTJKU6  1881509818  Jusitn A. Watts \"Maverick9614\"  [0, 0]   \n",
       "4   AAAWJ6LW9WMOO  1881509818                    Material Man  [0, 0]   \n",
       "\n",
       "                                          reviewText  overall  \\\n",
       "0  This came in on time and I am veru happy with ...        5   \n",
       "1  I had a factory Glock tool that I was using fo...        5   \n",
       "2  If you don't have a 3/32 punch or would like t...        4   \n",
       "3  This works no better than any 3/32 punch you w...        4   \n",
       "4  I purchased this thinking maybe I need a speci...        4   \n",
       "\n",
       "                                   summary  unixReviewTime   reviewTime  \n",
       "0                           Woks very good      1390694400  01 26, 2014  \n",
       "1        Works as well as the factory tool      1328140800   02 2, 2012  \n",
       "2                It's a punch, that's all.      1330387200  02 28, 2012  \n",
       "3          It's a punch with a Glock logo.      1328400000   02 5, 2012  \n",
       "4  Ok,tool does what a regular punch does.      1366675200  04 23, 2013  "
      ]
     },
     "execution_count": 2,
     "metadata": {},
     "output_type": "execute_result"
    }
   ],
   "source": [
    "df = pd.read_json(\"/kaggle/input/sports-and-outdoor-review-dataset/Sports_and_Outdoors_5.json\", lines=True)\n",
    "df.head()"
   ]
  },
  {
   "cell_type": "code",
   "execution_count": 3,
   "id": "761d5672",
   "metadata": {
    "execution": {
     "iopub.execute_input": "2024-05-05T09:12:20.685205Z",
     "iopub.status.busy": "2024-05-05T09:12:20.684561Z",
     "iopub.status.idle": "2024-05-05T09:12:20.691004Z",
     "shell.execute_reply": "2024-05-05T09:12:20.690098Z"
    },
    "papermill": {
     "duration": 0.01634,
     "end_time": "2024-05-05T09:12:20.693154",
     "exception": false,
     "start_time": "2024-05-05T09:12:20.676814",
     "status": "completed"
    },
    "tags": []
   },
   "outputs": [
    {
     "data": {
      "text/plain": [
       "(296337, 9)"
      ]
     },
     "execution_count": 3,
     "metadata": {},
     "output_type": "execute_result"
    }
   ],
   "source": [
    "df.shape"
   ]
  },
  {
   "cell_type": "markdown",
   "id": "55c50ef3",
   "metadata": {
    "papermill": {
     "duration": 0.006126,
     "end_time": "2024-05-05T09:12:20.705844",
     "exception": false,
     "start_time": "2024-05-05T09:12:20.699718",
     "status": "completed"
    },
    "tags": []
   },
   "source": [
    "### Simple Preprocessing & Tokenization\n",
    "The first thing to do for any data science task is to clean the data.\n",
    "For NLP, we apply various processing like converting all the words to lower case, trimming spaces, removing punctuations. \n",
    "This is something we will do over here too.\n",
    "\n",
    "Additionally, we can also remove stop words like 'and', 'or', 'is', 'the', 'a', 'an' and convert words to their root forms like 'running' to 'run'."
   ]
  },
  {
   "cell_type": "markdown",
   "id": "595dff5f",
   "metadata": {
    "papermill": {
     "duration": 0.006017,
     "end_time": "2024-05-05T09:12:20.719654",
     "exception": false,
     "start_time": "2024-05-05T09:12:20.713637",
     "status": "completed"
    },
    "tags": []
   },
   "source": [
    "Most of these preprocessing step can be done using the following method:"
   ]
  },
  {
   "cell_type": "code",
   "execution_count": 4,
   "id": "f528454e",
   "metadata": {
    "execution": {
     "iopub.execute_input": "2024-05-05T09:12:20.735482Z",
     "iopub.status.busy": "2024-05-05T09:12:20.734368Z",
     "iopub.status.idle": "2024-05-05T09:12:53.661524Z",
     "shell.execute_reply": "2024-05-05T09:12:53.659879Z"
    },
    "papermill": {
     "duration": 32.938679,
     "end_time": "2024-05-05T09:12:53.665086",
     "exception": false,
     "start_time": "2024-05-05T09:12:20.726407",
     "status": "completed"
    },
    "tags": []
   },
   "outputs": [],
   "source": [
    "review_text = df.reviewText.apply(gensim.utils.simple_preprocess)"
   ]
  },
  {
   "cell_type": "code",
   "execution_count": 5,
   "id": "60f17ef0",
   "metadata": {
    "execution": {
     "iopub.execute_input": "2024-05-05T09:12:53.686816Z",
     "iopub.status.busy": "2024-05-05T09:12:53.685930Z",
     "iopub.status.idle": "2024-05-05T09:12:53.706016Z",
     "shell.execute_reply": "2024-05-05T09:12:53.704744Z"
    },
    "papermill": {
     "duration": 0.033807,
     "end_time": "2024-05-05T09:12:53.708605",
     "exception": false,
     "start_time": "2024-05-05T09:12:53.674798",
     "status": "completed"
    },
    "tags": []
   },
   "outputs": [
    {
     "data": {
      "text/plain": [
       "0         [this, came, in, on, time, and, am, veru, happ...\n",
       "1         [had, factory, glock, tool, that, was, using, ...\n",
       "2         [if, you, don, have, punch, or, would, like, t...\n",
       "3         [this, works, no, better, than, any, punch, yo...\n",
       "4         [purchased, this, thinking, maybe, need, speci...\n",
       "                                ...                        \n",
       "296332    [this, is, water, bottle, done, right, it, is,...\n",
       "296333    [if, you, re, looking, for, an, insulated, wat...\n",
       "296334    [this, hydracentials, sporty, oz, double, insu...\n",
       "296335    [as, usual, received, this, item, free, in, ex...\n",
       "296336    [hydracentials, insulated, oz, water, bottle, ...\n",
       "Name: reviewText, Length: 296337, dtype: object"
      ]
     },
     "execution_count": 5,
     "metadata": {},
     "output_type": "execute_result"
    }
   ],
   "source": [
    "review_text"
   ]
  },
  {
   "cell_type": "code",
   "execution_count": 6,
   "id": "54bee4a2",
   "metadata": {
    "execution": {
     "iopub.execute_input": "2024-05-05T09:12:53.725470Z",
     "iopub.status.busy": "2024-05-05T09:12:53.724370Z",
     "iopub.status.idle": "2024-05-05T09:12:53.733419Z",
     "shell.execute_reply": "2024-05-05T09:12:53.732254Z"
    },
    "papermill": {
     "duration": 0.019718,
     "end_time": "2024-05-05T09:12:53.735605",
     "exception": false,
     "start_time": "2024-05-05T09:12:53.715887",
     "status": "completed"
    },
    "tags": []
   },
   "outputs": [
    {
     "data": {
      "text/plain": [
       "['this', 'came', 'in', 'on', 'time', 'and', 'am', 'veru', 'happy', 'with']"
      ]
     },
     "execution_count": 6,
     "metadata": {},
     "output_type": "execute_result"
    }
   ],
   "source": [
    "review_text.loc[0][:10]"
   ]
  },
  {
   "cell_type": "code",
   "execution_count": 7,
   "id": "626f0c5c",
   "metadata": {
    "execution": {
     "iopub.execute_input": "2024-05-05T09:12:53.752364Z",
     "iopub.status.busy": "2024-05-05T09:12:53.751374Z",
     "iopub.status.idle": "2024-05-05T09:12:53.761436Z",
     "shell.execute_reply": "2024-05-05T09:12:53.760305Z"
    },
    "papermill": {
     "duration": 0.022136,
     "end_time": "2024-05-05T09:12:53.764654",
     "exception": false,
     "start_time": "2024-05-05T09:12:53.742518",
     "status": "completed"
    },
    "tags": []
   },
   "outputs": [
    {
     "data": {
      "text/plain": [
       "'This came in on time and I am veru happy with it, I haved used it already and it makes taking out the pins in my glock 32 very easy'"
      ]
     },
     "execution_count": 7,
     "metadata": {},
     "output_type": "execute_result"
    }
   ],
   "source": [
    "df.reviewText.loc[0]"
   ]
  },
  {
   "cell_type": "markdown",
   "id": "a459ed41",
   "metadata": {
    "papermill": {
     "duration": 0.009017,
     "end_time": "2024-05-05T09:12:53.784831",
     "exception": false,
     "start_time": "2024-05-05T09:12:53.775814",
     "status": "completed"
    },
    "tags": []
   },
   "source": [
    "Comparing these two output shows, that in preprocessing step we also omit some meaningless words like `I`. "
   ]
  },
  {
   "cell_type": "markdown",
   "id": "74000779",
   "metadata": {
    "papermill": {
     "duration": 0.006593,
     "end_time": "2024-05-05T09:12:53.798408",
     "exception": false,
     "start_time": "2024-05-05T09:12:53.791815",
     "status": "completed"
    },
    "tags": []
   },
   "source": [
    "# 3. Training the Word2Vec Model\n",
    "\n",
    "Train the model for reviews. Use a window of size 10 i.e. 10 words before the present word and 10 words ahead. A sentence with at least 2 words should only be considered, configure this using `min_count` parameter.\n",
    "\n",
    "Workers define how many CPU threads to be used."
   ]
  },
  {
   "cell_type": "markdown",
   "id": "67470669",
   "metadata": {
    "papermill": {
     "duration": 0.006385,
     "end_time": "2024-05-05T09:12:53.811562",
     "exception": false,
     "start_time": "2024-05-05T09:12:53.805177",
     "status": "completed"
    },
    "tags": []
   },
   "source": [
    "#### Initialize the model"
   ]
  },
  {
   "cell_type": "code",
   "execution_count": 8,
   "id": "b970daf4",
   "metadata": {
    "execution": {
     "iopub.execute_input": "2024-05-05T09:12:53.828212Z",
     "iopub.status.busy": "2024-05-05T09:12:53.826623Z",
     "iopub.status.idle": "2024-05-05T09:12:53.834116Z",
     "shell.execute_reply": "2024-05-05T09:12:53.833018Z"
    },
    "papermill": {
     "duration": 0.018014,
     "end_time": "2024-05-05T09:12:53.836266",
     "exception": false,
     "start_time": "2024-05-05T09:12:53.818252",
     "status": "completed"
    },
    "tags": []
   },
   "outputs": [],
   "source": [
    "model = gensim.models.Word2Vec(\n",
    "    window=10,\n",
    "    min_count=2,\n",
    "    workers=4,\n",
    ")\n"
   ]
  },
  {
   "cell_type": "markdown",
   "id": "acdbd4b6",
   "metadata": {
    "papermill": {
     "duration": 0.006483,
     "end_time": "2024-05-05T09:12:53.849602",
     "exception": false,
     "start_time": "2024-05-05T09:12:53.843119",
     "status": "completed"
    },
    "tags": []
   },
   "source": [
    "#### Build Vocabulary"
   ]
  },
  {
   "cell_type": "code",
   "execution_count": 9,
   "id": "a664eb75",
   "metadata": {
    "execution": {
     "iopub.execute_input": "2024-05-05T09:12:53.865973Z",
     "iopub.status.busy": "2024-05-05T09:12:53.865411Z",
     "iopub.status.idle": "2024-05-05T09:13:00.944117Z",
     "shell.execute_reply": "2024-05-05T09:13:00.942892Z"
    },
    "papermill": {
     "duration": 7.089715,
     "end_time": "2024-05-05T09:13:00.946650",
     "exception": false,
     "start_time": "2024-05-05T09:12:53.856935",
     "status": "completed"
    },
    "tags": []
   },
   "outputs": [],
   "source": [
    "model.build_vocab(review_text, progress_per=1000)"
   ]
  },
  {
   "cell_type": "markdown",
   "id": "bb8e02d4",
   "metadata": {
    "papermill": {
     "duration": 0.006391,
     "end_time": "2024-05-05T09:13:00.960194",
     "exception": false,
     "start_time": "2024-05-05T09:13:00.953803",
     "status": "completed"
    },
    "tags": []
   },
   "source": [
    "#### Train the Word2Vec Model"
   ]
  },
  {
   "cell_type": "code",
   "execution_count": 10,
   "id": "f5f675ce",
   "metadata": {
    "execution": {
     "iopub.execute_input": "2024-05-05T09:13:00.975733Z",
     "iopub.status.busy": "2024-05-05T09:13:00.975056Z",
     "iopub.status.idle": "2024-05-05T09:14:54.406230Z",
     "shell.execute_reply": "2024-05-05T09:14:54.404840Z"
    },
    "papermill": {
     "duration": 113.44911,
     "end_time": "2024-05-05T09:14:54.415948",
     "exception": false,
     "start_time": "2024-05-05T09:13:00.966838",
     "status": "completed"
    },
    "tags": []
   },
   "outputs": [
    {
     "data": {
      "text/plain": [
       "(91338651, 121496535)"
      ]
     },
     "execution_count": 10,
     "metadata": {},
     "output_type": "execute_result"
    }
   ],
   "source": [
    "model.train(review_text, total_examples=model.corpus_count, epochs=model.epochs)"
   ]
  },
  {
   "cell_type": "markdown",
   "id": "c1b9c661",
   "metadata": {
    "papermill": {
     "duration": 0.006537,
     "end_time": "2024-05-05T09:14:54.429312",
     "exception": false,
     "start_time": "2024-05-05T09:14:54.422775",
     "status": "completed"
    },
    "tags": []
   },
   "source": [
    "# 4. Save the Model\n",
    "\n",
    "Save the model so that it can be reused in other applications"
   ]
  },
  {
   "cell_type": "code",
   "execution_count": 11,
   "id": "6cbd8793",
   "metadata": {
    "execution": {
     "iopub.execute_input": "2024-05-05T09:14:54.446102Z",
     "iopub.status.busy": "2024-05-05T09:14:54.444507Z",
     "iopub.status.idle": "2024-05-05T09:14:54.565279Z",
     "shell.execute_reply": "2024-05-05T09:14:54.564419Z"
    },
    "papermill": {
     "duration": 0.131797,
     "end_time": "2024-05-05T09:14:54.567815",
     "exception": false,
     "start_time": "2024-05-05T09:14:54.436018",
     "status": "completed"
    },
    "tags": []
   },
   "outputs": [],
   "source": [
    "model.save(\"./word2vec-Sports-and-Outdoors-5.model\")"
   ]
  },
  {
   "cell_type": "markdown",
   "id": "2d67d775",
   "metadata": {
    "papermill": {
     "duration": 0.007359,
     "end_time": "2024-05-05T09:14:54.582222",
     "exception": false,
     "start_time": "2024-05-05T09:14:54.574863",
     "status": "completed"
    },
    "tags": []
   },
   "source": [
    "# 5. Finding Similar Words and Similarity between words\n",
    "[Further Reading](https://radimrehurek.com/gensim/models/word2vec.html)"
   ]
  },
  {
   "cell_type": "code",
   "execution_count": 12,
   "id": "7c41eb25",
   "metadata": {
    "execution": {
     "iopub.execute_input": "2024-05-05T09:14:54.599653Z",
     "iopub.status.busy": "2024-05-05T09:14:54.598563Z",
     "iopub.status.idle": "2024-05-05T09:14:54.632536Z",
     "shell.execute_reply": "2024-05-05T09:14:54.631259Z"
    },
    "papermill": {
     "duration": 0.046306,
     "end_time": "2024-05-05T09:14:54.635461",
     "exception": false,
     "start_time": "2024-05-05T09:14:54.589155",
     "status": "completed"
    },
    "tags": []
   },
   "outputs": [
    {
     "data": {
      "text/plain": [
       "[('amazing', 0.8858018517494202),\n",
       " ('fantastic', 0.8143672347068787),\n",
       " ('awsome', 0.7724143862724304),\n",
       " ('incredible', 0.7592576742172241),\n",
       " ('excellent', 0.7334620356559753),\n",
       " ('outstanding', 0.731977641582489),\n",
       " ('great', 0.7243435978889465),\n",
       " ('wonderful', 0.7196093201637268),\n",
       " ('exceptional', 0.6570886373519897),\n",
       " ('unbeatable', 0.6394888162612915)]"
      ]
     },
     "execution_count": 12,
     "metadata": {},
     "output_type": "execute_result"
    }
   ],
   "source": [
    "model.wv.most_similar(\"awesome\")"
   ]
  },
  {
   "cell_type": "code",
   "execution_count": 13,
   "id": "760c120c",
   "metadata": {
    "execution": {
     "iopub.execute_input": "2024-05-05T09:14:54.661292Z",
     "iopub.status.busy": "2024-05-05T09:14:54.660654Z",
     "iopub.status.idle": "2024-05-05T09:14:54.669664Z",
     "shell.execute_reply": "2024-05-05T09:14:54.668525Z"
    },
    "papermill": {
     "duration": 0.026141,
     "end_time": "2024-05-05T09:14:54.673102",
     "exception": false,
     "start_time": "2024-05-05T09:14:54.646961",
     "status": "completed"
    },
    "tags": []
   },
   "outputs": [
    {
     "data": {
      "text/plain": [
       "0.85530967"
      ]
     },
     "execution_count": 13,
     "metadata": {},
     "output_type": "execute_result"
    }
   ],
   "source": [
    "model.wv.similarity(w1=\"adidas\", w2=\"nike\")"
   ]
  },
  {
   "cell_type": "code",
   "execution_count": 14,
   "id": "fc9e753f",
   "metadata": {
    "execution": {
     "iopub.execute_input": "2024-05-05T09:14:54.699664Z",
     "iopub.status.busy": "2024-05-05T09:14:54.699042Z",
     "iopub.status.idle": "2024-05-05T09:14:54.708480Z",
     "shell.execute_reply": "2024-05-05T09:14:54.707318Z"
    },
    "papermill": {
     "duration": 0.025811,
     "end_time": "2024-05-05T09:14:54.711287",
     "exception": false,
     "start_time": "2024-05-05T09:14:54.685476",
     "status": "completed"
    },
    "tags": []
   },
   "outputs": [
    {
     "data": {
      "text/plain": [
       "0.7907072"
      ]
     },
     "execution_count": 14,
     "metadata": {},
     "output_type": "execute_result"
    }
   ],
   "source": [
    "model.wv.similarity(w1=\"great\", w2=\"good\")"
   ]
  },
  {
   "cell_type": "markdown",
   "id": "821ce636",
   "metadata": {
    "papermill": {
     "duration": 0.011239,
     "end_time": "2024-05-05T09:14:54.734527",
     "exception": false,
     "start_time": "2024-05-05T09:14:54.723288",
     "status": "completed"
    },
    "tags": []
   },
   "source": [
    "### Further Reading\n",
    "\n",
    "You can read about gensim more at https://radimrehurek.com/gensim/models/word2vec.html\n",
    "\n",
    "Explore other Datasets related to Amazon Reviews: http://jmcauley.ucsd.edu/data/amazon/\n",
    "    - You can use these dataset for doing more exercises"
   ]
  }
 ],
 "metadata": {
  "kaggle": {
   "accelerator": "none",
   "dataSources": [
    {
     "datasetId": 4829264,
     "sourceId": 8162243,
     "sourceType": "datasetVersion"
    }
   ],
   "dockerImageVersionId": 30698,
   "isGpuEnabled": false,
   "isInternetEnabled": true,
   "language": "python",
   "sourceType": "notebook"
  },
  "kernelspec": {
   "display_name": "Python 3",
   "language": "python",
   "name": "python3"
  },
  "language_info": {
   "codemirror_mode": {
    "name": "ipython",
    "version": 3
   },
   "file_extension": ".py",
   "mimetype": "text/x-python",
   "name": "python",
   "nbconvert_exporter": "python",
   "pygments_lexer": "ipython3",
   "version": "3.10.13"
  },
  "papermill": {
   "default_parameters": {},
   "duration": 178.599131,
   "end_time": "2024-05-05T09:14:57.367204",
   "environment_variables": {},
   "exception": null,
   "input_path": "__notebook__.ipynb",
   "output_path": "__notebook__.ipynb",
   "parameters": {},
   "start_time": "2024-05-05T09:11:58.768073",
   "version": "2.5.0"
  }
 },
 "nbformat": 4,
 "nbformat_minor": 5
}
