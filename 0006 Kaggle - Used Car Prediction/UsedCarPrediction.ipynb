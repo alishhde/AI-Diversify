{
 "cells": [
  {
   "cell_type": "markdown",
   "metadata": {},
   "source": [
    "# Used Car Price Dataset\n",
    "A Dataset for Predicting Used Car Prices\n",
    "url: https://www.kaggle.com/datasets/rishabhkarn/used-car-dataset\n",
    "\n",
    "About Dataset\n",
    "🚗 Used Car Price Dataset: A dataset for predicting used car price 📊\n",
    "\n",
    "Dive into the world of used cars with our dataset, perfect for predicting prices. It's a carefully selected set of data that car enthusiasts, analysts, and data scientists will find valuable. Whether you're curious or looking to analyze, this dataset is your guide to understanding the dynamics of how used cars are valued.\n",
    "\n",
    "Key Features:\n",
    "\n",
    "🛣️ Rich Attributes: Explore a number of attributes, including mileage, model year, fuel type, transmission, and more, providing a 360-degree view of each vehicle's specifications.\n",
    "📉 Depreciation Insights: Uncover patterns in vehicle depreciation over time and across different makes and models, empowering you to make informed predictions about future price trends.\n",
    "📱 Technological Integration: Seamlessly integrate our dataset into your predictive modeling pipelines, harnessing the power of technology to foresee changes in the used car market.\n",
    "Potential Applications:\n",
    "\n",
    "📈 Market Research: Conduct in-depth market research to identify trends, fluctuations, and hotspots in the used car industry.\n",
    "🤖 Predictive Modeling: Build robust machine learning models to predict resale values, assisting buyers, sellers, and dealerships in making informed decisions.\n",
    "🚀 Business Strategy: Inform business strategies for used car dealerships, insurance companies, and financial institutions by understanding the underlying factors influencing pricing.\n",
    "How to Use:\n",
    "\n",
    "🧑‍💻 Data Science Projects: Integrate this dataset into your data science projects to explore and analyze factors impacting used car prices.\n",
    "🚀 Predictive Modeling: Train machine learning models to predict resale values based on historical data and a wide array of vehicle attributes.\n",
    "🚗 Market Insights: Gain valuable insights into market dynamics, allowing you to stay ahead of trends and developments in the used car space.\n",
    "Dataset Description:\n",
    "\n",
    "1552 Rows, 15 Columns\n",
    "\n",
    "Attributes:\n",
    "\n",
    "car_name\n",
    "registration_year\n",
    "insurance_validity\n",
    "fuel_type\n",
    "seats\n",
    "kms_driven\n",
    "ownership\n",
    "transmission\n",
    "manufacturing_year\n",
    "mileage(kmpl)\n",
    "engine(cc)\n",
    "max_power(bhp)\n",
    "torque(Nm)\n",
    "price(in lakhs)\n",
    "\n",
    "\n",
    "Steps we plan to do:\n",
    "1. Data Preprocessing\n",
    "2. Data Visualization\n",
    "3. Explarotary Data Analysis\n",
    "4. Feature Selection and Transformation\n",
    "5. Train-Test-Split\n",
    "6. Model Creation\n",
    "7. Model Prediction"
   ]
  },
  {
   "cell_type": "markdown",
   "metadata": {},
   "source": [
    "## Step 1 - Importing, Exploring, and Preprocessing\n"
   ]
  },
  {
   "cell_type": "code",
   "execution_count": 43,
   "metadata": {},
   "outputs": [],
   "source": [
    "import pandas as pd\n",
    "import numpy as np\n"
   ]
  },
  {
   "cell_type": "code",
   "execution_count": 44,
   "metadata": {},
   "outputs": [
    {
     "data": {
      "text/plain": [
       "(1553, 15)"
      ]
     },
     "execution_count": 44,
     "metadata": {},
     "output_type": "execute_result"
    }
   ],
   "source": [
    "df = pd.read_csv('dataset/usedcardb.csv')\n",
    "df.shape"
   ]
  },
  {
   "cell_type": "code",
   "execution_count": 45,
   "metadata": {},
   "outputs": [
    {
     "data": {
      "text/html": [
       "<div>\n",
       "<style scoped>\n",
       "    .dataframe tbody tr th:only-of-type {\n",
       "        vertical-align: middle;\n",
       "    }\n",
       "\n",
       "    .dataframe tbody tr th {\n",
       "        vertical-align: top;\n",
       "    }\n",
       "\n",
       "    .dataframe thead th {\n",
       "        text-align: right;\n",
       "    }\n",
       "</style>\n",
       "<table border=\"1\" class=\"dataframe\">\n",
       "  <thead>\n",
       "    <tr style=\"text-align: right;\">\n",
       "      <th></th>\n",
       "      <th>Unnamed: 0</th>\n",
       "      <th>car_name</th>\n",
       "      <th>registration_year</th>\n",
       "      <th>insurance_validity</th>\n",
       "      <th>fuel_type</th>\n",
       "      <th>seats</th>\n",
       "      <th>kms_driven</th>\n",
       "      <th>ownsership</th>\n",
       "      <th>transmission</th>\n",
       "      <th>manufacturing_year</th>\n",
       "      <th>mileage(kmpl)</th>\n",
       "      <th>engine(cc)</th>\n",
       "      <th>max_power(bhp)</th>\n",
       "      <th>torque(Nm)</th>\n",
       "      <th>price(in lakhs)</th>\n",
       "    </tr>\n",
       "  </thead>\n",
       "  <tbody>\n",
       "    <tr>\n",
       "      <th>0</th>\n",
       "      <td>0</td>\n",
       "      <td>2017 Mercedes-Benz S-Class S400</td>\n",
       "      <td>Jul-17</td>\n",
       "      <td>Comprehensive</td>\n",
       "      <td>Petrol</td>\n",
       "      <td>5</td>\n",
       "      <td>56000</td>\n",
       "      <td>First Owner</td>\n",
       "      <td>Automatic</td>\n",
       "      <td>2017</td>\n",
       "      <td>7.81</td>\n",
       "      <td>2996.0</td>\n",
       "      <td>2996.0</td>\n",
       "      <td>333.0</td>\n",
       "      <td>63.75</td>\n",
       "    </tr>\n",
       "    <tr>\n",
       "      <th>1</th>\n",
       "      <td>1</td>\n",
       "      <td>2020 Nissan Magnite Turbo CVT XV Premium Opt BSVI</td>\n",
       "      <td>Jan-21</td>\n",
       "      <td>Comprehensive</td>\n",
       "      <td>Petrol</td>\n",
       "      <td>5</td>\n",
       "      <td>30615</td>\n",
       "      <td>First Owner</td>\n",
       "      <td>Automatic</td>\n",
       "      <td>2020</td>\n",
       "      <td>17.40</td>\n",
       "      <td>999.0</td>\n",
       "      <td>999.0</td>\n",
       "      <td>9863.0</td>\n",
       "      <td>8.99</td>\n",
       "    </tr>\n",
       "    <tr>\n",
       "      <th>2</th>\n",
       "      <td>2</td>\n",
       "      <td>2018 BMW X1 sDrive 20d xLine</td>\n",
       "      <td>Sep-18</td>\n",
       "      <td>Comprehensive</td>\n",
       "      <td>Diesel</td>\n",
       "      <td>5</td>\n",
       "      <td>24000</td>\n",
       "      <td>First Owner</td>\n",
       "      <td>Automatic</td>\n",
       "      <td>2018</td>\n",
       "      <td>20.68</td>\n",
       "      <td>1995.0</td>\n",
       "      <td>1995.0</td>\n",
       "      <td>188.0</td>\n",
       "      <td>23.75</td>\n",
       "    </tr>\n",
       "  </tbody>\n",
       "</table>\n",
       "</div>"
      ],
      "text/plain": [
       "   Unnamed: 0                                           car_name  \\\n",
       "0           0                    2017 Mercedes-Benz S-Class S400   \n",
       "1           1  2020 Nissan Magnite Turbo CVT XV Premium Opt BSVI   \n",
       "2           2                       2018 BMW X1 sDrive 20d xLine   \n",
       "\n",
       "  registration_year insurance_validity fuel_type  seats  kms_driven  \\\n",
       "0            Jul-17      Comprehensive    Petrol      5       56000   \n",
       "1            Jan-21      Comprehensive    Petrol      5       30615   \n",
       "2            Sep-18      Comprehensive    Diesel      5       24000   \n",
       "\n",
       "    ownsership transmission manufacturing_year  mileage(kmpl)  engine(cc)  \\\n",
       "0  First Owner    Automatic               2017           7.81      2996.0   \n",
       "1  First Owner    Automatic               2020          17.40       999.0   \n",
       "2  First Owner    Automatic               2018          20.68      1995.0   \n",
       "\n",
       "   max_power(bhp)  torque(Nm)  price(in lakhs)  \n",
       "0          2996.0       333.0            63.75  \n",
       "1           999.0      9863.0             8.99  \n",
       "2          1995.0       188.0            23.75  "
      ]
     },
     "execution_count": 45,
     "metadata": {},
     "output_type": "execute_result"
    }
   ],
   "source": [
    "df.head(3)"
   ]
  },
  {
   "cell_type": "code",
   "execution_count": 46,
   "metadata": {},
   "outputs": [
    {
     "name": "stdout",
     "output_type": "stream",
     "text": [
      "<class 'pandas.core.frame.DataFrame'>\n",
      "RangeIndex: 1553 entries, 0 to 1552\n",
      "Data columns (total 15 columns):\n",
      " #   Column              Non-Null Count  Dtype  \n",
      "---  ------              --------------  -----  \n",
      " 0   Unnamed: 0          1553 non-null   int64  \n",
      " 1   car_name            1553 non-null   object \n",
      " 2   registration_year   1553 non-null   object \n",
      " 3   insurance_validity  1553 non-null   object \n",
      " 4   fuel_type           1553 non-null   object \n",
      " 5   seats               1553 non-null   int64  \n",
      " 6   kms_driven          1553 non-null   int64  \n",
      " 7   ownsership          1553 non-null   object \n",
      " 8   transmission        1553 non-null   object \n",
      " 9   manufacturing_year  1553 non-null   object \n",
      " 10  mileage(kmpl)       1550 non-null   float64\n",
      " 11  engine(cc)          1550 non-null   float64\n",
      " 12  max_power(bhp)      1550 non-null   float64\n",
      " 13  torque(Nm)          1549 non-null   float64\n",
      " 14  price(in lakhs)     1553 non-null   float64\n",
      "dtypes: float64(5), int64(3), object(7)\n",
      "memory usage: 182.1+ KB\n"
     ]
    }
   ],
   "source": [
    "df.info()"
   ]
  },
  {
   "cell_type": "markdown",
   "metadata": {},
   "source": [
    "Based on the previous outputs, we need to first, drop the first column, 'Unnamed', as it is not usefull. Determine the columns with categorical values."
   ]
  },
  {
   "cell_type": "code",
   "execution_count": 47,
   "metadata": {},
   "outputs": [
    {
     "data": {
      "text/html": [
       "<div>\n",
       "<style scoped>\n",
       "    .dataframe tbody tr th:only-of-type {\n",
       "        vertical-align: middle;\n",
       "    }\n",
       "\n",
       "    .dataframe tbody tr th {\n",
       "        vertical-align: top;\n",
       "    }\n",
       "\n",
       "    .dataframe thead th {\n",
       "        text-align: right;\n",
       "    }\n",
       "</style>\n",
       "<table border=\"1\" class=\"dataframe\">\n",
       "  <thead>\n",
       "    <tr style=\"text-align: right;\">\n",
       "      <th></th>\n",
       "      <th>car_name</th>\n",
       "      <th>registration_year</th>\n",
       "      <th>insurance_validity</th>\n",
       "      <th>fuel_type</th>\n",
       "      <th>seats</th>\n",
       "      <th>kms_driven</th>\n",
       "      <th>ownsership</th>\n",
       "      <th>transmission</th>\n",
       "      <th>manufacturing_year</th>\n",
       "      <th>mileage(kmpl)</th>\n",
       "      <th>engine(cc)</th>\n",
       "      <th>max_power(bhp)</th>\n",
       "      <th>torque(Nm)</th>\n",
       "      <th>price(in lakhs)</th>\n",
       "    </tr>\n",
       "  </thead>\n",
       "  <tbody>\n",
       "    <tr>\n",
       "      <th>0</th>\n",
       "      <td>2017 Mercedes-Benz S-Class S400</td>\n",
       "      <td>Jul-17</td>\n",
       "      <td>Comprehensive</td>\n",
       "      <td>Petrol</td>\n",
       "      <td>5</td>\n",
       "      <td>56000</td>\n",
       "      <td>First Owner</td>\n",
       "      <td>Automatic</td>\n",
       "      <td>2017</td>\n",
       "      <td>7.81</td>\n",
       "      <td>2996.0</td>\n",
       "      <td>2996.0</td>\n",
       "      <td>333.0</td>\n",
       "      <td>63.75</td>\n",
       "    </tr>\n",
       "    <tr>\n",
       "      <th>1</th>\n",
       "      <td>2020 Nissan Magnite Turbo CVT XV Premium Opt BSVI</td>\n",
       "      <td>Jan-21</td>\n",
       "      <td>Comprehensive</td>\n",
       "      <td>Petrol</td>\n",
       "      <td>5</td>\n",
       "      <td>30615</td>\n",
       "      <td>First Owner</td>\n",
       "      <td>Automatic</td>\n",
       "      <td>2020</td>\n",
       "      <td>17.40</td>\n",
       "      <td>999.0</td>\n",
       "      <td>999.0</td>\n",
       "      <td>9863.0</td>\n",
       "      <td>8.99</td>\n",
       "    </tr>\n",
       "    <tr>\n",
       "      <th>2</th>\n",
       "      <td>2018 BMW X1 sDrive 20d xLine</td>\n",
       "      <td>Sep-18</td>\n",
       "      <td>Comprehensive</td>\n",
       "      <td>Diesel</td>\n",
       "      <td>5</td>\n",
       "      <td>24000</td>\n",
       "      <td>First Owner</td>\n",
       "      <td>Automatic</td>\n",
       "      <td>2018</td>\n",
       "      <td>20.68</td>\n",
       "      <td>1995.0</td>\n",
       "      <td>1995.0</td>\n",
       "      <td>188.0</td>\n",
       "      <td>23.75</td>\n",
       "    </tr>\n",
       "  </tbody>\n",
       "</table>\n",
       "</div>"
      ],
      "text/plain": [
       "                                            car_name registration_year  \\\n",
       "0                    2017 Mercedes-Benz S-Class S400            Jul-17   \n",
       "1  2020 Nissan Magnite Turbo CVT XV Premium Opt BSVI            Jan-21   \n",
       "2                       2018 BMW X1 sDrive 20d xLine            Sep-18   \n",
       "\n",
       "  insurance_validity fuel_type  seats  kms_driven   ownsership transmission  \\\n",
       "0      Comprehensive    Petrol      5       56000  First Owner    Automatic   \n",
       "1      Comprehensive    Petrol      5       30615  First Owner    Automatic   \n",
       "2      Comprehensive    Diesel      5       24000  First Owner    Automatic   \n",
       "\n",
       "  manufacturing_year  mileage(kmpl)  engine(cc)  max_power(bhp)  torque(Nm)  \\\n",
       "0               2017           7.81      2996.0          2996.0       333.0   \n",
       "1               2020          17.40       999.0           999.0      9863.0   \n",
       "2               2018          20.68      1995.0          1995.0       188.0   \n",
       "\n",
       "   price(in lakhs)  \n",
       "0            63.75  \n",
       "1             8.99  \n",
       "2            23.75  "
      ]
     },
     "execution_count": 47,
     "metadata": {},
     "output_type": "execute_result"
    }
   ],
   "source": [
    "df = df.drop(['Unnamed: 0'], axis=1)\n",
    "df.head(3)"
   ]
  },
  {
   "cell_type": "markdown",
   "metadata": {},
   "source": [
    "Let's look for null values."
   ]
  },
  {
   "cell_type": "code",
   "execution_count": 48,
   "metadata": {},
   "outputs": [
    {
     "name": "stdout",
     "output_type": "stream",
     "text": [
      "torque(Nm)            4\n",
      "mileage(kmpl)         3\n",
      "engine(cc)            3\n",
      "max_power(bhp)        3\n",
      "car_name              0\n",
      "registration_year     0\n",
      "insurance_validity    0\n",
      "fuel_type             0\n",
      "seats                 0\n",
      "kms_driven            0\n",
      "ownsership            0\n",
      "transmission          0\n",
      "manufacturing_year    0\n",
      "price(in lakhs)       0\n",
      "dtype: int64\n",
      "Total number of rows containing missing values is:  4\n"
     ]
    }
   ],
   "source": [
    "print(df.isna().sum().sort_values(ascending=False))\n",
    "print(\"Total number of rows containing missing values is: \", df.isna().any(axis=1).sum())"
   ]
  },
  {
   "cell_type": "markdown",
   "metadata": {},
   "source": [
    "As the number of missing values are less, we can easily drop the rows containg missing values."
   ]
  },
  {
   "cell_type": "code",
   "execution_count": 49,
   "metadata": {},
   "outputs": [
    {
     "name": "stdout",
     "output_type": "stream",
     "text": [
      "car_name              0\n",
      "registration_year     0\n",
      "insurance_validity    0\n",
      "fuel_type             0\n",
      "seats                 0\n",
      "kms_driven            0\n",
      "ownsership            0\n",
      "transmission          0\n",
      "manufacturing_year    0\n",
      "mileage(kmpl)         0\n",
      "engine(cc)            0\n",
      "max_power(bhp)        0\n",
      "torque(Nm)            0\n",
      "price(in lakhs)       0\n",
      "dtype: int64\n",
      "Total number of rows containing missing values is:  0\n"
     ]
    }
   ],
   "source": [
    "df.dropna(inplace=True)\n",
    "print(df.isna().sum().sort_values(ascending=False))\n",
    "print(\"Total number of rows containing missing values is: \", df.isna().any(axis=1).sum())"
   ]
  },
  {
   "cell_type": "code",
   "execution_count": 50,
   "metadata": {},
   "outputs": [
    {
     "name": "stdout",
     "output_type": "stream",
     "text": [
      "<class 'pandas.core.frame.DataFrame'>\n",
      "Index: 1549 entries, 0 to 1552\n",
      "Data columns (total 14 columns):\n",
      " #   Column              Non-Null Count  Dtype  \n",
      "---  ------              --------------  -----  \n",
      " 0   car_name            1549 non-null   object \n",
      " 1   registration_year   1549 non-null   object \n",
      " 2   insurance_validity  1549 non-null   object \n",
      " 3   fuel_type           1549 non-null   object \n",
      " 4   seats               1549 non-null   int64  \n",
      " 5   kms_driven          1549 non-null   int64  \n",
      " 6   ownsership          1549 non-null   object \n",
      " 7   transmission        1549 non-null   object \n",
      " 8   manufacturing_year  1549 non-null   object \n",
      " 9   mileage(kmpl)       1549 non-null   float64\n",
      " 10  engine(cc)          1549 non-null   float64\n",
      " 11  max_power(bhp)      1549 non-null   float64\n",
      " 12  torque(Nm)          1549 non-null   float64\n",
      " 13  price(in lakhs)     1549 non-null   float64\n",
      "dtypes: float64(5), int64(2), object(7)\n",
      "memory usage: 181.5+ KB\n"
     ]
    },
    {
     "data": {
      "text/html": [
       "<div>\n",
       "<style scoped>\n",
       "    .dataframe tbody tr th:only-of-type {\n",
       "        vertical-align: middle;\n",
       "    }\n",
       "\n",
       "    .dataframe tbody tr th {\n",
       "        vertical-align: top;\n",
       "    }\n",
       "\n",
       "    .dataframe thead th {\n",
       "        text-align: right;\n",
       "    }\n",
       "</style>\n",
       "<table border=\"1\" class=\"dataframe\">\n",
       "  <thead>\n",
       "    <tr style=\"text-align: right;\">\n",
       "      <th></th>\n",
       "      <th>car_name</th>\n",
       "      <th>registration_year</th>\n",
       "      <th>insurance_validity</th>\n",
       "      <th>fuel_type</th>\n",
       "      <th>seats</th>\n",
       "      <th>kms_driven</th>\n",
       "      <th>ownsership</th>\n",
       "      <th>transmission</th>\n",
       "      <th>manufacturing_year</th>\n",
       "      <th>mileage(kmpl)</th>\n",
       "      <th>engine(cc)</th>\n",
       "      <th>max_power(bhp)</th>\n",
       "      <th>torque(Nm)</th>\n",
       "      <th>price(in lakhs)</th>\n",
       "    </tr>\n",
       "  </thead>\n",
       "  <tbody>\n",
       "    <tr>\n",
       "      <th>0</th>\n",
       "      <td>2017 Mercedes-Benz S-Class S400</td>\n",
       "      <td>Jul-17</td>\n",
       "      <td>Comprehensive</td>\n",
       "      <td>Petrol</td>\n",
       "      <td>5</td>\n",
       "      <td>56000</td>\n",
       "      <td>First Owner</td>\n",
       "      <td>Automatic</td>\n",
       "      <td>2017</td>\n",
       "      <td>7.81</td>\n",
       "      <td>2996.0</td>\n",
       "      <td>2996.0</td>\n",
       "      <td>333.0</td>\n",
       "      <td>63.75</td>\n",
       "    </tr>\n",
       "    <tr>\n",
       "      <th>1</th>\n",
       "      <td>2020 Nissan Magnite Turbo CVT XV Premium Opt BSVI</td>\n",
       "      <td>Jan-21</td>\n",
       "      <td>Comprehensive</td>\n",
       "      <td>Petrol</td>\n",
       "      <td>5</td>\n",
       "      <td>30615</td>\n",
       "      <td>First Owner</td>\n",
       "      <td>Automatic</td>\n",
       "      <td>2020</td>\n",
       "      <td>17.40</td>\n",
       "      <td>999.0</td>\n",
       "      <td>999.0</td>\n",
       "      <td>9863.0</td>\n",
       "      <td>8.99</td>\n",
       "    </tr>\n",
       "    <tr>\n",
       "      <th>2</th>\n",
       "      <td>2018 BMW X1 sDrive 20d xLine</td>\n",
       "      <td>Sep-18</td>\n",
       "      <td>Comprehensive</td>\n",
       "      <td>Diesel</td>\n",
       "      <td>5</td>\n",
       "      <td>24000</td>\n",
       "      <td>First Owner</td>\n",
       "      <td>Automatic</td>\n",
       "      <td>2018</td>\n",
       "      <td>20.68</td>\n",
       "      <td>1995.0</td>\n",
       "      <td>1995.0</td>\n",
       "      <td>188.0</td>\n",
       "      <td>23.75</td>\n",
       "    </tr>\n",
       "    <tr>\n",
       "      <th>3</th>\n",
       "      <td>2019 Kia Seltos GTX Plus</td>\n",
       "      <td>Dec-19</td>\n",
       "      <td>Comprehensive</td>\n",
       "      <td>Petrol</td>\n",
       "      <td>5</td>\n",
       "      <td>18378</td>\n",
       "      <td>First Owner</td>\n",
       "      <td>Manual</td>\n",
       "      <td>2019</td>\n",
       "      <td>16.50</td>\n",
       "      <td>1353.0</td>\n",
       "      <td>1353.0</td>\n",
       "      <td>13808.0</td>\n",
       "      <td>13.56</td>\n",
       "    </tr>\n",
       "    <tr>\n",
       "      <th>4</th>\n",
       "      <td>2019 Skoda Superb LK 1.8 TSI AT</td>\n",
       "      <td>Aug-19</td>\n",
       "      <td>Comprehensive</td>\n",
       "      <td>Petrol</td>\n",
       "      <td>5</td>\n",
       "      <td>44900</td>\n",
       "      <td>First Owner</td>\n",
       "      <td>Automatic</td>\n",
       "      <td>2019</td>\n",
       "      <td>14.67</td>\n",
       "      <td>1798.0</td>\n",
       "      <td>1798.0</td>\n",
       "      <td>17746.0</td>\n",
       "      <td>24.00</td>\n",
       "    </tr>\n",
       "  </tbody>\n",
       "</table>\n",
       "</div>"
      ],
      "text/plain": [
       "                                            car_name registration_year  \\\n",
       "0                    2017 Mercedes-Benz S-Class S400            Jul-17   \n",
       "1  2020 Nissan Magnite Turbo CVT XV Premium Opt BSVI            Jan-21   \n",
       "2                       2018 BMW X1 sDrive 20d xLine            Sep-18   \n",
       "3                           2019 Kia Seltos GTX Plus            Dec-19   \n",
       "4                    2019 Skoda Superb LK 1.8 TSI AT            Aug-19   \n",
       "\n",
       "  insurance_validity fuel_type  seats  kms_driven   ownsership transmission  \\\n",
       "0      Comprehensive    Petrol      5       56000  First Owner    Automatic   \n",
       "1      Comprehensive    Petrol      5       30615  First Owner    Automatic   \n",
       "2      Comprehensive    Diesel      5       24000  First Owner    Automatic   \n",
       "3      Comprehensive    Petrol      5       18378  First Owner       Manual   \n",
       "4      Comprehensive    Petrol      5       44900  First Owner    Automatic   \n",
       "\n",
       "  manufacturing_year  mileage(kmpl)  engine(cc)  max_power(bhp)  torque(Nm)  \\\n",
       "0               2017           7.81      2996.0          2996.0       333.0   \n",
       "1               2020          17.40       999.0           999.0      9863.0   \n",
       "2               2018          20.68      1995.0          1995.0       188.0   \n",
       "3               2019          16.50      1353.0          1353.0     13808.0   \n",
       "4               2019          14.67      1798.0          1798.0     17746.0   \n",
       "\n",
       "   price(in lakhs)  \n",
       "0            63.75  \n",
       "1             8.99  \n",
       "2            23.75  \n",
       "3            13.56  \n",
       "4            24.00  "
      ]
     },
     "execution_count": 50,
     "metadata": {},
     "output_type": "execute_result"
    }
   ],
   "source": [
    "df.info(); df.head()"
   ]
  },
  {
   "cell_type": "markdown",
   "metadata": {},
   "source": [
    "According to these outputs, we have several columns that contains values that are categorical. Now we need to take care of these categorical data so that in traing step we don't encouter problems. \n",
    "\n",
    "The following columns contain categorical values: ['car_name', 'registration_year', 'insurance_validity', 'fuel_type', 'ownership', 'transmission', 'manufacturing_year']\n",
    "\n",
    "Among this list, the 'manufacturing_year' column can be easily changed to the numerical value. For the remaining, we choose 'One Hot Encodding' strategy to deal with."
   ]
  },
  {
   "cell_type": "code",
   "execution_count": 51,
   "metadata": {},
   "outputs": [
    {
     "data": {
      "text/plain": [
       "array(['2017', '2020', '2018', '2019', '2015', '2021', '2014', '2022',\n",
       "       '2010', '2011', '2023', '2016', '2009', '2013', 'Power Steering',\n",
       "       '2012', 'Power Windows Front', 'Air Conditioner', '2007'],\n",
       "      dtype=object)"
      ]
     },
     "execution_count": 51,
     "metadata": {},
     "output_type": "execute_result"
    }
   ],
   "source": [
    "df['manufacturing_year'].unique()"
   ]
  },
  {
   "cell_type": "markdown",
   "metadata": {},
   "source": [
    "As the output suggest, there are some dirty data in this column, we delete these data and then choose a random year for that."
   ]
  },
  {
   "cell_type": "code",
   "execution_count": 52,
   "metadata": {},
   "outputs": [
    {
     "data": {
      "text/plain": [
       "array(['2017', '2020', '2018', '2019', '2015', '2021', '2014', '2022',\n",
       "       '2010', '2011', '2023', '2016', '2009', '2013', 2015, '2012',\n",
       "       '2007'], dtype=object)"
      ]
     },
     "execution_count": 52,
     "metadata": {},
     "output_type": "execute_result"
    }
   ],
   "source": [
    "default_year = 2015\n",
    "df['manufacturing_year'] = df['manufacturing_year'].apply(lambda x: default_year if not x.isdigit() else x)\n",
    "df['manufacturing_year'].unique()"
   ]
  },
  {
   "cell_type": "markdown",
   "metadata": {},
   "source": [
    "Now that we have a homogenous data in the column, we convert it to int type."
   ]
  },
  {
   "cell_type": "code",
   "execution_count": 53,
   "metadata": {},
   "outputs": [
    {
     "name": "stdout",
     "output_type": "stream",
     "text": [
      "<class 'pandas.core.series.Series'>\n",
      "Index: 1549 entries, 0 to 1552\n",
      "Series name: manufacturing_year\n",
      "Non-Null Count  Dtype\n",
      "--------------  -----\n",
      "1549 non-null   int64\n",
      "dtypes: int64(1)\n",
      "memory usage: 24.2 KB\n"
     ]
    }
   ],
   "source": [
    "df['manufacturing_year'] = df['manufacturing_year'].astype(int)\n",
    "df['manufacturing_year'].info()"
   ]
  },
  {
   "cell_type": "markdown",
   "metadata": {},
   "source": [
    "Now there are other categorical columns: ['car_name', \n",
    "'registration_year', \n",
    "'insurance_validity', \n",
    "'fuel_type', \n",
    "'ownership', '\n",
    "transmission'\n",
    "]\n",
    "\n",
    "that we need to take care of. Let's start with the first one, the 'car_name'.\n",
    "    "
   ]
  },
  {
   "cell_type": "code",
   "execution_count": 54,
   "metadata": {},
   "outputs": [
    {
     "data": {
      "text/plain": [
       "923"
      ]
     },
     "execution_count": 54,
     "metadata": {},
     "output_type": "execute_result"
    }
   ],
   "source": [
    "len(df['car_name'].unique())\n"
   ]
  },
  {
   "cell_type": "markdown",
   "metadata": {},
   "source": [
    "well, as the number of unique value for this columns is high, this columns' values cannot affect the model output too much. Hence, for simplicity, we can either easily remove this column from the data that we wish to train, or we use a usefull method for the transformation. For this category we use the Frequency Encoding method. \n",
    "\n",
    "It Replace each category with the frequency of its occurrence in the dataset. This method preserves the information about the frequency of each category but avoids the high dimensionality problem."
   ]
  },
  {
   "cell_type": "code",
   "execution_count": 55,
   "metadata": {},
   "outputs": [
    {
     "name": "stdout",
     "output_type": "stream",
     "text": [
      "<class 'pandas.core.frame.DataFrame'>\n",
      "Index: 1549 entries, 0 to 1552\n",
      "Data columns (total 15 columns):\n",
      " #   Column              Non-Null Count  Dtype  \n",
      "---  ------              --------------  -----  \n",
      " 0   car_name            1549 non-null   object \n",
      " 1   registration_year   1549 non-null   object \n",
      " 2   insurance_validity  1549 non-null   object \n",
      " 3   fuel_type           1549 non-null   object \n",
      " 4   seats               1549 non-null   int64  \n",
      " 5   kms_driven          1549 non-null   int64  \n",
      " 6   ownsership          1549 non-null   object \n",
      " 7   transmission        1549 non-null   object \n",
      " 8   manufacturing_year  1549 non-null   int64  \n",
      " 9   mileage(kmpl)       1549 non-null   float64\n",
      " 10  engine(cc)          1549 non-null   float64\n",
      " 11  max_power(bhp)      1549 non-null   float64\n",
      " 12  torque(Nm)          1549 non-null   float64\n",
      " 13  price(in lakhs)     1549 non-null   float64\n",
      " 14  car_name_enc        1549 non-null   float64\n",
      "dtypes: float64(6), int64(3), object(6)\n",
      "memory usage: 193.6+ KB\n"
     ]
    }
   ],
   "source": [
    "frequency_map = df['car_name'].value_counts(normalize=True)\n",
    "\n",
    "# Map frequencies to categories\n",
    "df['car_name_enc'] = df['car_name'].map(frequency_map)\n",
    "\n",
    "df.info()"
   ]
  },
  {
   "cell_type": "code",
   "execution_count": 56,
   "metadata": {},
   "outputs": [
    {
     "data": {
      "text/plain": [
       "11"
      ]
     },
     "execution_count": 56,
     "metadata": {},
     "output_type": "execute_result"
    }
   ],
   "source": [
    "df['car_name_enc'].nunique()"
   ]
  },
  {
   "cell_type": "markdown",
   "metadata": {},
   "source": [
    "Now, we can remove the car_name column as we have its encoded column. We do the drops at the end of columns' tranformations. Let's take a look at the 'registration_year' column."
   ]
  },
  {
   "cell_type": "code",
   "execution_count": 57,
   "metadata": {},
   "outputs": [
    {
     "name": "stdout",
     "output_type": "stream",
     "text": [
      "The number of unique values for the 'registration_year' column is:  176\n",
      "The number of unique values for the 'registration_year_enc' column is:  29 \n",
      "\n",
      "\n",
      "<class 'pandas.core.frame.DataFrame'>\n",
      "Index: 1549 entries, 0 to 1552\n",
      "Data columns (total 16 columns):\n",
      " #   Column                 Non-Null Count  Dtype  \n",
      "---  ------                 --------------  -----  \n",
      " 0   car_name               1549 non-null   object \n",
      " 1   registration_year      1549 non-null   object \n",
      " 2   insurance_validity     1549 non-null   object \n",
      " 3   fuel_type              1549 non-null   object \n",
      " 4   seats                  1549 non-null   int64  \n",
      " 5   kms_driven             1549 non-null   int64  \n",
      " 6   ownsership             1549 non-null   object \n",
      " 7   transmission           1549 non-null   object \n",
      " 8   manufacturing_year     1549 non-null   int64  \n",
      " 9   mileage(kmpl)          1549 non-null   float64\n",
      " 10  engine(cc)             1549 non-null   float64\n",
      " 11  max_power(bhp)         1549 non-null   float64\n",
      " 12  torque(Nm)             1549 non-null   float64\n",
      " 13  price(in lakhs)        1549 non-null   float64\n",
      " 14  car_name_enc           1549 non-null   float64\n",
      " 15  registration_year_enc  1549 non-null   float64\n",
      "dtypes: float64(7), int64(3), object(6)\n",
      "memory usage: 205.7+ KB\n"
     ]
    }
   ],
   "source": [
    "print(\"The number of unique values for the 'registration_year' column is: \", df['registration_year'].nunique())\n",
    "\n",
    "frequency_map = df['registration_year'].value_counts(normalize=True)\n",
    "# Map frequencies to categories\n",
    "df['registration_year_enc'] = df['registration_year'].map(frequency_map)\n",
    "\n",
    "print(\"The number of unique values for the 'registration_year_enc' column is: \", df['registration_year_enc'].nunique(), '\\n\\n')\n",
    "\n",
    "df.info()"
   ]
  },
  {
   "cell_type": "markdown",
   "metadata": {},
   "source": [
    "We continue this method for the remaining categorical columns."
   ]
  },
  {
   "cell_type": "code",
   "execution_count": 58,
   "metadata": {},
   "outputs": [
    {
     "name": "stdout",
     "output_type": "stream",
     "text": [
      "The number of unique values for the 'insurance_validity' column is:  6\n",
      "The number of unique values for the 'insurance_validity_enc' column is:  5 \n",
      "\n",
      "\n",
      "<class 'pandas.core.frame.DataFrame'>\n",
      "Index: 1549 entries, 0 to 1552\n",
      "Data columns (total 17 columns):\n",
      " #   Column                  Non-Null Count  Dtype  \n",
      "---  ------                  --------------  -----  \n",
      " 0   car_name                1549 non-null   object \n",
      " 1   registration_year       1549 non-null   object \n",
      " 2   insurance_validity      1549 non-null   object \n",
      " 3   fuel_type               1549 non-null   object \n",
      " 4   seats                   1549 non-null   int64  \n",
      " 5   kms_driven              1549 non-null   int64  \n",
      " 6   ownsership              1549 non-null   object \n",
      " 7   transmission            1549 non-null   object \n",
      " 8   manufacturing_year      1549 non-null   int64  \n",
      " 9   mileage(kmpl)           1549 non-null   float64\n",
      " 10  engine(cc)              1549 non-null   float64\n",
      " 11  max_power(bhp)          1549 non-null   float64\n",
      " 12  torque(Nm)              1549 non-null   float64\n",
      " 13  price(in lakhs)         1549 non-null   float64\n",
      " 14  car_name_enc            1549 non-null   float64\n",
      " 15  registration_year_enc   1549 non-null   float64\n",
      " 16  insurance_validity_enc  1549 non-null   float64\n",
      "dtypes: float64(8), int64(3), object(6)\n",
      "memory usage: 217.8+ KB\n"
     ]
    }
   ],
   "source": [
    "print(\"The number of unique values for the 'insurance_validity' column is: \", df['insurance_validity'].nunique())\n",
    "\n",
    "frequency_map = df['insurance_validity'].value_counts(normalize=True)\n",
    "# Map frequencies to categories\n",
    "df['insurance_validity_enc'] = df['insurance_validity'].map(frequency_map)\n",
    "\n",
    "print(\"The number of unique values for the 'insurance_validity_enc' column is: \", df['insurance_validity_enc'].nunique(), '\\n\\n')\n",
    "\n",
    "df.info()"
   ]
  },
  {
   "cell_type": "code",
   "execution_count": 59,
   "metadata": {},
   "outputs": [
    {
     "name": "stdout",
     "output_type": "stream",
     "text": [
      "The number of unique values for the 'fuel_type' column is:  4\n",
      "The number of unique values for the 'fuel_type_enc' column is:  4 \n",
      "\n",
      "\n",
      "<class 'pandas.core.frame.DataFrame'>\n",
      "Index: 1549 entries, 0 to 1552\n",
      "Data columns (total 18 columns):\n",
      " #   Column                  Non-Null Count  Dtype  \n",
      "---  ------                  --------------  -----  \n",
      " 0   car_name                1549 non-null   object \n",
      " 1   registration_year       1549 non-null   object \n",
      " 2   insurance_validity      1549 non-null   object \n",
      " 3   fuel_type               1549 non-null   object \n",
      " 4   seats                   1549 non-null   int64  \n",
      " 5   kms_driven              1549 non-null   int64  \n",
      " 6   ownsership              1549 non-null   object \n",
      " 7   transmission            1549 non-null   object \n",
      " 8   manufacturing_year      1549 non-null   int64  \n",
      " 9   mileage(kmpl)           1549 non-null   float64\n",
      " 10  engine(cc)              1549 non-null   float64\n",
      " 11  max_power(bhp)          1549 non-null   float64\n",
      " 12  torque(Nm)              1549 non-null   float64\n",
      " 13  price(in lakhs)         1549 non-null   float64\n",
      " 14  car_name_enc            1549 non-null   float64\n",
      " 15  registration_year_enc   1549 non-null   float64\n",
      " 16  insurance_validity_enc  1549 non-null   float64\n",
      " 17  fuel_type_enc           1549 non-null   float64\n",
      "dtypes: float64(9), int64(3), object(6)\n",
      "memory usage: 229.9+ KB\n"
     ]
    }
   ],
   "source": [
    "print(\"The number of unique values for the 'fuel_type' column is: \", df['fuel_type'].nunique())\n",
    "\n",
    "frequency_map = df['fuel_type'].value_counts(normalize=True)\n",
    "# Map frequencies to categories\n",
    "df['fuel_type_enc'] = df['fuel_type'].map(frequency_map)\n",
    "\n",
    "print(\"The number of unique values for the 'fuel_type_enc' column is: \", df['fuel_type_enc'].nunique(), '\\n\\n')\n",
    "\n",
    "df.info()"
   ]
  },
  {
   "cell_type": "code",
   "execution_count": 60,
   "metadata": {},
   "outputs": [
    {
     "name": "stdout",
     "output_type": "stream",
     "text": [
      "The number of unique values for the 'ownsership' column is:  22\n",
      "The number of unique values for the 'ownsership_enc' column is:  7 \n",
      "\n",
      "\n",
      "<class 'pandas.core.frame.DataFrame'>\n",
      "Index: 1549 entries, 0 to 1552\n",
      "Data columns (total 19 columns):\n",
      " #   Column                  Non-Null Count  Dtype  \n",
      "---  ------                  --------------  -----  \n",
      " 0   car_name                1549 non-null   object \n",
      " 1   registration_year       1549 non-null   object \n",
      " 2   insurance_validity      1549 non-null   object \n",
      " 3   fuel_type               1549 non-null   object \n",
      " 4   seats                   1549 non-null   int64  \n",
      " 5   kms_driven              1549 non-null   int64  \n",
      " 6   ownsership              1549 non-null   object \n",
      " 7   transmission            1549 non-null   object \n",
      " 8   manufacturing_year      1549 non-null   int64  \n",
      " 9   mileage(kmpl)           1549 non-null   float64\n",
      " 10  engine(cc)              1549 non-null   float64\n",
      " 11  max_power(bhp)          1549 non-null   float64\n",
      " 12  torque(Nm)              1549 non-null   float64\n",
      " 13  price(in lakhs)         1549 non-null   float64\n",
      " 14  car_name_enc            1549 non-null   float64\n",
      " 15  registration_year_enc   1549 non-null   float64\n",
      " 16  insurance_validity_enc  1549 non-null   float64\n",
      " 17  fuel_type_enc           1549 non-null   float64\n",
      " 18  ownsership_enc          1549 non-null   float64\n",
      "dtypes: float64(10), int64(3), object(6)\n",
      "memory usage: 242.0+ KB\n"
     ]
    }
   ],
   "source": [
    "print(\"The number of unique values for the 'ownsership' column is: \", df['ownsership'].nunique())\n",
    "\n",
    "frequency_map = df['ownsership'].value_counts(normalize=True)\n",
    "# Map frequencies to categories\n",
    "df['ownsership_enc'] = df['ownsership'].map(frequency_map)\n",
    "\n",
    "print(\"The number of unique values for the 'ownsership_enc' column is: \", df['ownsership_enc'].nunique(), '\\n\\n')\n",
    "\n",
    "df.info()"
   ]
  },
  {
   "cell_type": "code",
   "execution_count": 61,
   "metadata": {},
   "outputs": [
    {
     "name": "stdout",
     "output_type": "stream",
     "text": [
      "The number of unique values for the 'transmission' column is:  13\n",
      "The number of unique values for the 'transmission_enc' column is:  7 \n",
      "\n",
      "\n",
      "<class 'pandas.core.frame.DataFrame'>\n",
      "Index: 1549 entries, 0 to 1552\n",
      "Data columns (total 20 columns):\n",
      " #   Column                  Non-Null Count  Dtype  \n",
      "---  ------                  --------------  -----  \n",
      " 0   car_name                1549 non-null   object \n",
      " 1   registration_year       1549 non-null   object \n",
      " 2   insurance_validity      1549 non-null   object \n",
      " 3   fuel_type               1549 non-null   object \n",
      " 4   seats                   1549 non-null   int64  \n",
      " 5   kms_driven              1549 non-null   int64  \n",
      " 6   ownsership              1549 non-null   object \n",
      " 7   transmission            1549 non-null   object \n",
      " 8   manufacturing_year      1549 non-null   int64  \n",
      " 9   mileage(kmpl)           1549 non-null   float64\n",
      " 10  engine(cc)              1549 non-null   float64\n",
      " 11  max_power(bhp)          1549 non-null   float64\n",
      " 12  torque(Nm)              1549 non-null   float64\n",
      " 13  price(in lakhs)         1549 non-null   float64\n",
      " 14  car_name_enc            1549 non-null   float64\n",
      " 15  registration_year_enc   1549 non-null   float64\n",
      " 16  insurance_validity_enc  1549 non-null   float64\n",
      " 17  fuel_type_enc           1549 non-null   float64\n",
      " 18  ownsership_enc          1549 non-null   float64\n",
      " 19  transmission_enc        1549 non-null   float64\n",
      "dtypes: float64(11), int64(3), object(6)\n",
      "memory usage: 254.1+ KB\n"
     ]
    }
   ],
   "source": [
    "print(\"The number of unique values for the 'transmission' column is: \", df['transmission'].nunique())\n",
    "\n",
    "frequency_map = df['transmission'].value_counts(normalize=True)\n",
    "# Map frequencies to categories\n",
    "df['transmission_enc'] = df['transmission'].map(frequency_map)\n",
    "\n",
    "print(\"The number of unique values for the 'transmission_enc' column is: \", df['transmission_enc'].nunique(), '\\n\\n')\n",
    "\n",
    "df.info()"
   ]
  },
  {
   "cell_type": "markdown",
   "metadata": {},
   "source": [
    "We the 'Frequency Encoding' method, we have not only remove the large unique values, but also we have transformed the categorical values to numerical values rangning between 0 and 1. \n",
    "\n",
    "Now, firstly, let's drop the categorical columns as we don't need them anymore and then continue toward the second step."
   ]
  },
  {
   "cell_type": "code",
   "execution_count": 62,
   "metadata": {},
   "outputs": [
    {
     "name": "stdout",
     "output_type": "stream",
     "text": [
      "<class 'pandas.core.frame.DataFrame'>\n",
      "Index: 1549 entries, 0 to 1552\n",
      "Data columns (total 14 columns):\n",
      " #   Column                  Non-Null Count  Dtype  \n",
      "---  ------                  --------------  -----  \n",
      " 0   seats                   1549 non-null   int64  \n",
      " 1   kms_driven              1549 non-null   int64  \n",
      " 2   manufacturing_year      1549 non-null   int64  \n",
      " 3   mileage(kmpl)           1549 non-null   float64\n",
      " 4   engine(cc)              1549 non-null   float64\n",
      " 5   max_power(bhp)          1549 non-null   float64\n",
      " 6   torque(Nm)              1549 non-null   float64\n",
      " 7   price(in lakhs)         1549 non-null   float64\n",
      " 8   car_name_enc            1549 non-null   float64\n",
      " 9   registration_year_enc   1549 non-null   float64\n",
      " 10  insurance_validity_enc  1549 non-null   float64\n",
      " 11  fuel_type_enc           1549 non-null   float64\n",
      " 12  ownsership_enc          1549 non-null   float64\n",
      " 13  transmission_enc        1549 non-null   float64\n",
      "dtypes: float64(11), int64(3)\n",
      "memory usage: 181.5 KB\n"
     ]
    }
   ],
   "source": [
    "df = df.drop(['car_name', 'registration_year', 'insurance_validity', 'fuel_type', 'ownsership', 'transmission'], axis=1)\n",
    "df.info()"
   ]
  },
  {
   "cell_type": "markdown",
   "metadata": {},
   "source": [
    "Having a normalized values is important. So in the next step we will first explore our data visually and then we decide whether the data needs further pre-processing or not."
   ]
  },
  {
   "cell_type": "markdown",
   "metadata": {},
   "source": [
    "## Step 2 - Data Visualization"
   ]
  },
  {
   "cell_type": "code",
   "execution_count": 64,
   "metadata": {},
   "outputs": [],
   "source": [
    "import matplotlib.pyplot as plt\n",
    "import seaborn as sns"
   ]
  },
  {
   "cell_type": "code",
   "execution_count": 71,
   "metadata": {},
   "outputs": [
    {
     "data": {
      "image/png": "[encoded data removed]",
      "text/plain": [
       "<Figure size 800x500 with 1 Axes>"
      ]
     },
     "metadata": {},
     "output_type": "display_data"
    }
   ],
   "source": [
    "plt.figure(figsize=(8, 5))\n",
    "sns.countplot(data=df.iloc[:10], x='kms_driven', palette='pastel', hue='kms_driven', legend=False)\n",
    "plt.xlabel('kms_driven')\n",
    "plt.ylabel('Count')\n",
    "plt.title('Count Plot of Categories')\n",
    "plt.show()"
   ]
  },
  {
   "cell_type": "code",
   "execution_count": null,
   "metadata": {},
   "outputs": [],
   "source": []
  },
  {
   "cell_type": "code",
   "execution_count": null,
   "metadata": {},
   "outputs": [],
   "source": []
  }
 ],
 "metadata": {
  "kernelspec": {
   "display_name": "tsenv",
   "language": "python",
   "name": "python3"
  },
  "language_info": {
   "codemirror_mode": {
    "name": "ipython",
    "version": 3
   },
   "file_extension": ".py",
   "mimetype": "text/x-python",
   "name": "python",
   "nbconvert_exporter": "python",
   "pygments_lexer": "ipython3",
   "version": "3.11.7"
  }
 },
 "nbformat": 4,
 "nbformat_minor": 2
}
