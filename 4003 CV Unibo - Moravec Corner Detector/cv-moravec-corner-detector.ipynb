{
 "cells": [
  {
   "cell_type": "markdown",
   "id": "e546b7b0",
   "metadata": {
    "papermill": {
     "duration": 0.004185,
     "end_time": "2024-04-25T05:34:08.916328",
     "exception": false,
     "start_time": "2024-04-25T05:34:08.912143",
     "status": "completed"
    },
    "tags": []
   },
   "source": [
    "# Moravec - The Corner Detector\n",
    "`\"Moravec\"` typically refers to the Moravec corner detector, which is a method used to detect corners or interest points in digital images. It was introduced by Robert Moravec in 1980.\n",
    "\n",
    "The Moravec corner detector works by comparing the intensity variations in different directions around a pixel. Corners are identified as locations where the intensity changes significantly in all directions. This method is based on the assumption that corners have high intensity changes in all directions, while edges have high intensity changes in only one direction.\n",
    "\n",
    "Moravec corner detection is a relatively simple algorithm and can be computationally efficient, making it suitable for real-time applications. However, it may not always perform well under various conditions such as noise or texture."
   ]
  },
  {
   "cell_type": "markdown",
   "id": "9c3417a1",
   "metadata": {
    "papermill": {
     "duration": 0.00353,
     "end_time": "2024-04-25T05:34:08.923836",
     "exception": false,
     "start_time": "2024-04-25T05:34:08.920306",
     "status": "completed"
    },
    "tags": []
   },
   "source": [
    "- Import Files"
   ]
  },
  {
   "cell_type": "code",
   "execution_count": 1,
   "id": "4c7846ef",
   "metadata": {
    "execution": {
     "iopub.execute_input": "2024-04-25T05:34:08.933456Z",
     "iopub.status.busy": "2024-04-25T05:34:08.932958Z",
     "iopub.status.idle": "2024-04-25T05:34:09.944596Z",
     "shell.execute_reply": "2024-04-25T05:34:09.943311Z"
    },
    "papermill": {
     "duration": 1.019679,
     "end_time": "2024-04-25T05:34:09.947379",
     "exception": false,
     "start_time": "2024-04-25T05:34:08.927700",
     "status": "completed"
    },
    "tags": []
   },
   "outputs": [],
   "source": [
    "import os\n",
    "import skimage\n",
    "import numpy as np\n",
    "import matplotlib.pyplot as plt\n",
    "import cv2\n",
    "from skimage import io"
   ]
  },
  {
   "cell_type": "markdown",
   "id": "bf905786",
   "metadata": {
    "papermill": {
     "duration": 0.003539,
     "end_time": "2024-04-25T05:34:09.954812",
     "exception": false,
     "start_time": "2024-04-25T05:34:09.951273",
     "status": "completed"
    },
    "tags": []
   },
   "source": [
    "- Input Files"
   ]
  },
  {
   "cell_type": "code",
   "execution_count": 2,
   "id": "f103088a",
   "metadata": {
    "execution": {
     "iopub.execute_input": "2024-04-25T05:34:09.963993Z",
     "iopub.status.busy": "2024-04-25T05:34:09.963451Z",
     "iopub.status.idle": "2024-04-25T05:34:09.969368Z",
     "shell.execute_reply": "2024-04-25T05:34:09.968152Z"
    },
    "papermill": {
     "duration": 0.014077,
     "end_time": "2024-04-25T05:34:09.972490",
     "exception": false,
     "start_time": "2024-04-25T05:34:09.958413",
     "status": "completed"
    },
    "tags": []
   },
   "outputs": [],
   "source": [
    "# Sample image of a white square\n",
    "img = np.zeros((100,100))\n",
    "img[25:75,25:75] += 255\n",
    "#img = cv2.imread(\"sample.jpg\", cv2.IMREAD_GRAYSCALE)"
   ]
  },
  {
   "cell_type": "markdown",
   "id": "b52e0a3c",
   "metadata": {
    "papermill": {
     "duration": 0.0034,
     "end_time": "2024-04-25T05:34:09.980215",
     "exception": false,
     "start_time": "2024-04-25T05:34:09.976815",
     "status": "completed"
    },
    "tags": []
   },
   "source": [
    "**Algorithm**\n",
    "Steps:\n",
    "\n",
    "1. **Initialize Cornerness Matrix**: The algorithm begins by creating an empty matrix called `corners` with the same shape as the input image `img`. This matrix will store the cornerness measure for each pixel.\n",
    "\n",
    "2. **Select Patch Size**: The variable `w` determines the size of the patch around each pixel used to compute the cornerness measure. The patch size is defined as twice `w` plus one, so a value of `1` corresponds to a 3x3 patch, `3` corresponds to a 7x7 patch, and so on.\n",
    "\n",
    "3. **Iterate Over Image**: Two nested loops iterate over each pixel in the image, except for a border of width `w` around the image edges. This ensures that there are enough neighboring pixels to form the patches.\n",
    "\n",
    "4. **Compute Cornerness for Each Pixel**: For each pixel, a patch centered around it is extracted from the input image. This patch is referred to as the \"central patch\". Then, the algorithm considers each of the 8 neighboring pixels around the current pixel.\n",
    "\n",
    "5. **Compute Cornerness Function**: For each neighboring pixel, a patch is extracted from the image, referred to as the \"running patch\". The cornerness measure is computed as the sum of squared intensity differences between the central patch and each running patch.\n",
    "\n",
    "6. **Minimum Cornerness Value**: Among the computed cornerness values for the neighboring pixels, the algorithm selects the minimum value (`final_c`).\n",
    "\n",
    "7. **Update Cornerness Image**: The minimum cornerness value (`final_c`) is assigned to the corresponding pixel in the `corners` matrix.\n",
    "\n",
    "8. **Simple Thresholding**: After computing the cornerness for all pixels, a simple thresholding step is performed to filter out weak corners. A threshold value (`th`) is computed based on the mean and standard deviation of the cornerness values. Pixels with cornerness values above this threshold are considered corners and set to `True` in the `corners_filtered` matrix.\n",
    "\n",
    "9. **Non-Maximum Suppression (NMS)**: The final step is to perform non-maximum suppression to ensure that only local maxima in the cornerness image are retained as corners. This is achieved by iterating over each pixel in the `corners_filtered` matrix and checking if it is a local maximum within a 3x3 window centered around it. If it is a local maximum, it is marked as `1` in the `nms` matrix; otherwise, it is set to `0`.\n",
    "\n",
    "By the end of this process, you have the `corners` matrix containing the cornerness measure for each pixel, `corners_filtered` matrix with thresholded corners, and `nms` matrix with corners after non-maximum suppression. These matrices can be visualized to identify corners in the original image."
   ]
  },
  {
   "cell_type": "code",
   "execution_count": 3,
   "id": "5c66236f",
   "metadata": {
    "execution": {
     "iopub.execute_input": "2024-04-25T05:34:09.989194Z",
     "iopub.status.busy": "2024-04-25T05:34:09.988804Z",
     "iopub.status.idle": "2024-04-25T05:34:10.937749Z",
     "shell.execute_reply": "2024-04-25T05:34:10.936390Z"
    },
    "id": "r9YD8F7V56Sd",
    "papermill": {
     "duration": 0.956686,
     "end_time": "2024-04-25T05:34:10.940492",
     "exception": false,
     "start_time": "2024-04-25T05:34:09.983806",
     "status": "completed"
    },
    "tags": []
   },
   "outputs": [],
   "source": [
    "# Output cornerness image\n",
    "corners = np.zeros(img.shape)\n",
    "\n",
    "\n",
    "# Dimension of the patch (1 = 3x3, 3 = 7x7, 5 = 11x11, ...)\n",
    "w = 1\n",
    "\n",
    "\n",
    "# Slide over the image\n",
    "for i in range(w+1,img.shape[0]-w-1):\n",
    "  for j in range(w+1,img.shape[1]-w-1):\n",
    "\n",
    "    # Patch around the point for which the cornerness is computed\n",
    "    central_patch = img[i-w:i+w+1, j-w:j+w+1]\n",
    "\n",
    "    final_c = np.inf\n",
    "\n",
    "    # Consider the 8 neighbors around the current pixel\n",
    "    for u in [-1,0,1]:\n",
    "      for v in [-1,0,1]:\n",
    "        if not(u == 0 and v==0):  # avoid position(0,0)\n",
    "\n",
    "          running_patch = img[i+u-1:i+u+2, j+v-1:j+v+2]\n",
    "\n",
    "          # Compute the cornerness function\n",
    "          c = np.sum((central_patch - running_patch)**2)\n",
    "\n",
    "        # Save the minimum cornerness value\n",
    "        if final_c > c:\n",
    "          final_c = c\n",
    "    \n",
    "    # Changing the correspoding Corner Matrix\n",
    "    corners[i,j] = final_c\n",
    "\n",
    "\n",
    "# Simple thresholding\n",
    "th = corners.mean()+2*corners.std()\n",
    "corners_filtered = corners > th\n",
    "\n",
    "\n",
    "# Non maxima suppression\n",
    "nms = np.zeros(img.shape)\n",
    "for i in range(1,corners_filtered.shape[0]-2):\n",
    "  for j in range(1,corners_filtered.shape[1]-2):\n",
    "\n",
    "    window = corners_filtered[i-1:i+2,j-1:j+2]\n",
    "\n",
    "    # if the element in the centre of the 3x3 window is not zero and is the max\n",
    "    if(window[1,1] != 0 and window[:].argmax()==4):\n",
    "      nms[i,j] = 1"
   ]
  },
  {
   "cell_type": "markdown",
   "id": "8eb5140c",
   "metadata": {
    "papermill": {
     "duration": 0.003466,
     "end_time": "2024-04-25T05:34:10.947739",
     "exception": false,
     "start_time": "2024-04-25T05:34:10.944273",
     "status": "completed"
    },
    "tags": []
   },
   "source": [
    "- Illustration"
   ]
  },
  {
   "cell_type": "code",
   "execution_count": 4,
   "id": "667b48e9",
   "metadata": {
    "execution": {
     "iopub.execute_input": "2024-04-25T05:34:10.957048Z",
     "iopub.status.busy": "2024-04-25T05:34:10.956617Z",
     "iopub.status.idle": "2024-04-25T05:34:11.996603Z",
     "shell.execute_reply": "2024-04-25T05:34:11.995365Z"
    },
    "papermill": {
     "duration": 1.047529,
     "end_time": "2024-04-25T05:34:11.999140",
     "exception": false,
     "start_time": "2024-04-25T05:34:10.951611",
     "status": "completed"
    },
    "tags": []
   },
   "outputs": [
    {
     "data": {
      "image/png": "[encoded data removed]",
      "text/plain": [
       "<Figure size 1000x1000 with 4 Axes>"
      ]
     },
     "metadata": {},
     "output_type": "display_data"
    }
   ],
   "source": [
    "# Show results\n",
    "plt.figure(figsize=(10, 10))\n",
    "\n",
    "# First row\n",
    "plt.subplot(2, 2, 1)\n",
    "plt.imshow(img)\n",
    "plt.title('Original Image')\n",
    "\n",
    "plt.subplot(2, 2, 2)\n",
    "plt.imshow(corners)\n",
    "plt.title('Detected Corners')\n",
    "\n",
    "# Second row\n",
    "plt.subplot(2, 2, 3)\n",
    "plt.imshow(corners_filtered)\n",
    "plt.title('Filtered Corners')\n",
    "\n",
    "plt.subplot(2, 2, 4)\n",
    "plt.imshow(corners_filtered * nms)\n",
    "plt.title('Non-Maximum Suppression')\n",
    "\n",
    "plt.tight_layout()\n",
    "plt.show()\n"
   ]
  }
 ],
 "metadata": {
  "colab": {
   "provenance": []
  },
  "kaggle": {
   "accelerator": "none",
   "dataSources": [],
   "dockerImageVersionId": 30702,
   "isGpuEnabled": false,
   "isInternetEnabled": true,
   "language": "python",
   "sourceType": "notebook"
  },
  "kernelspec": {
   "display_name": "Python 3",
   "language": "python",
   "name": "python3"
  },
  "language_info": {
   "codemirror_mode": {
    "name": "ipython",
    "version": 3
   },
   "file_extension": ".py",
   "mimetype": "text/x-python",
   "name": "python",
   "nbconvert_exporter": "python",
   "pygments_lexer": "ipython3",
   "version": "3.10.13"
  },
  "papermill": {
   "default_parameters": {},
   "duration": 6.646943,
   "end_time": "2024-04-25T05:34:12.424959",
   "environment_variables": {},
   "exception": null,
   "input_path": "__notebook__.ipynb",
   "output_path": "__notebook__.ipynb",
   "parameters": {},
   "start_time": "2024-04-25T05:34:05.778016",
   "version": "2.5.0"
  }
 },
 "nbformat": 4,
 "nbformat_minor": 5
}
